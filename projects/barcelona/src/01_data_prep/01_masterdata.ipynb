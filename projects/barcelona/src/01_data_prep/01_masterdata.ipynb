{
 "cells": [
  {
   "cell_type": "code",
   "execution_count": 10,
   "id": "1b8fd1e7-2a7f-48ea-9bf0-2e4aa8d36cde",
   "metadata": {},
   "outputs": [],
   "source": [
    "# Libs\n",
    "import json"
   ]
  },
  {
   "cell_type": "code",
   "execution_count": 11,
   "metadata": {},
   "outputs": [],
   "source": [
    "# Load polygon GeoJSON file\n",
    "with open(\n",
    "    \"../../data/opendata/masterdata/0301100100_UNITATS_ADM_POLIGONS_EPSG-4326.json\",\n",
    "    \"r\",\n",
    "    encoding=\"utf-8\",\n",
    ") as f:\n",
    "    bcn_masterdata_polygons = json.load(f)\n",
    "\n",
    "# Load coordinates GeoJSON file\n",
    "with open(\n",
    "    \"../../data/opendata/masterdata/0301100100_UNITATS_ADM_PUNTS-ESPG-4326.json\",\n",
    "    \"r\",\n",
    "    encoding=\"utf-8\",\n",
    ") as f:\n",
    "    bcn_masterdata_coordinates = json.load(f)"
   ]
  },
  {
   "cell_type": "code",
   "execution_count": 12,
   "metadata": {},
   "outputs": [],
   "source": [
    "def load_masterdata(id: str, input_file, output_file: str):\n",
    "    \"\"\"\n",
    "    Generate geojson files per Basic Statistical Administration (AEB),\n",
    "    District, Neighborhood and Registry\n",
    "    \"\"\"\n",
    "\n",
    "    # Get only `id` features (e.g.: AEB, DISTRICT..) and update\n",
    "    # the previous feature id with the new id\n",
    "    for feature in input_file[\"features\"]:\n",
    "        if feature[\"properties\"][\"TIPUS_UA\"] == id:\n",
    "            if id == \"SEC_CENS\":\n",
    "                # Compound index: district + registry\n",
    "                feature[\"id\"] = (\n",
    "                    feature[\"properties\"][\"DISTRICTE\"]\n",
    "                    + feature[\"properties\"][\"SEC_CENS\"]\n",
    "                )\n",
    "            else:\n",
    "                feature[\"id\"] = int(feature[\"properties\"][id])\n",
    "\n",
    "    # Exclude any unrelated feature from the original geojson\n",
    "    bcn_masterdata = {\n",
    "        \"type\": \"FeatureCollection\",\n",
    "        \"features\": [\n",
    "            feature\n",
    "            for feature in input_file[\"features\"]\n",
    "            if feature[\"properties\"][\"TIPUS_UA\"] == id\n",
    "        ],\n",
    "    }\n",
    "\n",
    "    # Save updated GeoJSON file\n",
    "    with open(\n",
    "        f\"../../data/input/{output_file}.geojson\", \"w\", encoding=\"utf-8\"\n",
    "    ) as outfile:\n",
    "        json.dump(bcn_masterdata, outfile, ensure_ascii=False)\n",
    "\n",
    "\n",
    "load_masterdata(\"AEB\", bcn_masterdata_polygons, \"md_aeb_polygons\")\n",
    "load_masterdata(\"BARRI\", bcn_masterdata_polygons, \"md_neighborhood_polygons\")\n",
    "load_masterdata(\"SEC_CENS\", bcn_masterdata_polygons, \"md_sec_cens_polygons\")\n",
    "load_masterdata(\"DISTRICTE\", bcn_masterdata_polygons, \"md_district_polygons\")\n",
    "\n",
    "load_masterdata(\"AEB\", bcn_masterdata_coordinates, \"md_aeb_coordinates\")\n",
    "load_masterdata(\"BARRI\", bcn_masterdata_coordinates, \"md_neighborhood_coordinates\")\n",
    "load_masterdata(\"SEC_CENS\", bcn_masterdata_coordinates, \"md_sec_cens_coordinates\")\n",
    "load_masterdata(\"DISTRICTE\", bcn_masterdata_coordinates, \"md_district_coordinates\")"
   ]
  }
 ],
 "metadata": {
  "kernelspec": {
   "display_name": "Python 3 (ipykernel)",
   "language": "python",
   "name": "python3"
  },
  "language_info": {
   "codemirror_mode": {
    "name": "ipython",
    "version": 3
   },
   "file_extension": ".py",
   "mimetype": "text/x-python",
   "name": "python",
   "nbconvert_exporter": "python",
   "pygments_lexer": "ipython3",
   "version": "3.12.0"
  }
 },
 "nbformat": 4,
 "nbformat_minor": 5
}
