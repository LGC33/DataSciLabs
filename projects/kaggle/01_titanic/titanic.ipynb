{
 "cells": [
  {
   "cell_type": "markdown",
   "id": "b15b9bae",
   "metadata": {},
   "source": [
    "# Classification Template\n",
    "v1.0"
   ]
  },
  {
   "cell_type": "markdown",
   "id": "46cf900c",
   "metadata": {},
   "source": [
    "### Imports"
   ]
  },
  {
   "cell_type": "code",
   "execution_count": 649,
   "id": "75a53813",
   "metadata": {},
   "outputs": [],
   "source": [
    "import numpy as np\n",
    "import pandas as pd\n",
    "import seaborn as sns\n",
    "import matplotlib.pyplot as plt\n",
    "\n",
    "# Set the aesthetics for the plots\n",
    "sns.set(style=\"whitegrid\", palette=\"muted\")\n",
    "\n",
    "RANDOM_STATE = 101"
   ]
  },
  {
   "cell_type": "markdown",
   "id": "4efc0a7e",
   "metadata": {},
   "source": [
    "### Data collection"
   ]
  },
  {
   "cell_type": "code",
   "execution_count": 650,
   "id": "4bc76ab0",
   "metadata": {},
   "outputs": [
    {
     "data": {
      "text/html": [
       "<div>\n",
       "<style scoped>\n",
       "    .dataframe tbody tr th:only-of-type {\n",
       "        vertical-align: middle;\n",
       "    }\n",
       "\n",
       "    .dataframe tbody tr th {\n",
       "        vertical-align: top;\n",
       "    }\n",
       "\n",
       "    .dataframe thead th {\n",
       "        text-align: right;\n",
       "    }\n",
       "</style>\n",
       "<table border=\"1\" class=\"dataframe\">\n",
       "  <thead>\n",
       "    <tr style=\"text-align: right;\">\n",
       "      <th></th>\n",
       "      <th>PassengerId</th>\n",
       "      <th>Survived</th>\n",
       "      <th>Pclass</th>\n",
       "      <th>Name</th>\n",
       "      <th>Sex</th>\n",
       "      <th>Age</th>\n",
       "      <th>SibSp</th>\n",
       "      <th>Parch</th>\n",
       "      <th>Ticket</th>\n",
       "      <th>Fare</th>\n",
       "      <th>Cabin</th>\n",
       "      <th>Embarked</th>\n",
       "    </tr>\n",
       "  </thead>\n",
       "  <tbody>\n",
       "    <tr>\n",
       "      <th>0</th>\n",
       "      <td>1</td>\n",
       "      <td>0</td>\n",
       "      <td>3</td>\n",
       "      <td>Braund, Mr. Owen Harris</td>\n",
       "      <td>male</td>\n",
       "      <td>22.0</td>\n",
       "      <td>1</td>\n",
       "      <td>0</td>\n",
       "      <td>A/5 21171</td>\n",
       "      <td>7.2500</td>\n",
       "      <td>NaN</td>\n",
       "      <td>S</td>\n",
       "    </tr>\n",
       "    <tr>\n",
       "      <th>1</th>\n",
       "      <td>2</td>\n",
       "      <td>1</td>\n",
       "      <td>1</td>\n",
       "      <td>Cumings, Mrs. John Bradley (Florence Briggs Th...</td>\n",
       "      <td>female</td>\n",
       "      <td>38.0</td>\n",
       "      <td>1</td>\n",
       "      <td>0</td>\n",
       "      <td>PC 17599</td>\n",
       "      <td>71.2833</td>\n",
       "      <td>C85</td>\n",
       "      <td>C</td>\n",
       "    </tr>\n",
       "    <tr>\n",
       "      <th>889</th>\n",
       "      <td>890</td>\n",
       "      <td>1</td>\n",
       "      <td>1</td>\n",
       "      <td>Behr, Mr. Karl Howell</td>\n",
       "      <td>male</td>\n",
       "      <td>26.0</td>\n",
       "      <td>0</td>\n",
       "      <td>0</td>\n",
       "      <td>111369</td>\n",
       "      <td>30.0000</td>\n",
       "      <td>C148</td>\n",
       "      <td>C</td>\n",
       "    </tr>\n",
       "    <tr>\n",
       "      <th>890</th>\n",
       "      <td>891</td>\n",
       "      <td>0</td>\n",
       "      <td>3</td>\n",
       "      <td>Dooley, Mr. Patrick</td>\n",
       "      <td>male</td>\n",
       "      <td>32.0</td>\n",
       "      <td>0</td>\n",
       "      <td>0</td>\n",
       "      <td>370376</td>\n",
       "      <td>7.7500</td>\n",
       "      <td>NaN</td>\n",
       "      <td>Q</td>\n",
       "    </tr>\n",
       "  </tbody>\n",
       "</table>\n",
       "</div>"
      ],
      "text/plain": [
       "     PassengerId  Survived  Pclass  \\\n",
       "0              1         0       3   \n",
       "1              2         1       1   \n",
       "889          890         1       1   \n",
       "890          891         0       3   \n",
       "\n",
       "                                                  Name     Sex   Age  SibSp  \\\n",
       "0                              Braund, Mr. Owen Harris    male  22.0      1   \n",
       "1    Cumings, Mrs. John Bradley (Florence Briggs Th...  female  38.0      1   \n",
       "889                              Behr, Mr. Karl Howell    male  26.0      0   \n",
       "890                                Dooley, Mr. Patrick    male  32.0      0   \n",
       "\n",
       "     Parch     Ticket     Fare Cabin Embarked  \n",
       "0        0  A/5 21171   7.2500   NaN        S  \n",
       "1        0   PC 17599  71.2833   C85        C  \n",
       "889      0     111369  30.0000  C148        C  \n",
       "890      0     370376   7.7500   NaN        Q  "
      ]
     },
     "execution_count": 650,
     "metadata": {},
     "output_type": "execute_result"
    }
   ],
   "source": [
    "df_train = pd.read_csv('./data/train.csv')\n",
    "pd.concat([df_train.head(2), df_train.tail(2)])"
   ]
  },
  {
   "cell_type": "markdown",
   "id": "53db9a61",
   "metadata": {},
   "source": [
    "### Data description"
   ]
  },
  {
   "cell_type": "markdown",
   "id": "3eaa3a95",
   "metadata": {},
   "source": [
    "**Fields**\n",
    "- `PassengerId`: Unique identification of the passenger.\n",
    "- `Survived`: Survival (0 = No, 1 = Yes). **Target variable**.\n",
    "- `Pclass`: Ticket class (1 = 1st, 2 = 2nd, 3 = 3rd).\n",
    "- `Name`: Name of the passenger.\n",
    "- `Sex`: Sex.\n",
    "- `Age`: Age in years.\n",
    "- `SibSp`: # of siblings / spouses aboard the Titanic.\n",
    "- `Parch`: # of parents / children aboard the Titanic.\n",
    "- `Ticket`: Ticket number.\n",
    "- `Fare`: Passenger fare.\n",
    "- `Cabin`: Cabin number.\n",
    "- `Embarked`: Port of Embarkation (C = Cherbourg, Q = Queenstown, S = Southampton).\n",
    "\n",
    "**Titles**\n",
    "\n",
    "- `Mrs`: Married woman.\n",
    "- `Mr`: Adult male.\n",
    "- `Master`: Young boy, typically under 12 years old.\n",
    "- `Miss`: Unmarried woman or girl.\n",
    "- `Major`: Military rank.\n",
    "- `Rev`: Reverend, a title used for members of the clergy.\n",
    "- `Dr`: Doctor, medical professional or Ph.D. holder.\n",
    "- `Ms`: Gender-neutral title for a woman, regardless of marital status.\n",
    "- `Mlle`: Mademoiselle, French for an unmarried woman (similar to Miss).\n",
    "- `Col`: Colonel, a senior military officer.\n",
    "- `Capt`: Captain, a high-ranking military officer or ship captain.\n",
    "- `Mme`: Madame, French for a married woman.\n",
    "- `Countess`: Noble title for a woman.\n",
    "- `Don`: Title of nobility or respect, used in Spanish, Italian, and Portuguese for a man.\n",
    "- `Jonkheer`: Dutch honorific for nobility without a specific title.\n",
    "- `Lady`: A title used for women of noble rank or high social status\n",
    "- `Sir`: A title of honor or respect for a man."
   ]
  },
  {
   "cell_type": "markdown",
   "id": "b26b7192",
   "metadata": {},
   "source": [
    "### Read Functions"
   ]
  },
  {
   "cell_type": "code",
   "execution_count": 651,
   "id": "7aa0892d",
   "metadata": {},
   "outputs": [],
   "source": [
    "\n",
    "def show_missing_data(df):\n",
    "    \"\"\"\n",
    "    Display number and percentage of missing values in all columns\n",
    "    \"\"\"\n",
    "    total = df.isnull().sum().sort_values(ascending=False)\n",
    "    percent = (\n",
    "        ((df.isnull().sum() / df.isnull().count()) * 100)\n",
    "        .sort_values(ascending=False)\n",
    "        .round(2)\n",
    "    )\n",
    "    missing_data = pd.concat([total, percent], axis=1, keys=[\"# missing\", \"% missing\"])\n",
    "    print(missing_data)"
   ]
  },
  {
   "cell_type": "markdown",
   "id": "97e51766",
   "metadata": {},
   "source": [
    "### Exploratory Data Analysis"
   ]
  },
  {
   "cell_type": "code",
   "execution_count": 652,
   "id": "6881b162",
   "metadata": {},
   "outputs": [
    {
     "name": "stdout",
     "output_type": "stream",
     "text": [
      "<class 'pandas.core.frame.DataFrame'>\n",
      "RangeIndex: 891 entries, 0 to 890\n",
      "Data columns (total 12 columns):\n",
      " #   Column       Non-Null Count  Dtype  \n",
      "---  ------       --------------  -----  \n",
      " 0   PassengerId  891 non-null    int64  \n",
      " 1   Survived     891 non-null    int64  \n",
      " 2   Pclass       891 non-null    int64  \n",
      " 3   Name         891 non-null    object \n",
      " 4   Sex          891 non-null    object \n",
      " 5   Age          714 non-null    float64\n",
      " 6   SibSp        891 non-null    int64  \n",
      " 7   Parch        891 non-null    int64  \n",
      " 8   Ticket       891 non-null    object \n",
      " 9   Fare         891 non-null    float64\n",
      " 10  Cabin        204 non-null    object \n",
      " 11  Embarked     889 non-null    object \n",
      "dtypes: float64(2), int64(5), object(5)\n",
      "memory usage: 83.7+ KB\n"
     ]
    }
   ],
   "source": [
    "# display dataframe info\n",
    "df_train.info()"
   ]
  },
  {
   "cell_type": "code",
   "execution_count": 653,
   "id": "3659d98c",
   "metadata": {},
   "outputs": [
    {
     "name": "stdout",
     "output_type": "stream",
     "text": [
      "             # missing  % missing\n",
      "Cabin              687      77.10\n",
      "Age                177      19.87\n",
      "Embarked             2       0.22\n",
      "PassengerId          0       0.00\n",
      "Survived             0       0.00\n",
      "Pclass               0       0.00\n",
      "Name                 0       0.00\n",
      "Sex                  0       0.00\n",
      "SibSp                0       0.00\n",
      "Parch                0       0.00\n",
      "Ticket               0       0.00\n",
      "Fare                 0       0.00\n"
     ]
    }
   ],
   "source": [
    "# display number and percentage of missing values\n",
    "show_missing_data(df_train)"
   ]
  },
  {
   "cell_type": "code",
   "execution_count": 654,
   "id": "1c78c752",
   "metadata": {},
   "outputs": [
    {
     "data": {
      "text/plain": [
       "Embarked\n",
       "S      644\n",
       "C      168\n",
       "Q       77\n",
       "NaN      2\n",
       "Name: count, dtype: int64"
      ]
     },
     "execution_count": 654,
     "metadata": {},
     "output_type": "execute_result"
    }
   ],
   "source": [
    "# show values and count for field 'Embarked' -> 'S' to be used for NaN values\n",
    "df_train['Embarked'].value_counts(dropna=False)"
   ]
  },
  {
   "cell_type": "code",
   "execution_count": 655,
   "id": "2fde96c5",
   "metadata": {},
   "outputs": [
    {
     "data": {
      "text/plain": [
       "Pclass\n",
       "1    38.233441\n",
       "2    29.877630\n",
       "3    25.140620\n",
       "Name: Age, dtype: float64"
      ]
     },
     "execution_count": 655,
     "metadata": {},
     "output_type": "execute_result"
    }
   ],
   "source": [
    "# show average age per class -> mean() to be used for NaN age based on Pclass (based on correlation)\n",
    "df_train.groupby('Pclass')['Age'].mean()"
   ]
  },
  {
   "cell_type": "markdown",
   "id": "8ee9cfa1",
   "metadata": {},
   "source": [
    "### Data cleaning & Preprocessing"
   ]
  },
  {
   "cell_type": "code",
   "execution_count": 656,
   "id": "54acc716",
   "metadata": {},
   "outputs": [],
   "source": [
    "# update null values on Age based on Pclass mean\n",
    "mean_age_per_class = df_train.groupby('Pclass')['Age'].transform('mean')\n",
    "df_train['Age'] = df_train['Age'].fillna(mean_age_per_class)"
   ]
  },
  {
   "cell_type": "code",
   "execution_count": 657,
   "id": "c8c88bb7",
   "metadata": {},
   "outputs": [
    {
     "data": {
      "text/html": [
       "<div>\n",
       "<style scoped>\n",
       "    .dataframe tbody tr th:only-of-type {\n",
       "        vertical-align: middle;\n",
       "    }\n",
       "\n",
       "    .dataframe tbody tr th {\n",
       "        vertical-align: top;\n",
       "    }\n",
       "\n",
       "    .dataframe thead th {\n",
       "        text-align: right;\n",
       "    }\n",
       "</style>\n",
       "<table border=\"1\" class=\"dataframe\">\n",
       "  <thead>\n",
       "    <tr style=\"text-align: right;\">\n",
       "      <th>Survived</th>\n",
       "      <th>0</th>\n",
       "      <th>1</th>\n",
       "    </tr>\n",
       "    <tr>\n",
       "      <th>Age</th>\n",
       "      <th></th>\n",
       "      <th></th>\n",
       "    </tr>\n",
       "  </thead>\n",
       "  <tbody>\n",
       "    <tr>\n",
       "      <th>(0, 5]</th>\n",
       "      <td>13</td>\n",
       "      <td>31</td>\n",
       "    </tr>\n",
       "    <tr>\n",
       "      <th>(5, 10]</th>\n",
       "      <td>13</td>\n",
       "      <td>7</td>\n",
       "    </tr>\n",
       "    <tr>\n",
       "      <th>(10, 15]</th>\n",
       "      <td>8</td>\n",
       "      <td>11</td>\n",
       "    </tr>\n",
       "    <tr>\n",
       "      <th>(15, 20]</th>\n",
       "      <td>63</td>\n",
       "      <td>33</td>\n",
       "    </tr>\n",
       "    <tr>\n",
       "      <th>(20, 25]</th>\n",
       "      <td>80</td>\n",
       "      <td>42</td>\n",
       "    </tr>\n",
       "    <tr>\n",
       "      <th>(25, 30]</th>\n",
       "      <td>175</td>\n",
       "      <td>80</td>\n",
       "    </tr>\n",
       "    <tr>\n",
       "      <th>(30, 35]</th>\n",
       "      <td>47</td>\n",
       "      <td>41</td>\n",
       "    </tr>\n",
       "    <tr>\n",
       "      <th>(35, 40]</th>\n",
       "      <td>55</td>\n",
       "      <td>42</td>\n",
       "    </tr>\n",
       "    <tr>\n",
       "      <th>(40, 45]</th>\n",
       "      <td>30</td>\n",
       "      <td>17</td>\n",
       "    </tr>\n",
       "    <tr>\n",
       "      <th>(45, 50]</th>\n",
       "      <td>23</td>\n",
       "      <td>16</td>\n",
       "    </tr>\n",
       "    <tr>\n",
       "      <th>(50, 55]</th>\n",
       "      <td>14</td>\n",
       "      <td>10</td>\n",
       "    </tr>\n",
       "    <tr>\n",
       "      <th>(55, 60]</th>\n",
       "      <td>11</td>\n",
       "      <td>7</td>\n",
       "    </tr>\n",
       "    <tr>\n",
       "      <th>(60, 65]</th>\n",
       "      <td>10</td>\n",
       "      <td>4</td>\n",
       "    </tr>\n",
       "    <tr>\n",
       "      <th>(65, 70]</th>\n",
       "      <td>3</td>\n",
       "      <td>0</td>\n",
       "    </tr>\n",
       "    <tr>\n",
       "      <th>(70, 75]</th>\n",
       "      <td>4</td>\n",
       "      <td>0</td>\n",
       "    </tr>\n",
       "    <tr>\n",
       "      <th>(75, 80]</th>\n",
       "      <td>0</td>\n",
       "      <td>1</td>\n",
       "    </tr>\n",
       "  </tbody>\n",
       "</table>\n",
       "</div>"
      ],
      "text/plain": [
       "Survived    0   1\n",
       "Age              \n",
       "(0, 5]     13  31\n",
       "(5, 10]    13   7\n",
       "(10, 15]    8  11\n",
       "(15, 20]   63  33\n",
       "(20, 25]   80  42\n",
       "(25, 30]  175  80\n",
       "(30, 35]   47  41\n",
       "(35, 40]   55  42\n",
       "(40, 45]   30  17\n",
       "(45, 50]   23  16\n",
       "(50, 55]   14  10\n",
       "(55, 60]   11   7\n",
       "(60, 65]   10   4\n",
       "(65, 70]    3   0\n",
       "(70, 75]    4   0\n",
       "(75, 80]    0   1"
      ]
     },
     "execution_count": 657,
     "metadata": {},
     "output_type": "execute_result"
    }
   ],
   "source": [
    "# show survival by groups of age -> new feature to be created\n",
    "pd.crosstab(pd.cut(df_train[\"Age\"], bins=range(0, 85, 5)), df_train[\"Survived\"])"
   ]
  },
  {
   "cell_type": "code",
   "execution_count": 658,
   "id": "ec2c86ad",
   "metadata": {},
   "outputs": [],
   "source": [
    "# add new category\n",
    "def categorize_age(age):\n",
    "    if age <= 5:\n",
    "        return \"0-5\"  # Infants/Toddlers\n",
    "    elif age <= 12:\n",
    "        return \"6-12\"  # Children\n",
    "    elif age <= 19:\n",
    "        return \"13-19\" # Teenagers\n",
    "    elif age <= 30:\n",
    "        return \"20-30\" # Young Adults\n",
    "    elif age <= 50:\n",
    "        return \"31-50\" # Adults\n",
    "    else:\n",
    "        return \"51+\" # Seniors\n",
    "\n",
    "\n",
    "df_train[\"AgeGroup\"] = df_train[\"Age\"].apply(categorize_age)"
   ]
  },
  {
   "cell_type": "code",
   "execution_count": 659,
   "id": "b14d7ad3",
   "metadata": {},
   "outputs": [
    {
     "name": "stdout",
     "output_type": "stream",
     "text": [
      "          Count  Survived  Not Survived\n",
      "Title                                  \n",
      "Mr          517        81           436\n",
      "Miss        182       127            55\n",
      "Mrs         125        99            26\n",
      "Master       40        23            17\n",
      "Dr            7         3             4\n",
      "Rev           6         0             6\n",
      "Major         2         1             1\n",
      "Col           2         1             1\n",
      "Mlle          2         2             0\n",
      "Mme           1         1             0\n",
      "Ms            1         1             0\n",
      "Capt          1         0             1\n",
      "Lady          1         1             0\n",
      "Jonkheer      1         0             1\n",
      "Don           1         0             1\n",
      "Countess      1         1             0\n",
      "Sir           1         1             0\n"
     ]
    }
   ],
   "source": [
    "# add new feature: title \n",
    "df_train['Title'] = df_train['Name'].str.extract(' ([A-Za-z]+)\\.', expand=False)\n",
    "\n",
    "# show survivors by title\n",
    "def show_survivors_by_title():\n",
    "    title_summary = df_train.groupby('Title')['Survived'].agg(['count', 'sum'])\n",
    "    title_summary.rename(columns={'count': 'Count', 'sum': 'Survived'}, inplace=True)\n",
    "    title_summary['Not Survived'] = title_summary['Count'] - title_summary['Survived']\n",
    "    print(title_summary.sort_values(by='Count', ascending=False))\n",
    "\n",
    "show_survivors_by_title()"
   ]
  },
  {
   "cell_type": "code",
   "execution_count": 660,
   "id": "5a482cf4",
   "metadata": {},
   "outputs": [
    {
     "name": "stdout",
     "output_type": "stream",
     "text": [
      "        Count  Survived  Not Survived\n",
      "Title                                \n",
      "Mr        525        84           441\n",
      "Miss      185       130            55\n",
      "Mrs       135       105            30\n",
      "Master     40        23            17\n",
      "Rev         6         0             6\n"
     ]
    }
   ],
   "source": [
    "# grouping titles\n",
    "def replace_titles(x):\n",
    "    title = x[\"Title\"]\n",
    "    if title in [\"Mr\", \"Don\", \"Major\", \"Capt\", \"Jonkheer\", \"Col\", \"Sir\"]:\n",
    "        return \"Mr\"\n",
    "    elif title in [\"Mrs\", \"Dona\", \"Countess\", \"Mme\", \"Lady\"]:\n",
    "        return \"Mrs\"\n",
    "    elif title in [\"Miss\", \"Mlle\", \"Ms\"]:\n",
    "        return \"Miss\"\n",
    "    elif title == \"Dr\":\n",
    "        if x[\"Sex\"] == \"Male\":\n",
    "            return \"Mr\"\n",
    "        else:\n",
    "            return \"Mrs\"\n",
    "    else: # Master, Rev\n",
    "        return title\n",
    "\n",
    "df_train[\"Title\"] = df_train.apply(replace_titles, axis=1)\n",
    "\n",
    "show_survivors_by_title()"
   ]
  },
  {
   "cell_type": "code",
   "execution_count": 661,
   "id": "0ffba57c",
   "metadata": {},
   "outputs": [],
   "source": [
    "# Update null values on Embarked (with mode value)\n",
    "df_train['Embarked'].fillna(df_train['Embarked'].mode()[0], inplace = True)"
   ]
  },
  {
   "cell_type": "code",
   "execution_count": 662,
   "id": "7fa88a6f",
   "metadata": {},
   "outputs": [],
   "source": [
    "# Remove unnecessary fields\n",
    "df_train = df_train.drop([\"PassengerId\", \"Name\", \"Ticket\", \"Cabin\"], axis=1)"
   ]
  },
  {
   "cell_type": "markdown",
   "id": "02c85214",
   "metadata": {},
   "source": [
    "### Encoding categorical data"
   ]
  },
  {
   "cell_type": "code",
   "execution_count": 663,
   "id": "5329efb7",
   "metadata": {},
   "outputs": [],
   "source": [
    "# create dummy variables and drop the original ones\n",
    "\n",
    "categorical_fields = [\"Sex\", \"Embarked\", \"AgeGroup\", \"Title\"]\n",
    "dummies = pd.get_dummies(df_train[categorical_fields], drop_first=False)\n",
    "df_train = pd.concat([df_train.drop(categorical_fields, axis=1), dummies], axis=1)"
   ]
  },
  {
   "cell_type": "markdown",
   "id": "2699b801",
   "metadata": {},
   "source": [
    "### Splitting dataset into Train/Test set"
   ]
  },
  {
   "cell_type": "code",
   "execution_count": 664,
   "id": "f770f94a",
   "metadata": {},
   "outputs": [],
   "source": [
    "from sklearn.model_selection import train_test_split\n",
    "\n",
    "X = df_train.drop(\"Survived\", axis=1)\n",
    "y = df_train[\"Survived\"]\n",
    "\n",
    "X_train, X_test, y_train, y_test = train_test_split(\n",
    "    X, y, test_size=0.2, random_state=RANDOM_STATE\n",
    ")"
   ]
  },
  {
   "cell_type": "code",
   "execution_count": 665,
   "id": "3c06426f",
   "metadata": {},
   "outputs": [
    {
     "data": {
      "text/html": [
       "<div>\n",
       "<style scoped>\n",
       "    .dataframe tbody tr th:only-of-type {\n",
       "        vertical-align: middle;\n",
       "    }\n",
       "\n",
       "    .dataframe tbody tr th {\n",
       "        vertical-align: top;\n",
       "    }\n",
       "\n",
       "    .dataframe thead th {\n",
       "        text-align: right;\n",
       "    }\n",
       "</style>\n",
       "<table border=\"1\" class=\"dataframe\">\n",
       "  <thead>\n",
       "    <tr style=\"text-align: right;\">\n",
       "      <th></th>\n",
       "      <th>Pclass</th>\n",
       "      <th>Age</th>\n",
       "      <th>SibSp</th>\n",
       "      <th>Parch</th>\n",
       "      <th>Fare</th>\n",
       "      <th>Sex_female</th>\n",
       "      <th>Sex_male</th>\n",
       "      <th>Embarked_C</th>\n",
       "      <th>Embarked_Q</th>\n",
       "      <th>Embarked_S</th>\n",
       "      <th>...</th>\n",
       "      <th>AgeGroup_13-19</th>\n",
       "      <th>AgeGroup_20-30</th>\n",
       "      <th>AgeGroup_31-50</th>\n",
       "      <th>AgeGroup_51+</th>\n",
       "      <th>AgeGroup_6-12</th>\n",
       "      <th>Title_Master</th>\n",
       "      <th>Title_Miss</th>\n",
       "      <th>Title_Mr</th>\n",
       "      <th>Title_Mrs</th>\n",
       "      <th>Title_Rev</th>\n",
       "    </tr>\n",
       "  </thead>\n",
       "  <tbody>\n",
       "    <tr>\n",
       "      <th>733</th>\n",
       "      <td>2</td>\n",
       "      <td>23.00000</td>\n",
       "      <td>0</td>\n",
       "      <td>0</td>\n",
       "      <td>13.0000</td>\n",
       "      <td>False</td>\n",
       "      <td>True</td>\n",
       "      <td>False</td>\n",
       "      <td>False</td>\n",
       "      <td>True</td>\n",
       "      <td>...</td>\n",
       "      <td>False</td>\n",
       "      <td>True</td>\n",
       "      <td>False</td>\n",
       "      <td>False</td>\n",
       "      <td>False</td>\n",
       "      <td>False</td>\n",
       "      <td>False</td>\n",
       "      <td>True</td>\n",
       "      <td>False</td>\n",
       "      <td>False</td>\n",
       "    </tr>\n",
       "    <tr>\n",
       "      <th>857</th>\n",
       "      <td>1</td>\n",
       "      <td>51.00000</td>\n",
       "      <td>0</td>\n",
       "      <td>0</td>\n",
       "      <td>26.5500</td>\n",
       "      <td>False</td>\n",
       "      <td>True</td>\n",
       "      <td>False</td>\n",
       "      <td>False</td>\n",
       "      <td>True</td>\n",
       "      <td>...</td>\n",
       "      <td>False</td>\n",
       "      <td>False</td>\n",
       "      <td>False</td>\n",
       "      <td>True</td>\n",
       "      <td>False</td>\n",
       "      <td>False</td>\n",
       "      <td>False</td>\n",
       "      <td>True</td>\n",
       "      <td>False</td>\n",
       "      <td>False</td>\n",
       "    </tr>\n",
       "    <tr>\n",
       "      <th>81</th>\n",
       "      <td>3</td>\n",
       "      <td>29.00000</td>\n",
       "      <td>0</td>\n",
       "      <td>0</td>\n",
       "      <td>9.5000</td>\n",
       "      <td>False</td>\n",
       "      <td>True</td>\n",
       "      <td>False</td>\n",
       "      <td>False</td>\n",
       "      <td>True</td>\n",
       "      <td>...</td>\n",
       "      <td>False</td>\n",
       "      <td>True</td>\n",
       "      <td>False</td>\n",
       "      <td>False</td>\n",
       "      <td>False</td>\n",
       "      <td>False</td>\n",
       "      <td>False</td>\n",
       "      <td>True</td>\n",
       "      <td>False</td>\n",
       "      <td>False</td>\n",
       "    </tr>\n",
       "    <tr>\n",
       "      <th>319</th>\n",
       "      <td>1</td>\n",
       "      <td>40.00000</td>\n",
       "      <td>1</td>\n",
       "      <td>1</td>\n",
       "      <td>134.5000</td>\n",
       "      <td>True</td>\n",
       "      <td>False</td>\n",
       "      <td>True</td>\n",
       "      <td>False</td>\n",
       "      <td>False</td>\n",
       "      <td>...</td>\n",
       "      <td>False</td>\n",
       "      <td>False</td>\n",
       "      <td>True</td>\n",
       "      <td>False</td>\n",
       "      <td>False</td>\n",
       "      <td>False</td>\n",
       "      <td>False</td>\n",
       "      <td>False</td>\n",
       "      <td>True</td>\n",
       "      <td>False</td>\n",
       "    </tr>\n",
       "    <tr>\n",
       "      <th>720</th>\n",
       "      <td>2</td>\n",
       "      <td>6.00000</td>\n",
       "      <td>0</td>\n",
       "      <td>1</td>\n",
       "      <td>33.0000</td>\n",
       "      <td>True</td>\n",
       "      <td>False</td>\n",
       "      <td>False</td>\n",
       "      <td>False</td>\n",
       "      <td>True</td>\n",
       "      <td>...</td>\n",
       "      <td>False</td>\n",
       "      <td>False</td>\n",
       "      <td>False</td>\n",
       "      <td>False</td>\n",
       "      <td>True</td>\n",
       "      <td>False</td>\n",
       "      <td>True</td>\n",
       "      <td>False</td>\n",
       "      <td>False</td>\n",
       "      <td>False</td>\n",
       "    </tr>\n",
       "    <tr>\n",
       "      <th>...</th>\n",
       "      <td>...</td>\n",
       "      <td>...</td>\n",
       "      <td>...</td>\n",
       "      <td>...</td>\n",
       "      <td>...</td>\n",
       "      <td>...</td>\n",
       "      <td>...</td>\n",
       "      <td>...</td>\n",
       "      <td>...</td>\n",
       "      <td>...</td>\n",
       "      <td>...</td>\n",
       "      <td>...</td>\n",
       "      <td>...</td>\n",
       "      <td>...</td>\n",
       "      <td>...</td>\n",
       "      <td>...</td>\n",
       "      <td>...</td>\n",
       "      <td>...</td>\n",
       "      <td>...</td>\n",
       "      <td>...</td>\n",
       "      <td>...</td>\n",
       "    </tr>\n",
       "    <tr>\n",
       "      <th>575</th>\n",
       "      <td>3</td>\n",
       "      <td>19.00000</td>\n",
       "      <td>0</td>\n",
       "      <td>0</td>\n",
       "      <td>14.5000</td>\n",
       "      <td>False</td>\n",
       "      <td>True</td>\n",
       "      <td>False</td>\n",
       "      <td>False</td>\n",
       "      <td>True</td>\n",
       "      <td>...</td>\n",
       "      <td>True</td>\n",
       "      <td>False</td>\n",
       "      <td>False</td>\n",
       "      <td>False</td>\n",
       "      <td>False</td>\n",
       "      <td>False</td>\n",
       "      <td>False</td>\n",
       "      <td>True</td>\n",
       "      <td>False</td>\n",
       "      <td>False</td>\n",
       "    </tr>\n",
       "    <tr>\n",
       "      <th>838</th>\n",
       "      <td>3</td>\n",
       "      <td>32.00000</td>\n",
       "      <td>0</td>\n",
       "      <td>0</td>\n",
       "      <td>56.4958</td>\n",
       "      <td>False</td>\n",
       "      <td>True</td>\n",
       "      <td>False</td>\n",
       "      <td>False</td>\n",
       "      <td>True</td>\n",
       "      <td>...</td>\n",
       "      <td>False</td>\n",
       "      <td>False</td>\n",
       "      <td>True</td>\n",
       "      <td>False</td>\n",
       "      <td>False</td>\n",
       "      <td>False</td>\n",
       "      <td>False</td>\n",
       "      <td>True</td>\n",
       "      <td>False</td>\n",
       "      <td>False</td>\n",
       "    </tr>\n",
       "    <tr>\n",
       "      <th>337</th>\n",
       "      <td>1</td>\n",
       "      <td>41.00000</td>\n",
       "      <td>0</td>\n",
       "      <td>0</td>\n",
       "      <td>134.5000</td>\n",
       "      <td>True</td>\n",
       "      <td>False</td>\n",
       "      <td>True</td>\n",
       "      <td>False</td>\n",
       "      <td>False</td>\n",
       "      <td>...</td>\n",
       "      <td>False</td>\n",
       "      <td>False</td>\n",
       "      <td>True</td>\n",
       "      <td>False</td>\n",
       "      <td>False</td>\n",
       "      <td>False</td>\n",
       "      <td>True</td>\n",
       "      <td>False</td>\n",
       "      <td>False</td>\n",
       "      <td>False</td>\n",
       "    </tr>\n",
       "    <tr>\n",
       "      <th>523</th>\n",
       "      <td>1</td>\n",
       "      <td>44.00000</td>\n",
       "      <td>0</td>\n",
       "      <td>1</td>\n",
       "      <td>57.9792</td>\n",
       "      <td>True</td>\n",
       "      <td>False</td>\n",
       "      <td>True</td>\n",
       "      <td>False</td>\n",
       "      <td>False</td>\n",
       "      <td>...</td>\n",
       "      <td>False</td>\n",
       "      <td>False</td>\n",
       "      <td>True</td>\n",
       "      <td>False</td>\n",
       "      <td>False</td>\n",
       "      <td>False</td>\n",
       "      <td>False</td>\n",
       "      <td>False</td>\n",
       "      <td>True</td>\n",
       "      <td>False</td>\n",
       "    </tr>\n",
       "    <tr>\n",
       "      <th>863</th>\n",
       "      <td>3</td>\n",
       "      <td>25.14062</td>\n",
       "      <td>8</td>\n",
       "      <td>2</td>\n",
       "      <td>69.5500</td>\n",
       "      <td>True</td>\n",
       "      <td>False</td>\n",
       "      <td>False</td>\n",
       "      <td>False</td>\n",
       "      <td>True</td>\n",
       "      <td>...</td>\n",
       "      <td>False</td>\n",
       "      <td>True</td>\n",
       "      <td>False</td>\n",
       "      <td>False</td>\n",
       "      <td>False</td>\n",
       "      <td>False</td>\n",
       "      <td>True</td>\n",
       "      <td>False</td>\n",
       "      <td>False</td>\n",
       "      <td>False</td>\n",
       "    </tr>\n",
       "  </tbody>\n",
       "</table>\n",
       "<p>712 rows × 21 columns</p>\n",
       "</div>"
      ],
      "text/plain": [
       "     Pclass       Age  SibSp  Parch      Fare  Sex_female  Sex_male  \\\n",
       "733       2  23.00000      0      0   13.0000       False      True   \n",
       "857       1  51.00000      0      0   26.5500       False      True   \n",
       "81        3  29.00000      0      0    9.5000       False      True   \n",
       "319       1  40.00000      1      1  134.5000        True     False   \n",
       "720       2   6.00000      0      1   33.0000        True     False   \n",
       "..      ...       ...    ...    ...       ...         ...       ...   \n",
       "575       3  19.00000      0      0   14.5000       False      True   \n",
       "838       3  32.00000      0      0   56.4958       False      True   \n",
       "337       1  41.00000      0      0  134.5000        True     False   \n",
       "523       1  44.00000      0      1   57.9792        True     False   \n",
       "863       3  25.14062      8      2   69.5500        True     False   \n",
       "\n",
       "     Embarked_C  Embarked_Q  Embarked_S  ...  AgeGroup_13-19  AgeGroup_20-30  \\\n",
       "733       False       False        True  ...           False            True   \n",
       "857       False       False        True  ...           False           False   \n",
       "81        False       False        True  ...           False            True   \n",
       "319        True       False       False  ...           False           False   \n",
       "720       False       False        True  ...           False           False   \n",
       "..          ...         ...         ...  ...             ...             ...   \n",
       "575       False       False        True  ...            True           False   \n",
       "838       False       False        True  ...           False           False   \n",
       "337        True       False       False  ...           False           False   \n",
       "523        True       False       False  ...           False           False   \n",
       "863       False       False        True  ...           False            True   \n",
       "\n",
       "     AgeGroup_31-50  AgeGroup_51+  AgeGroup_6-12  Title_Master  Title_Miss  \\\n",
       "733           False         False          False         False       False   \n",
       "857           False          True          False         False       False   \n",
       "81            False         False          False         False       False   \n",
       "319            True         False          False         False       False   \n",
       "720           False         False           True         False        True   \n",
       "..              ...           ...            ...           ...         ...   \n",
       "575           False         False          False         False       False   \n",
       "838            True         False          False         False       False   \n",
       "337            True         False          False         False        True   \n",
       "523            True         False          False         False       False   \n",
       "863           False         False          False         False        True   \n",
       "\n",
       "     Title_Mr  Title_Mrs  Title_Rev  \n",
       "733      True      False      False  \n",
       "857      True      False      False  \n",
       "81       True      False      False  \n",
       "319     False       True      False  \n",
       "720     False      False      False  \n",
       "..        ...        ...        ...  \n",
       "575      True      False      False  \n",
       "838      True      False      False  \n",
       "337     False      False      False  \n",
       "523     False       True      False  \n",
       "863     False      False      False  \n",
       "\n",
       "[712 rows x 21 columns]"
      ]
     },
     "execution_count": 665,
     "metadata": {},
     "output_type": "execute_result"
    }
   ],
   "source": [
    "X_train"
   ]
  },
  {
   "cell_type": "markdown",
   "id": "26db1ad0",
   "metadata": {},
   "source": [
    "### Feature scaling"
   ]
  },
  {
   "cell_type": "code",
   "execution_count": 666,
   "id": "17ef3619",
   "metadata": {},
   "outputs": [],
   "source": [
    "from sklearn.preprocessing import StandardScaler\n",
    "\n",
    "sc = StandardScaler()\n",
    "\n",
    "fields_to_scale = [\"Pclass\", \"Age\", \"SibSp\", \"Parch\", \"Fare\"]\n",
    "\n",
    "# Create copies of the original DataFrames\n",
    "X_train_scaled, X_test_scaled = X_train.copy(), X_test.copy()\n",
    "\n",
    "# Scale only the specified fields\n",
    "X_train_scaled[fields_to_scale] = sc.fit_transform(X_train[fields_to_scale])\n",
    "X_test_scaled[fields_to_scale] = sc.transform(X_test[fields_to_scale])"
   ]
  },
  {
   "cell_type": "markdown",
   "id": "372aceaf",
   "metadata": {},
   "source": [
    "### Evaluation Functions"
   ]
  },
  {
   "cell_type": "code",
   "execution_count": 667,
   "id": "a09e1be6",
   "metadata": {},
   "outputs": [],
   "source": [
    "from sklearn.metrics import classification_report, confusion_matrix, accuracy_score\n",
    "\n",
    "def evaluate_model_overview(classifier, X_test, y_test):\n",
    "    y_pred = classifier.predict(X_test)\n",
    "\n",
    "    print(f'{type(classifier).__name__}:\\n')\n",
    "    print(f\"1) classification_report:\\n\\n\", classification_report(y_test, y_pred))\n",
    "    print(f\"2) confusion_matrix:\\n\\n\", confusion_matrix(y_test, y_pred), \"\\n\")\n",
    "    print(f\"3) accuracy_score:\\n\\n\", f'{accuracy_score(y_test, y_pred)*100:.2f}%')"
   ]
  },
  {
   "cell_type": "code",
   "execution_count": 668,
   "id": "5e465f09",
   "metadata": {},
   "outputs": [],
   "source": [
    "def evaluate_test_score(classifiers, _X_test, _X_test_scaled, y_test, models_to_scale):\n",
    "    results = []\n",
    "    for classifier in classifiers:\n",
    "        if type(classifier).__name__ in models_to_scale:\n",
    "            X_test = _X_test_scaled\n",
    "        else:\n",
    "            X_test = _X_test\n",
    "        y_pred = classifier.predict(X_test)\n",
    "        score = accuracy_score(y_test, y_pred)\n",
    "        results.append(\n",
    "            {\n",
    "                \"Model\": type(classifier).__name__,\n",
    "                \"Accuracy\": score * 100,\n",
    "            }\n",
    "        )\n",
    "    sorted_results = sorted(results, key=lambda x: x[\"Accuracy\"], reverse=True)\n",
    "    print(f\"{'Model':<25} {'Accuracy %':<12}\")\n",
    "    for result in sorted_results:\n",
    "        print(f\"{result['Model']:<25} {result['Accuracy']:<12.2f}\")"
   ]
  },
  {
   "cell_type": "code",
   "execution_count": 669,
   "id": "3b202291",
   "metadata": {},
   "outputs": [],
   "source": [
    "from sklearn.model_selection import cross_val_score\n",
    "\n",
    "\n",
    "def evaluate_train_vs_test_score(\n",
    "    classifiers,\n",
    "    _X_train,\n",
    "    _X_train_scaled,\n",
    "    y_train,\n",
    "    _X_test,\n",
    "    _X_test_scaled,\n",
    "    y_test,\n",
    "    models_to_scale,\n",
    "    cv=10,\n",
    "):\n",
    "    results = []\n",
    "\n",
    "    for classifier in classifiers:\n",
    "        if type(classifier).__name__ in models_to_scale:\n",
    "            X_train, X_test = _X_train_scaled, _X_test_scaled\n",
    "        else:\n",
    "            X_train, X_test = _X_train, _X_test\n",
    "        y_pred = classifier.predict(X_test)\n",
    "\n",
    "        score = accuracy_score(y_test, y_pred)\n",
    "        accuracies = cross_val_score(estimator=classifier, X=X_train, y=y_train, cv=cv)\n",
    "\n",
    "        results.append(\n",
    "            {\n",
    "                \"Model\": type(classifier).__name__,\n",
    "                \"Accuracy\": accuracies.mean() * 100,\n",
    "                \"SD\": accuracies.std() * 100,\n",
    "                \"Accuracy_\": score * 100,\n",
    "            }\n",
    "        )\n",
    "\n",
    "    sorted_results = sorted(results, key=lambda x: x[\"Accuracy\"], reverse=True)\n",
    "\n",
    "    print(f\"{'Train (k-fold)':>42} {'Test (score)':>18}\")\n",
    "    print(f\"{'Model':<25} {'Accuracy %':<12} {'SD %':<10} {'Accuracy %':<12}\")\n",
    "    print(\"-\" * 60)\n",
    "    for result in sorted_results:\n",
    "        print(\n",
    "            # f\"{result['Model']:<25} {result['Accuracy']:<12.2f} {result['SD']:<10.2f} {result['Accuracy_']:<12.2f}\"\n",
    "            f\"{result['Model']:<30} {result['Accuracy']:<7.2f} {result['SD']:<15.2f} {result['Accuracy_']:<12.2f}\"\n",
    "        )"
   ]
  },
  {
   "cell_type": "code",
   "execution_count": 670,
   "id": "67faed75",
   "metadata": {},
   "outputs": [],
   "source": [
    "from sklearn.model_selection import GridSearchCV\n",
    "\n",
    "\n",
    "def evaluate_model_grid_search_cv(\n",
    "    classifier, X_train, y_train, params, scoring=\"accuracy\", cv=10, n_jobs=-1\n",
    "):\n",
    "    grid_search = GridSearchCV(\n",
    "        estimator=classifier, param_grid=params, scoring=scoring, cv=cv, n_jobs=n_jobs\n",
    "    )\n",
    "    grid_search.fit(X=X_train, y=y_train)\n",
    "    best_accuracy = grid_search.best_score_\n",
    "    best_params = grid_search.best_params_\n",
    "    print(f\"Model: {type(classifier).__name__}\")\n",
    "    print(f\" - Best accuracy: {best_accuracy * 100:,.2f}%\")\n",
    "    print(f\" - Best params: {best_params}\")"
   ]
  },
  {
   "cell_type": "code",
   "execution_count": 671,
   "id": "0f4a5761",
   "metadata": {},
   "outputs": [],
   "source": [
    "from sklearn.model_selection import learning_curve\n",
    "\n",
    "\n",
    "def plot_learning_curve(\n",
    "    estimator, X, y, cv=5, n_jobs=-1, train_sizes=np.linspace(0.1, 1.0, 5)\n",
    "):\n",
    "    plt.figure(figsize=(6, 4))\n",
    "    train_sizes, train_scores, test_scores = learning_curve(\n",
    "        estimator, X, y, cv=cv, n_jobs=n_jobs, train_sizes=train_sizes\n",
    "    )\n",
    "    train_scores_mean = np.mean(train_scores, axis=1)\n",
    "    test_scores_mean = np.mean(test_scores, axis=1)\n",
    "    sns.lineplot(x=train_sizes, y=train_scores_mean, label=\"Training score\")\n",
    "    sns.lineplot(x=train_sizes, y=test_scores_mean, label=\"Cross-validation score\")\n",
    "    plt.title(f\"Learning Curve - {type(estimator).__name__}\")\n",
    "    plt.xlabel(\"Training examples\")\n",
    "    plt.ylabel(\"Score\")\n",
    "    plt.legend()\n",
    "    plt.show()"
   ]
  },
  {
   "cell_type": "markdown",
   "id": "0b1be081",
   "metadata": {},
   "source": [
    "### Write Functions"
   ]
  },
  {
   "cell_type": "code",
   "execution_count": 672,
   "id": "3b90320c",
   "metadata": {},
   "outputs": [],
   "source": [
    "from sklearn.impute import SimpleImputer\n",
    "\n",
    "\n",
    "def update_null_values(df, fields, strategy, fill_value=np.nan):\n",
    "    \"\"\"\n",
    "    Update values with a given strategy.\n",
    "    `fill_value` is only used when `strategy` = \"constant\"\n",
    "    `strategy`:  {'constant', 'most_frequent', 'mean', 'median'}\n",
    "    \"\"\"\n",
    "    try:\n",
    "        imputer = SimpleImputer(\n",
    "            missing_values=np.nan, strategy=strategy, fill_value=fill_value\n",
    "        )\n",
    "        imputer.fit(df[fields])\n",
    "        df_transformed = df.copy()\n",
    "        df_transformed[fields] = imputer.transform(df[fields])\n",
    "        return df_transformed\n",
    "    except ValueError as e:\n",
    "        print(f\"❌ Error: {e}\")\n",
    "        return df"
   ]
  },
  {
   "cell_type": "code",
   "execution_count": 673,
   "id": "5ed6387e",
   "metadata": {},
   "outputs": [],
   "source": [
    "from sklearn.compose import ColumnTransformer\n",
    "from sklearn.preprocessing import OneHotEncoder\n",
    "from sklearn.preprocessing import LabelEncoder\n",
    "\n",
    "\n",
    "def encode_categorical_data(df, fields, encoder):\n",
    "    \"\"\"\n",
    "    Function to encode categorical data in a DataFrame:\n",
    "    - OneHot: tbd\n",
    "    - Dummy: tbd\n",
    "    - Label: tbd\n",
    "    @TODO: explain when applying each one\n",
    "    \"\"\"\n",
    "    try:\n",
    "        if encoder == \"OneHot\":\n",
    "            # Create a ColumnTransformer, applying OneHotEncoder to specified fields\n",
    "            ct = ColumnTransformer(\n",
    "                transformers=[(\"encoder\", OneHotEncoder(), fields)],\n",
    "                remainder=\"passthrough\",\n",
    "            )\n",
    "            # Apply ColumnTransformer, resulting in an array\n",
    "            transformed_data = ct.fit_transform(df)\n",
    "            # Create new column names for the one-hot encoded columns\n",
    "            encoded_columns = ct.named_transformers_[\"encoder\"].get_feature_names_out(\n",
    "                fields\n",
    "            )\n",
    "            # Combine the new column names with the non-transformed columns\n",
    "            non_transformed_columns = [col for col in df.columns if col not in fields]\n",
    "            new_column_names = list(encoded_columns) + non_transformed_columns\n",
    "            # Create a DataFrame from the transformed data\n",
    "            df_transformed = pd.DataFrame(\n",
    "                transformed_data, columns=new_column_names, index=df.index\n",
    "            )\n",
    "\n",
    "        elif encoder == \"Dummy\":\n",
    "            # Create dummy variables\n",
    "            dummies = pd.get_dummies(df[fields], drop_first=True)\n",
    "            # Drop the original fields and concatenate the dummy variables\n",
    "            df_transformed = pd.concat([df.drop(fields, axis=1), dummies], axis=1)\n",
    "\n",
    "        elif encoder == \"Label\":\n",
    "            df_transformed = df.copy()\n",
    "            # update original target fields with 0-N categorical values\n",
    "            for field in fields:\n",
    "                le = LabelEncoder()\n",
    "                df_transformed[field] = le.fit_transform(df_transformed[field])\n",
    "        else:\n",
    "            print(f\"encoder `{encoder}` not found\")\n",
    "            return df\n",
    "\n",
    "        return df_transformed\n",
    "    except KeyError as e:\n",
    "        print(f\"❌ Error: {e}\")\n",
    "        return df\n"
   ]
  },
  {
   "cell_type": "code",
   "execution_count": 674,
   "id": "250d0ee7",
   "metadata": {},
   "outputs": [],
   "source": [
    "from sklearn.preprocessing import StandardScaler\n",
    "\n",
    "sc = StandardScaler()\n",
    "\n",
    "\n",
    "def scale_features(X_train, X_test, fields):\n",
    "    \"\"\"\n",
    "    - Only for non-dummy numerical features\n",
    "    - For KNN, SVM or Logistic Reg/Linear Reg/NN with Gradient descent optimisation\n",
    "    - For classification, no need to scale dependent variable\n",
    "    \"\"\"\n",
    "    try:\n",
    "        # Create copies of the original DataFrames\n",
    "        X_train_scaled, X_test_scaled = X_train.copy(), X_test.copy()\n",
    "\n",
    "        # Scale only the specified fields\n",
    "        X_train_scaled[fields] = sc.fit_transform(X_train[fields])\n",
    "        X_test_scaled[fields] = sc.transform(X_test[fields])\n",
    "\n",
    "        return X_train_scaled, X_test_scaled\n",
    "    except Exception as e:\n",
    "        print(f\"❌ Error: {e}\")\n",
    "        return X_train, X_test"
   ]
  },
  {
   "cell_type": "markdown",
   "id": "60ef55dc",
   "metadata": {},
   "source": [
    "### Regression Model Functions"
   ]
  },
  {
   "cell_type": "code",
   "execution_count": 675,
   "id": "543ca9b6",
   "metadata": {},
   "outputs": [],
   "source": [
    "from sklearn.linear_model import LogisticRegression\n",
    "\n",
    "\n",
    "def fit_logistic_regression(\n",
    "    X_train,\n",
    "    y_train,\n",
    "    c=1.0,\n",
    "    max_iter=1000,\n",
    "    penalty=\"l2\",\n",
    "    solver=\"lbfgs\",\n",
    "):\n",
    "    lr = LogisticRegression(\n",
    "        random_state=RANDOM_STATE,\n",
    "        C=c,\n",
    "        max_iter=max_iter,\n",
    "        penalty=penalty,\n",
    "        solver=solver,\n",
    "    )\n",
    "    lr.fit(X_train, y_train)\n",
    "    return lr"
   ]
  },
  {
   "cell_type": "code",
   "execution_count": 676,
   "id": "eb1dfb70",
   "metadata": {},
   "outputs": [],
   "source": [
    "from sklearn.neighbors import KNeighborsClassifier\n",
    "\n",
    "\n",
    "def fit_knn(\n",
    "    X_train,\n",
    "    y_train,\n",
    "    algorithm=\"auto\",\n",
    "    leaf_size=30,\n",
    "    n_neighbors=5,\n",
    "    p=2,\n",
    "    weights=\"uniform\",\n",
    "):\n",
    "    knn = KNeighborsClassifier(\n",
    "        algorithm=algorithm,\n",
    "        leaf_size=leaf_size,\n",
    "        n_neighbors=n_neighbors,\n",
    "        p=p,\n",
    "        weights=weights,\n",
    "    )\n",
    "    knn.fit(X_train, y_train)\n",
    "    return knn"
   ]
  },
  {
   "cell_type": "code",
   "execution_count": 677,
   "id": "9e3f9591",
   "metadata": {},
   "outputs": [],
   "source": [
    "from sklearn.svm import SVC\n",
    "\n",
    "\n",
    "def fit_svc(\n",
    "    X_train,\n",
    "    y_train,\n",
    "    c=1.0,\n",
    "    degree=3,\n",
    "    gamma=\"scale\",\n",
    "    kernel=\"rbf\",\n",
    "):\n",
    "    svc = SVC(\n",
    "        random_state=RANDOM_STATE,\n",
    "        C=c,\n",
    "        degree=degree,\n",
    "        gamma=gamma,\n",
    "        kernel=kernel,\n",
    "    )\n",
    "    svc.fit(X_train, y_train)\n",
    "    return svc"
   ]
  },
  {
   "cell_type": "code",
   "execution_count": 678,
   "id": "ffae0217",
   "metadata": {},
   "outputs": [],
   "source": [
    "from sklearn.naive_bayes import GaussianNB\n",
    "\n",
    "\n",
    "def fit_nb(\n",
    "    X_train,\n",
    "    y_train,\n",
    "    var_smoothing=1e-9,\n",
    "):\n",
    "    nb = GaussianNB(var_smoothing=var_smoothing)\n",
    "    nb.fit(X_train, y_train)\n",
    "    return nb"
   ]
  },
  {
   "cell_type": "code",
   "execution_count": 679,
   "id": "2432b0bc",
   "metadata": {},
   "outputs": [],
   "source": [
    "from sklearn.tree import DecisionTreeClassifier\n",
    "\n",
    "\n",
    "# TODO: default criterion: gini vs. entropy\n",
    "def fit_decision_tree(\n",
    "    X_train,\n",
    "    y_train,\n",
    "    criterion=\"entropy\",\n",
    "    max_depth=None,\n",
    "    max_features=None,\n",
    "    max_leaf_nodes=None,\n",
    "    min_samples_leaf=1,\n",
    "    min_samples_split=2,\n",
    "    splitter=\"best\",\n",
    "):\n",
    "    dt = DecisionTreeClassifier(\n",
    "        random_state=RANDOM_STATE,\n",
    "        criterion=criterion,\n",
    "        max_depth=max_depth,\n",
    "        max_features=max_features,\n",
    "        max_leaf_nodes=max_leaf_nodes,\n",
    "        min_samples_leaf=min_samples_leaf,\n",
    "        min_samples_split=min_samples_split,\n",
    "        splitter=splitter,\n",
    "    )\n",
    "    dt.fit(X_train, y_train)\n",
    "    return dt"
   ]
  },
  {
   "cell_type": "code",
   "execution_count": 680,
   "id": "0f6f660d",
   "metadata": {},
   "outputs": [],
   "source": [
    "from sklearn.ensemble import AdaBoostClassifier\n",
    "\n",
    "\n",
    "def fit_ada_boost(\n",
    "    X_train,\n",
    "    y_train,\n",
    "    estimator=DecisionTreeClassifier(max_depth=1),\n",
    "    algorithm=\"SAMME.R\",\n",
    "    learning_rate=1.0,\n",
    "    n_estimators=50,\n",
    "):\n",
    "    ada = AdaBoostClassifier(\n",
    "        random_state=RANDOM_STATE,\n",
    "        algorithm=algorithm,\n",
    "        estimator=estimator,\n",
    "        learning_rate=learning_rate,\n",
    "        n_estimators=n_estimators,\n",
    "    )\n",
    "    ada.fit(X_train, y_train)\n",
    "    return ada"
   ]
  },
  {
   "cell_type": "code",
   "execution_count": 681,
   "id": "0e96b5ba",
   "metadata": {},
   "outputs": [],
   "source": [
    "from sklearn.ensemble import RandomForestClassifier\n",
    "\n",
    "\n",
    "# TODO: default criterion: gini vs. entropy\n",
    "def fit_random_forest(\n",
    "    X_train,\n",
    "    y_train,\n",
    "    bootstrap=True,\n",
    "    class_weight=None,\n",
    "    criterion=\"entropy\",\n",
    "    max_depth=None,\n",
    "    max_features=\"sqrt\",\n",
    "    min_samples_leaf=1,\n",
    "    min_samples_split=2,\n",
    "    n_estimators=100,\n",
    "):\n",
    "    rf = RandomForestClassifier(\n",
    "        random_state=RANDOM_STATE,\n",
    "        bootstrap=bootstrap,\n",
    "        class_weight=class_weight,\n",
    "        criterion=criterion,\n",
    "        max_depth=max_depth,\n",
    "        max_features=max_features,\n",
    "        min_samples_leaf=min_samples_leaf,\n",
    "        min_samples_split=min_samples_split,\n",
    "        n_estimators=n_estimators,\n",
    "    )\n",
    "    rf.fit(X_train, y_train)\n",
    "    return rf"
   ]
  },
  {
   "cell_type": "code",
   "execution_count": 682,
   "id": "a2ce24ef",
   "metadata": {},
   "outputs": [],
   "source": [
    "from xgboost import XGBClassifier\n",
    "\n",
    "\n",
    "def fit_xgboost(\n",
    "    X_train,\n",
    "    y_train,\n",
    "    colsample_bytree=1,\n",
    "    gamma=0,\n",
    "    learning_rate=0.3,\n",
    "    max_depth=6,\n",
    "    min_child_weight=1,\n",
    "    n_estimators=100,\n",
    "    subsample=1,\n",
    "):\n",
    "    xgb = XGBClassifier(\n",
    "        random_state=RANDOM_STATE,\n",
    "        colsample_bytree=colsample_bytree,\n",
    "        gamma=gamma,\n",
    "        learning_rate=learning_rate,\n",
    "        max_depth=max_depth,\n",
    "        min_child_weight=min_child_weight,\n",
    "        n_estimators=n_estimators,\n",
    "        subsample=subsample,\n",
    "        use_label_encoder=False,\n",
    "        # eval_metric=\"logloss\",\n",
    "    )\n",
    "    xgb.fit(X_train, y_train)\n",
    "    return xgb"
   ]
  },
  {
   "cell_type": "code",
   "execution_count": 683,
   "id": "f25dc385",
   "metadata": {},
   "outputs": [],
   "source": [
    "from catboost import CatBoostClassifier\n",
    "\n",
    "\n",
    "def fit_catboost(\n",
    "    X_train,\n",
    "    y_train,\n",
    "    bootstrap_type=\"MVS\",\n",
    "    border_count=254,\n",
    "    depth=6,\n",
    "    eval_metric=\"Logloss\",\n",
    "    iterations=1000,\n",
    "    l2_leaf_reg=3,\n",
    "    learning_rate=0.009,\n",
    "    subsample=0.8,\n",
    "):\n",
    "    cat = CatBoostClassifier(\n",
    "        random_state=RANDOM_STATE,\n",
    "        verbose=0,\n",
    "        bootstrap_type=bootstrap_type,\n",
    "        border_count=border_count,\n",
    "        depth=depth,\n",
    "        eval_metric=eval_metric,\n",
    "        iterations=iterations,\n",
    "        l2_leaf_reg=l2_leaf_reg,\n",
    "        learning_rate=learning_rate,\n",
    "        subsample=subsample,\n",
    "    )\n",
    "    cat.fit(X_train, y_train)\n",
    "    return cat"
   ]
  },
  {
   "cell_type": "code",
   "execution_count": 684,
   "id": "12f2a2b8",
   "metadata": {},
   "outputs": [],
   "source": [
    "# sns.heatmap(df_train.corr(),annot=True,cmap='RdYlGn',linewidths=0.2)\n",
    "# fig=plt.gcf()\n",
    "# fig.set_size_inches(20,12)\n",
    "# plt.show()"
   ]
  },
  {
   "cell_type": "markdown",
   "id": "bea988e0",
   "metadata": {},
   "source": [
    "### Fit Models"
   ]
  },
  {
   "cell_type": "code",
   "execution_count": 685,
   "id": "a4f80ec6",
   "metadata": {},
   "outputs": [],
   "source": [
    "# - LogReg requires scaling to avoid ConvergenceWarning issue with kfold\n",
    "# - KNN & SVC require scaling\n",
    "lr = fit_logistic_regression(X_train_scaled, y_train)\n",
    "knn = fit_knn(X_train_scaled, y_train)\n",
    "svc = fit_svc(X_train_scaled, y_train)\n",
    "nb = fit_nb(X_train, y_train)\n",
    "dt = fit_decision_tree(X_train, y_train)\n",
    "ada = fit_ada_boost(X_train, y_train)\n",
    "rf = fit_random_forest(X_train, y_train)\n",
    "xgb = fit_xgboost(X_train, y_train)\n",
    "cat = fit_catboost(X_train, y_train)"
   ]
  },
  {
   "cell_type": "markdown",
   "id": "93ab8eb6",
   "metadata": {},
   "source": [
    "### Evaluate Models"
   ]
  },
  {
   "cell_type": "code",
   "execution_count": 686,
   "id": "acf9e3e2",
   "metadata": {},
   "outputs": [
    {
     "name": "stdout",
     "output_type": "stream",
     "text": [
      "                            Train (k-fold)       Test (score)\n",
      "Model                     Accuracy %   SD %       Accuracy %  \n",
      "------------------------------------------------------------\n",
      "CatBoostClassifier             83.57   4.84            85.47       \n",
      "SVC                            82.58   5.66            83.80       \n",
      "LogisticRegression             82.17   4.58            82.12       \n",
      "XGBClassifier                  81.60   3.00            78.21       \n",
      "AdaBoostClassifier             80.76   6.21            81.56       \n",
      "KNeighborsClassifier           80.62   4.52            81.56       \n",
      "RandomForestClassifier         80.06   4.58            80.45       \n",
      "GaussianNB                     78.37   5.15            78.77       \n",
      "DecisionTreeClassifier         75.70   5.18            75.98       \n"
     ]
    }
   ],
   "source": [
    "train_data = [X_train, X_train_scaled, y_train]\n",
    "test_data = [X_test, X_test_scaled, y_test]\n",
    "models = [lr, knn, svc, nb, dt, ada, rf, xgb, cat]\n",
    "models_to_scale = [\"KNeighborsClassifier\", \"SVC\", \"LogisticRegression\"]\n",
    "\n",
    "evaluate_train_vs_test_score(models, *train_data, *test_data, models_to_scale)"
   ]
  },
  {
   "cell_type": "markdown",
   "id": "c726ef9d",
   "metadata": {},
   "source": [
    "### Tune Models / Detect Overfitting & Underfitting\n",
    "- Hyperparameters tunning\n",
    "- Learning curve to check:\n",
    "  - **Overfitting** (High Variance): The training score is high, but the validation score is significantly lower, indicating that the model fits the training data well but does not generalize to new data.\n",
    "  - **Underfitting** (High Bias): Both training and validation scores are low, and they converge at a similar low score. This indicates that the model is too simple and does not capture the underlying patterns in the data."
   ]
  },
  {
   "cell_type": "code",
   "execution_count": 687,
   "id": "947f66c5",
   "metadata": {},
   "outputs": [
    {
     "name": "stdout",
     "output_type": "stream",
     "text": [
      "Model: LogisticRegression\n",
      " - Best accuracy: 82.59%\n",
      " - Best params: {'C': 9, 'max_iter': 1000, 'penalty': 'l2', 'solver': 'lbfgs'}\n"
     ]
    }
   ],
   "source": [
    "# Logistic Regression\n",
    "\n",
    "params = {\n",
    "    \"C\": [0.01, 0.05, 0.1, 0.5, 1, 3, 4, 5, 6, 7, 8, 9, 10, 11, 12, 13, 14, 15, 50],\n",
    "    \"max_iter\": [1000, 1500, 2000, 2500, 3000],\n",
    "    \"penalty\": [\"l2\"],\n",
    "    \"solver\": [\"lbfgs\", \"newton-cg\", \"sag\"],\n",
    "}\n",
    "\n",
    "# Feature scaling to avoid ConvergenceWarning issue\n",
    "evaluate_model_grid_search_cv(lr, X_train_scaled, y_train, params)"
   ]
  },
  {
   "cell_type": "code",
   "execution_count": 688,
   "id": "61d2abad",
   "metadata": {},
   "outputs": [
    {
     "data": {
      "image/png": "[encoded data removed]",
      "text/plain": [
       "<Figure size 600x400 with 1 Axes>"
      ]
     },
     "metadata": {},
     "output_type": "display_data"
    },
    {
     "name": "stdout",
     "output_type": "stream",
     "text": [
      "                            Train (k-fold)       Test (score)\n",
      "Model                     Accuracy %   SD %       Accuracy %  \n",
      "------------------------------------------------------------\n",
      "LogisticRegression             82.59   4.49            80.45       \n"
     ]
    }
   ],
   "source": [
    "lr = fit_logistic_regression(X_train_scaled, y_train, 9, 1000, \"l2\", \"lbfgs\")\n",
    "plot_learning_curve(lr, X_train_scaled, y_train)\n",
    "evaluate_train_vs_test_score([lr], *train_data, *test_data, models_to_scale)"
   ]
  },
  {
   "cell_type": "code",
   "execution_count": 689,
   "id": "a352ffc6",
   "metadata": {},
   "outputs": [
    {
     "name": "stdout",
     "output_type": "stream",
     "text": [
      "Model: KNeighborsClassifier\n",
      " - Best accuracy: 82.30%\n",
      " - Best params: {'algorithm': 'auto', 'leaf_size': 1, 'n_neighbors': 12, 'p': 1.3, 'weights': 'uniform'}\n"
     ]
    }
   ],
   "source": [
    "# KNN\n",
    "\n",
    "params = {\n",
    "    \"algorithm\": [\"auto\", \"ball_tree\", \"kd_tree\", \"brute\"],\n",
    "    \"leaf_size\": [1, 2, 3, 4],\n",
    "    \"n_neighbors\": [11, 12, 13],\n",
    "    \"p\": [1.2, 1.3, 1.4],\n",
    "    \"weights\": [\"uniform\", \"distance\"],\n",
    "}\n",
    "\n",
    "evaluate_model_grid_search_cv(knn, X_train_scaled, y_train, params)"
   ]
  },
  {
   "cell_type": "code",
   "execution_count": 690,
   "id": "742ea513",
   "metadata": {},
   "outputs": [
    {
     "data": {
      "image/png": "[encoded data removed]",
      "text/plain": [
       "<Figure size 600x400 with 1 Axes>"
      ]
     },
     "metadata": {},
     "output_type": "display_data"
    },
    {
     "name": "stdout",
     "output_type": "stream",
     "text": [
      "                            Train (k-fold)       Test (score)\n",
      "Model                     Accuracy %   SD %       Accuracy %  \n",
      "------------------------------------------------------------\n",
      "KNeighborsClassifier           82.30   5.27            81.01       \n"
     ]
    }
   ],
   "source": [
    "knn = fit_knn(X_train_scaled, y_train, \"auto\", 1, 12, 1.3, \"uniform\")\n",
    "plot_learning_curve(knn, X_train_scaled, y_train)\n",
    "evaluate_train_vs_test_score([knn], *train_data, *test_data, models_to_scale)"
   ]
  },
  {
   "cell_type": "code",
   "execution_count": 691,
   "id": "43558b0d",
   "metadata": {},
   "outputs": [
    {
     "name": "stdout",
     "output_type": "stream",
     "text": [
      "Model: SVC\n",
      " - Best accuracy: 83.43%\n",
      " - Best params: {'C': 1.8, 'degree': 1, 'gamma': 0.05, 'kernel': 'rbf'}\n"
     ]
    }
   ],
   "source": [
    "# SVC\n",
    "\n",
    "\"\"\"\n",
    "Further options:\n",
    "- with 'poly' and 'sigmoid' kernels, try 'coef0' ranges -> [0, 1] or [0, 10])\n",
    "- with 'poly' kernel, try more granular 'degree' ranges\n",
    "- when dataset is imbalanced (i.e., unequal number of instances in each class),\n",
    "  try 'class_weight' param\n",
    "\"\"\"\n",
    "\n",
    "params = {\n",
    "    \"C\": [1.7, 1.8, 1.9],\n",
    "    \"gamma\": [\"scale\", \"auto\", 0.01, 0.05, 0.1],\n",
    "    \"kernel\": [\"rbf\", \"poly\", \"sigmoid\"],\n",
    "    \"degree\": [1, 2, 3],\n",
    "}\n",
    "\n",
    "evaluate_model_grid_search_cv(svc, X_train_scaled, y_train, params)\n",
    "\n"
   ]
  },
  {
   "cell_type": "code",
   "execution_count": 692,
   "id": "8a74c24f",
   "metadata": {},
   "outputs": [
    {
     "data": {
      "image/png": "[encoded data removed]",
      "text/plain": [
       "<Figure size 600x400 with 1 Axes>"
      ]
     },
     "metadata": {},
     "output_type": "display_data"
    },
    {
     "name": "stdout",
     "output_type": "stream",
     "text": [
      "                            Train (k-fold)       Test (score)\n",
      "Model                     Accuracy %   SD %       Accuracy %  \n",
      "------------------------------------------------------------\n",
      "SVC                            83.43   5.11            83.80       \n"
     ]
    }
   ],
   "source": [
    "svc = fit_svc(X_train_scaled, y_train, 1.8, 1, 0.05, \"rbf\")\n",
    "plot_learning_curve(svc, X_train_scaled, y_train)\n",
    "evaluate_train_vs_test_score([svc], *train_data, *test_data, models_to_scale)"
   ]
  },
  {
   "cell_type": "code",
   "execution_count": 693,
   "id": "5452cf6d",
   "metadata": {},
   "outputs": [
    {
     "name": "stdout",
     "output_type": "stream",
     "text": [
      "Model: GaussianNB\n",
      " - Best accuracy: 80.34%\n",
      " - Best params: {'var_smoothing': 1e-05}\n"
     ]
    }
   ],
   "source": [
    "# Gaussian Naive Bayes\n",
    "\n",
    "params = {\"var_smoothing\": [1e-9, 1e-8, 1e-7, 1e-6, 1e-5, 1e-4]}\n",
    "\n",
    "evaluate_model_grid_search_cv(nb, X_train, y_train, params)"
   ]
  },
  {
   "cell_type": "code",
   "execution_count": 694,
   "id": "f80b2ee1",
   "metadata": {},
   "outputs": [
    {
     "data": {
      "image/png": "[encoded data removed]",
      "text/plain": [
       "<Figure size 600x400 with 1 Axes>"
      ]
     },
     "metadata": {},
     "output_type": "display_data"
    },
    {
     "name": "stdout",
     "output_type": "stream",
     "text": [
      "                            Train (k-fold)       Test (score)\n",
      "Model                     Accuracy %   SD %       Accuracy %  \n",
      "------------------------------------------------------------\n",
      "GaussianNB                     80.34   5.13            78.21       \n"
     ]
    }
   ],
   "source": [
    "nb = fit_nb(X_train, y_train, 1e-05)\n",
    "plot_learning_curve(nb, X_train, y_train)\n",
    "evaluate_train_vs_test_score([nb], *train_data, *test_data, models_to_scale)"
   ]
  },
  {
   "cell_type": "code",
   "execution_count": 695,
   "id": "89816140",
   "metadata": {},
   "outputs": [
    {
     "name": "stdout",
     "output_type": "stream",
     "text": [
      "Model: DecisionTreeClassifier\n",
      " - Best accuracy: 84.55%\n",
      " - Best params: {'criterion': 'entropy', 'max_depth': 5, 'max_features': 0.75, 'max_leaf_nodes': 22, 'min_samples_leaf': 6, 'min_samples_split': 2, 'splitter': 'best'}\n"
     ]
    }
   ],
   "source": [
    "# Decision Tree\n",
    "\n",
    "params = {\n",
    "    \"criterion\": [\"gini\", \"entropy\"],\n",
    "    \"max_depth\": [4, 5, 6],\n",
    "    \"max_features\": [\"sqrt\", \"log2\", None, 0.5, 0.75],\n",
    "    \"max_leaf_nodes\": [20, 22, 24],\n",
    "    \"min_samples_leaf\": [5, 6, 7],\n",
    "    \"min_samples_split\": [2, 3],\n",
    "    \"splitter\": [\"best\", \"random\"],\n",
    "}\n",
    "\n",
    "evaluate_model_grid_search_cv(dt, X_train, y_train, params)"
   ]
  },
  {
   "cell_type": "code",
   "execution_count": 696,
   "id": "b4124522",
   "metadata": {},
   "outputs": [
    {
     "data": {
      "image/png": "[encoded data removed]",
      "text/plain": [
       "<Figure size 600x400 with 1 Axes>"
      ]
     },
     "metadata": {},
     "output_type": "display_data"
    },
    {
     "name": "stdout",
     "output_type": "stream",
     "text": [
      "                            Train (k-fold)       Test (score)\n",
      "Model                     Accuracy %   SD %       Accuracy %  \n",
      "------------------------------------------------------------\n",
      "DecisionTreeClassifier         84.55   3.07            78.77       \n"
     ]
    }
   ],
   "source": [
    "dt = fit_decision_tree(X_train, y_train, \"entropy\", 5, 0.75, 22, 6, 2, \"best\")\n",
    "plot_learning_curve(dt, X_train, y_train)\n",
    "evaluate_train_vs_test_score([dt], *train_data, *test_data, models_to_scale)"
   ]
  },
  {
   "cell_type": "code",
   "execution_count": 697,
   "id": "fbabba79",
   "metadata": {},
   "outputs": [
    {
     "name": "stdout",
     "output_type": "stream",
     "text": [
      "Model: AdaBoostClassifier\n",
      " - Best accuracy: 84.70%\n",
      " - Best params: {'algorithm': 'SAMME', 'estimator': DecisionTreeClassifier(max_depth=2), 'learning_rate': 0.8, 'n_estimators': 225}\n"
     ]
    }
   ],
   "source": [
    "# Ada Boost\n",
    "\n",
    "params = {\n",
    "    \"algorithm\": [\"SAMME\", \"SAMME.R\"],\n",
    "    \"estimator\": [DecisionTreeClassifier(max_depth=depth) for depth in [1, 2, 3]],\n",
    "    \"learning_rate\": [0.7, 0.8, 0.9],\n",
    "    \"n_estimators\": [200, 215, 220, 225, 230, 235],\n",
    "}\n",
    "\n",
    "evaluate_model_grid_search_cv(ada, X_train, y_train, params)"
   ]
  },
  {
   "cell_type": "code",
   "execution_count": 698,
   "id": "6e48d0fa",
   "metadata": {},
   "outputs": [
    {
     "data": {
      "image/png": "[encoded data removed]",
      "text/plain": [
       "<Figure size 600x400 with 1 Axes>"
      ]
     },
     "metadata": {},
     "output_type": "display_data"
    },
    {
     "name": "stdout",
     "output_type": "stream",
     "text": [
      "                            Train (k-fold)       Test (score)\n",
      "Model                     Accuracy %   SD %       Accuracy %  \n",
      "------------------------------------------------------------\n",
      "AdaBoostClassifier             84.70   4.63            81.56       \n"
     ]
    }
   ],
   "source": [
    "ada = fit_ada_boost(X_train, y_train, DecisionTreeClassifier(max_depth=2), \"SAMME\", 0.8, 225)\n",
    "plot_learning_curve(ada, X_train, y_train)\n",
    "evaluate_train_vs_test_score([ada], *train_data, *test_data, models_to_scale)"
   ]
  },
  {
   "cell_type": "code",
   "execution_count": 699,
   "id": "2fcaf80e",
   "metadata": {},
   "outputs": [
    {
     "name": "stdout",
     "output_type": "stream",
     "text": [
      "Model: RandomForestClassifier\n",
      " - Best accuracy: 84.27%\n",
      " - Best params: {'bootstrap': True, 'class_weight': None, 'criterion': 'entropy', 'max_depth': 10, 'max_features': 'sqrt', 'min_samples_leaf': 2, 'min_samples_split': 2, 'n_estimators': 50}\n"
     ]
    }
   ],
   "source": [
    "# Random Forest\n",
    "\n",
    "params = {\n",
    "    \"bootstrap\": [True, False],\n",
    "    \"class_weight\": [None],\n",
    "    \"criterion\": [\"gini\", \"entropy\"],\n",
    "    \"max_depth\": [9, 10],\n",
    "    \"max_features\": [\"sqrt\", \"log2\", None],\n",
    "    \"min_samples_leaf\": [1, 2],\n",
    "    \"min_samples_split\": [2, 3],\n",
    "    \"n_estimators\": [45, 50],\n",
    "}\n",
    "\n",
    "evaluate_model_grid_search_cv(rf, X_train, y_train, params)"
   ]
  },
  {
   "cell_type": "code",
   "execution_count": 700,
   "id": "3d9ae9bb",
   "metadata": {},
   "outputs": [
    {
     "data": {
      "image/png": "[encoded data removed]",
      "text/plain": [
       "<Figure size 600x400 with 1 Axes>"
      ]
     },
     "metadata": {},
     "output_type": "display_data"
    },
    {
     "name": "stdout",
     "output_type": "stream",
     "text": [
      "                            Train (k-fold)       Test (score)\n",
      "Model                     Accuracy %   SD %       Accuracy %  \n",
      "------------------------------------------------------------\n",
      "RandomForestClassifier         84.27   4.58            82.12       \n"
     ]
    }
   ],
   "source": [
    "rf = fit_random_forest(X_train, y_train, True, None, \"entropy\", 10, \"sqrt\", 2, 2, 50) # 84.27%\n",
    "# rf = fit_random_forest(X_train, y_train, True, None, \"entropy\", 15, \"sqrt\", 2, 2, 100) # 84.27%\n",
    "\n",
    "plot_learning_curve(rf, X_train, y_train)\n",
    "# evaluate_model_kfold([rf], X_train, X_train_scaled, y_train, models_to_scale)\n",
    "evaluate_train_vs_test_score([rf], *train_data, *test_data, models_to_scale)\n"
   ]
  },
  {
   "cell_type": "code",
   "execution_count": 701,
   "id": "003fb0f0",
   "metadata": {},
   "outputs": [
    {
     "name": "stdout",
     "output_type": "stream",
     "text": [
      "Model: XGBClassifier\n",
      " - Best accuracy: 85.40%\n",
      " - Best params: {'colsample_bytree': 0.7, 'gamma': 0.04, 'learning_rate': 0.4, 'max_depth': 6, 'min_child_weight': 8, 'n_estimators': 100, 'subsample': 0.8}\n"
     ]
    }
   ],
   "source": [
    "# XGBoost\n",
    "\n",
    "params = {\n",
    "    \"colsample_bytree\": [0.6, 0.7],\n",
    "    \"gamma\": [0.03, 0.04],\n",
    "    \"learning_rate\": [0.3, 0.4],\n",
    "    \"max_depth\": [5, 6, 7],\n",
    "    \"min_child_weight\": [7, 8, 9],\n",
    "    \"n_estimators\": [100, 125],\n",
    "    \"subsample\": [0.7, 0.8],\n",
    "}\n",
    "\n",
    "evaluate_model_grid_search_cv(xgb, X_train, y_train, params)"
   ]
  },
  {
   "cell_type": "code",
   "execution_count": 702,
   "id": "0c354c8a",
   "metadata": {},
   "outputs": [
    {
     "data": {
      "image/png": "[encoded data removed]",
      "text/plain": [
       "<Figure size 600x400 with 1 Axes>"
      ]
     },
     "metadata": {},
     "output_type": "display_data"
    },
    {
     "name": "stdout",
     "output_type": "stream",
     "text": [
      "                            Train (k-fold)       Test (score)\n",
      "Model                     Accuracy %   SD %       Accuracy %  \n",
      "------------------------------------------------------------\n",
      "XGBClassifier                  85.40   4.72            82.12       \n"
     ]
    }
   ],
   "source": [
    "xgb = fit_xgboost(X_train, y_train, 0.7, 0.04, 0.4, 6, 8, 100, 0.8)\n",
    "plot_learning_curve(xgb, X_train, y_train)\n",
    "evaluate_train_vs_test_score([xgb], *train_data, *test_data, models_to_scale)"
   ]
  },
  {
   "cell_type": "markdown",
   "id": "e7042ebb",
   "metadata": {},
   "source": [
    "### CatBoostClassifier"
   ]
  },
  {
   "cell_type": "code",
   "execution_count": 703,
   "id": "531f82f5",
   "metadata": {},
   "outputs": [
    {
     "name": "stdout",
     "output_type": "stream",
     "text": [
      "Model: CatBoostClassifier\n",
      " - Best accuracy: 84.83%\n",
      " - Best params: {'bootstrap_type': 'Bernoulli', 'border_count': 256, 'depth': 3, 'eval_metric': 'Logloss', 'iterations': 200, 'l2_leaf_reg': 7, 'learning_rate': 0.2, 'subsample': 1}\n"
     ]
    }
   ],
   "source": [
    "# CatBoost\n",
    "\n",
    "params = {\n",
    "    \"bootstrap_type\": [\"Bernoulli\"],\n",
    "    \"border_count\": [128, 256],\n",
    "    \"depth\": [2, 3, 4],\n",
    "    \"eval_metric\": [\"Logloss\"],\n",
    "    \"iterations\": [180, 200],\n",
    "    \"l2_leaf_reg\": [6, 7, 8],\n",
    "    \"learning_rate\": [0.15, 0.2, 0.25],\n",
    "    \"subsample\": [0.95, 1],\n",
    "}\n",
    "\n",
    "evaluate_model_grid_search_cv(cat, X_train, y_train, params)"
   ]
  },
  {
   "cell_type": "code",
   "execution_count": 710,
   "id": "f71786c4",
   "metadata": {},
   "outputs": [
    {
     "data": {
      "image/png": "[encoded data removed]",
      "text/plain": [
       "<Figure size 600x400 with 1 Axes>"
      ]
     },
     "metadata": {},
     "output_type": "display_data"
    },
    {
     "name": "stdout",
     "output_type": "stream",
     "text": [
      "                            Train (k-fold)       Test (score)\n",
      "Model                     Accuracy %   SD %       Accuracy %  \n",
      "------------------------------------------------------------\n",
      "CatBoostClassifier             82.86   4.64            81.01       \n"
     ]
    }
   ],
   "source": [
    "\"\"\"\n",
    "To reduce overfitting:\n",
    "1) Increase Regularization (l2_leaf_reg): Higher regularization penalizes complexity and\n",
    "   helps prevent the model from fitting the training data too closely.\n",
    "2) Reduce Model Complexity (depth): Smaller trees are less complex and can improve the model's\n",
    "   ability to generalize to unseen data by reducing overfitting.\n",
    "3) Decrease Learning Rate (learning_rate): A smaller learning rate forces the model to make more\n",
    "   conservative updates during training, which can lead to better generalization.\n",
    "4) Implement Early Stopping (early_stopping_rounds): Utilize early stopping to cease training when\n",
    "   the validation score stops improving, which prevents overfitting by not allowing the model to\n",
    "   continue learning noise in the training data.\n",
    "5) Adjust Bin Count (border_count): This parameter dictates the number of splits for numerical\n",
    "   features and a smaller number can lead to a less complex model.\n",
    "6) Limit Iterations (iterations): Can prevent the model from becoming too fitted to the training data.\n",
    "7) Bootstrap and Subsampling (bootstrap_type, subsample): For Bernoulli bootstrapping, adjusting the\n",
    "   subsample parameter can introduce more randomness into the training process, which may help in\n",
    "   reducing overfitting.\n",
    "8) Model Calibration: Once the model is trained, calibrate it on a validation set to improve the\n",
    "   reliability of the probability predictions.\n",
    "\n",
    "Post-Pruning (model_shrink_rate, model_shrink_mode): After training, use model shrinking in CatBoost to prune unnecessary trees, which can reduce the complexity of the model and help to mitigate overfitting.\n",
    "\n",
    "\"\"\"\n",
    "# cat = fit_catboost(X_train, y_train, \"Bernoulli\", 256, 3, \"Logloss\", 200, 7, 0.2, 1) # 84.3 train vs. 82.68 test vs. 75.3 final\n",
    "cat = fit_catboost(X_train, y_train, \"Bernoulli\", 256, 2, \"Logloss\", 100, 7, 0.15, 1) # 83.1 train vs. 81.0 test vs. 78.2 final\n",
    "plot_learning_curve(cat, X_train, y_train)\n",
    "evaluate_train_vs_test_score([cat], *train_data, *test_data, models_to_scale)\n"
   ]
  },
  {
   "cell_type": "markdown",
   "id": "ff3f9d55",
   "metadata": {},
   "source": [
    "### Summary of all Models with tunned parameters\n",
    "\n",
    "When detecting overfitting, \"simplifying the model\" or \"reduce complexity\" refers to reducing its capacity to memorize the training data, which is often achieved by lowering the number of parameters or the model's flexibility."
   ]
  },
  {
   "cell_type": "code",
   "execution_count": 705,
   "id": "12d2507a",
   "metadata": {},
   "outputs": [
    {
     "name": "stdout",
     "output_type": "stream",
     "text": [
      "                            Train (k-fold)       Test (score)\n",
      "Model                     Accuracy %   SD %       Accuracy %  \n",
      "------------------------------------------------------------\n",
      "XGBClassifier                  85.40   4.72            82.12       \n",
      "AdaBoostClassifier             84.70   4.63            81.56       \n",
      "DecisionTreeClassifier         84.55   3.07            78.77       \n",
      "RandomForestClassifier         84.27   4.58            82.12       \n",
      "SVC                            83.43   5.11            83.80       \n",
      "CatBoostClassifier             82.86   4.64            81.01       \n",
      "LogisticRegression             82.59   4.49            80.45       \n",
      "KNeighborsClassifier           82.30   5.27            81.01       \n",
      "GaussianNB                     80.34   5.13            78.21       \n"
     ]
    }
   ],
   "source": [
    "# Summary\n",
    "models = [lr, knn, svc, nb, dt, ada, rf, xgb, cat]\n",
    "evaluate_train_vs_test_score(models, *train_data, *test_data, models_to_scale)"
   ]
  },
  {
   "cell_type": "markdown",
   "id": "751b9993",
   "metadata": {},
   "source": [
    "### Kaggle check\n",
    "*evaluate model scores with Kaggle's test data (incl. 'Survival' field)* 😎"
   ]
  },
  {
   "cell_type": "code",
   "execution_count": 706,
   "id": "754dce09",
   "metadata": {},
   "outputs": [],
   "source": [
    "df_test_result = pd.read_csv('./data/test_leaked.csv')\n",
    "\n",
    "# update null values on Fares based on Pclass\n",
    "mean_fares = df_test_result.groupby('Pclass')['Fare'].transform('mean')\n",
    "df_test_result['Fare'] = df_test_result['Fare'].fillna(mean_fares)\n",
    "\n",
    "# update null values on Age based on Pclass\n",
    "mean_age = df_test_result.groupby('Pclass')['Age'].transform('mean')\n",
    "df_test_result['Age'] = df_test_result['Age'].fillna(mean_age)\n",
    "\n",
    "# add new categories\n",
    "df_test_result[\"AgeGroup\"] = df_test_result[\"Age\"].apply(categorize_age)\n",
    "df_test_result['Title'] = df_test_result['Name'].str.extract(' ([A-Za-z]+)\\.', expand=False)\n",
    "df_test_result[\"Title\"] = df_test_result.apply(replace_titles, axis=1)\n",
    "\n",
    "df_test_result['Title'].unique()\n",
    "\n",
    "# remove unnecessary fields\n",
    "df_test_result = df_test_result.drop([\"PassengerId\", \"Name\", \"Ticket\", \"Cabin\"], axis=1)\n",
    "\n",
    "# encode categorical data\n",
    "dummies = pd.get_dummies(df_test_result[categorical_fields], drop_first=False)\n",
    "df_test_result = pd.concat([df_test_result.drop(categorical_fields, axis=1), dummies], axis=1)\n",
    "\n",
    "# no split needed\n",
    "X_test_result = df_test_result.drop(\"Survived\", axis=1)\n",
    "y_test_result = df_test_result[\"Survived\"]\n",
    "\n",
    "# scaling\n",
    "X_test_result_scaled= X_test_result.copy()\n",
    "X_test_result_scaled[fields_to_scale] = sc.fit_transform(X_test_result[fields_to_scale])\n"
   ]
  },
  {
   "cell_type": "code",
   "execution_count": 711,
   "id": "56da83e4",
   "metadata": {},
   "outputs": [
    {
     "name": "stdout",
     "output_type": "stream",
     "text": [
      "Model                     Accuracy %  \n",
      "CatBoostClassifier        78.23       \n",
      "KNeighborsClassifier      77.99       \n",
      "SVC                       77.99       \n",
      "LogisticRegression        77.51       \n",
      "AdaBoostClassifier        76.79       \n",
      "XGBClassifier             76.56       \n",
      "RandomForestClassifier    76.32       \n",
      "GaussianNB                76.08       \n",
      "DecisionTreeClassifier    75.12       \n"
     ]
    }
   ],
   "source": [
    "# evaluate models with big unseen dataset\n",
    "models = [lr, knn, svc, nb, dt, ada, rf, xgb, cat]\n",
    "# models = [cat]\n",
    "evaluate_test_score(models, X_test_result, X_test_result_scaled, y_test_result, models_to_scale)"
   ]
  },
  {
   "cell_type": "markdown",
   "id": "4ecc8fe7",
   "metadata": {},
   "source": [
    "### Kaggle submission"
   ]
  },
  {
   "cell_type": "markdown",
   "id": "bed56aa8",
   "metadata": {},
   "source": []
  }
 ],
 "metadata": {
  "kernelspec": {
   "display_name": "Python 3 (ipykernel)",
   "language": "python",
   "name": "python3"
  },
  "language_info": {
   "codemirror_mode": {
    "name": "ipython",
    "version": 3
   },
   "file_extension": ".py",
   "mimetype": "text/x-python",
   "name": "python",
   "nbconvert_exporter": "python",
   "pygments_lexer": "ipython3",
   "version": "3.11.5"
  }
 },
 "nbformat": 4,
 "nbformat_minor": 5
}
