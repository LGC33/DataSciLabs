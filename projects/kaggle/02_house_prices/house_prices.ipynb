{
 "cells": [
  {
   "cell_type": "markdown",
   "id": "b2bdd172",
   "metadata": {},
   "source": [
    "# House Prices - Advanced Regression Techniques\n",
    "*Predict sales prices and practice feature engineering, RFs, and gradient boosting*"
   ]
  },
  {
   "cell_type": "code",
   "execution_count": 1027,
   "id": "1b8fd1e7-2a7f-48ea-9bf0-2e4aa8d36cde",
   "metadata": {},
   "outputs": [],
   "source": [
    "import numpy as np\n",
    "import pandas as pd\n",
    "import seaborn as sns\n",
    "import matplotlib.pyplot as plt\n",
    "from enum import Enum\n",
    "\n",
    "# Set the aesthetics for the plots\n",
    "sns.set(style=\"whitegrid\", palette=\"muted\")\n",
    "\n",
    "RANDOM_STATE = 101\n",
    "\n",
    "\n",
    "class ScalerType(Enum):\n",
    "    STANDARD = \"standard\"\n",
    "    ROBUST = \"robust\""
   ]
  },
  {
   "cell_type": "markdown",
   "id": "822bbff9",
   "metadata": {},
   "source": [
    "### Data collection"
   ]
  },
  {
   "cell_type": "code",
   "execution_count": 1028,
   "id": "4dffafdf",
   "metadata": {},
   "outputs": [
    {
     "data": {
      "text/html": [
       "<div>\n",
       "<style scoped>\n",
       "    .dataframe tbody tr th:only-of-type {\n",
       "        vertical-align: middle;\n",
       "    }\n",
       "\n",
       "    .dataframe tbody tr th {\n",
       "        vertical-align: top;\n",
       "    }\n",
       "\n",
       "    .dataframe thead th {\n",
       "        text-align: right;\n",
       "    }\n",
       "</style>\n",
       "<table border=\"1\" class=\"dataframe\">\n",
       "  <thead>\n",
       "    <tr style=\"text-align: right;\">\n",
       "      <th></th>\n",
       "      <th>Id</th>\n",
       "      <th>MSSubClass</th>\n",
       "      <th>MSZoning</th>\n",
       "      <th>LotFrontage</th>\n",
       "      <th>LotArea</th>\n",
       "      <th>Street</th>\n",
       "      <th>Alley</th>\n",
       "      <th>LotShape</th>\n",
       "      <th>LandContour</th>\n",
       "      <th>Utilities</th>\n",
       "      <th>...</th>\n",
       "      <th>PoolArea</th>\n",
       "      <th>PoolQC</th>\n",
       "      <th>Fence</th>\n",
       "      <th>MiscFeature</th>\n",
       "      <th>MiscVal</th>\n",
       "      <th>MoSold</th>\n",
       "      <th>YrSold</th>\n",
       "      <th>SaleType</th>\n",
       "      <th>SaleCondition</th>\n",
       "      <th>SalePrice</th>\n",
       "    </tr>\n",
       "  </thead>\n",
       "  <tbody>\n",
       "    <tr>\n",
       "      <th>0</th>\n",
       "      <td>1</td>\n",
       "      <td>60</td>\n",
       "      <td>RL</td>\n",
       "      <td>65.0</td>\n",
       "      <td>8450</td>\n",
       "      <td>Pave</td>\n",
       "      <td>NaN</td>\n",
       "      <td>Reg</td>\n",
       "      <td>Lvl</td>\n",
       "      <td>AllPub</td>\n",
       "      <td>...</td>\n",
       "      <td>0</td>\n",
       "      <td>NaN</td>\n",
       "      <td>NaN</td>\n",
       "      <td>NaN</td>\n",
       "      <td>0</td>\n",
       "      <td>2</td>\n",
       "      <td>2008</td>\n",
       "      <td>WD</td>\n",
       "      <td>Normal</td>\n",
       "      <td>208500</td>\n",
       "    </tr>\n",
       "    <tr>\n",
       "      <th>1</th>\n",
       "      <td>2</td>\n",
       "      <td>20</td>\n",
       "      <td>RL</td>\n",
       "      <td>80.0</td>\n",
       "      <td>9600</td>\n",
       "      <td>Pave</td>\n",
       "      <td>NaN</td>\n",
       "      <td>Reg</td>\n",
       "      <td>Lvl</td>\n",
       "      <td>AllPub</td>\n",
       "      <td>...</td>\n",
       "      <td>0</td>\n",
       "      <td>NaN</td>\n",
       "      <td>NaN</td>\n",
       "      <td>NaN</td>\n",
       "      <td>0</td>\n",
       "      <td>5</td>\n",
       "      <td>2007</td>\n",
       "      <td>WD</td>\n",
       "      <td>Normal</td>\n",
       "      <td>181500</td>\n",
       "    </tr>\n",
       "    <tr>\n",
       "      <th>1458</th>\n",
       "      <td>1459</td>\n",
       "      <td>20</td>\n",
       "      <td>RL</td>\n",
       "      <td>68.0</td>\n",
       "      <td>9717</td>\n",
       "      <td>Pave</td>\n",
       "      <td>NaN</td>\n",
       "      <td>Reg</td>\n",
       "      <td>Lvl</td>\n",
       "      <td>AllPub</td>\n",
       "      <td>...</td>\n",
       "      <td>0</td>\n",
       "      <td>NaN</td>\n",
       "      <td>NaN</td>\n",
       "      <td>NaN</td>\n",
       "      <td>0</td>\n",
       "      <td>4</td>\n",
       "      <td>2010</td>\n",
       "      <td>WD</td>\n",
       "      <td>Normal</td>\n",
       "      <td>142125</td>\n",
       "    </tr>\n",
       "    <tr>\n",
       "      <th>1459</th>\n",
       "      <td>1460</td>\n",
       "      <td>20</td>\n",
       "      <td>RL</td>\n",
       "      <td>75.0</td>\n",
       "      <td>9937</td>\n",
       "      <td>Pave</td>\n",
       "      <td>NaN</td>\n",
       "      <td>Reg</td>\n",
       "      <td>Lvl</td>\n",
       "      <td>AllPub</td>\n",
       "      <td>...</td>\n",
       "      <td>0</td>\n",
       "      <td>NaN</td>\n",
       "      <td>NaN</td>\n",
       "      <td>NaN</td>\n",
       "      <td>0</td>\n",
       "      <td>6</td>\n",
       "      <td>2008</td>\n",
       "      <td>WD</td>\n",
       "      <td>Normal</td>\n",
       "      <td>147500</td>\n",
       "    </tr>\n",
       "  </tbody>\n",
       "</table>\n",
       "<p>4 rows × 81 columns</p>\n",
       "</div>"
      ],
      "text/plain": [
       "        Id  MSSubClass MSZoning  LotFrontage  LotArea Street Alley LotShape  \\\n",
       "0        1          60       RL         65.0     8450   Pave   NaN      Reg   \n",
       "1        2          20       RL         80.0     9600   Pave   NaN      Reg   \n",
       "1458  1459          20       RL         68.0     9717   Pave   NaN      Reg   \n",
       "1459  1460          20       RL         75.0     9937   Pave   NaN      Reg   \n",
       "\n",
       "     LandContour Utilities  ... PoolArea PoolQC Fence MiscFeature MiscVal  \\\n",
       "0            Lvl    AllPub  ...        0    NaN   NaN         NaN       0   \n",
       "1            Lvl    AllPub  ...        0    NaN   NaN         NaN       0   \n",
       "1458         Lvl    AllPub  ...        0    NaN   NaN         NaN       0   \n",
       "1459         Lvl    AllPub  ...        0    NaN   NaN         NaN       0   \n",
       "\n",
       "     MoSold YrSold  SaleType  SaleCondition  SalePrice  \n",
       "0         2   2008        WD         Normal     208500  \n",
       "1         5   2007        WD         Normal     181500  \n",
       "1458      4   2010        WD         Normal     142125  \n",
       "1459      6   2008        WD         Normal     147500  \n",
       "\n",
       "[4 rows x 81 columns]"
      ]
     },
     "execution_count": 1028,
     "metadata": {},
     "output_type": "execute_result"
    }
   ],
   "source": [
    "df_train = pd.read_csv(\"./data/train.csv\")\n",
    "pd.concat([df_train.head(2), df_train.tail(2)])"
   ]
  },
  {
   "cell_type": "markdown",
   "id": "5885f975",
   "metadata": {},
   "source": [
    "### EDA"
   ]
  },
  {
   "cell_type": "code",
   "execution_count": 1029,
   "id": "710ba6dc",
   "metadata": {},
   "outputs": [
    {
     "data": {
      "text/plain": [
       "(1460, 81)"
      ]
     },
     "execution_count": 1029,
     "metadata": {},
     "output_type": "execute_result"
    }
   ],
   "source": [
    "df_train.shape"
   ]
  },
  {
   "cell_type": "code",
   "execution_count": 1030,
   "id": "f177a227",
   "metadata": {},
   "outputs": [
    {
     "name": "stdout",
     "output_type": "stream",
     "text": [
      "              # missing  % missing\n",
      "PoolQC             1453      99.52\n",
      "MiscFeature        1406      96.30\n",
      "Alley              1369      93.77\n",
      "Fence              1179      80.75\n",
      "MasVnrType          872      59.73\n",
      "FireplaceQu         690      47.26\n",
      "LotFrontage         259      17.74\n",
      "GarageYrBlt          81       5.55\n",
      "GarageCond           81       5.55\n",
      "GarageType           81       5.55\n",
      "GarageFinish         81       5.55\n",
      "GarageQual           81       5.55\n",
      "BsmtFinType2         38       2.60\n",
      "BsmtExposure         38       2.60\n",
      "BsmtQual             37       2.53\n",
      "BsmtCond             37       2.53\n",
      "BsmtFinType1         37       2.53\n",
      "MasVnrArea            8       0.55\n",
      "Electrical            1       0.07\n"
     ]
    }
   ],
   "source": [
    "def show_missing_data(df):\n",
    "    \"\"\"\n",
    "    Display number and percentage of columns with any missing value\n",
    "    \"\"\"\n",
    "    total = df.isnull().sum().sort_values(ascending=False)\n",
    "    percent = (\n",
    "        ((df.isnull().sum() / df.isnull().count()) * 100)\n",
    "        .sort_values(ascending=False)\n",
    "        .round(2)\n",
    "    )\n",
    "    missing_data = pd.concat([total, percent], axis=1, keys=[\"# missing\", \"% missing\"])\n",
    "    print(missing_data[missing_data[\"# missing\"] > 0])\n",
    "\n",
    "\n",
    "show_missing_data(df_train)"
   ]
  },
  {
   "cell_type": "markdown",
   "id": "c4ac66bc",
   "metadata": {},
   "source": [
    "- `PoolQC`=NA means no pool\n",
    "- `MiscFeature`=NA means there are no extra features (e.g.: Elevator, Tennis Court..)\n",
    "- `Alley`=NA means no alley access\n",
    "- `Fence`=NA means no fence\n",
    "- `MasVnrType`=NA means None\n",
    "- `FireplaceQu`=NA means no Fireplace"
   ]
  },
  {
   "cell_type": "code",
   "execution_count": 1031,
   "id": "aac86309",
   "metadata": {},
   "outputs": [
    {
     "data": {
      "text/plain": [
       "<Figure size 1000x1000 with 0 Axes>"
      ]
     },
     "metadata": {},
     "output_type": "display_data"
    },
    {
     "data": {
      "image/png": "[encoded data removed]",
      "text/plain": [
       "<Figure size 600x300 with 1 Axes>"
      ]
     },
     "metadata": {},
     "output_type": "display_data"
    }
   ],
   "source": [
    "plt.figure(figsize=(10, 10))\n",
    "sns.displot(df_train[\"SalePrice\"] / 100000, bins=40, kde=True, height=3, aspect=2)\n",
    "plt.xticks(ticks=[i for i in range(0, 8)], labels=[f\"{i}00K\" for i in range(0, 8)])\n",
    "plt.show()"
   ]
  },
  {
   "cell_type": "markdown",
   "id": "c97787a5",
   "metadata": {},
   "source": [
    "☝🏻 Careful -> skewed distribution of price\n",
    "\n",
    "- In statistical analysis, a non-skewed distribution is typically a normal distribution, which resembles a bell curve when graphed. This means it's symmetric, with most of the observations clustering around the central peak and the probabilities for values further away from the mean tapering off equally in both directions.\n",
    "\n",
    "- If we don't apply a log transformation to SalePrice when it's skewed, your model may not perform as well, especially if it assumes that the residuals (errors) are normally distributed, as many linear models do. Applying a log transformation can help stabilize the variance across the data range and make the data conform more closely to the assumptions of parametric statistical tests, leading to more reliable statistical inference and potentially better model performance. If a log transformation is applied, the distribution should look more like a normal distribution, with fewer outliers and a more symmetric shape.\n",
    "\n",
    "- When should log **NOT** be applied to the target variable?\n",
    "  - The distribution of the target variable is already close to normal. Log transformation in such cases might lead to a worse fit.\n",
    "  - The model you're using is robust to non-normality, like tree-based models (e.g., decision trees, random forests).\n",
    "  - The range of the target variable is narrow with low variance, so the proportional differences are minimal.\n",
    "  - You have a binary or categorical target variable. In classification problems, log transformation is not applicable.\n",
    "  - The relationship between predictors and the target is linear, and there are no signs of heteroscedasticity (uneven spread of residuals)."
   ]
  },
  {
   "cell_type": "markdown",
   "id": "1a58f0ec",
   "metadata": {},
   "source": [
    "### Data cleaning & Preprocessing"
   ]
  },
  {
   "cell_type": "code",
   "execution_count": 1032,
   "id": "bf8059dd",
   "metadata": {},
   "outputs": [],
   "source": [
    "# TODO: apply all this transformations for train & test datasets, and then split again\n",
    "# TODO: make boxcox run! (maybe just for a few ft.?)\n",
    "# TODO: use other regression models\n",
    "# TODO: try with AmesHousing.csv!!!\n",
    "\n",
    "# remove features with very low variance\n",
    "df_train.drop([\"Street\", \"Utilities\", \"PoolQC\"], axis=1, inplace=True)\n",
    "\n",
    "# convert numerical (but actually categorical) features to str\n",
    "df_train[[\"MSSubClass\", \"YrSold\", \"MoSold\"]] = df_train[\n",
    "    [\"MSSubClass\", \"YrSold\", \"MoSold\"]\n",
    "].astype(str)\n",
    "\n",
    "# fill NA with default values\n",
    "df_train[\"Fence\"] = df_train[\"Fence\"].fillna(\"NoFence\")\n",
    "df_train[\"Alley\"] = df_train[\"Alley\"].fillna(\"NoAlleyAccess\")\n",
    "df_train[\"MiscFeature\"] = df_train[\"MiscFeature\"].fillna(\"None\")\n",
    "df_train[\"MasVnrType\"] = df_train[\"MasVnrType\"].fillna(\"None\")\n",
    "df_train[\"MasVnrArea\"] = df_train[\"MasVnrArea\"].fillna(0)\n",
    "df_train[\"FireplaceQu\"] = df_train[\"FireplaceQu\"].fillna(\"NoFireplace\")\n",
    "\n",
    "# fill NA for garage\n",
    "df_train[\"GarageYrBlt\"] = df_train[\"GarageYrBlt\"].fillna(df_train[\"YearBuilt\"])\n",
    "garage_columns = [\"GarageType\", \"GarageFinish\", \"GarageQual\", \"GarageCond\"]\n",
    "df_train[garage_columns] = df_train[garage_columns].fillna(\"NoGarage\")\n",
    "\n",
    "# fill NA for basement\n",
    "for col in (\"BsmtQual\", \"BsmtCond\", \"BsmtExposure\", \"BsmtFinType1\", \"BsmtFinType2\"):\n",
    "    df_train[col] = df_train[col].fillna(\"None\")\n",
    "\n",
    "# fill NA based on most frequent values\n",
    "# (Mean is sensitive to outliers, whereas median is more robust)\n",
    "df_train[\"Electrical\"] = df_train[\"Electrical\"].fillna(df_train[\"Electrical\"].mode()[0])\n",
    "df_train[\"LotFrontage\"] = df_train.groupby(\"Neighborhood\")[\"LotFrontage\"].transform(\n",
    "    lambda x: x.fillna(x.median())\n",
    ")\n",
    "\n",
    "# remove outliers (no clue why, but worth investigating..)\n",
    "df_train = df_train.drop(index=[30, 88, 462, 631, 1322, 523, 691, 1182, 1298])\n",
    "df_train = df_train[df_train.GrLivArea < 4500].reset_index(drop=True)"
   ]
  },
  {
   "cell_type": "code",
   "execution_count": 1033,
   "id": "67cea058",
   "metadata": {},
   "outputs": [
    {
     "name": "stdout",
     "output_type": "stream",
     "text": [
      "Empty DataFrame\n",
      "Columns: [# missing, % missing]\n",
      "Index: []\n"
     ]
    }
   ],
   "source": [
    "show_missing_data(df_train)"
   ]
  },
  {
   "cell_type": "code",
   "execution_count": 1034,
   "id": "9a6868de",
   "metadata": {},
   "outputs": [],
   "source": [
    "df_train.drop(\"Id\", axis=1, inplace=True)"
   ]
  },
  {
   "cell_type": "markdown",
   "id": "d291f9b2",
   "metadata": {},
   "source": [
    "### Feature Engineering"
   ]
  },
  {
   "cell_type": "code",
   "execution_count": 1035,
   "id": "fd408afb",
   "metadata": {},
   "outputs": [],
   "source": [
    "# combined effect of the age of the house and the recency of any remodeling:\n",
    "# recently remodeled older house could be more valuable than an old house that\n",
    "# hasn't been updated\n",
    "df_train[\"YrBltAndRemod\"] = df_train[\"YearBuilt\"] + df_train[\"YearRemodAdd\"]\n",
    "\n",
    "# total square footage of the house might be better indicator than individual\n",
    "# measurements, as it gives a holistic view of the size of the house.\n",
    "df_train[\"TotalSF\"] = (\n",
    "    df_train[\"TotalBsmtSF\"] + df_train[\"1stFlrSF\"] + df_train[\"2ndFlrSF\"]\n",
    ")\n",
    "\n",
    "# same as above for total ^2 footage across different levels of the house.\n",
    "df_train[\"Total_sqr_footage\"] = (\n",
    "    df_train[\"BsmtFinSF1\"]\n",
    "    + df_train[\"BsmtFinSF2\"]\n",
    "    + df_train[\"1stFlrSF\"]\n",
    "    + df_train[\"2ndFlrSF\"]\n",
    ")\n",
    "\n",
    "# aggregates all types of bathrooms: full baths (with a shower or bathtub) are\n",
    "# generally more valuable than half baths.\n",
    "df_train[\"Total_Bathrooms\"] = (\n",
    "    df_train[\"FullBath\"]\n",
    "    + (0.5 * df_train[\"HalfBath\"])\n",
    "    + df_train[\"BsmtFullBath\"]\n",
    "    + (0.5 * df_train[\"BsmtHalfBath\"])\n",
    ")\n",
    "\n",
    "# combines all types of porches and decks to give an overall measure of the outdoor\n",
    "# living space: Outdoor spaces can add significant value to a property.\n",
    "df_train[\"Total_porch_sf\"] = (\n",
    "    df_train[\"OpenPorchSF\"]\n",
    "    + df_train[\"3SsnPorch\"]\n",
    "    + df_train[\"EnclosedPorch\"]\n",
    "    + df_train[\"ScreenPorch\"]\n",
    "    + df_train[\"WoodDeckSF\"]\n",
    ")"
   ]
  },
  {
   "cell_type": "code",
   "execution_count": 1036,
   "id": "15d0108f",
   "metadata": {},
   "outputs": [],
   "source": [
    "# ℹ️ dimensionality reduction: removing the original features and keeping only\n",
    "# the new ones improve the scores.\n",
    "df_train.drop(\n",
    "    [\n",
    "        \"YearBuilt\",\n",
    "        \"YearRemodAdd\",\n",
    "        \"1stFlrSF\",\n",
    "        \"2ndFlrSF\",\n",
    "        \"BsmtFinSF1\",\n",
    "        \"BsmtFinSF2\",\n",
    "        \"FullBath\",\n",
    "        \"HalfBath\",\n",
    "        \"BsmtFullBath\",\n",
    "        \"BsmtHalfBath\",\n",
    "        \"OpenPorchSF\",\n",
    "        \"3SsnPorch\",\n",
    "        \"EnclosedPorch\",\n",
    "        \"ScreenPorch\",\n",
    "        \"WoodDeckSF\",\n",
    "    ],\n",
    "    axis=1,\n",
    "    inplace=True,\n",
    ")"
   ]
  },
  {
   "cell_type": "markdown",
   "id": "fe33ef1a",
   "metadata": {},
   "source": [
    "### Encoding categorical data"
   ]
  },
  {
   "cell_type": "code",
   "execution_count": 1037,
   "id": "8d092586",
   "metadata": {},
   "outputs": [],
   "source": [
    "# List of columns to encode\n",
    "columns_to_encode = df_train.select_dtypes(\n",
    "    include=[\"object\", \"category\"]\n",
    ").columns.tolist()\n",
    "encoded_df_train = pd.get_dummies(df_train, columns=columns_to_encode, drop_first=True)"
   ]
  },
  {
   "cell_type": "markdown",
   "id": "644e1e3a",
   "metadata": {},
   "source": [
    "### Split dataset into Train/Test data"
   ]
  },
  {
   "cell_type": "code",
   "execution_count": 1038,
   "id": "83b08510",
   "metadata": {},
   "outputs": [],
   "source": [
    "from sklearn.preprocessing import StandardScaler, RobustScaler\n",
    "\n",
    "\n",
    "def scale_features(df: any, scaler_type: ScalerType):\n",
    "    scaler = RobustScaler() if scaler_type == ScalerType.ROBUST else StandardScaler()\n",
    "    numerical_cols = df.select_dtypes(\n",
    "        include=[\"int16\", \"int32\", \"int64\", \"float16\", \"float32\", \"float64\"]\n",
    "    ).columns\n",
    "    X_scaled = df.copy()\n",
    "    X_scaled[numerical_cols] = scaler.fit_transform(df[numerical_cols])\n",
    "    return X_scaled"
   ]
  },
  {
   "cell_type": "code",
   "execution_count": 1039,
   "id": "a6aeecfb",
   "metadata": {},
   "outputs": [],
   "source": [
    "from sklearn.model_selection import train_test_split\n",
    "\n",
    "X = encoded_df_train.drop(\"SalePrice\", axis=1)\n",
    "# X = apply_yeojohnson(df_train.drop(\"SalePrice\", axis=1))\n",
    "X = scale_features(X, ScalerType.ROBUST)\n",
    "\n",
    "y = encoded_df_train[\"SalePrice\"]\n",
    "\n",
    "# Applying log transformation\n",
    "y_log = np.log1p(encoded_df_train[\"SalePrice\"])\n",
    "\n",
    "X_train, X_test, y_train, y_test = train_test_split(\n",
    "    X, y_log, test_size=0.2, random_state=RANDOM_STATE\n",
    ")"
   ]
  },
  {
   "cell_type": "markdown",
   "id": "0b2e601c",
   "metadata": {},
   "source": [
    "☝🏻 Robust scaler performs better than standard"
   ]
  },
  {
   "cell_type": "markdown",
   "id": "5b8e9ab8",
   "metadata": {},
   "source": [
    "### Regression Models"
   ]
  },
  {
   "cell_type": "code",
   "execution_count": 1040,
   "id": "350311ad",
   "metadata": {},
   "outputs": [],
   "source": [
    "from xgboost import XGBRegressor\n",
    "\n",
    "\n",
    "def fit_xgb_regressor(\n",
    "    colsample_bytree=1,\n",
    "    gamma=0,\n",
    "    learning_rate=0.3,\n",
    "    max_depth=6,\n",
    "    min_child_weight=1,\n",
    "    n_estimators=100,\n",
    "    objective=\"reg:squarederror\",\n",
    "    reg_alpha=0,\n",
    "    scale_pos_weight=1,\n",
    "    subsample=1,\n",
    "):\n",
    "    xgb = XGBRegressor(\n",
    "        learning_rate=learning_rate,\n",
    "        n_estimators=n_estimators,\n",
    "        max_depth=max_depth,\n",
    "        min_child_weight=min_child_weight,\n",
    "        gamma=gamma,\n",
    "        subsample=subsample,\n",
    "        colsample_bytree=colsample_bytree,\n",
    "        objective=objective,\n",
    "        nthread=-1,\n",
    "        scale_pos_weight=scale_pos_weight,\n",
    "        seed=RANDOM_STATE,\n",
    "        reg_alpha=reg_alpha,\n",
    "    )\n",
    "    xgb.fit(X_train, y_train)\n",
    "    return xgb"
   ]
  },
  {
   "cell_type": "code",
   "execution_count": 1041,
   "id": "94c6de30",
   "metadata": {},
   "outputs": [],
   "source": [
    "from sklearn.linear_model import Ridge\n",
    "\n",
    "\n",
    "def fit_ridge_regressor(\n",
    "    alpha=1.0,\n",
    "    fit_intercept=True,\n",
    "    max_iter=None,\n",
    "    tol=0.0001,\n",
    "):\n",
    "    ridge = Ridge(\n",
    "        alpha=alpha,\n",
    "        fit_intercept=fit_intercept,\n",
    "        copy_X=True,\n",
    "        max_iter=max_iter,\n",
    "        tol=tol,\n",
    "        random_state=RANDOM_STATE,\n",
    "    )\n",
    "    ridge.fit(X_train, y_train)\n",
    "    return ridge"
   ]
  },
  {
   "cell_type": "code",
   "execution_count": 1042,
   "id": "c5ddce1e",
   "metadata": {},
   "outputs": [],
   "source": [
    "from sklearn.linear_model import Lasso\n",
    "\n",
    "\n",
    "def fit_lasso_regressor(\n",
    "    alpha=1.0,\n",
    "    fit_intercept=True,\n",
    "    max_iter=1000,\n",
    "    positive=False,\n",
    "    precompute=False,\n",
    "    selection=\"cyclic\",\n",
    "    tol=0.0001,\n",
    "    warm_start=False,\n",
    "):\n",
    "    lasso = Lasso(\n",
    "        alpha=alpha,\n",
    "        fit_intercept=fit_intercept,\n",
    "        precompute=precompute,\n",
    "        copy_X=True,\n",
    "        max_iter=max_iter,\n",
    "        tol=tol,\n",
    "        warm_start=warm_start,\n",
    "        positive=positive,\n",
    "        random_state=RANDOM_STATE,\n",
    "        selection=selection,\n",
    "    )\n",
    "    lasso.fit(X_train, y_train)\n",
    "    return lasso"
   ]
  },
  {
   "cell_type": "markdown",
   "id": "90a6504e",
   "metadata": {},
   "source": [
    "### Fit Models"
   ]
  },
  {
   "cell_type": "code",
   "execution_count": 1043,
   "id": "c81ed7a8",
   "metadata": {},
   "outputs": [],
   "source": [
    "# train regressors with default values\n",
    "xgb = fit_xgb_regressor()\n",
    "ridge = fit_ridge_regressor()\n",
    "lasso = fit_lasso_regressor()"
   ]
  },
  {
   "cell_type": "markdown",
   "id": "eab0bfee",
   "metadata": {},
   "source": [
    "### Evaluation Functions"
   ]
  },
  {
   "cell_type": "code",
   "execution_count": 1044,
   "id": "4c0ad97a",
   "metadata": {},
   "outputs": [],
   "source": [
    "from sklearn.model_selection import KFold, cross_val_score\n",
    "from sklearn.metrics import mean_squared_error, mean_absolute_error, r2_score\n",
    "\n",
    "\n",
    "def evaluate_models(regressors, cv=10):\n",
    "    results = []\n",
    "    kfolds = KFold(n_splits=cv, shuffle=True, random_state=RANDOM_STATE)\n",
    "    for regressor in regressors:\n",
    "        y_pred = regressor.predict(X_test)\n",
    "        r2 = r2_score(y_test, y_pred)\n",
    "        mae = mean_absolute_error(y_test, y_pred)\n",
    "        mse = mean_squared_error(y_test, y_pred)\n",
    "        rmse = np.sqrt(mean_squared_error(y_test, y_pred))\n",
    "        rmse_cv = np.sqrt(\n",
    "            -cross_val_score(\n",
    "                regressor, X, y_log, scoring=\"neg_mean_squared_error\", cv=kfolds\n",
    "            )\n",
    "        )\n",
    "        results.append(\n",
    "            {\n",
    "                \"Model\": type(regressor).__name__,\n",
    "                \"MAE\": mae,\n",
    "                \"MSE\": mse,\n",
    "                \"RMSE\": rmse,\n",
    "                \"RMSEcv\": rmse_cv.mean(),\n",
    "                \"R^2\": r2,\n",
    "            }\n",
    "        )\n",
    "    sorted_results = sorted(results, key=lambda x: x[\"RMSEcv\"], reverse=False)\n",
    "    print(f\"{'Model':<25} {'RMSEcv':<11} {'RMSE':<11} {'MAE':<8} {'MSE':<8} {'R^2':<8}\")\n",
    "    print(\"-\" * 72)\n",
    "    for result in sorted_results:\n",
    "        metrics = f\"{result['RMSEcv']:<11.5f} {result['RMSE']:<11.5f} \"\n",
    "        metrics += f\"{result['MAE']:<8.2f} {result['MSE']:<8.2f} {result['R^2']:<8.2f}\"\n",
    "        print(f\"{result['Model']:<25} {metrics}\")"
   ]
  },
  {
   "cell_type": "code",
   "execution_count": 1045,
   "id": "795c9a75",
   "metadata": {},
   "outputs": [],
   "source": [
    "from sklearn.model_selection import learning_curve\n",
    "import numpy as np\n",
    "import matplotlib.pyplot as plt\n",
    "import seaborn as sns\n",
    "\n",
    "\n",
    "def plot_learning_curve(\n",
    "    estimator,\n",
    "    X= X,\n",
    "    y = y_log,\n",
    "    cv=5,\n",
    "    n_jobs=-1,\n",
    "    train_sizes=np.linspace(0.1, 1.0, 5),\n",
    "    fig_size=(6, 4),\n",
    "):\n",
    "    plt.figure(figsize=fig_size)\n",
    "    train_sizes, train_scores, test_scores = learning_curve(\n",
    "        estimator,\n",
    "        X,\n",
    "        y,\n",
    "        cv=cv,\n",
    "        scoring=\"neg_mean_squared_error\",\n",
    "        n_jobs=n_jobs,\n",
    "        train_sizes=train_sizes,\n",
    "    )\n",
    "\n",
    "    # Take the negative of the scores because 'neg_mean_squared_error' is used\n",
    "    train_scores_mean = np.sqrt(-np.mean(train_scores, axis=1))\n",
    "    test_scores_mean = np.sqrt(-np.mean(test_scores, axis=1))\n",
    "\n",
    "    sns.lineplot(x=train_sizes, y=train_scores_mean, label=\"Training score\")\n",
    "    sns.lineplot(x=train_sizes, y=test_scores_mean, label=\"Cross-validation score\")\n",
    "\n",
    "    plt.title(f\"Learning Curve (RMSE) - {type(estimator).__name__}\")\n",
    "    plt.xlabel(\"Training examples\")\n",
    "    plt.ylabel(\"RMSE\")\n",
    "    plt.legend()\n",
    "    plt.show()"
   ]
  },
  {
   "cell_type": "code",
   "execution_count": 1046,
   "id": "11c5bd7a",
   "metadata": {},
   "outputs": [],
   "source": [
    "from sklearn.model_selection import GridSearchCV\n",
    "\n",
    "\n",
    "def evaluate_model_grid_search_cv(\n",
    "    regressor,\n",
    "    X_train,\n",
    "    y_train,\n",
    "    params,\n",
    "    cv=10,\n",
    "    scoring=\"neg_mean_squared_error\",\n",
    "    n_jobs=-1,\n",
    "):\n",
    "    grid_search = GridSearchCV(\n",
    "        estimator=regressor, param_grid=params, scoring=scoring, cv=cv, n_jobs=n_jobs\n",
    "    )\n",
    "    grid_search.fit(X=X_train, y=y_train)\n",
    "    best_score = np.sqrt(-grid_search.best_score_)\n",
    "    best_params = grid_search.best_params_\n",
    "    print(f\"Model: {type(regressor).__name__}\")\n",
    "    print(f\" - Best RMSE: {best_score}\")\n",
    "    print(f\" - Best params: {best_params}\")"
   ]
  },
  {
   "cell_type": "markdown",
   "id": "801ca983",
   "metadata": {},
   "source": [
    "### Evaluate Models"
   ]
  },
  {
   "cell_type": "code",
   "execution_count": 1047,
   "id": "636d5c79",
   "metadata": {},
   "outputs": [
    {
     "name": "stdout",
     "output_type": "stream",
     "text": [
      "Model                     RMSEcv      RMSE        MAE      MSE      R^2     \n",
      "------------------------------------------------------------------------\n",
      "Ridge                     0.12758     0.11588     0.08     0.01     0.92    \n",
      "XGBRegressor              0.13629     0.12362     0.09     0.02     0.91    \n",
      "Lasso                     0.40589     0.41668     0.33     0.17     -0.00   \n"
     ]
    }
   ],
   "source": [
    "models = [xgb, ridge, lasso]\n",
    "evaluate_models(models, 2)"
   ]
  },
  {
   "cell_type": "code",
   "execution_count": 1048,
   "id": "275eda84",
   "metadata": {},
   "outputs": [],
   "source": [
    "# plot_learning_curve(xgb)"
   ]
  },
  {
   "cell_type": "markdown",
   "id": "7ea84e49",
   "metadata": {},
   "source": [
    "### Tune Models"
   ]
  },
  {
   "cell_type": "markdown",
   "id": "9ee0baf1",
   "metadata": {},
   "source": [
    "### XGB"
   ]
  },
  {
   "cell_type": "code",
   "execution_count": 1049,
   "id": "0d18f400",
   "metadata": {},
   "outputs": [],
   "source": [
    "# params = {\n",
    "#     \"colsample_bytree\": [0.7],\n",
    "#     \"gamma\": [0],\n",
    "#     \"learning_rate\": [0.01, 0.05],\n",
    "#     \"max_depth\": [2, 3],\n",
    "#     \"min_child_weight\": [0],\n",
    "#     \"n_estimators\": [2500, 3460],\n",
    "#     \"objective\": [\"reg:squarederror\"],\n",
    "#     \"reg_alpha\": [0.00006],\n",
    "#     \"scale_pos_weight\": [1],\n",
    "#     \"subsample\": [0.7, 0.8],\n",
    "# }\n",
    "\n",
    "# evaluate_model_grid_search_cv(xgb, X_train, y_train, params, 5)"
   ]
  },
  {
   "cell_type": "code",
   "execution_count": 1050,
   "id": "fc5dba7e",
   "metadata": {},
   "outputs": [],
   "source": [
    "# xgb = fit_xgb_regressor(\n",
    "#     0.01, 3460, 3, 0, 0, 0.7, 0.7, \"reg:squarederror\", 1, 0.00006\n",
    "# )  # rmse: 0.12\n",
    "xgb = fit_xgb_regressor(\n",
    "    colsample_bytree=0.7,\n",
    "    gamma=0,\n",
    "    learning_rate=0.01,\n",
    "    max_depth=3,\n",
    "    min_child_weight=0,\n",
    "    n_estimators=3460,\n",
    "    objective=\"reg:squarederror\",\n",
    "    reg_alpha=0.00006,\n",
    "    scale_pos_weight=1,\n",
    "    subsample=0.7,\n",
    ")"
   ]
  },
  {
   "cell_type": "markdown",
   "id": "ba6e8381",
   "metadata": {},
   "source": [
    "### Ridge"
   ]
  },
  {
   "cell_type": "code",
   "execution_count": 1051,
   "id": "8828221a",
   "metadata": {},
   "outputs": [
    {
     "name": "stdout",
     "output_type": "stream",
     "text": [
      "Model: Ridge\n",
      " - Best RMSE: 0.11243576448652606\n",
      " - Best params: {'alpha': 13, 'fit_intercept': True, 'max_iter': None, 'tol': 1e-06}\n"
     ]
    }
   ],
   "source": [
    "params = {\n",
    "    \"alpha\": [12.8, 12.9, 13],\n",
    "    \"fit_intercept\": [True, False],\n",
    "    \"max_iter\": [None, 500, 1000, 5000],\n",
    "    \"tol\": [0.000001, 0.0000025, 0.000005, 0.00001, 0.00002],\n",
    "}\n",
    "\n",
    "\n",
    "evaluate_model_grid_search_cv(ridge, X_train, y_train, params, 10)"
   ]
  },
  {
   "cell_type": "code",
   "execution_count": 1052,
   "id": "3a29cb26",
   "metadata": {},
   "outputs": [],
   "source": [
    "ridge = fit_ridge_regressor(\n",
    "    alpha=13,\n",
    "    fit_intercept=True,\n",
    "    max_iter=None,\n",
    "    tol=0.000005,\n",
    ")"
   ]
  },
  {
   "cell_type": "markdown",
   "id": "140fb146",
   "metadata": {},
   "source": [
    "### Lasso"
   ]
  },
  {
   "cell_type": "code",
   "execution_count": 1053,
   "id": "774f3b64",
   "metadata": {},
   "outputs": [],
   "source": [
    "# params = {\n",
    "#     \"alpha\": [0.0001, 0.001], \n",
    "#     \"fit_intercept\": [True, False],\n",
    "#     \"max_iter\": [1000, 2000],\n",
    "#     \"positive\": [False, True],\n",
    "#     \"precompute\": [False, True],\n",
    "#     \"tol\": [0.00001, 0.0001],\n",
    "#     \"selection\": [\"cyclic\", \"random\"],\n",
    "#     \"warm_start\": [False, True],\n",
    "# }\n",
    "\n",
    "\n",
    "# evaluate_model_grid_search_cv(lasso, X_train, y_train, params, 10)"
   ]
  },
  {
   "cell_type": "code",
   "execution_count": 1054,
   "id": "cce4073a",
   "metadata": {},
   "outputs": [],
   "source": [
    "lasso = fit_lasso_regressor(\n",
    "    alpha=0.0001,\n",
    "    fit_intercept=True,\n",
    "    max_iter=7500,\n",
    "    positive=True,\n",
    "    precompute=False,\n",
    "    selection=\"random\",\n",
    "    tol=0.00001,\n",
    "    warm_start=False,\n",
    ")"
   ]
  },
  {
   "cell_type": "code",
   "execution_count": 1055,
   "id": "c89fd444",
   "metadata": {},
   "outputs": [
    {
     "name": "stdout",
     "output_type": "stream",
     "text": [
      "Model                     RMSEcv      RMSE        MAE      MSE      R^2     \n",
      "------------------------------------------------------------------------\n",
      "Lasso                     0.11039     0.11476     0.08     0.01     0.92    \n",
      "Ridge                     0.11063     0.10800     0.08     0.01     0.93    \n",
      "XGBRegressor              0.11092     0.10544     0.08     0.01     0.94    \n"
     ]
    }
   ],
   "source": [
    "models = [xgb, ridge, lasso]\n",
    "evaluate_models(models, 10)\n",
    "\n"
   ]
  },
  {
   "cell_type": "markdown",
   "id": "96e55654",
   "metadata": {},
   "source": [
    "without removing original features after adding the new ones\n",
    "\n",
    "Model                     RMSEcv      RMSE        MAE      MSE      R^2     \n",
    "------------------------------------------------------------------------\n",
    "Lasso                     0.11043     0.11350     0.08     0.01     0.93    \n",
    "Ridge                     0.11091     0.10672     0.08     0.01     0.93    \n",
    "XGBRegressor              0.11198     0.10953     0.08     0.01     0.93  "
   ]
  },
  {
   "cell_type": "code",
   "execution_count": 1056,
   "id": "62592aa2",
   "metadata": {},
   "outputs": [
    {
     "data": {
      "image/png": "[encoded data removed]",
      "text/plain": [
       "<Figure size 600x400 with 1 Axes>"
      ]
     },
     "metadata": {},
     "output_type": "display_data"
    }
   ],
   "source": [
    "plot_learning_curve(lasso)"
   ]
  },
  {
   "cell_type": "code",
   "execution_count": null,
   "id": "4cecb4ad",
   "metadata": {},
   "outputs": [],
   "source": []
  },
  {
   "cell_type": "markdown",
   "id": "79576c80",
   "metadata": {},
   "source": []
  },
  {
   "cell_type": "markdown",
   "id": "bb170f3f",
   "metadata": {},
   "source": []
  },
  {
   "cell_type": "code",
   "execution_count": 1057,
   "id": "3a16f605",
   "metadata": {},
   "outputs": [],
   "source": [
    "from scipy.stats import skew, boxcox_normmax\n",
    "from scipy.special import boxcox1p\n",
    "\n",
    "def apply_boxcox(df):\n",
    "    \"\"\"\n",
    "    Apply Box-Cox transformation to numerical features with skewness > 0.5 \n",
    "    \"\"\"\n",
    "    # Assuming 'features' is your DataFrame\n",
    "    numeric_dtypes = ['int16', 'int32', 'int64', 'float16', 'float32', 'float64']\n",
    "    numerics = [feature for feature in df.columns if df[feature].dtype in numeric_dtypes]\n",
    "\n",
    "    # Calculate skewness and select highly skewed features\n",
    "    skewness = df[numerics].apply(lambda x: skew(x.dropna()))\n",
    "    high_skewness = skewness[abs(skewness) > 0.5]\n",
    "    high_skew_features = high_skewness.index\n",
    "\n",
    "    # Apply Box-Cox transformation to highly skewed features\n",
    "    for feature in high_skew_features:\n",
    "        # Adding 1 to the feature values to ensure positivity as boxcox1p requires positive values\n",
    "        df[feature] = boxcox1p(df[feature], boxcox_normmax(df[feature] + 1))"
   ]
  },
  {
   "cell_type": "markdown",
   "id": "d1cb41dc",
   "metadata": {},
   "source": []
  },
  {
   "cell_type": "markdown",
   "id": "16a39da8",
   "metadata": {},
   "source": []
  },
  {
   "cell_type": "markdown",
   "id": "628305c3",
   "metadata": {},
   "source": [
    "`RobustScaler` and Box-Cox transformation are not equivalent; they are different methods used for different purposes in data preprocessing:\n",
    "\n",
    "1. **RobustScaler**:\n",
    "   - Purpose: `RobustScaler` is used for scaling features to a similar range. It's especially useful when you have outliers in your dataset because it uses the median and the interquartile range (IQR) for scaling, which are less sensitive to outliers than the mean and standard deviation.\n",
    "   - Operation: It subtracts the median and then divides by the IQR. Specifically, the IQR is the range between the 1st quartile (25th quantile) and the 3rd quartile (75th quantile).\n",
    "   - Formula: \\[ \\text{scaled} \\, x = \\frac{x - \\text{median}(x)}{\\text{IQR}(x)} \\]\n",
    "   - Usage: Common in machine learning pipelines to standardize numerical features, especially for algorithms sensitive to the scale of input features (like linear models, k-NN, SVMs with RBF kernel, etc.).\n",
    "\n",
    "2. **Box-Cox Transformation**:\n",
    "   - Purpose: The Box-Cox transformation is a family of power transformations used to stabilize variance and make the data more closely follow a normal distribution. It's particularly helpful when you have non-normally distributed data or non-constant variance (heteroscedasticity).\n",
    "   - Operation: It transforms a variable to a new value (often closer to a normal distribution). The transformation is defined for positive values only.\n",
    "   - Formula: A parameter λ is found that best normalizes the data. For different λ values, the transformation varies (for example, λ=0 corresponds to a log transformation).\n",
    "   - Usage: Often used in regression and other statistical modeling to meet the assumption of normality or homoscedasticity.\n",
    "\n",
    "### Should You Use Both?\n",
    "\n",
    "- **Depends on Data and Model**: Whether to use one or both depends on your data and the model you are using. If your primary concern is about scaling features in the presence of outliers, `RobustScaler` is appropriate. If your concern is about normalizing data distribution (especially for linear regression models), Box-Cox might be more suitable.\n",
    "- **Not Always Necessary Together**: They serve different purposes, so you don't necessarily need to apply both. In many cases, just one of these transformations (chosen based on your specific data characteristics and modeling needs) is sufficient.\n",
    "- **Model Requirements**: Consider the assumptions and requirements of the models you plan to use. For instance, linear regression models assume normally distributed errors and may benefit more from a Box-Cox transformation, while algorithms like SVM or k-NN might benefit more from `RobustScaler`.\n",
    "\n",
    "### Which One to Use?\n",
    "\n",
    "- If you're dealing with outliers and need to scale your features, go with `RobustScaler`.\n",
    "- If your main concern is about transforming your feature distribution to be more normal-like, especially for linear models, consider Box-Cox transformation.\n",
    "- Always validate your choice with model performance. You can experiment with both and see which one (or the combination) improves your model's performance."
   ]
  },
  {
   "cell_type": "markdown",
   "id": "765723d8",
   "metadata": {},
   "source": []
  }
 ],
 "metadata": {
  "kernelspec": {
   "display_name": "Python 3 (ipykernel)",
   "language": "python",
   "name": "python3"
  },
  "language_info": {
   "codemirror_mode": {
    "name": "ipython",
    "version": 3
   },
   "file_extension": ".py",
   "mimetype": "text/x-python",
   "name": "python",
   "nbconvert_exporter": "python",
   "pygments_lexer": "ipython3",
   "version": "3.11.5"
  }
 },
 "nbformat": 4,
 "nbformat_minor": 5
}
