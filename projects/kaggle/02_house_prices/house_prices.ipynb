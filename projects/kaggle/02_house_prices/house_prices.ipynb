{
 "cells": [
  {
   "cell_type": "markdown",
   "id": "b2bdd172",
   "metadata": {},
   "source": [
    "# House Prices - Advanced Regression Techniques\n",
    "*Predict sales prices and practice feature engineering, RFs, and gradient boosting*"
   ]
  },
  {
   "cell_type": "code",
   "execution_count": 4639,
   "id": "1298fd2e",
   "metadata": {},
   "outputs": [],
   "source": [
    "# TODO: apply all this transformations for train & test datasets, and then split again\n",
    "# TODO: make boxcox run! (maybe just for a few ft.?)\n",
    "# TODO: reduce overfitting on GradientBoostingRegressor (after testing with leaked file)"
   ]
  },
  {
   "cell_type": "code",
   "execution_count": 4640,
   "id": "1b8fd1e7-2a7f-48ea-9bf0-2e4aa8d36cde",
   "metadata": {},
   "outputs": [],
   "source": [
    "import numpy as np\n",
    "import pandas as pd\n",
    "import seaborn as sns\n",
    "import matplotlib.pyplot as plt\n",
    "from enum import Enum\n",
    "\n",
    "# Set the aesthetics for the plots\n",
    "sns.set(style=\"whitegrid\", palette=\"muted\")\n",
    "\n",
    "RANDOM_STATE = 101\n",
    "\n",
    "\n",
    "class ScalerType(Enum):\n",
    "    STANDARD = \"standard\"\n",
    "    ROBUST = \"robust\""
   ]
  },
  {
   "cell_type": "markdown",
   "id": "822bbff9",
   "metadata": {},
   "source": [
    "### Data collection"
   ]
  },
  {
   "cell_type": "code",
   "execution_count": 4641,
   "id": "4dffafdf",
   "metadata": {},
   "outputs": [
    {
     "data": {
      "text/html": [
       "<div>\n",
       "<style scoped>\n",
       "    .dataframe tbody tr th:only-of-type {\n",
       "        vertical-align: middle;\n",
       "    }\n",
       "\n",
       "    .dataframe tbody tr th {\n",
       "        vertical-align: top;\n",
       "    }\n",
       "\n",
       "    .dataframe thead th {\n",
       "        text-align: right;\n",
       "    }\n",
       "</style>\n",
       "<table border=\"1\" class=\"dataframe\">\n",
       "  <thead>\n",
       "    <tr style=\"text-align: right;\">\n",
       "      <th></th>\n",
       "      <th>Id</th>\n",
       "      <th>MSSubClass</th>\n",
       "      <th>MSZoning</th>\n",
       "      <th>LotFrontage</th>\n",
       "      <th>LotArea</th>\n",
       "      <th>Street</th>\n",
       "      <th>Alley</th>\n",
       "      <th>LotShape</th>\n",
       "      <th>LandContour</th>\n",
       "      <th>Utilities</th>\n",
       "      <th>...</th>\n",
       "      <th>PoolArea</th>\n",
       "      <th>PoolQC</th>\n",
       "      <th>Fence</th>\n",
       "      <th>MiscFeature</th>\n",
       "      <th>MiscVal</th>\n",
       "      <th>MoSold</th>\n",
       "      <th>YrSold</th>\n",
       "      <th>SaleType</th>\n",
       "      <th>SaleCondition</th>\n",
       "      <th>SalePrice</th>\n",
       "    </tr>\n",
       "  </thead>\n",
       "  <tbody>\n",
       "    <tr>\n",
       "      <th>0</th>\n",
       "      <td>1</td>\n",
       "      <td>60</td>\n",
       "      <td>RL</td>\n",
       "      <td>65.0</td>\n",
       "      <td>8450</td>\n",
       "      <td>Pave</td>\n",
       "      <td>NaN</td>\n",
       "      <td>Reg</td>\n",
       "      <td>Lvl</td>\n",
       "      <td>AllPub</td>\n",
       "      <td>...</td>\n",
       "      <td>0</td>\n",
       "      <td>NaN</td>\n",
       "      <td>NaN</td>\n",
       "      <td>NaN</td>\n",
       "      <td>0</td>\n",
       "      <td>2</td>\n",
       "      <td>2008</td>\n",
       "      <td>WD</td>\n",
       "      <td>Normal</td>\n",
       "      <td>208500</td>\n",
       "    </tr>\n",
       "    <tr>\n",
       "      <th>1</th>\n",
       "      <td>2</td>\n",
       "      <td>20</td>\n",
       "      <td>RL</td>\n",
       "      <td>80.0</td>\n",
       "      <td>9600</td>\n",
       "      <td>Pave</td>\n",
       "      <td>NaN</td>\n",
       "      <td>Reg</td>\n",
       "      <td>Lvl</td>\n",
       "      <td>AllPub</td>\n",
       "      <td>...</td>\n",
       "      <td>0</td>\n",
       "      <td>NaN</td>\n",
       "      <td>NaN</td>\n",
       "      <td>NaN</td>\n",
       "      <td>0</td>\n",
       "      <td>5</td>\n",
       "      <td>2007</td>\n",
       "      <td>WD</td>\n",
       "      <td>Normal</td>\n",
       "      <td>181500</td>\n",
       "    </tr>\n",
       "    <tr>\n",
       "      <th>1458</th>\n",
       "      <td>1459</td>\n",
       "      <td>20</td>\n",
       "      <td>RL</td>\n",
       "      <td>68.0</td>\n",
       "      <td>9717</td>\n",
       "      <td>Pave</td>\n",
       "      <td>NaN</td>\n",
       "      <td>Reg</td>\n",
       "      <td>Lvl</td>\n",
       "      <td>AllPub</td>\n",
       "      <td>...</td>\n",
       "      <td>0</td>\n",
       "      <td>NaN</td>\n",
       "      <td>NaN</td>\n",
       "      <td>NaN</td>\n",
       "      <td>0</td>\n",
       "      <td>4</td>\n",
       "      <td>2010</td>\n",
       "      <td>WD</td>\n",
       "      <td>Normal</td>\n",
       "      <td>142125</td>\n",
       "    </tr>\n",
       "    <tr>\n",
       "      <th>1459</th>\n",
       "      <td>1460</td>\n",
       "      <td>20</td>\n",
       "      <td>RL</td>\n",
       "      <td>75.0</td>\n",
       "      <td>9937</td>\n",
       "      <td>Pave</td>\n",
       "      <td>NaN</td>\n",
       "      <td>Reg</td>\n",
       "      <td>Lvl</td>\n",
       "      <td>AllPub</td>\n",
       "      <td>...</td>\n",
       "      <td>0</td>\n",
       "      <td>NaN</td>\n",
       "      <td>NaN</td>\n",
       "      <td>NaN</td>\n",
       "      <td>0</td>\n",
       "      <td>6</td>\n",
       "      <td>2008</td>\n",
       "      <td>WD</td>\n",
       "      <td>Normal</td>\n",
       "      <td>147500</td>\n",
       "    </tr>\n",
       "  </tbody>\n",
       "</table>\n",
       "<p>4 rows × 81 columns</p>\n",
       "</div>"
      ],
      "text/plain": [
       "        Id  MSSubClass MSZoning  LotFrontage  LotArea Street Alley LotShape  \\\n",
       "0        1          60       RL         65.0     8450   Pave   NaN      Reg   \n",
       "1        2          20       RL         80.0     9600   Pave   NaN      Reg   \n",
       "1458  1459          20       RL         68.0     9717   Pave   NaN      Reg   \n",
       "1459  1460          20       RL         75.0     9937   Pave   NaN      Reg   \n",
       "\n",
       "     LandContour Utilities  ... PoolArea PoolQC Fence MiscFeature MiscVal  \\\n",
       "0            Lvl    AllPub  ...        0    NaN   NaN         NaN       0   \n",
       "1            Lvl    AllPub  ...        0    NaN   NaN         NaN       0   \n",
       "1458         Lvl    AllPub  ...        0    NaN   NaN         NaN       0   \n",
       "1459         Lvl    AllPub  ...        0    NaN   NaN         NaN       0   \n",
       "\n",
       "     MoSold YrSold  SaleType  SaleCondition  SalePrice  \n",
       "0         2   2008        WD         Normal     208500  \n",
       "1         5   2007        WD         Normal     181500  \n",
       "1458      4   2010        WD         Normal     142125  \n",
       "1459      6   2008        WD         Normal     147500  \n",
       "\n",
       "[4 rows x 81 columns]"
      ]
     },
     "execution_count": 4641,
     "metadata": {},
     "output_type": "execute_result"
    }
   ],
   "source": [
    "df_train = pd.read_csv(\"./data/train.csv\")\n",
    "df_test = pd.read_csv(\"./data/test.csv\")\n",
    "pd.concat([df_train.head(2), df_train.tail(2)])"
   ]
  },
  {
   "cell_type": "markdown",
   "id": "5885f975",
   "metadata": {},
   "source": [
    "### EDA"
   ]
  },
  {
   "cell_type": "code",
   "execution_count": 4642,
   "id": "f177a227",
   "metadata": {},
   "outputs": [
    {
     "name": "stdout",
     "output_type": "stream",
     "text": [
      "              # missing  % missing\n",
      "PoolQC             1453      99.52\n",
      "MiscFeature        1406      96.30\n",
      "Alley              1369      93.77\n",
      "Fence              1179      80.75\n",
      "MasVnrType          872      59.73\n",
      "FireplaceQu         690      47.26\n",
      "LotFrontage         259      17.74\n",
      "GarageYrBlt          81       5.55\n",
      "GarageCond           81       5.55\n",
      "GarageType           81       5.55\n",
      "GarageFinish         81       5.55\n",
      "GarageQual           81       5.55\n",
      "BsmtFinType2         38       2.60\n",
      "BsmtExposure         38       2.60\n",
      "BsmtQual             37       2.53\n",
      "BsmtCond             37       2.53\n",
      "BsmtFinType1         37       2.53\n",
      "MasVnrArea            8       0.55\n",
      "Electrical            1       0.07\n"
     ]
    }
   ],
   "source": [
    "def show_missing_data(df):\n",
    "    \"\"\"\n",
    "    Display number and percentage of columns with any missing value\n",
    "    \"\"\"\n",
    "    total = df.isnull().sum().sort_values(ascending=False)\n",
    "    percent = (\n",
    "        ((df.isnull().sum() / df.isnull().count()) * 100)\n",
    "        .sort_values(ascending=False)\n",
    "        .round(2)\n",
    "    )\n",
    "    missing_data = pd.concat([total, percent], axis=1, keys=[\"# missing\", \"% missing\"])\n",
    "    print(missing_data[missing_data[\"# missing\"] > 0])\n",
    "\n",
    "\n",
    "show_missing_data(df_train)"
   ]
  },
  {
   "cell_type": "markdown",
   "id": "c4ac66bc",
   "metadata": {},
   "source": [
    "- `PoolQC`=NA means no pool\n",
    "- `MiscFeature`=NA means there are no extra features (e.g.: Elevator, Tennis Court..)\n",
    "- `Alley`=NA means no alley access\n",
    "- `Fence`=NA means no fence\n",
    "- `MasVnrType`=NA means None\n",
    "- `FireplaceQu`=NA means no Fireplace"
   ]
  },
  {
   "cell_type": "code",
   "execution_count": 4643,
   "id": "aac86309",
   "metadata": {},
   "outputs": [
    {
     "data": {
      "text/plain": [
       "<Figure size 1000x1000 with 0 Axes>"
      ]
     },
     "metadata": {},
     "output_type": "display_data"
    },
    {
     "data": {
      "image/png": "[encoded data removed]",
      "text/plain": [
       "<Figure size 600x300 with 1 Axes>"
      ]
     },
     "metadata": {},
     "output_type": "display_data"
    }
   ],
   "source": [
    "plt.figure(figsize=(10, 10))\n",
    "sns.displot(df_train[\"SalePrice\"] / 100000, bins=40, kde=True, height=3, aspect=2)\n",
    "plt.xticks(ticks=[i for i in range(0, 8)], labels=[f\"{i}00K\" for i in range(0, 8)])\n",
    "plt.show()"
   ]
  },
  {
   "cell_type": "markdown",
   "id": "c97787a5",
   "metadata": {},
   "source": [
    "ℹ️ Careful -> skewed distribution of price\n",
    "\n",
    "- In statistical analysis, a non-skewed distribution is typically a normal distribution, which resembles a bell curve when graphed. This means it's symmetric, with most of the observations clustering around the central peak and the probabilities for values further away from the mean tapering off equally in both directions.\n",
    "\n",
    "- If we don't apply a log transformation to SalePrice when it's skewed, our model may not perform as well, especially if it assumes that the residuals (errors) are normally distributed, as many linear models do. Applying a log transformation can help stabilize the variance across the data range and make the data conform more closely to the assumptions of parametric statistical tests, leading to more reliable statistical inference and potentially better model performance. If a log transformation is applied, the distribution should look more like a normal distribution, with fewer outliers and a more symmetric shape.\n",
    "\n",
    "- When should log **NOT** be applied to the target variable?\n",
    "  - The distribution of the target variable is already close to normal. Log transformation in such cases might lead to a worse fit.\n",
    "  - The model you're using is robust to non-normality, like tree-based models (e.g., decision trees, random forests).\n",
    "  - The range of the target variable is narrow with low variance, so the proportional differences are minimal.\n",
    "  - You have a binary or categorical target variable. In classification problems, log transformation is not applicable.\n",
    "  - The relationship between predictors and the target is linear, and there are no signs of heteroscedasticity (uneven spread of residuals)."
   ]
  },
  {
   "cell_type": "markdown",
   "id": "1a58f0ec",
   "metadata": {},
   "source": [
    "### Data cleaning & Preprocessing"
   ]
  },
  {
   "cell_type": "code",
   "execution_count": 4644,
   "id": "bf8059dd",
   "metadata": {},
   "outputs": [],
   "source": [
    "def fill_nulls(df):\n",
    "    # convert numerical (but actually categorical) features to str\n",
    "    df[[\"MSSubClass\", \"YrSold\", \"MoSold\"]] = df[\n",
    "        [\"MSSubClass\", \"YrSold\", \"MoSold\"]\n",
    "    ].astype(str)\n",
    "\n",
    "    # fill NA with default values\n",
    "    df[\"Fence\"] = df[\"Fence\"].fillna(\"NoFence\")\n",
    "    df[\"Alley\"] = df[\"Alley\"].fillna(\"NoAlleyAccess\")\n",
    "    df[\"MiscFeature\"] = df[\"MiscFeature\"].fillna(\"None\")\n",
    "    df[\"MasVnrType\"] = df[\"MasVnrType\"].fillna(\"None\")\n",
    "    df[\"FireplaceQu\"] = df[\"FireplaceQu\"].fillna(\"NoFireplace\")\n",
    "\n",
    "    # fill NA with 0\n",
    "    for col in (\n",
    "        \"MasVnrArea\",\n",
    "        \"TotalBsmtSF\",\n",
    "        \"BsmtUnfSF\",\n",
    "        \"BsmtFullBath\",\n",
    "        \"BsmtHalfBath\",\n",
    "        \"BsmtFinSF1\",\n",
    "        \"BsmtFinSF2\",\n",
    "        \"GarageCars\",\n",
    "        \"GarageArea\",\n",
    "    ):\n",
    "        df[col] = df[col].fillna(0)\n",
    "\n",
    "    # fill NA for basement\n",
    "    for col in (\"BsmtQual\", \"BsmtCond\", \"BsmtExposure\", \"BsmtFinType1\", \"BsmtFinType2\"):\n",
    "        df[col] = df[col].fillna(\"None\")\n",
    "\n",
    "    # fill NA for garage\n",
    "    df[\"GarageYrBlt\"] = df[\"GarageYrBlt\"].fillna(df[\"YearBuilt\"])\n",
    "    garage_columns = [\"GarageType\", \"GarageFinish\", \"GarageQual\", \"GarageCond\"]\n",
    "    df[garage_columns] = df[garage_columns].fillna(\"NoGarage\")\n",
    "\n",
    "    # fill NA based on mode/median\n",
    "    # (Mean is sensitive to outliers, whereas median is more robust)\n",
    "    df[\"Electrical\"] = df[\"Electrical\"].fillna(df[\"Electrical\"].mode()[0])  # 'SBrkr'\n",
    "    df[\"Functional\"] = df[\"Functional\"].fillna(df[\"Functional\"].mode()[0])  # 'Typ'\n",
    "    df[\"KitchenQual\"] = df[\"KitchenQual\"].fillna(df[\"KitchenQual\"].mode()[0])  # 'TA'\n",
    "    df[\"Exterior1st\"] = df[\"Exterior1st\"].fillna(\n",
    "        df[\"Exterior1st\"].mode()[0]\n",
    "    )  # 'VinylSd'\n",
    "    df[\"Exterior2nd\"] = df[\"Exterior2nd\"].fillna(\n",
    "        df[\"Exterior2nd\"].mode()[0]\n",
    "    )  # 'VinylSd\n",
    "    df[\"SaleType\"] = df[\"SaleType\"].fillna(df[\"SaleType\"].mode()[0])  # 'WD'\n",
    "    df[\"MSZoning\"] = df.groupby(\"MSSubClass\")[\"MSZoning\"].transform(\n",
    "        lambda x: x.fillna(x.mode()[0])\n",
    "    )\n",
    "\n",
    "    # assign median to Neighborhoods Without LotFrontage data\n",
    "    lot_frontage_median = df[\"LotFrontage\"].median()\n",
    "    df[\"LotFrontage\"] = df.groupby(\"Neighborhood\")[\"LotFrontage\"].transform(\n",
    "        lambda x: x.fillna(x.median() if not x.isna().all() else lot_frontage_median)\n",
    "    )\n",
    "\n",
    "    return df"
   ]
  },
  {
   "cell_type": "markdown",
   "id": "d291f9b2",
   "metadata": {},
   "source": [
    "### Feature Engineering"
   ]
  },
  {
   "cell_type": "code",
   "execution_count": 4645,
   "id": "a132f928",
   "metadata": {},
   "outputs": [],
   "source": [
    "# adding binary vars (are often easier to interpret for models than continuous ft.)\n",
    "# E.g. hypothesis:\n",
    "# - instead of knowing the exact size of the pool, the model just needs to know\n",
    "#   whether there's a pool or not.\n",
    "# - having a pool might increase a house's value disproportionately, regardless\n",
    "#   of the pool's size\n",
    "def add_binary_features(df):\n",
    "    df[\"haspool\"] = df[\"PoolArea\"].apply(lambda x: 1 if x > 0 else 0)\n",
    "    df[\"has2ndfloor\"] = df[\"2ndFlrSF\"].apply(lambda x: 1 if x > 0 else 0)\n",
    "    df[\"hasgarage\"] = df[\"GarageArea\"].apply(lambda x: 1 if x > 0 else 0)\n",
    "    df[\"hasbsmt\"] = df[\"TotalBsmtSF\"].apply(lambda x: 1 if x > 0 else 0)\n",
    "    df[\"hasfireplace\"] = df[\"Fireplaces\"].apply(lambda x: 1 if x > 0 else 0)\n",
    "\n",
    "    return df"
   ]
  },
  {
   "cell_type": "code",
   "execution_count": 4646,
   "id": "fd408afb",
   "metadata": {},
   "outputs": [],
   "source": [
    "# adding new features:\n",
    "\n",
    "\n",
    "def add_aggr_features(df):\n",
    "    # combined effect of the age of the house and the recency of any remodeling:\n",
    "    # recently remodeled older house could be more valuable than an old house that\n",
    "    # hasn't been updated\n",
    "    df[\"YrBltAndRemod\"] = df[\"YearBuilt\"] + df[\"YearRemodAdd\"]\n",
    "\n",
    "    # total square footage of the house might be better indicator than individual\n",
    "    # measurements, as it gives a holistic view of the size of the house.\n",
    "    df[\"TotalSF\"] = df[\"TotalBsmtSF\"] + df[\"1stFlrSF\"] + df[\"2ndFlrSF\"]\n",
    "\n",
    "    # same as above for total ^2 footage across different levels of the house.\n",
    "    df[\"Total_sqr_footage\"] = (\n",
    "        df[\"BsmtFinSF1\"] + df[\"BsmtFinSF2\"] + df[\"1stFlrSF\"] + df[\"2ndFlrSF\"]\n",
    "    )\n",
    "\n",
    "    # aggregates all types of bathrooms: full baths (with a shower or bathtub) are\n",
    "    # generally more valuable than half baths.\n",
    "    df[\"Total_Bathrooms\"] = (\n",
    "        df[\"FullBath\"]\n",
    "        + (0.5 * df[\"HalfBath\"])\n",
    "        + df[\"BsmtFullBath\"]\n",
    "        + (0.5 * df[\"BsmtHalfBath\"])\n",
    "    )\n",
    "\n",
    "    # combines all types of porches and decks to give an overall measure of the outdoor\n",
    "    # living space: Outdoor spaces can add significant value to a property.\n",
    "    df[\"Total_porch_sf\"] = (\n",
    "        df[\"OpenPorchSF\"]\n",
    "        + df[\"3SsnPorch\"]\n",
    "        + df[\"EnclosedPorch\"]\n",
    "        + df[\"ScreenPorch\"]\n",
    "        + df[\"WoodDeckSF\"]\n",
    "    )\n",
    "\n",
    "    return df"
   ]
  },
  {
   "cell_type": "code",
   "execution_count": 4647,
   "id": "15d0108f",
   "metadata": {},
   "outputs": [],
   "source": [
    "def remove_features(df):\n",
    "    # remove unnecessary features or with very low variance\n",
    "    # ignore errors because train.csv &  AmesHousing.csv have different ID fields\n",
    "    df.drop(\n",
    "        [\n",
    "            \"Id\",\n",
    "            \"Street\",\n",
    "            \"Utilities\",\n",
    "            \"PoolQC\",\n",
    "            \"Order\",\n",
    "            \"PID\",\n",
    "        ],\n",
    "        axis=1,\n",
    "        inplace=True,\n",
    "        errors=\"ignore\",\n",
    "    )\n",
    "\n",
    "    # ℹ️ dimensionality reduction: removing the original features and keeping only\n",
    "    # the new ones improve the scores (probably because there is a bunch of ft!)\n",
    "    df.drop(\n",
    "        [\n",
    "            \"YearBuilt\",\n",
    "            \"YearRemodAdd\",\n",
    "            \"1stFlrSF\",\n",
    "            \"2ndFlrSF\",\n",
    "            \"BsmtFinSF1\",\n",
    "            \"BsmtFinSF2\",\n",
    "            \"FullBath\",\n",
    "            \"HalfBath\",\n",
    "            \"BsmtFullBath\",\n",
    "            \"BsmtHalfBath\",\n",
    "            \"OpenPorchSF\",\n",
    "            \"3SsnPorch\",\n",
    "            \"EnclosedPorch\",\n",
    "            \"ScreenPorch\",\n",
    "            \"WoodDeckSF\",\n",
    "        ],\n",
    "        axis=1,\n",
    "        inplace=True,\n",
    "    )\n",
    "\n",
    "    return df"
   ]
  },
  {
   "cell_type": "code",
   "execution_count": 4648,
   "id": "c1e87dfc",
   "metadata": {},
   "outputs": [],
   "source": [
    "def remove_outliers(df):\n",
    "    # remove outliers (no clue why, but worth investigating..)\n",
    "    df = df.drop(index=[30, 88, 462, 631, 1322, 523, 691, 1182, 1298])\n",
    "    df = df[df.GrLivArea < 4500].reset_index(drop=True)\n",
    "\n",
    "    return df"
   ]
  },
  {
   "cell_type": "markdown",
   "id": "93bdea55",
   "metadata": {},
   "source": [
    "### Process dataset"
   ]
  },
  {
   "cell_type": "code",
   "execution_count": 4649,
   "id": "a272f0b6",
   "metadata": {},
   "outputs": [],
   "source": [
    "# BOTH datasets need to be processed to be able to evaluate the models\n",
    "# or run the models over test.csv\n",
    "\n",
    "df_both = pd.concat([df_train, df_test]).reset_index(drop=True)\n",
    "\n",
    "df_both = fill_nulls(df_both)\n",
    "df_both = add_binary_features(df_both)\n",
    "df_both = add_aggr_features(df_both)\n",
    "df_both = remove_features(df_both)"
   ]
  },
  {
   "cell_type": "markdown",
   "id": "fe33ef1a",
   "metadata": {},
   "source": [
    "### Encoding categorical data"
   ]
  },
  {
   "cell_type": "code",
   "execution_count": 4650,
   "id": "8d092586",
   "metadata": {},
   "outputs": [],
   "source": [
    "def encode_features(df):\n",
    "    \"\"\"Encode categorical features\"\"\"\n",
    "    columns_to_encode = df.select_dtypes(\n",
    "        include=[\"object\", \"category\"]\n",
    "    ).columns.tolist()\n",
    "    encoded_df_train = pd.get_dummies(df, columns=columns_to_encode, drop_first=True)\n",
    "\n",
    "    # replace spaces in df columns for lightxgb model\n",
    "    encoded_df_train.columns = encoded_df_train.columns.str.replace(\" \", \"_\")\n",
    "\n",
    "    return encoded_df_train"
   ]
  },
  {
   "cell_type": "markdown",
   "id": "644e1e3a",
   "metadata": {},
   "source": [
    "### Split dataset into Train/Test data"
   ]
  },
  {
   "cell_type": "code",
   "execution_count": 4651,
   "id": "83b08510",
   "metadata": {},
   "outputs": [],
   "source": [
    "from sklearn.preprocessing import StandardScaler, RobustScaler\n",
    "\n",
    "\n",
    "def scale_features(df: any, scaler_type: ScalerType):\n",
    "    scaler = RobustScaler() if scaler_type == ScalerType.ROBUST else StandardScaler()\n",
    "    numerical_cols = df.select_dtypes(\n",
    "        include=[\"int16\", \"int32\", \"int64\", \"float16\", \"float32\", \"float64\"]\n",
    "    ).columns\n",
    "    X_scaled = df.copy()\n",
    "    X_scaled[numerical_cols] = scaler.fit_transform(df[numerical_cols])\n",
    "    return X_scaled"
   ]
  },
  {
   "cell_type": "code",
   "execution_count": 4652,
   "id": "8ba4ce83",
   "metadata": {},
   "outputs": [],
   "source": [
    "from sklearn.model_selection import train_test_split\n",
    "\n",
    "df_both_encoded = encode_features(df_both)\n",
    "df_both_encoded = remove_outliers(df_both_encoded)\n",
    "\n",
    "df_train = df_both_encoded[df_both_encoded[\"SalePrice\"].notna()].reset_index(drop=True)\n",
    "\n",
    "X = encode_features(df_train).drop(\"SalePrice\", axis=1)\n",
    "X = scale_features(X, ScalerType.ROBUST)\n",
    "# X = apply_yeojohnson(df_train.drop(\"SalePrice\", axis=1))\n",
    "\n",
    "y = np.log1p(df_train[\"SalePrice\"])  # log transformation\n",
    "\n",
    "X_train, X_test, y_train, y_test = train_test_split(\n",
    "    X, y, test_size=0.2, random_state=RANDOM_STATE\n",
    ")"
   ]
  },
  {
   "cell_type": "markdown",
   "id": "0b2e601c",
   "metadata": {},
   "source": [
    "☝🏻 Robust scaler performs better than standard"
   ]
  },
  {
   "cell_type": "markdown",
   "id": "5b8e9ab8",
   "metadata": {},
   "source": [
    "### Regression Models"
   ]
  },
  {
   "cell_type": "code",
   "execution_count": 4653,
   "id": "350311ad",
   "metadata": {},
   "outputs": [],
   "source": [
    "from xgboost import XGBRegressor\n",
    "\n",
    "\n",
    "def fit_xgb_regressor(\n",
    "    colsample_bytree=1,\n",
    "    gamma=0,\n",
    "    learning_rate=0.3,\n",
    "    max_depth=6,\n",
    "    min_child_weight=1,\n",
    "    n_estimators=100,\n",
    "    objective=\"reg:squarederror\",\n",
    "    reg_alpha=0,\n",
    "    reg_lambda=0,\n",
    "    scale_pos_weight=1,\n",
    "    subsample=1,\n",
    "):\n",
    "    xgb = XGBRegressor(\n",
    "        colsample_bytree=colsample_bytree,\n",
    "        gamma=gamma,\n",
    "        learning_rate=learning_rate,\n",
    "        max_depth=max_depth,\n",
    "        min_child_weight=min_child_weight,\n",
    "        n_estimators=n_estimators,\n",
    "        nthread=-1,\n",
    "        objective=objective,\n",
    "        reg_alpha=reg_alpha,\n",
    "        reg_lambda=reg_lambda,\n",
    "        scale_pos_weight=scale_pos_weight,\n",
    "        seed=RANDOM_STATE,\n",
    "        subsample=subsample,\n",
    "    )\n",
    "    xgb.fit(X_train, y_train)\n",
    "    return xgb"
   ]
  },
  {
   "cell_type": "code",
   "execution_count": 4654,
   "id": "94c6de30",
   "metadata": {},
   "outputs": [],
   "source": [
    "from sklearn.linear_model import Ridge\n",
    "\n",
    "\n",
    "def fit_ridge_regressor(\n",
    "    alpha=1.0,\n",
    "    fit_intercept=True,\n",
    "    max_iter=None,\n",
    "    tol=0.0001,\n",
    "):\n",
    "    ridge = Ridge(\n",
    "        alpha=alpha,\n",
    "        fit_intercept=fit_intercept,\n",
    "        copy_X=True,\n",
    "        max_iter=max_iter,\n",
    "        tol=tol,\n",
    "        random_state=RANDOM_STATE,\n",
    "    )\n",
    "    ridge.fit(X_train, y_train)\n",
    "    return ridge"
   ]
  },
  {
   "cell_type": "code",
   "execution_count": 4655,
   "id": "c5ddce1e",
   "metadata": {},
   "outputs": [],
   "source": [
    "from sklearn.linear_model import Lasso\n",
    "\n",
    "\n",
    "def fit_lasso_regressor(\n",
    "    alpha=1.0,\n",
    "    fit_intercept=True,\n",
    "    max_iter=1000,\n",
    "    positive=False,\n",
    "    precompute=False,\n",
    "    selection=\"cyclic\",\n",
    "    tol=0.0001,\n",
    "    warm_start=False,\n",
    "):\n",
    "    lasso = Lasso(\n",
    "        alpha=alpha,\n",
    "        fit_intercept=fit_intercept,\n",
    "        precompute=precompute,\n",
    "        copy_X=True,\n",
    "        max_iter=max_iter,\n",
    "        tol=tol,\n",
    "        warm_start=warm_start,\n",
    "        positive=positive,\n",
    "        random_state=RANDOM_STATE,\n",
    "        selection=selection,\n",
    "    )\n",
    "    lasso.fit(X_train, y_train)\n",
    "    return lasso"
   ]
  },
  {
   "cell_type": "code",
   "execution_count": 4656,
   "id": "19c19423",
   "metadata": {},
   "outputs": [],
   "source": [
    "from sklearn.linear_model import ElasticNet\n",
    "\n",
    "\n",
    "def fit_elastic_net_regressor(\n",
    "    alpha=1.0,\n",
    "    fit_intercept=True,\n",
    "    l1_ratio=0.5,\n",
    "    max_iter=1000,\n",
    "    positive=False,\n",
    "    precompute=False,\n",
    "    selection=\"cyclic\",\n",
    "    tol=0.0001,\n",
    "    warm_start=False,\n",
    "):\n",
    "    enet = ElasticNet(\n",
    "        alpha=alpha,\n",
    "        l1_ratio=l1_ratio,\n",
    "        fit_intercept=fit_intercept,\n",
    "        precompute=precompute,\n",
    "        max_iter=max_iter,\n",
    "        copy_X=True,\n",
    "        tol=tol,\n",
    "        warm_start=warm_start,\n",
    "        positive=positive,\n",
    "        random_state=RANDOM_STATE,\n",
    "        selection=selection,\n",
    "    )\n",
    "    enet.fit(X_train, y_train)\n",
    "    return enet"
   ]
  },
  {
   "cell_type": "code",
   "execution_count": 4657,
   "id": "327740ea",
   "metadata": {},
   "outputs": [],
   "source": [
    "import lightgbm as lgb\n",
    "\n",
    "\n",
    "def fit_lightgbm_regressor(\n",
    "    bagging_fraction=1.0,\n",
    "    bagging_freq=0,\n",
    "    colsample_bytree=1.0,\n",
    "    force_row_wise=False,\n",
    "    importance_type=\"split\",\n",
    "    learning_rate=0.1,\n",
    "    max_bin=255,\n",
    "    max_depth=-1,\n",
    "    min_child_samples=20,\n",
    "    min_split_gain=0.0,\n",
    "    n_estimators=100,\n",
    "    num_leaves=31,\n",
    "    objective=\"regression\",\n",
    "    reg_alpha=0.0,\n",
    "    reg_lambda=0.0,\n",
    "    # subsample=1.0,\n",
    "    subsample_for_bin=200000,\n",
    "    subsample_freq=0,\n",
    "    verbose=1,\n",
    "):\n",
    "    lgbm = lgb.LGBMRegressor(\n",
    "        bagging_fraction=bagging_fraction,\n",
    "        bagging_freq=bagging_freq,\n",
    "        bagging_seed=RANDOM_STATE,\n",
    "        colsample_bytree=colsample_bytree,\n",
    "        force_row_wise=force_row_wise,\n",
    "        importance_type=importance_type,\n",
    "        learning_rate=learning_rate,\n",
    "        max_bin=max_bin,\n",
    "        max_depth=max_depth,\n",
    "        min_split_gain=min_split_gain,\n",
    "        min_child_samples=min_child_samples,\n",
    "        n_estimators=n_estimators,\n",
    "        n_jobs=-1,\n",
    "        num_leaves=num_leaves,\n",
    "        objective=objective,\n",
    "        random_state=RANDOM_STATE,\n",
    "        reg_alpha=reg_alpha,\n",
    "        reg_lambda=reg_lambda,\n",
    "        # subsample=subsample,\n",
    "        subsample_for_bin=subsample_for_bin,\n",
    "        subsample_freq=subsample_freq,\n",
    "        verbose=verbose,\n",
    "    )\n",
    "    lgbm.fit(X_train, y_train)\n",
    "    return lgbm"
   ]
  },
  {
   "cell_type": "code",
   "execution_count": 4658,
   "id": "b9e6f05a",
   "metadata": {},
   "outputs": [],
   "source": [
    "from sklearn.ensemble import GradientBoostingRegressor\n",
    "\n",
    "\n",
    "def fit_gradient_boosting_regressor(\n",
    "    learning_rate=0.1,\n",
    "    loss=\"squared_error\",\n",
    "    max_depth=3,\n",
    "    max_features=None,\n",
    "    min_samples_leaf=1,\n",
    "    min_samples_split=2,\n",
    "    n_estimators=100,\n",
    "    subsample=1.0,\n",
    "):\n",
    "    gb = GradientBoostingRegressor(\n",
    "        loss=loss,\n",
    "        learning_rate=learning_rate,\n",
    "        max_depth=max_depth,\n",
    "        max_features=max_features,\n",
    "        min_samples_leaf=min_samples_leaf,\n",
    "        min_samples_split=min_samples_split,\n",
    "        n_estimators=n_estimators,\n",
    "        random_state=RANDOM_STATE,\n",
    "        subsample=subsample,\n",
    "    )\n",
    "    gb.fit(X_train, y_train)\n",
    "    return gb"
   ]
  },
  {
   "cell_type": "markdown",
   "id": "90a6504e",
   "metadata": {},
   "source": [
    "### Fit Models"
   ]
  },
  {
   "cell_type": "code",
   "execution_count": 4659,
   "id": "c81ed7a8",
   "metadata": {},
   "outputs": [],
   "source": [
    "# train regressors with default values\n",
    "xgb = fit_xgb_regressor()\n",
    "ridge = fit_ridge_regressor()\n",
    "lasso = fit_lasso_regressor()\n",
    "enet = fit_elastic_net_regressor()\n",
    "lgbm = fit_lightgbm_regressor(verbose=-1)\n",
    "gb = fit_gradient_boosting_regressor()"
   ]
  },
  {
   "cell_type": "markdown",
   "id": "eab0bfee",
   "metadata": {},
   "source": [
    "### Evaluation Functions"
   ]
  },
  {
   "cell_type": "code",
   "execution_count": 4660,
   "id": "a63cfbb9",
   "metadata": {},
   "outputs": [],
   "source": [
    "from sklearn.model_selection import KFold, cross_val_score\n",
    "from sklearn.metrics import mean_squared_error, mean_absolute_error, r2_score\n",
    "\n",
    "\n",
    "def evaluate_models(regressors, X, y, cv=10):\n",
    "    results = []\n",
    "    kfolds = KFold(n_splits=cv, shuffle=True, random_state=RANDOM_STATE)\n",
    "    for regressor in regressors:\n",
    "        y_pred = regressor.predict(X)\n",
    "        r2 = r2_score(y, y_pred)\n",
    "        mae = mean_absolute_error(y, y_pred)\n",
    "        mse = mean_squared_error(y, y_pred)\n",
    "        rmse = np.sqrt(mean_squared_error(y, y_pred))\n",
    "        rmse_cv = np.sqrt(\n",
    "            -cross_val_score(\n",
    "                regressor, X, y, scoring=\"neg_mean_squared_error\", cv=kfolds\n",
    "            )\n",
    "        )\n",
    "        results.append(\n",
    "            {\n",
    "                \"Model\": type(regressor).__name__,\n",
    "                \"MAE\": mae,\n",
    "                \"MSE\": mse,\n",
    "                \"RMSE\": rmse,\n",
    "                \"RMSEcv\": rmse_cv.mean(),\n",
    "                \"R^2\": r2,\n",
    "            }\n",
    "        )\n",
    "    sorted_results = sorted(results, key=lambda x: x[\"RMSEcv\"], reverse=False)\n",
    "    print(f\"{'Model':<25} {'RMSEcv':<11} {'RMSE':<11} {'MAE':<8} {'MSE':<8} {'R^2':<8}\")\n",
    "    print(\"-\" * 72)\n",
    "    for result in sorted_results:\n",
    "        metrics = f\"{result['RMSEcv']:<11.5f} {result['RMSE']:<11.5f} \"\n",
    "        metrics += f\"{result['MAE']:<8.2f} {result['MSE']:<8.2f} {result['R^2']:<8.2f}\"\n",
    "        print(f\"{result['Model']:<25} {metrics}\")\n",
    "\n",
    "\n",
    "def evaluate_kaggle(regressors, X, y):\n",
    "    results = []\n",
    "    for regressor in regressors:\n",
    "        y_pred = regressor.predict(X)\n",
    "        rmse = np.sqrt(mean_squared_error(y, y_pred))\n",
    "        results.append(\n",
    "            {\n",
    "                \"Model\": type(regressor).__name__,\n",
    "                \"RMSE\": rmse,\n",
    "            }\n",
    "        )\n",
    "    sorted_results = sorted(results, key=lambda x: x[\"RMSE\"], reverse=False)\n",
    "    print(f\"{'Model':<25} {'RMSE':<11}\")\n",
    "    print(\"-\" * 33)\n",
    "    for result in sorted_results:\n",
    "        print(f\"{result['Model']:<25} {result['RMSE']:<11.5f}\")"
   ]
  },
  {
   "cell_type": "code",
   "execution_count": 4661,
   "id": "795c9a75",
   "metadata": {},
   "outputs": [],
   "source": [
    "from sklearn.model_selection import learning_curve\n",
    "import numpy as np\n",
    "import matplotlib.pyplot as plt\n",
    "import seaborn as sns\n",
    "\n",
    "\n",
    "def plot_learning_curve(\n",
    "    estimator,\n",
    "    X=X,\n",
    "    y=y,\n",
    "    cv=5,\n",
    "    n_jobs=-1,\n",
    "    train_sizes=np.linspace(0.1, 1.0, 5),\n",
    "    fig_size=(5, 3),\n",
    "):\n",
    "    plt.figure(figsize=fig_size)\n",
    "    train_sizes, train_scores, test_scores = learning_curve(\n",
    "        estimator,\n",
    "        X,\n",
    "        y,\n",
    "        cv=cv,\n",
    "        scoring=\"neg_mean_squared_error\",\n",
    "        n_jobs=n_jobs,\n",
    "        train_sizes=train_sizes,\n",
    "    )\n",
    "\n",
    "    # Take the negative of the scores because 'neg_mean_squared_error' is used\n",
    "    train_scores_mean = np.sqrt(-np.mean(train_scores, axis=1))\n",
    "    test_scores_mean = np.sqrt(-np.mean(test_scores, axis=1))\n",
    "\n",
    "    sns.lineplot(x=train_sizes, y=train_scores_mean, label=\"Training score\")\n",
    "    sns.lineplot(x=train_sizes, y=test_scores_mean, label=\"Cross-validation score\")\n",
    "\n",
    "    plt.title(f\"Learning Curve (RMSE) - {type(estimator).__name__}\")\n",
    "    plt.xlabel(\"Training examples\")\n",
    "    plt.ylabel(\"RMSE\")\n",
    "    plt.legend()\n",
    "    plt.show()"
   ]
  },
  {
   "cell_type": "code",
   "execution_count": 4662,
   "id": "11c5bd7a",
   "metadata": {},
   "outputs": [],
   "source": [
    "from sklearn.model_selection import GridSearchCV\n",
    "\n",
    "\n",
    "def evaluate_model_grid_search_cv(\n",
    "    regressor,\n",
    "    X_train,\n",
    "    y_train,\n",
    "    params,\n",
    "    cv=10,\n",
    "    scoring=\"neg_mean_squared_error\",\n",
    "    n_jobs=-1,\n",
    "):\n",
    "    grid_search = GridSearchCV(\n",
    "        estimator=regressor, param_grid=params, scoring=scoring, cv=cv, n_jobs=n_jobs\n",
    "    )\n",
    "    grid_search.fit(X=X_train, y=y_train)\n",
    "    best_score = np.sqrt(-grid_search.best_score_)\n",
    "    best_params = grid_search.best_params_\n",
    "    print(f\"Model: {type(regressor).__name__}\")\n",
    "    print(f\" - Best RMSE: {best_score}\")\n",
    "    print(f\" - Best params: {best_params}\")"
   ]
  },
  {
   "cell_type": "markdown",
   "id": "801ca983",
   "metadata": {},
   "source": [
    "### Evaluate Models"
   ]
  },
  {
   "cell_type": "code",
   "execution_count": 4663,
   "id": "636d5c79",
   "metadata": {},
   "outputs": [
    {
     "name": "stdout",
     "output_type": "stream",
     "text": [
      "Model                     RMSEcv      RMSE        MAE      MSE      R^2     \n",
      "------------------------------------------------------------------------\n",
      "Ridge                     0.13176     0.11568     0.08     0.01     0.92    \n",
      "GradientBoostingRegressor 0.15512     0.11048     0.08     0.01     0.93    \n",
      "LGBMRegressor             0.15960     0.11188     0.08     0.01     0.93    \n",
      "XGBRegressor              0.18441     0.11915     0.09     0.01     0.92    \n",
      "Lasso                     0.42599     0.41668     0.33     0.17     -0.00   \n",
      "ElasticNet                0.42908     0.41683     0.33     0.17     -0.00   \n"
     ]
    }
   ],
   "source": [
    "models = [xgb, ridge, lasso, enet, lgbm, gb]\n",
    "evaluate_models(models, X_test, y_test, 2)"
   ]
  },
  {
   "cell_type": "markdown",
   "id": "7ea84e49",
   "metadata": {},
   "source": [
    "### Tune Models"
   ]
  },
  {
   "cell_type": "markdown",
   "id": "9ee0baf1",
   "metadata": {},
   "source": [
    "### XGB"
   ]
  },
  {
   "cell_type": "code",
   "execution_count": 4664,
   "id": "cfedb228",
   "metadata": {},
   "outputs": [],
   "source": [
    "\"\"\"inet\"\"\"\n",
    "xgboost = XGBRegressor(\n",
    "    learning_rate=0.01,\n",
    "    n_estimators=3460,\n",
    "    max_depth=3,\n",
    "    min_child_weight=0,\n",
    "    gamma=0,\n",
    "    subsample=0.7,\n",
    "    colsample_bytree=0.7,\n",
    "    objective=\"reg:linear\",\n",
    "    nthread=-1,\n",
    "    scale_pos_weight=1,\n",
    "    seed=27,\n",
    "    reg_alpha=0.00006,\n",
    ")"
   ]
  },
  {
   "cell_type": "code",
   "execution_count": 4665,
   "id": "0d18f400",
   "metadata": {},
   "outputs": [],
   "source": [
    "params = {\n",
    "    \"colsample_bytree\": [0.4],  # from 0.4, 0.5\n",
    "    \"gamma\": [0.01, 0.05],  # from 0.001\n",
    "    \"learning_rate\": [0.01, 0.02],\n",
    "    \"max_depth\": [3],\n",
    "    \"min_child_weight\": [0],\n",
    "    \"n_estimators\": [3000],  # from 3000 (!) increasing overfits\n",
    "    \"objective\": [\"reg:squarederror\"],\n",
    "    \"reg_alpha\": [0.1, 0.2],  # from 0.03, 0.06\n",
    "    \"reg_lambda\": [0.1, 0.2],  # from 0.5, 0.2\n",
    "    \"scale_pos_weight\": [1],\n",
    "    \"subsample\": [0.3, 0.4],  # from 0.4, 0.5, 0.6, 0.7, 0.8\n",
    "}\n",
    "\n",
    "# evaluate_model_grid_search_cv(xgb, X_train, y_train, params, 3)"
   ]
  },
  {
   "cell_type": "code",
   "execution_count": 4666,
   "id": "fc5dba7e",
   "metadata": {},
   "outputs": [],
   "source": [
    "xgb = fit_xgb_regressor(\n",
    "    colsample_bytree=0.4,\n",
    "    gamma=0.01,\n",
    "    learning_rate=0.01,\n",
    "    max_depth=3,\n",
    "    min_child_weight=2,\n",
    "    n_estimators=3000,\n",
    "    objective=\"reg:squarederror\",\n",
    "    reg_alpha=0.1,\n",
    "    reg_lambda=0.1,\n",
    "    scale_pos_weight=1,\n",
    "    subsample=0.4,\n",
    ")"
   ]
  },
  {
   "cell_type": "code",
   "execution_count": 4667,
   "id": "caf3120d",
   "metadata": {},
   "outputs": [
    {
     "data": {
      "image/png": "[encoded data removed]",
      "text/plain": [
       "<Figure size 500x300 with 1 Axes>"
      ]
     },
     "metadata": {},
     "output_type": "display_data"
    }
   ],
   "source": [
    "plot_learning_curve(xgb)"
   ]
  },
  {
   "cell_type": "markdown",
   "id": "ba6e8381",
   "metadata": {},
   "source": [
    "### Ridge"
   ]
  },
  {
   "cell_type": "code",
   "execution_count": 4668,
   "id": "8828221a",
   "metadata": {},
   "outputs": [
    {
     "name": "stdout",
     "output_type": "stream",
     "text": [
      "Model: Ridge\n",
      " - Best RMSE: 0.11258102684774918\n",
      " - Best params: {'alpha': 13.8, 'fit_intercept': True, 'max_iter': None, 'tol': 1e-06}\n"
     ]
    }
   ],
   "source": [
    "params = {\n",
    "    \"alpha\": [13.6, 13.7, 13.8, 14],\n",
    "    \"fit_intercept\": [True, False],\n",
    "    \"max_iter\": [None, 1000, 5000],\n",
    "    \"tol\": [0.000001, 0.0000025, 0.000005, 0.00001, 0.00002],\n",
    "}\n",
    "\n",
    "evaluate_model_grid_search_cv(ridge, X_train, y_train, params, 10)"
   ]
  },
  {
   "cell_type": "code",
   "execution_count": 4669,
   "id": "3a29cb26",
   "metadata": {},
   "outputs": [],
   "source": [
    "ridge = fit_ridge_regressor(\n",
    "    alpha=13.7,\n",
    "    fit_intercept=True,\n",
    "    max_iter=None,\n",
    "    tol=0.0001,\n",
    ")"
   ]
  },
  {
   "cell_type": "code",
   "execution_count": 4670,
   "id": "90a9898a",
   "metadata": {},
   "outputs": [
    {
     "data": {
      "image/png": "[encoded data removed]",
      "text/plain": [
       "<Figure size 500x300 with 1 Axes>"
      ]
     },
     "metadata": {},
     "output_type": "display_data"
    }
   ],
   "source": [
    "plot_learning_curve(ridge)"
   ]
  },
  {
   "cell_type": "markdown",
   "id": "140fb146",
   "metadata": {},
   "source": [
    "### Lasso"
   ]
  },
  {
   "cell_type": "code",
   "execution_count": 4671,
   "id": "774f3b64",
   "metadata": {},
   "outputs": [],
   "source": [
    "params = {\n",
    "    \"alpha\": [0.0001, 0.0002, 0.0003],\n",
    "    \"fit_intercept\": [True],\n",
    "    \"max_iter\": [5000],\n",
    "    \"positive\": [False, True],\n",
    "    \"precompute\": [False, True],\n",
    "    \"tol\": [0.00001],\n",
    "    \"selection\": [\"random\"],\n",
    "    \"warm_start\": [False],\n",
    "}\n",
    "\n",
    "# evaluate_model_grid_search_cv(lasso, X_train, y_train, params, 5)"
   ]
  },
  {
   "cell_type": "code",
   "execution_count": 4672,
   "id": "cce4073a",
   "metadata": {},
   "outputs": [],
   "source": [
    "lasso = fit_lasso_regressor(\n",
    "    alpha=0.0005,\n",
    "    fit_intercept=True,\n",
    "    max_iter=3500,\n",
    "    positive=True,\n",
    "    precompute=False,\n",
    "    selection=\"random\",\n",
    "    tol=0.00001,\n",
    "    warm_start=False,\n",
    ")"
   ]
  },
  {
   "cell_type": "code",
   "execution_count": 4673,
   "id": "2869aa26",
   "metadata": {},
   "outputs": [
    {
     "data": {
      "image/png": "[encoded data removed]",
      "text/plain": [
       "<Figure size 500x300 with 1 Axes>"
      ]
     },
     "metadata": {},
     "output_type": "display_data"
    }
   ],
   "source": [
    "plot_learning_curve(lasso)"
   ]
  },
  {
   "cell_type": "markdown",
   "id": "5c6ac4e5",
   "metadata": {},
   "source": [
    "### Elastic Net"
   ]
  },
  {
   "cell_type": "code",
   "execution_count": 4674,
   "id": "df5219ba",
   "metadata": {},
   "outputs": [],
   "source": [
    "enet = fit_elastic_net_regressor(\n",
    "    alpha=0.00015,\n",
    "    fit_intercept=True,\n",
    "    l1_ratio=0.8,\n",
    "    max_iter=12000,\n",
    "    positive=True,\n",
    "    precompute=False,\n",
    "    selection=\"random\",\n",
    "    tol=0.00001,\n",
    "    warm_start=False,\n",
    ")"
   ]
  },
  {
   "cell_type": "code",
   "execution_count": 4686,
   "id": "7ea00764",
   "metadata": {},
   "outputs": [
    {
     "data": {
      "image/png": "[encoded data removed]",
      "text/plain": [
       "<Figure size 500x300 with 1 Axes>"
      ]
     },
     "metadata": {},
     "output_type": "display_data"
    }
   ],
   "source": [
    "plot_learning_curve(enet)"
   ]
  },
  {
   "cell_type": "markdown",
   "id": "9d64f482",
   "metadata": {},
   "source": [
    "### LightGBM"
   ]
  },
  {
   "cell_type": "code",
   "execution_count": 4675,
   "id": "fd0c048a",
   "metadata": {},
   "outputs": [],
   "source": [
    "params = {\n",
    "    \"bagging_fraction\": [0.8],  # 0.8 in 0.9,1.0\n",
    "    \"bagging_freq\": [4],  # 4 in 0,4\n",
    "    \"colsample_bytree\": [0.8],  # 0.8 in 0.9\n",
    "    \"importance_type\": [\"split\"],  # \"gain\"\n",
    "    \"force_row_wise\": [True],  # False\n",
    "    \"learning_rate\": [0.01],\n",
    "    \"max_bin\": [200],  # set to 200!!\n",
    "    \"max_depth\": [-1],\n",
    "    \"min_child_samples\": [10],  ## !! decreasing it increases a lot the running time\n",
    "    \"min_split_gain\": [0.0],  # gets 0.1 from 0.1, 0.2, 0.3\n",
    "    \"n_estimators\": [2000],\n",
    "    \"num_leaves\": [4],  # set to 4!!\n",
    "    \"objective\": [\"regression\"],\n",
    "    \"reg_alpha\": [0.0],\n",
    "    \"reg_lambda\": [0.0],\n",
    "    # \"subsample\": [0.8], # remove if using bagging\n",
    "    \"subsample_for_bin\": [200000],\n",
    "    \"subsample_freq\": [0],\n",
    "    \"verbose\": [-1],  # only warnings\n",
    "}\n",
    "\n",
    "# evaluate_model_grid_search_cv(lgbm, X_train, y_train, params, 10)"
   ]
  },
  {
   "cell_type": "code",
   "execution_count": 4676,
   "id": "d2a8ba2d",
   "metadata": {},
   "outputs": [],
   "source": [
    "lgbm = fit_lightgbm_regressor(\n",
    "    bagging_fraction=0.8,\n",
    "    bagging_freq=4,\n",
    "    colsample_bytree=0.8,\n",
    "    force_row_wise=True,\n",
    "    importance_type=\"split\",\n",
    "    learning_rate=0.01,\n",
    "    max_bin=200,\n",
    "    max_depth=-1,\n",
    "    min_split_gain=0.0,\n",
    "    min_child_samples=10,\n",
    "    n_estimators=6000,\n",
    "    num_leaves=4,\n",
    "    objective=\"regression\",\n",
    "    reg_alpha=0.0,\n",
    "    reg_lambda=0.0,\n",
    "    subsample_for_bin=200000,\n",
    "    subsample_freq=0,\n",
    "    verbose=-1,\n",
    ")"
   ]
  },
  {
   "cell_type": "markdown",
   "id": "1877ea14",
   "metadata": {},
   "source": [
    "### Gradient Boosting"
   ]
  },
  {
   "cell_type": "code",
   "execution_count": 4677,
   "id": "4d0d171c",
   "metadata": {},
   "outputs": [],
   "source": [
    "params = {\n",
    "    \"loss\": [\"squared_error\", \"huber\"],\n",
    "    \"n_estimators\": [2000],\n",
    "    \"learning_rate\": [0.01],\n",
    "    \"max_depth\": [4],\n",
    "    \"min_samples_leaf\": [7, 8, 9],\n",
    "    \"min_samples_split\": [2, 3],\n",
    "    \"subsample\": [0.9],\n",
    "    \"max_features\": [\"sqrt\"],\n",
    "}\n",
    "\n",
    "# evaluate_model_grid_search_cv(gb, X_train, y_train, params, 5)"
   ]
  },
  {
   "cell_type": "code",
   "execution_count": 4678,
   "id": "07b48b9d",
   "metadata": {},
   "outputs": [
    {
     "data": {
      "text/plain": [
       "'\\nTO PREVENT OVERFITTING\\n'"
      ]
     },
     "execution_count": 4678,
     "metadata": {},
     "output_type": "execute_result"
    }
   ],
   "source": [
    "gb = fit_gradient_boosting_regressor(\n",
    "    loss=\"huber\",\n",
    "    learning_rate=0.01,\n",
    "    max_depth=4,\n",
    "    max_features=\"sqrt\",\n",
    "    min_samples_leaf=2,\n",
    "    min_samples_split=8,\n",
    "    n_estimators=3000,\n",
    "    subsample=0.9,\n",
    ")\n",
    "\n",
    "\"\"\"\n",
    "TO PREVENT OVERFITTING\n",
    "\"\"\"\n",
    "# gb = fit_gradient_boosting_regressor(\n",
    "#     loss='huber',\n",
    "#     learning_rate=0.005,  # Decreased\n",
    "#     max_depth=3,  # Decreased\n",
    "#     max_features='sqrt',\n",
    "#     min_samples_leaf=4,  # Increased\n",
    "#     min_samples_split=10,  # Increased\n",
    "#     n_estimators=3000,  # Decreased\n",
    "#     subsample=0.7,  # Decreased\n",
    "#     validation_fraction=0.1,  # For early stopping\n",
    "#     n_iter_no_change=20  # For early stopping\n",
    "# )\n",
    "\n",
    "\n",
    "# quite overfitting, so will have to lower it although score decreases"
   ]
  },
  {
   "cell_type": "code",
   "execution_count": 4685,
   "id": "6a74ebe4",
   "metadata": {},
   "outputs": [
    {
     "data": {
      "image/png": "[encoded data removed]",
      "text/plain": [
       "<Figure size 500x300 with 1 Axes>"
      ]
     },
     "metadata": {},
     "output_type": "display_data"
    }
   ],
   "source": [
    "plot_learning_curve(gb)"
   ]
  },
  {
   "cell_type": "markdown",
   "id": "7646633b",
   "metadata": {},
   "source": [
    "### Scores with tunned models on Train data"
   ]
  },
  {
   "cell_type": "code",
   "execution_count": 4679,
   "id": "c89fd444",
   "metadata": {},
   "outputs": [
    {
     "name": "stdout",
     "output_type": "stream",
     "text": [
      "Model                     RMSEcv      RMSE        MAE      MSE      R^2     \n",
      "------------------------------------------------------------------------\n",
      "ElasticNet                0.10778     0.09264     0.07     0.01     0.94    \n",
      "XGBRegressor              0.10948     0.05561     0.04     0.00     0.98    \n",
      "Lasso                     0.11132     0.10197     0.07     0.01     0.93    \n",
      "GradientBoostingRegressor 0.11180     0.05394     0.03     0.00     0.98    \n",
      "Ridge                     0.11183     0.09534     0.07     0.01     0.94    \n"
     ]
    }
   ],
   "source": [
    "models = [xgb, ridge, lasso, enet, gb]  # excluding lgbm for now, takes some time.\n",
    "# models = [ridge, lasso] # for testing\n",
    "evaluate_models(models, X_train, y_train, 10)"
   ]
  },
  {
   "cell_type": "markdown",
   "id": "52562ebc",
   "metadata": {},
   "source": [
    "### Kaggle check 😎"
   ]
  },
  {
   "cell_type": "code",
   "execution_count": 4680,
   "id": "03def07f",
   "metadata": {},
   "outputs": [
    {
     "name": "stdout",
     "output_type": "stream",
     "text": [
      "Model                     RMSE       \n",
      "---------------------------------\n",
      "XGBRegressor              0.12783    \n",
      "GradientBoostingRegressor 0.13669    \n",
      "Ridge                     0.13822    \n",
      "Lasso                     0.14030    \n",
      "ElasticNet                0.14347    \n"
     ]
    }
   ],
   "source": [
    "df_train = pd.read_csv(\"./data/train.csv\")\n",
    "df_test_leak = pd.read_csv(\"./data/test_leaked.csv\")\n",
    "df_submission = df_test_leak.copy()\n",
    "\n",
    "df_both = pd.concat([df_train.drop(\"SalePrice\", axis=1), df_test_leak]).reset_index(\n",
    "    drop=True\n",
    ")\n",
    "\n",
    "df_both = fill_nulls(df_both)\n",
    "df_both = add_binary_features(df_both)\n",
    "df_both = add_aggr_features(df_both)\n",
    "df_both = remove_features(df_both)\n",
    "\n",
    "df_both_encoded = encode_features(df_both)\n",
    "\n",
    "df_test_leak_encoded = df_both_encoded[\n",
    "    df_both_encoded[\"SalePrice\"].notna()\n",
    "].reset_index(drop=True)\n",
    "\n",
    "X_test_ = scale_features(\n",
    "    df_test_leak_encoded.drop(\"SalePrice\", axis=1), ScalerType.ROBUST\n",
    ")\n",
    "y_test_ = np.log1p(df_test_leak_encoded[\"SalePrice\"])\n",
    "\n",
    "models = [xgb, ridge, lasso, enet, gb]\n",
    "# models = [ridge, lasso]\n",
    "evaluate_kaggle(models, X_test_, y_test_)"
   ]
  },
  {
   "cell_type": "markdown",
   "id": "37ab7a82",
   "metadata": {},
   "source": [
    "### Kaggle submission"
   ]
  },
  {
   "cell_type": "code",
   "execution_count": 4681,
   "id": "32500386",
   "metadata": {},
   "outputs": [],
   "source": [
    "def generate_submission(model, file_name):\n",
    "    \"\"\"expm1 -> inverse of the log price\"\"\"\n",
    "    submission = pd.DataFrame(\n",
    "        {\n",
    "            \"Id\": df_submission[\"Id\"],\n",
    "            \"SalePrice\": np.expm1(model.predict(X_test_)),\n",
    "        }\n",
    "    )\n",
    "    submission.to_csv(f\"./data/submission_{file_name}.csv\", index=False)\n",
    "    return submission"
   ]
  },
  {
   "cell_type": "code",
   "execution_count": 4682,
   "id": "3779a082",
   "metadata": {},
   "outputs": [],
   "source": [
    "# v1 XGBRegressor -> 0.12782\n",
    "# submission = generate_submission(xgb, 'v1_xgb')\n",
    "# submission.head(5)"
   ]
  },
  {
   "cell_type": "markdown",
   "id": "04fffc57",
   "metadata": {},
   "source": [
    "### Kaggle -> generate test file based on Ames file"
   ]
  },
  {
   "cell_type": "code",
   "execution_count": 4683,
   "id": "50de1827",
   "metadata": {},
   "outputs": [],
   "source": [
    "def generate_leak_file():\n",
    "    \"\"\"\n",
    "    Adaptation of Ames_Housing.csv to test.csv to get the sales prices:\n",
    "    - Quite some rows in Ames had values different to NA, but the file\n",
    "      has been updated in line with test.csv\n",
    "    - A field in Ames contained an extra space at the end -> fixed.\n",
    "    - A couple of records were repeated in Ames: 2714, 2866 from test.csv\n",
    "      Only one was picked up for test.csv.\"\"\"\n",
    "\n",
    "    df_ames = pd.read_csv(\"./data/AmesHousing.csv\", keep_default_na=False)\n",
    "    df_test = pd.read_csv(\"./data/test.csv\", keep_default_na=False)\n",
    "\n",
    "    print(f\"ames: {df_ames.shape}\")\n",
    "    print(f\"test: {df_test.shape}\")\n",
    "\n",
    "    # Drop the unique identifier columns from df_ames, but keep \"Id\" in df_test\n",
    "    df_ames.drop([\"Order\", \"PID\"], axis=1, inplace=True)\n",
    "\n",
    "    # Removing duplicates from df_ames, keeping the one with the highest SalePrice\n",
    "    df_ames = df_ames.sort_values(\"SalePrice\", ascending=False).drop_duplicates(\n",
    "        subset=df_ames.columns.difference([\"SalePrice\"]), keep=\"first\"\n",
    "    )\n",
    "\n",
    "    # Ensure the order of columns in df_test matches df_ames (excluding 'SalePrice')\n",
    "    common_columns = df_test.columns.tolist()\n",
    "    common_columns.remove(\"Id\")  # Exclude \"Id\" from the list of common columns\n",
    "    df_ames = df_ames[common_columns + [\"SalePrice\"]]\n",
    "\n",
    "    # Merge the 'SalePrice' column from df_ames into df_test with an indicator\n",
    "    df_test_new = pd.merge(\n",
    "        df_test, df_ames, on=common_columns, how=\"left\", indicator=True\n",
    "    )\n",
    "\n",
    "    # Keep only the records that originally exist in df_test\n",
    "    original_ids = df_test[\"Id\"]\n",
    "    df_test_new = df_test_new[df_test_new[\"Id\"].isin(original_ids)]\n",
    "\n",
    "    # Drop the '_merge' column\n",
    "    df_test_new.drop(columns=[\"_merge\"], inplace=True)\n",
    "\n",
    "    # Convert all numeric columns to integers\n",
    "    for col in df_test_new.columns:\n",
    "        if pd.api.types.is_numeric_dtype(df_test_new[col]):\n",
    "            df_test_new[col] = pd.to_numeric(df_test_new[col], errors=\"coerce\").astype(\n",
    "                \"Int64\"\n",
    "            )\n",
    "\n",
    "    # Explicitly convert 'NA' and 'None' to strings\n",
    "    for col in df_test_new.columns:\n",
    "        if df_test_new[col].dtype == \"object\":\n",
    "            df_test_new[col] = df_test_new[col].replace({\"NA\": \"NA\", \"None\": \"None\"})\n",
    "\n",
    "    print(f\"test: {df_test_new.shape}\")\n",
    "\n",
    "    df_test_new.to_csv(\"./data/test_leaked.csv\", index=False)\n",
    "\n",
    "\n",
    "# generate_leak_file()"
   ]
  },
  {
   "cell_type": "markdown",
   "id": "f4a88dbb",
   "metadata": {},
   "source": [
    "### Other stuff to be tested:"
   ]
  },
  {
   "cell_type": "code",
   "execution_count": 4684,
   "id": "3a16f605",
   "metadata": {},
   "outputs": [],
   "source": [
    "from scipy.stats import skew, boxcox_normmax\n",
    "from scipy.special import boxcox1p\n",
    "\n",
    "def apply_boxcox(df):\n",
    "    \"\"\"\n",
    "    Apply Box-Cox transformation to numerical features with skewness > 0.5 \n",
    "    \"\"\"\n",
    "    # Assuming 'features' is your DataFrame\n",
    "    numeric_dtypes = ['int16', 'int32', 'int64', 'float16', 'float32', 'float64']\n",
    "    numerics = [feature for feature in df.columns if df[feature].dtype in numeric_dtypes]\n",
    "\n",
    "    # Calculate skewness and select highly skewed features\n",
    "    skewness = df[numerics].apply(lambda x: skew(x.dropna()))\n",
    "    high_skewness = skewness[abs(skewness) > 0.5]\n",
    "    high_skew_features = high_skewness.index\n",
    "\n",
    "    # Apply Box-Cox transformation to highly skewed features\n",
    "    for feature in high_skew_features:\n",
    "        # Adding 1 to the feature values to ensure positivity as boxcox1p requires positive values\n",
    "        df[feature] = boxcox1p(df[feature], boxcox_normmax(df[feature] + 1))"
   ]
  },
  {
   "cell_type": "code",
   "execution_count": null,
   "id": "16c685bd",
   "metadata": {},
   "outputs": [],
   "source": []
  }
 ],
 "metadata": {
  "kernelspec": {
   "display_name": "Python 3 (ipykernel)",
   "language": "python",
   "name": "python3"
  },
  "language_info": {
   "codemirror_mode": {
    "name": "ipython",
    "version": 3
   },
   "file_extension": ".py",
   "mimetype": "text/x-python",
   "name": "python",
   "nbconvert_exporter": "python",
   "pygments_lexer": "ipython3",
   "version": "3.11.5"
  }
 },
 "nbformat": 4,
 "nbformat_minor": 5
}
