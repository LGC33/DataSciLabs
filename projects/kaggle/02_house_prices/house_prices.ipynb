{
 "cells": [
  {
   "cell_type": "markdown",
   "id": "b2bdd172",
   "metadata": {},
   "source": [
    "# House Prices - Advanced Regression Techniques\n",
    "*Predict sales prices and practice feature engineering, RFs, and gradient boosting*"
   ]
  },
  {
   "cell_type": "code",
   "execution_count": 904,
   "id": "1b8fd1e7-2a7f-48ea-9bf0-2e4aa8d36cde",
   "metadata": {},
   "outputs": [],
   "source": [
    "import numpy as np\n",
    "import pandas as pd\n",
    "import seaborn as sns\n",
    "import matplotlib.pyplot as plt\n",
    "\n",
    "# Set the aesthetics for the plots\n",
    "sns.set(style=\"whitegrid\", palette=\"muted\")\n",
    "\n",
    "RANDOM_STATE = 101\n",
    "\n",
    "# pd.set_option('display.precision', 2)"
   ]
  },
  {
   "cell_type": "markdown",
   "id": "822bbff9",
   "metadata": {},
   "source": [
    "### Data collection"
   ]
  },
  {
   "cell_type": "code",
   "execution_count": 905,
   "id": "4dffafdf",
   "metadata": {},
   "outputs": [
    {
     "data": {
      "text/html": [
       "<div>\n",
       "<style scoped>\n",
       "    .dataframe tbody tr th:only-of-type {\n",
       "        vertical-align: middle;\n",
       "    }\n",
       "\n",
       "    .dataframe tbody tr th {\n",
       "        vertical-align: top;\n",
       "    }\n",
       "\n",
       "    .dataframe thead th {\n",
       "        text-align: right;\n",
       "    }\n",
       "</style>\n",
       "<table border=\"1\" class=\"dataframe\">\n",
       "  <thead>\n",
       "    <tr style=\"text-align: right;\">\n",
       "      <th></th>\n",
       "      <th>Id</th>\n",
       "      <th>MSSubClass</th>\n",
       "      <th>MSZoning</th>\n",
       "      <th>LotFrontage</th>\n",
       "      <th>LotArea</th>\n",
       "      <th>Street</th>\n",
       "      <th>Alley</th>\n",
       "      <th>LotShape</th>\n",
       "      <th>LandContour</th>\n",
       "      <th>Utilities</th>\n",
       "      <th>...</th>\n",
       "      <th>PoolArea</th>\n",
       "      <th>PoolQC</th>\n",
       "      <th>Fence</th>\n",
       "      <th>MiscFeature</th>\n",
       "      <th>MiscVal</th>\n",
       "      <th>MoSold</th>\n",
       "      <th>YrSold</th>\n",
       "      <th>SaleType</th>\n",
       "      <th>SaleCondition</th>\n",
       "      <th>SalePrice</th>\n",
       "    </tr>\n",
       "  </thead>\n",
       "  <tbody>\n",
       "    <tr>\n",
       "      <th>0</th>\n",
       "      <td>1</td>\n",
       "      <td>60</td>\n",
       "      <td>RL</td>\n",
       "      <td>65.0</td>\n",
       "      <td>8450</td>\n",
       "      <td>Pave</td>\n",
       "      <td>NaN</td>\n",
       "      <td>Reg</td>\n",
       "      <td>Lvl</td>\n",
       "      <td>AllPub</td>\n",
       "      <td>...</td>\n",
       "      <td>0</td>\n",
       "      <td>NaN</td>\n",
       "      <td>NaN</td>\n",
       "      <td>NaN</td>\n",
       "      <td>0</td>\n",
       "      <td>2</td>\n",
       "      <td>2008</td>\n",
       "      <td>WD</td>\n",
       "      <td>Normal</td>\n",
       "      <td>208500</td>\n",
       "    </tr>\n",
       "    <tr>\n",
       "      <th>1</th>\n",
       "      <td>2</td>\n",
       "      <td>20</td>\n",
       "      <td>RL</td>\n",
       "      <td>80.0</td>\n",
       "      <td>9600</td>\n",
       "      <td>Pave</td>\n",
       "      <td>NaN</td>\n",
       "      <td>Reg</td>\n",
       "      <td>Lvl</td>\n",
       "      <td>AllPub</td>\n",
       "      <td>...</td>\n",
       "      <td>0</td>\n",
       "      <td>NaN</td>\n",
       "      <td>NaN</td>\n",
       "      <td>NaN</td>\n",
       "      <td>0</td>\n",
       "      <td>5</td>\n",
       "      <td>2007</td>\n",
       "      <td>WD</td>\n",
       "      <td>Normal</td>\n",
       "      <td>181500</td>\n",
       "    </tr>\n",
       "    <tr>\n",
       "      <th>1458</th>\n",
       "      <td>1459</td>\n",
       "      <td>20</td>\n",
       "      <td>RL</td>\n",
       "      <td>68.0</td>\n",
       "      <td>9717</td>\n",
       "      <td>Pave</td>\n",
       "      <td>NaN</td>\n",
       "      <td>Reg</td>\n",
       "      <td>Lvl</td>\n",
       "      <td>AllPub</td>\n",
       "      <td>...</td>\n",
       "      <td>0</td>\n",
       "      <td>NaN</td>\n",
       "      <td>NaN</td>\n",
       "      <td>NaN</td>\n",
       "      <td>0</td>\n",
       "      <td>4</td>\n",
       "      <td>2010</td>\n",
       "      <td>WD</td>\n",
       "      <td>Normal</td>\n",
       "      <td>142125</td>\n",
       "    </tr>\n",
       "    <tr>\n",
       "      <th>1459</th>\n",
       "      <td>1460</td>\n",
       "      <td>20</td>\n",
       "      <td>RL</td>\n",
       "      <td>75.0</td>\n",
       "      <td>9937</td>\n",
       "      <td>Pave</td>\n",
       "      <td>NaN</td>\n",
       "      <td>Reg</td>\n",
       "      <td>Lvl</td>\n",
       "      <td>AllPub</td>\n",
       "      <td>...</td>\n",
       "      <td>0</td>\n",
       "      <td>NaN</td>\n",
       "      <td>NaN</td>\n",
       "      <td>NaN</td>\n",
       "      <td>0</td>\n",
       "      <td>6</td>\n",
       "      <td>2008</td>\n",
       "      <td>WD</td>\n",
       "      <td>Normal</td>\n",
       "      <td>147500</td>\n",
       "    </tr>\n",
       "  </tbody>\n",
       "</table>\n",
       "<p>4 rows × 81 columns</p>\n",
       "</div>"
      ],
      "text/plain": [
       "        Id  MSSubClass MSZoning  LotFrontage  LotArea Street Alley LotShape  \\\n",
       "0        1          60       RL         65.0     8450   Pave   NaN      Reg   \n",
       "1        2          20       RL         80.0     9600   Pave   NaN      Reg   \n",
       "1458  1459          20       RL         68.0     9717   Pave   NaN      Reg   \n",
       "1459  1460          20       RL         75.0     9937   Pave   NaN      Reg   \n",
       "\n",
       "     LandContour Utilities  ... PoolArea PoolQC Fence MiscFeature MiscVal  \\\n",
       "0            Lvl    AllPub  ...        0    NaN   NaN         NaN       0   \n",
       "1            Lvl    AllPub  ...        0    NaN   NaN         NaN       0   \n",
       "1458         Lvl    AllPub  ...        0    NaN   NaN         NaN       0   \n",
       "1459         Lvl    AllPub  ...        0    NaN   NaN         NaN       0   \n",
       "\n",
       "     MoSold YrSold  SaleType  SaleCondition  SalePrice  \n",
       "0         2   2008        WD         Normal     208500  \n",
       "1         5   2007        WD         Normal     181500  \n",
       "1458      4   2010        WD         Normal     142125  \n",
       "1459      6   2008        WD         Normal     147500  \n",
       "\n",
       "[4 rows x 81 columns]"
      ]
     },
     "execution_count": 905,
     "metadata": {},
     "output_type": "execute_result"
    }
   ],
   "source": [
    "df_train = pd.read_csv(\"./data/train.csv\")\n",
    "pd.concat([df_train.head(2), df_train.tail(2)])"
   ]
  },
  {
   "cell_type": "markdown",
   "id": "5885f975",
   "metadata": {},
   "source": [
    "### EDA"
   ]
  },
  {
   "cell_type": "code",
   "execution_count": 906,
   "id": "710ba6dc",
   "metadata": {},
   "outputs": [
    {
     "name": "stdout",
     "output_type": "stream",
     "text": [
      "<class 'pandas.core.frame.DataFrame'>\n",
      "RangeIndex: 1460 entries, 0 to 1459\n",
      "Data columns (total 81 columns):\n",
      " #   Column         Non-Null Count  Dtype  \n",
      "---  ------         --------------  -----  \n",
      " 0   Id             1460 non-null   int64  \n",
      " 1   MSSubClass     1460 non-null   int64  \n",
      " 2   MSZoning       1460 non-null   object \n",
      " 3   LotFrontage    1201 non-null   float64\n",
      " 4   LotArea        1460 non-null   int64  \n",
      " 5   Street         1460 non-null   object \n",
      " 6   Alley          91 non-null     object \n",
      " 7   LotShape       1460 non-null   object \n",
      " 8   LandContour    1460 non-null   object \n",
      " 9   Utilities      1460 non-null   object \n",
      " 10  LotConfig      1460 non-null   object \n",
      " 11  LandSlope      1460 non-null   object \n",
      " 12  Neighborhood   1460 non-null   object \n",
      " 13  Condition1     1460 non-null   object \n",
      " 14  Condition2     1460 non-null   object \n",
      " 15  BldgType       1460 non-null   object \n",
      " 16  HouseStyle     1460 non-null   object \n",
      " 17  OverallQual    1460 non-null   int64  \n",
      " 18  OverallCond    1460 non-null   int64  \n",
      " 19  YearBuilt      1460 non-null   int64  \n",
      " 20  YearRemodAdd   1460 non-null   int64  \n",
      " 21  RoofStyle      1460 non-null   object \n",
      " 22  RoofMatl       1460 non-null   object \n",
      " 23  Exterior1st    1460 non-null   object \n",
      " 24  Exterior2nd    1460 non-null   object \n",
      " 25  MasVnrType     588 non-null    object \n",
      " 26  MasVnrArea     1452 non-null   float64\n",
      " 27  ExterQual      1460 non-null   object \n",
      " 28  ExterCond      1460 non-null   object \n",
      " 29  Foundation     1460 non-null   object \n",
      " 30  BsmtQual       1423 non-null   object \n",
      " 31  BsmtCond       1423 non-null   object \n",
      " 32  BsmtExposure   1422 non-null   object \n",
      " 33  BsmtFinType1   1423 non-null   object \n",
      " 34  BsmtFinSF1     1460 non-null   int64  \n",
      " 35  BsmtFinType2   1422 non-null   object \n",
      " 36  BsmtFinSF2     1460 non-null   int64  \n",
      " 37  BsmtUnfSF      1460 non-null   int64  \n",
      " 38  TotalBsmtSF    1460 non-null   int64  \n",
      " 39  Heating        1460 non-null   object \n",
      " 40  HeatingQC      1460 non-null   object \n",
      " 41  CentralAir     1460 non-null   object \n",
      " 42  Electrical     1459 non-null   object \n",
      " 43  1stFlrSF       1460 non-null   int64  \n",
      " 44  2ndFlrSF       1460 non-null   int64  \n",
      " 45  LowQualFinSF   1460 non-null   int64  \n",
      " 46  GrLivArea      1460 non-null   int64  \n",
      " 47  BsmtFullBath   1460 non-null   int64  \n",
      " 48  BsmtHalfBath   1460 non-null   int64  \n",
      " 49  FullBath       1460 non-null   int64  \n",
      " 50  HalfBath       1460 non-null   int64  \n",
      " 51  BedroomAbvGr   1460 non-null   int64  \n",
      " 52  KitchenAbvGr   1460 non-null   int64  \n",
      " 53  KitchenQual    1460 non-null   object \n",
      " 54  TotRmsAbvGrd   1460 non-null   int64  \n",
      " 55  Functional     1460 non-null   object \n",
      " 56  Fireplaces     1460 non-null   int64  \n",
      " 57  FireplaceQu    770 non-null    object \n",
      " 58  GarageType     1379 non-null   object \n",
      " 59  GarageYrBlt    1379 non-null   float64\n",
      " 60  GarageFinish   1379 non-null   object \n",
      " 61  GarageCars     1460 non-null   int64  \n",
      " 62  GarageArea     1460 non-null   int64  \n",
      " 63  GarageQual     1379 non-null   object \n",
      " 64  GarageCond     1379 non-null   object \n",
      " 65  PavedDrive     1460 non-null   object \n",
      " 66  WoodDeckSF     1460 non-null   int64  \n",
      " 67  OpenPorchSF    1460 non-null   int64  \n",
      " 68  EnclosedPorch  1460 non-null   int64  \n",
      " 69  3SsnPorch      1460 non-null   int64  \n",
      " 70  ScreenPorch    1460 non-null   int64  \n",
      " 71  PoolArea       1460 non-null   int64  \n",
      " 72  PoolQC         7 non-null      object \n",
      " 73  Fence          281 non-null    object \n",
      " 74  MiscFeature    54 non-null     object \n",
      " 75  MiscVal        1460 non-null   int64  \n",
      " 76  MoSold         1460 non-null   int64  \n",
      " 77  YrSold         1460 non-null   int64  \n",
      " 78  SaleType       1460 non-null   object \n",
      " 79  SaleCondition  1460 non-null   object \n",
      " 80  SalePrice      1460 non-null   int64  \n",
      "dtypes: float64(3), int64(35), object(43)\n",
      "memory usage: 924.0+ KB\n"
     ]
    }
   ],
   "source": [
    "df_train.info()\n",
    "# 1460 rows\n",
    "# 81 columns"
   ]
  },
  {
   "cell_type": "code",
   "execution_count": 907,
   "id": "f177a227",
   "metadata": {},
   "outputs": [
    {
     "name": "stdout",
     "output_type": "stream",
     "text": [
      "              # missing  % missing\n",
      "PoolQC             1453      99.52\n",
      "MiscFeature        1406      96.30\n",
      "Alley              1369      93.77\n",
      "Fence              1179      80.75\n",
      "MasVnrType          872      59.73\n",
      "FireplaceQu         690      47.26\n",
      "LotFrontage         259      17.74\n",
      "GarageYrBlt          81       5.55\n",
      "GarageCond           81       5.55\n",
      "GarageType           81       5.55\n",
      "GarageFinish         81       5.55\n",
      "GarageQual           81       5.55\n",
      "BsmtFinType2         38       2.60\n",
      "BsmtExposure         38       2.60\n",
      "BsmtQual             37       2.53\n",
      "BsmtCond             37       2.53\n",
      "BsmtFinType1         37       2.53\n",
      "MasVnrArea            8       0.55\n",
      "Electrical            1       0.07\n"
     ]
    }
   ],
   "source": [
    "def show_missing_data(df):\n",
    "    \"\"\"\n",
    "    Display number and percentage of columns with any missing value\n",
    "    \"\"\"\n",
    "    total = df.isnull().sum().sort_values(ascending=False)\n",
    "    percent = (\n",
    "        ((df.isnull().sum() / df.isnull().count()) * 100)\n",
    "        .sort_values(ascending=False)\n",
    "        .round(2)\n",
    "    )\n",
    "    missing_data = pd.concat([total, percent], axis=1, keys=[\"# missing\", \"% missing\"])\n",
    "    print(missing_data[missing_data[\"# missing\"] > 0])\n",
    "\n",
    "\n",
    "show_missing_data(df_train)"
   ]
  },
  {
   "cell_type": "markdown",
   "id": "c4ac66bc",
   "metadata": {},
   "source": [
    "- `PoolQC`, `MiscFeature`, `Alley`, `Fence` can be discarded (>80% missing records)\n",
    "- `MasVnrType`, `FireplaceQu` with 60% & 47% missing records. Are they relevant? can be infered?\n",
    "- `LotFrontage` with 18% missing records.  Relevant/can be infered?\n",
    "- There are 12 features with missing values than need handling"
   ]
  },
  {
   "cell_type": "code",
   "execution_count": 908,
   "id": "cd3aa5cb",
   "metadata": {},
   "outputs": [
    {
     "data": {
      "text/plain": [
       "MasVnrType\n",
       "Stone      265583.625000\n",
       "BrkFace    204691.871910\n",
       "BrkCmn     146318.066667\n",
       "Name: SalePrice, dtype: float64"
      ]
     },
     "execution_count": 908,
     "metadata": {},
     "output_type": "execute_result"
    }
   ],
   "source": [
    "df_train.groupby(\"MasVnrType\")[\"SalePrice\"].mean().sort_values(ascending=False)"
   ]
  },
  {
   "cell_type": "code",
   "execution_count": 909,
   "id": "e46ad2c0",
   "metadata": {},
   "outputs": [
    {
     "data": {
      "text/plain": [
       "FireplaceQu\n",
       "Ex    337712.500000\n",
       "Gd    226351.415789\n",
       "TA    205723.488818\n",
       "Fa    167298.484848\n",
       "Po    129764.150000\n",
       "Name: SalePrice, dtype: float64"
      ]
     },
     "execution_count": 909,
     "metadata": {},
     "output_type": "execute_result"
    }
   ],
   "source": [
    "df_train.groupby(\"FireplaceQu\")[\"SalePrice\"].mean().sort_values(ascending=False)"
   ]
  },
  {
   "cell_type": "code",
   "execution_count": 910,
   "id": "024dfcd8",
   "metadata": {},
   "outputs": [
    {
     "data": {
      "text/plain": [
       "LotFrontage\n",
       "153.0     52500.000000\n",
       "45.0      80500.000000\n",
       "21.0      94278.260870\n",
       "33.0     113000.000000\n",
       "50.0     122563.719298\n",
       "             ...      \n",
       "107.0    342947.571429\n",
       "150.0    375000.000000\n",
       "118.0    415000.000000\n",
       "104.0    473333.333333\n",
       "160.0    745000.000000\n",
       "Name: SalePrice, Length: 110, dtype: float64"
      ]
     },
     "execution_count": 910,
     "metadata": {},
     "output_type": "execute_result"
    }
   ],
   "source": [
    "df_train.groupby(\"LotFrontage\")[\"SalePrice\"].mean().sort_values(ascending=True)"
   ]
  },
  {
   "cell_type": "code",
   "execution_count": 911,
   "id": "0af5f641",
   "metadata": {},
   "outputs": [
    {
     "data": {
      "text/plain": [
       "GarageYrBlt\n",
       "2010.0    337874.666667\n",
       "2008.0    306569.034483\n",
       "2009.0    306111.000000\n",
       "2006.0    262001.338983\n",
       "1994.0    258100.000000\n",
       "              ...      \n",
       "1924.0    116166.666667\n",
       "1927.0    115000.000000\n",
       "1920.0    109992.857143\n",
       "1952.0    101331.000000\n",
       "1938.0     89850.000000\n",
       "Name: SalePrice, Length: 97, dtype: float64"
      ]
     },
     "execution_count": 911,
     "metadata": {},
     "output_type": "execute_result"
    }
   ],
   "source": [
    "df_train.groupby(\"GarageYrBlt\")[\"SalePrice\"].mean().sort_values(ascending=False)"
   ]
  },
  {
   "cell_type": "code",
   "execution_count": 912,
   "id": "d48a6c89",
   "metadata": {},
   "outputs": [
    {
     "data": {
      "text/plain": [
       "YearBuilt       0.825667\n",
       "YearRemodAdd    0.642277\n",
       "Name: GarageYrBlt, dtype: float64"
      ]
     },
     "execution_count": 912,
     "metadata": {},
     "output_type": "execute_result"
    }
   ],
   "source": [
    "# Correlation of GarageYrBlt with YearBuilt and YearRemodAdd\n",
    "df_train[\n",
    "    [\n",
    "        \"GarageYrBlt\",\n",
    "        \"YearBuilt\",\n",
    "        \"YearRemodAdd\",\n",
    "    ]\n",
    "].corr().loc[\"GarageYrBlt\", [\"YearBuilt\", \"YearRemodAdd\"]]"
   ]
  },
  {
   "cell_type": "markdown",
   "id": "c97787a5",
   "metadata": {},
   "source": [
    "☝🏻 Careful -> skewed distribution of price\n",
    "\n",
    "- In statistical analysis, a non-skewed distribution is typically a normal distribution, which resembles a bell curve when graphed. This means it's symmetric, with most of the observations clustering around the central peak and the probabilities for values further away from the mean tapering off equally in both directions.\n",
    "\n",
    "- If we don't apply a log transformation to SalePrice when it's skewed, your model may not perform as well, especially if it assumes that the residuals (errors) are normally distributed, as many linear models do. Applying a log transformation can help stabilize the variance across the data range and make the data conform more closely to the assumptions of parametric statistical tests, leading to more reliable statistical inference and potentially better model performance. If a log transformation is applied, the distribution should look more like a normal distribution, with fewer outliers and a more symmetric shape.\n",
    "\n",
    "- When should log **NOT** be applied to the target variable?\n",
    "  - The distribution of the target variable is already close to normal. Log transformation in such cases might lead to a worse fit.\n",
    "  - The model you're using is robust to non-normality, like tree-based models (e.g., decision trees, random forests).\n",
    "  - The range of the target variable is narrow with low variance, so the proportional differences are minimal.\n",
    "  - You have a binary or categorical target variable. In classification problems, log transformation is not applicable.\n",
    "  - The relationship between predictors and the target is linear, and there are no signs of heteroscedasticity (uneven spread of residuals)."
   ]
  },
  {
   "cell_type": "code",
   "execution_count": 913,
   "id": "aac86309",
   "metadata": {},
   "outputs": [
    {
     "data": {
      "text/plain": [
       "<Figure size 1000x1000 with 0 Axes>"
      ]
     },
     "metadata": {},
     "output_type": "display_data"
    },
    {
     "data": {
      "image/png": "[encoded data removed]",
      "text/plain": [
       "<Figure size 600x300 with 1 Axes>"
      ]
     },
     "metadata": {},
     "output_type": "display_data"
    }
   ],
   "source": [
    "plt.figure(figsize=(10, 10))\n",
    "sns.displot(df_train[\"SalePrice\"] / 100000, bins=40, kde=True, height=3, aspect=2)\n",
    "plt.xticks(ticks=[i for i in range(0, 8)], labels=[f\"{i}00K\" for i in range(0, 8)])\n",
    "plt.show()"
   ]
  },
  {
   "cell_type": "markdown",
   "id": "1a58f0ec",
   "metadata": {},
   "source": [
    "### Data cleaning & Preprocessing"
   ]
  },
  {
   "cell_type": "code",
   "execution_count": 914,
   "id": "bf8059dd",
   "metadata": {},
   "outputs": [],
   "source": [
    "# remove unnecessary fields\n",
    "df_train.drop([\"PoolQC\", \"MiscFeature\", \"Alley\", \"Fence\"], axis=1, inplace=True)\n",
    "\n",
    "# TODO: perhaps can be infered?\n",
    "df_train.drop([\"MasVnrType\", \"FireplaceQu\", \"LotFrontage\"], axis=1, inplace=True)\n",
    "\n",
    "# fill null `GarageYrBlt` using `YearBuilt` (numerical ft.)\n",
    "df_train[\"GarageYrBlt\"] = df_train[\"GarageYrBlt\"].fillna(df_train[\"YearBuilt\"])\n",
    "\n",
    "# fill null `GarageType`, `GarageFinish`, `GarageQual`, `GarageCond` (categorical ft.)\n",
    "garage_columns = [\"GarageType\", \"GarageFinish\", \"GarageQual\", \"GarageCond\"]\n",
    "df_train[garage_columns] = df_train[garage_columns].fillna(\"NoGarage\")"
   ]
  },
  {
   "cell_type": "code",
   "execution_count": 915,
   "id": "adb12238",
   "metadata": {},
   "outputs": [
    {
     "name": "stdout",
     "output_type": "stream",
     "text": [
      "              # missing  % missing\n",
      "BsmtFinType2         38       2.60\n",
      "BsmtExposure         38       2.60\n",
      "BsmtFinType1         37       2.53\n",
      "BsmtQual             37       2.53\n",
      "BsmtCond             37       2.53\n",
      "MasVnrArea            8       0.55\n",
      "Electrical            1       0.07\n"
     ]
    }
   ],
   "source": [
    "show_missing_data(df_train)\n",
    "# careful, still records with BsmtFinType2 or BsmtExposure null but the others not"
   ]
  },
  {
   "cell_type": "code",
   "execution_count": 916,
   "id": "67f89f16",
   "metadata": {},
   "outputs": [
    {
     "data": {
      "text/html": [
       "<div>\n",
       "<style scoped>\n",
       "    .dataframe tbody tr th:only-of-type {\n",
       "        vertical-align: middle;\n",
       "    }\n",
       "\n",
       "    .dataframe tbody tr th {\n",
       "        vertical-align: top;\n",
       "    }\n",
       "\n",
       "    .dataframe thead th {\n",
       "        text-align: right;\n",
       "    }\n",
       "</style>\n",
       "<table border=\"1\" class=\"dataframe\">\n",
       "  <thead>\n",
       "    <tr style=\"text-align: right;\">\n",
       "      <th></th>\n",
       "      <th>Id</th>\n",
       "      <th>BsmtQual</th>\n",
       "      <th>BsmtCond</th>\n",
       "      <th>BsmtExposure</th>\n",
       "      <th>BsmtFinType1</th>\n",
       "      <th>BsmtFinType2</th>\n",
       "    </tr>\n",
       "  </thead>\n",
       "  <tbody>\n",
       "    <tr>\n",
       "      <th>332</th>\n",
       "      <td>333</td>\n",
       "      <td>Gd</td>\n",
       "      <td>TA</td>\n",
       "      <td>No</td>\n",
       "      <td>GLQ</td>\n",
       "      <td>NaN</td>\n",
       "    </tr>\n",
       "  </tbody>\n",
       "</table>\n",
       "</div>"
      ],
      "text/plain": [
       "      Id BsmtQual BsmtCond BsmtExposure BsmtFinType1 BsmtFinType2\n",
       "332  333       Gd       TA           No          GLQ          NaN"
      ]
     },
     "execution_count": 916,
     "metadata": {},
     "output_type": "execute_result"
    }
   ],
   "source": [
    "basement_columns = [\n",
    "    \"BsmtQual\",\n",
    "    \"BsmtCond\",\n",
    "    \"BsmtExposure\",\n",
    "    \"BsmtFinType1\",\n",
    "    \"BsmtFinType2\",\n",
    "]\n",
    "condition = (df_train[\"BsmtFinType2\"].isnull()) & (df_train[\"BsmtFinType1\"].notnull())\n",
    "df_train[condition][[\"Id\"] + basement_columns]"
   ]
  },
  {
   "cell_type": "code",
   "execution_count": 917,
   "id": "3b885d07",
   "metadata": {},
   "outputs": [
    {
     "data": {
      "text/plain": [
       "BsmtFinType2\n",
       "Unf    392\n",
       "LwQ     10\n",
       "Rec      9\n",
       "ALQ      4\n",
       "BLQ      2\n",
       "Name: count, dtype: int64"
      ]
     },
     "execution_count": 917,
     "metadata": {},
     "output_type": "execute_result"
    }
   ],
   "source": [
    "df_train[df_train[\"BsmtFinType1\"] == \"GLQ\"][\"BsmtFinType2\"].value_counts()"
   ]
  },
  {
   "cell_type": "code",
   "execution_count": 918,
   "id": "8db96885",
   "metadata": {},
   "outputs": [],
   "source": [
    "df_train.loc[df_train[\"Id\"] == 333, \"BsmtFinType2\"] = \"Unf\""
   ]
  },
  {
   "cell_type": "code",
   "execution_count": 919,
   "id": "8092a031",
   "metadata": {},
   "outputs": [
    {
     "data": {
      "text/html": [
       "<div>\n",
       "<style scoped>\n",
       "    .dataframe tbody tr th:only-of-type {\n",
       "        vertical-align: middle;\n",
       "    }\n",
       "\n",
       "    .dataframe tbody tr th {\n",
       "        vertical-align: top;\n",
       "    }\n",
       "\n",
       "    .dataframe thead th {\n",
       "        text-align: right;\n",
       "    }\n",
       "</style>\n",
       "<table border=\"1\" class=\"dataframe\">\n",
       "  <thead>\n",
       "    <tr style=\"text-align: right;\">\n",
       "      <th></th>\n",
       "      <th>Id</th>\n",
       "      <th>BsmtQual</th>\n",
       "      <th>BsmtCond</th>\n",
       "      <th>BsmtExposure</th>\n",
       "      <th>BsmtFinType1</th>\n",
       "      <th>BsmtFinType2</th>\n",
       "    </tr>\n",
       "  </thead>\n",
       "  <tbody>\n",
       "    <tr>\n",
       "      <th>948</th>\n",
       "      <td>949</td>\n",
       "      <td>Gd</td>\n",
       "      <td>TA</td>\n",
       "      <td>NaN</td>\n",
       "      <td>Unf</td>\n",
       "      <td>Unf</td>\n",
       "    </tr>\n",
       "  </tbody>\n",
       "</table>\n",
       "</div>"
      ],
      "text/plain": [
       "      Id BsmtQual BsmtCond BsmtExposure BsmtFinType1 BsmtFinType2\n",
       "948  949       Gd       TA          NaN          Unf          Unf"
      ]
     },
     "execution_count": 919,
     "metadata": {},
     "output_type": "execute_result"
    }
   ],
   "source": [
    "condition = (df_train[\"BsmtExposure\"].isnull()) & (df_train[\"BsmtFinType1\"].notnull())\n",
    "df_train[condition][[\"Id\"] + basement_columns]"
   ]
  },
  {
   "cell_type": "code",
   "execution_count": 920,
   "id": "74243b2c",
   "metadata": {},
   "outputs": [
    {
     "data": {
      "text/plain": [
       "BsmtExposure\n",
       "No    345\n",
       "Av     46\n",
       "Mn     27\n",
       "Gd     11\n",
       "Name: count, dtype: int64"
      ]
     },
     "execution_count": 920,
     "metadata": {},
     "output_type": "execute_result"
    }
   ],
   "source": [
    "df_train[df_train[\"BsmtFinType1\"] == \"Unf\"][\"BsmtExposure\"].value_counts()"
   ]
  },
  {
   "cell_type": "code",
   "execution_count": 921,
   "id": "ee34a8bb",
   "metadata": {},
   "outputs": [],
   "source": [
    "df_train.loc[df_train[\"Id\"] == 949, \"BsmtExposure\"] = \"No\""
   ]
  },
  {
   "cell_type": "code",
   "execution_count": 922,
   "id": "e2f419ee",
   "metadata": {},
   "outputs": [
    {
     "name": "stdout",
     "output_type": "stream",
     "text": [
      "              # missing  % missing\n",
      "BsmtFinType1         37       2.53\n",
      "BsmtFinType2         37       2.53\n",
      "BsmtQual             37       2.53\n",
      "BsmtCond             37       2.53\n",
      "BsmtExposure         37       2.53\n",
      "MasVnrArea            8       0.55\n",
      "Electrical            1       0.07\n"
     ]
    }
   ],
   "source": [
    "show_missing_data(df_train)"
   ]
  },
  {
   "cell_type": "code",
   "execution_count": 923,
   "id": "17775dff",
   "metadata": {},
   "outputs": [],
   "source": [
    "# set value 'NoGarage' to all related garage fields with NaN values\n",
    "indices = df_train[df_train[\"BsmtFinType2\"].isnull()].index\n",
    "df_train.loc[indices, basement_columns] = \"NoGarage\""
   ]
  },
  {
   "cell_type": "code",
   "execution_count": 924,
   "id": "29c3abfa",
   "metadata": {},
   "outputs": [],
   "source": [
    "# fill null `MasVnrArea` with 0\n",
    "df_train[\"MasVnrArea\"] = df_train[\"MasVnrArea\"].fillna(0)"
   ]
  },
  {
   "cell_type": "code",
   "execution_count": 925,
   "id": "7a332383",
   "metadata": {},
   "outputs": [
    {
     "data": {
      "text/plain": [
       "Electrical\n",
       "SBrkr    1334\n",
       "FuseA      94\n",
       "FuseF      27\n",
       "FuseP       3\n",
       "Mix         1\n",
       "Name: count, dtype: int64"
      ]
     },
     "execution_count": 925,
     "metadata": {},
     "output_type": "execute_result"
    }
   ],
   "source": [
    "df_train[\"Electrical\"].value_counts()"
   ]
  },
  {
   "cell_type": "code",
   "execution_count": 926,
   "id": "30e51c2c",
   "metadata": {},
   "outputs": [],
   "source": [
    "# fill null `Electrical` with most common value, which is 'SBrkr'\n",
    "df_train[\"Electrical\"] = df_train[\"Electrical\"].fillna(\"SBrkr\")"
   ]
  },
  {
   "cell_type": "code",
   "execution_count": 927,
   "id": "4138ac74",
   "metadata": {},
   "outputs": [
    {
     "name": "stdout",
     "output_type": "stream",
     "text": [
      "Empty DataFrame\n",
      "Columns: [# missing, % missing]\n",
      "Index: []\n"
     ]
    }
   ],
   "source": [
    "show_missing_data(df_train)"
   ]
  },
  {
   "cell_type": "code",
   "execution_count": 928,
   "id": "9a6868de",
   "metadata": {},
   "outputs": [],
   "source": [
    "df_train.drop(\"Id\", axis=1, inplace=True)"
   ]
  },
  {
   "cell_type": "markdown",
   "id": "d291f9b2",
   "metadata": {},
   "source": [
    "### Feature Engineering"
   ]
  },
  {
   "cell_type": "code",
   "execution_count": 929,
   "id": "fd408afb",
   "metadata": {},
   "outputs": [],
   "source": [
    "# TODO"
   ]
  },
  {
   "cell_type": "markdown",
   "id": "fe33ef1a",
   "metadata": {},
   "source": [
    "### Encoding categorical data"
   ]
  },
  {
   "cell_type": "code",
   "execution_count": 930,
   "id": "8d092586",
   "metadata": {},
   "outputs": [],
   "source": [
    "# List of columns to encode\n",
    "columns_to_encode = df_train.select_dtypes(\n",
    "    include=[\"object\", \"category\"]\n",
    ").columns.tolist()\n",
    "encoded_df_train = pd.get_dummies(df_train, columns=columns_to_encode, drop_first=True)"
   ]
  },
  {
   "cell_type": "markdown",
   "id": "644e1e3a",
   "metadata": {},
   "source": [
    "### Split dataset into Train/Test data"
   ]
  },
  {
   "cell_type": "code",
   "execution_count": 931,
   "id": "a6aeecfb",
   "metadata": {},
   "outputs": [],
   "source": [
    "from sklearn.model_selection import train_test_split\n",
    "\n",
    "X = encoded_df_train.drop(\"SalePrice\", axis=1)\n",
    "y = encoded_df_train[\"SalePrice\"]\n",
    "\n",
    "# Applying log transformation\n",
    "y_log = np.log1p(encoded_df_train[\"SalePrice\"])\n",
    "\n",
    "X_train, X_test, y_train, y_test = train_test_split(\n",
    "    X, y_log, test_size=0.2, random_state=RANDOM_STATE\n",
    ")"
   ]
  },
  {
   "cell_type": "markdown",
   "id": "5b8e9ab8",
   "metadata": {},
   "source": [
    "### Regression Models"
   ]
  },
  {
   "cell_type": "code",
   "execution_count": 932,
   "id": "350311ad",
   "metadata": {},
   "outputs": [],
   "source": [
    "from xgboost import XGBRegressor\n",
    "\n",
    "\n",
    "def fit_xgb_regressor(\n",
    "    colsample_bytree=1,\n",
    "    gamma=0,\n",
    "    learning_rate=0.3,\n",
    "    max_depth=6,\n",
    "    min_child_weight=1,\n",
    "    n_estimators=100,\n",
    "    objective=\"reg:squarederror\",\n",
    "    reg_alpha=0,\n",
    "    scale_pos_weight=1,\n",
    "    subsample=1,\n",
    "):\n",
    "    xgb = XGBRegressor(\n",
    "        learning_rate=learning_rate,\n",
    "        n_estimators=n_estimators,\n",
    "        max_depth=max_depth,\n",
    "        min_child_weight=min_child_weight,\n",
    "        gamma=gamma,\n",
    "        subsample=subsample,\n",
    "        colsample_bytree=colsample_bytree,\n",
    "        objective=objective,\n",
    "        nthread=-1,\n",
    "        scale_pos_weight=scale_pos_weight,\n",
    "        seed=RANDOM_STATE,\n",
    "        reg_alpha=reg_alpha,\n",
    "    )\n",
    "    xgb.fit(X_train, y_train)\n",
    "    return xgb"
   ]
  },
  {
   "cell_type": "code",
   "execution_count": 933,
   "id": "ad436080",
   "metadata": {},
   "outputs": [],
   "source": [
    "# from xgboost import XGBRegressor\n",
    "\n",
    "# regressor = XGBRegressor(\n",
    "#     learning_rate=0.01,\n",
    "#     n_estimators=3460,\n",
    "#     max_depth=3,\n",
    "#     min_child_weight=0,\n",
    "#     gamma=0,\n",
    "#     subsample=0.7,\n",
    "#     colsample_bytree=0.7,\n",
    "#     objective=\"reg:squarederror\",\n",
    "#     nthread=-1,\n",
    "#     scale_pos_weight=1,\n",
    "#     seed=27,\n",
    "#     reg_alpha=0.00006,\n",
    "# )\n",
    "\n",
    "# regressor.fit(X_train, y_train)"
   ]
  },
  {
   "cell_type": "markdown",
   "id": "90a6504e",
   "metadata": {},
   "source": [
    "### Fit Models"
   ]
  },
  {
   "cell_type": "code",
   "execution_count": 934,
   "id": "c81ed7a8",
   "metadata": {},
   "outputs": [],
   "source": [
    "xgb = fit_xgb_regressor()"
   ]
  },
  {
   "cell_type": "markdown",
   "id": "eab0bfee",
   "metadata": {},
   "source": [
    "### Evaluation Functions"
   ]
  },
  {
   "cell_type": "code",
   "execution_count": 935,
   "id": "4c0ad97a",
   "metadata": {},
   "outputs": [],
   "source": [
    "from sklearn.model_selection import KFold, cross_val_score\n",
    "from sklearn.metrics import mean_squared_error, mean_absolute_error, r2_score\n",
    "\n",
    "\n",
    "def evaluate_models(regressors, cv=10):\n",
    "    results = []\n",
    "    kfolds = KFold(n_splits=cv, shuffle=True, random_state=RANDOM_STATE)\n",
    "    for regressor in regressors:\n",
    "        y_pred = regressor.predict(X_test)\n",
    "        r2 = r2_score(y_test, y_pred)\n",
    "        mae = mean_absolute_error(y_test, y_pred)\n",
    "        mse = mean_squared_error(y_test, y_pred)\n",
    "        rmse = np.sqrt(mean_squared_error(y_test, y_pred))\n",
    "        rmse_cv = np.sqrt(\n",
    "            -cross_val_score(\n",
    "                regressor, X, y_log, scoring=\"neg_mean_squared_error\", cv=kfolds\n",
    "            )\n",
    "        )\n",
    "        results.append(\n",
    "            {\n",
    "                \"Model\": type(regressor).__name__,\n",
    "                \"MAE\": mae,\n",
    "                \"MSE\": mse,\n",
    "                \"RMSE\": rmse,\n",
    "                \"RMSEcv\": rmse_cv.mean(),\n",
    "                \"R^2\": r2,\n",
    "            }\n",
    "        )\n",
    "    sorted_results = sorted(results, key=lambda x: x[\"RMSE\"], reverse=True)\n",
    "    print(f\"{'Model':<25} {'RMSEcv':<8} {'RMSE':<8} {'MAE':<8} {'MSE':<8} {'R^2':<8}\")\n",
    "    print(\"-\" * 66)\n",
    "    for result in sorted_results:\n",
    "        metrics = f\"{result['RMSEcv']:<8.2f} {result['RMSE']:<8.2f} \"\n",
    "        metrics += f\"{result['MAE']:<8.2f} {result['MSE']:<8.2f} {result['R^2']:<8.2f}\"\n",
    "        print(f\"{result['Model']:<25} {metrics}\")"
   ]
  },
  {
   "cell_type": "code",
   "execution_count": 936,
   "id": "795c9a75",
   "metadata": {},
   "outputs": [],
   "source": [
    "from sklearn.model_selection import learning_curve\n",
    "import numpy as np\n",
    "import matplotlib.pyplot as plt\n",
    "import seaborn as sns\n",
    "\n",
    "\n",
    "def plot_learning_curve(\n",
    "    estimator,\n",
    "    X= X,\n",
    "    y = y_log,\n",
    "    cv=5,\n",
    "    n_jobs=-1,\n",
    "    train_sizes=np.linspace(0.1, 1.0, 5),\n",
    "    fig_size=(6, 4),\n",
    "):\n",
    "    plt.figure(figsize=fig_size)\n",
    "    train_sizes, train_scores, test_scores = learning_curve(\n",
    "        estimator,\n",
    "        X,\n",
    "        y,\n",
    "        cv=cv,\n",
    "        scoring=\"neg_mean_squared_error\",\n",
    "        n_jobs=n_jobs,\n",
    "        train_sizes=train_sizes,\n",
    "    )\n",
    "\n",
    "    # Take the negative of the scores because 'neg_mean_squared_error' is used\n",
    "    train_scores_mean = np.sqrt(-np.mean(train_scores, axis=1))\n",
    "    test_scores_mean = np.sqrt(-np.mean(test_scores, axis=1))\n",
    "\n",
    "    sns.lineplot(x=train_sizes, y=train_scores_mean, label=\"Training score\")\n",
    "    sns.lineplot(x=train_sizes, y=test_scores_mean, label=\"Cross-validation score\")\n",
    "\n",
    "    plt.title(f\"Learning Curve (RMSE) - {type(estimator).__name__}\")\n",
    "    plt.xlabel(\"Training examples\")\n",
    "    plt.ylabel(\"RMSE\")\n",
    "    plt.legend()\n",
    "    plt.show()"
   ]
  },
  {
   "cell_type": "code",
   "execution_count": 937,
   "id": "11c5bd7a",
   "metadata": {},
   "outputs": [],
   "source": [
    "from sklearn.model_selection import GridSearchCV\n",
    "\n",
    "\n",
    "def evaluate_model_grid_search_cv(\n",
    "    regressor,\n",
    "    X_train,\n",
    "    y_train,\n",
    "    params,\n",
    "    cv=10,\n",
    "    scoring=\"neg_mean_squared_error\",\n",
    "    n_jobs=-1,\n",
    "):\n",
    "    grid_search = GridSearchCV(\n",
    "        estimator=regressor, param_grid=params, scoring=scoring, cv=cv, n_jobs=n_jobs\n",
    "    )\n",
    "    grid_search.fit(X=X_train, y=y_train)\n",
    "    best_score = np.sqrt(-grid_search.best_score_)\n",
    "    best_params = grid_search.best_params_\n",
    "    print(f\"Model: {type(regressor).__name__}\")\n",
    "    print(f\" - Best RMSE: {best_score}\")\n",
    "    print(f\" - Best params: {best_params}\")"
   ]
  },
  {
   "cell_type": "markdown",
   "id": "801ca983",
   "metadata": {},
   "source": [
    "### Evaluate Models"
   ]
  },
  {
   "cell_type": "code",
   "execution_count": 938,
   "id": "636d5c79",
   "metadata": {},
   "outputs": [
    {
     "name": "stdout",
     "output_type": "stream",
     "text": [
      "Model                     RMSEcv   RMSE     MAE      MSE      R^2     \n",
      "------------------------------------------------------------------\n",
      "XGBRegressor              0.15     0.16     0.11     0.03     0.85    \n"
     ]
    }
   ],
   "source": [
    "models = [xgb]\n",
    "evaluate_models(models, 2)"
   ]
  },
  {
   "cell_type": "code",
   "execution_count": 939,
   "id": "275eda84",
   "metadata": {},
   "outputs": [
    {
     "data": {
      "image/png": "[encoded data removed]",
      "text/plain": [
       "<Figure size 600x400 with 1 Axes>"
      ]
     },
     "metadata": {},
     "output_type": "display_data"
    }
   ],
   "source": [
    "plot_learning_curve(xgb)"
   ]
  },
  {
   "cell_type": "markdown",
   "id": "7ea84e49",
   "metadata": {},
   "source": [
    "### Tune Models"
   ]
  },
  {
   "cell_type": "code",
   "execution_count": 940,
   "id": "0d18f400",
   "metadata": {},
   "outputs": [
    {
     "name": "stdout",
     "output_type": "stream",
     "text": [
      "Model: XGBRegressor\n",
      " - Best RMSE: 0.12283198829061004\n",
      " - Best params: {'colsample_bytree': 0.7, 'gamma': 0, 'learning_rate': 0.01, 'max_depth': 2, 'min_child_weight': 0, 'n_estimators': 3460, 'objective': 'reg:squarederror', 'reg_alpha': 6e-05, 'scale_pos_weight': 1, 'subsample': 0.7}\n"
     ]
    }
   ],
   "source": [
    "params = {\n",
    "    \"colsample_bytree\": [0.7],\n",
    "    \"gamma\": [0],\n",
    "    \"learning_rate\": [0.01, 0.05],\n",
    "    \"max_depth\": [2, 3],\n",
    "    \"min_child_weight\": [0],\n",
    "    \"n_estimators\": [2500, 3460],\n",
    "    \"objective\": [\"reg:squarederror\"],\n",
    "    \"reg_alpha\": [0.00006],\n",
    "    \"scale_pos_weight\": [1],\n",
    "    \"subsample\": [0.7, 0.8],\n",
    "}\n",
    "\n",
    "evaluate_model_grid_search_cv(xgb, X_train, y_train, params, 5)"
   ]
  },
  {
   "cell_type": "code",
   "execution_count": 941,
   "id": "fc5dba7e",
   "metadata": {},
   "outputs": [],
   "source": [
    "# xgb = fit_xgb_regressor(\n",
    "#     0.01, 3460, 3, 0, 0, 0.7, 0.7, \"reg:squarederror\", 1, 0.00006\n",
    "# )  # rmse: 0.12\n",
    "xgb = fit_xgb_regressor(\n",
    "    colsample_bytree=0.7,\n",
    "    gamma=0,\n",
    "    learning_rate=0.01,\n",
    "    max_depth=3,\n",
    "    min_child_weight=0,\n",
    "    n_estimators=3460,\n",
    "    objective=\"reg:squarederror\",\n",
    "    reg_alpha=0.00006,\n",
    "    scale_pos_weight=1,\n",
    "    subsample=0.7,\n",
    ")"
   ]
  },
  {
   "cell_type": "code",
   "execution_count": 942,
   "id": "c89fd444",
   "metadata": {},
   "outputs": [
    {
     "name": "stdout",
     "output_type": "stream",
     "text": [
      "Model                     RMSEcv   RMSE     MAE      MSE      R^2     \n",
      "------------------------------------------------------------------\n",
      "XGBRegressor              0.12     0.13     0.08     0.02     0.90    \n"
     ]
    }
   ],
   "source": [
    "models = [xgb]\n",
    "evaluate_models(models, 2)"
   ]
  },
  {
   "cell_type": "code",
   "execution_count": 943,
   "id": "62592aa2",
   "metadata": {},
   "outputs": [
    {
     "data": {
      "image/png": "[encoded data removed]",
      "text/plain": [
       "<Figure size 600x400 with 1 Axes>"
      ]
     },
     "metadata": {},
     "output_type": "display_data"
    }
   ],
   "source": [
    "plot_learning_curve(xgb)"
   ]
  },
  {
   "cell_type": "code",
   "execution_count": null,
   "id": "4cecb4ad",
   "metadata": {},
   "outputs": [],
   "source": []
  }
 ],
 "metadata": {
  "kernelspec": {
   "display_name": "Python 3 (ipykernel)",
   "language": "python",
   "name": "python3"
  },
  "language_info": {
   "codemirror_mode": {
    "name": "ipython",
    "version": 3
   },
   "file_extension": ".py",
   "mimetype": "text/x-python",
   "name": "python",
   "nbconvert_exporter": "python",
   "pygments_lexer": "ipython3",
   "version": "3.11.5"
  }
 },
 "nbformat": 4,
 "nbformat_minor": 5
}
