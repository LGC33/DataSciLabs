{
 "cells": [
  {
   "cell_type": "markdown",
   "id": "b2bdd172",
   "metadata": {},
   "source": [
    "# House Prices - Advanced Regression Techniques\n",
    "*Predict sales prices and practice feature engineering, RFs, and gradient boosting*"
   ]
  },
  {
   "cell_type": "code",
   "execution_count": 487,
   "id": "1b8fd1e7-2a7f-48ea-9bf0-2e4aa8d36cde",
   "metadata": {},
   "outputs": [],
   "source": [
    "import numpy as np\n",
    "import pandas as pd\n",
    "import seaborn as sns\n",
    "import matplotlib.pyplot as plt\n",
    "\n",
    "# Set the aesthetics for the plots\n",
    "sns.set(style=\"whitegrid\", palette=\"muted\")\n",
    "\n",
    "RANDOM_STATE = 101\n",
    "\n",
    "# pd.set_option('display.precision', 2)"
   ]
  },
  {
   "cell_type": "markdown",
   "id": "822bbff9",
   "metadata": {},
   "source": [
    "### Data collection"
   ]
  },
  {
   "cell_type": "code",
   "execution_count": 488,
   "id": "4dffafdf",
   "metadata": {},
   "outputs": [
    {
     "data": {
      "text/html": [
       "<div>\n",
       "<style scoped>\n",
       "    .dataframe tbody tr th:only-of-type {\n",
       "        vertical-align: middle;\n",
       "    }\n",
       "\n",
       "    .dataframe tbody tr th {\n",
       "        vertical-align: top;\n",
       "    }\n",
       "\n",
       "    .dataframe thead th {\n",
       "        text-align: right;\n",
       "    }\n",
       "</style>\n",
       "<table border=\"1\" class=\"dataframe\">\n",
       "  <thead>\n",
       "    <tr style=\"text-align: right;\">\n",
       "      <th></th>\n",
       "      <th>Id</th>\n",
       "      <th>MSSubClass</th>\n",
       "      <th>MSZoning</th>\n",
       "      <th>LotFrontage</th>\n",
       "      <th>LotArea</th>\n",
       "      <th>Street</th>\n",
       "      <th>Alley</th>\n",
       "      <th>LotShape</th>\n",
       "      <th>LandContour</th>\n",
       "      <th>Utilities</th>\n",
       "      <th>...</th>\n",
       "      <th>PoolArea</th>\n",
       "      <th>PoolQC</th>\n",
       "      <th>Fence</th>\n",
       "      <th>MiscFeature</th>\n",
       "      <th>MiscVal</th>\n",
       "      <th>MoSold</th>\n",
       "      <th>YrSold</th>\n",
       "      <th>SaleType</th>\n",
       "      <th>SaleCondition</th>\n",
       "      <th>SalePrice</th>\n",
       "    </tr>\n",
       "  </thead>\n",
       "  <tbody>\n",
       "    <tr>\n",
       "      <th>0</th>\n",
       "      <td>1</td>\n",
       "      <td>60</td>\n",
       "      <td>RL</td>\n",
       "      <td>65.0</td>\n",
       "      <td>8450</td>\n",
       "      <td>Pave</td>\n",
       "      <td>NaN</td>\n",
       "      <td>Reg</td>\n",
       "      <td>Lvl</td>\n",
       "      <td>AllPub</td>\n",
       "      <td>...</td>\n",
       "      <td>0</td>\n",
       "      <td>NaN</td>\n",
       "      <td>NaN</td>\n",
       "      <td>NaN</td>\n",
       "      <td>0</td>\n",
       "      <td>2</td>\n",
       "      <td>2008</td>\n",
       "      <td>WD</td>\n",
       "      <td>Normal</td>\n",
       "      <td>208500</td>\n",
       "    </tr>\n",
       "    <tr>\n",
       "      <th>1</th>\n",
       "      <td>2</td>\n",
       "      <td>20</td>\n",
       "      <td>RL</td>\n",
       "      <td>80.0</td>\n",
       "      <td>9600</td>\n",
       "      <td>Pave</td>\n",
       "      <td>NaN</td>\n",
       "      <td>Reg</td>\n",
       "      <td>Lvl</td>\n",
       "      <td>AllPub</td>\n",
       "      <td>...</td>\n",
       "      <td>0</td>\n",
       "      <td>NaN</td>\n",
       "      <td>NaN</td>\n",
       "      <td>NaN</td>\n",
       "      <td>0</td>\n",
       "      <td>5</td>\n",
       "      <td>2007</td>\n",
       "      <td>WD</td>\n",
       "      <td>Normal</td>\n",
       "      <td>181500</td>\n",
       "    </tr>\n",
       "    <tr>\n",
       "      <th>1458</th>\n",
       "      <td>1459</td>\n",
       "      <td>20</td>\n",
       "      <td>RL</td>\n",
       "      <td>68.0</td>\n",
       "      <td>9717</td>\n",
       "      <td>Pave</td>\n",
       "      <td>NaN</td>\n",
       "      <td>Reg</td>\n",
       "      <td>Lvl</td>\n",
       "      <td>AllPub</td>\n",
       "      <td>...</td>\n",
       "      <td>0</td>\n",
       "      <td>NaN</td>\n",
       "      <td>NaN</td>\n",
       "      <td>NaN</td>\n",
       "      <td>0</td>\n",
       "      <td>4</td>\n",
       "      <td>2010</td>\n",
       "      <td>WD</td>\n",
       "      <td>Normal</td>\n",
       "      <td>142125</td>\n",
       "    </tr>\n",
       "    <tr>\n",
       "      <th>1459</th>\n",
       "      <td>1460</td>\n",
       "      <td>20</td>\n",
       "      <td>RL</td>\n",
       "      <td>75.0</td>\n",
       "      <td>9937</td>\n",
       "      <td>Pave</td>\n",
       "      <td>NaN</td>\n",
       "      <td>Reg</td>\n",
       "      <td>Lvl</td>\n",
       "      <td>AllPub</td>\n",
       "      <td>...</td>\n",
       "      <td>0</td>\n",
       "      <td>NaN</td>\n",
       "      <td>NaN</td>\n",
       "      <td>NaN</td>\n",
       "      <td>0</td>\n",
       "      <td>6</td>\n",
       "      <td>2008</td>\n",
       "      <td>WD</td>\n",
       "      <td>Normal</td>\n",
       "      <td>147500</td>\n",
       "    </tr>\n",
       "  </tbody>\n",
       "</table>\n",
       "<p>4 rows × 81 columns</p>\n",
       "</div>"
      ],
      "text/plain": [
       "        Id  MSSubClass MSZoning  LotFrontage  LotArea Street Alley LotShape  \\\n",
       "0        1          60       RL         65.0     8450   Pave   NaN      Reg   \n",
       "1        2          20       RL         80.0     9600   Pave   NaN      Reg   \n",
       "1458  1459          20       RL         68.0     9717   Pave   NaN      Reg   \n",
       "1459  1460          20       RL         75.0     9937   Pave   NaN      Reg   \n",
       "\n",
       "     LandContour Utilities  ... PoolArea PoolQC Fence MiscFeature MiscVal  \\\n",
       "0            Lvl    AllPub  ...        0    NaN   NaN         NaN       0   \n",
       "1            Lvl    AllPub  ...        0    NaN   NaN         NaN       0   \n",
       "1458         Lvl    AllPub  ...        0    NaN   NaN         NaN       0   \n",
       "1459         Lvl    AllPub  ...        0    NaN   NaN         NaN       0   \n",
       "\n",
       "     MoSold YrSold  SaleType  SaleCondition  SalePrice  \n",
       "0         2   2008        WD         Normal     208500  \n",
       "1         5   2007        WD         Normal     181500  \n",
       "1458      4   2010        WD         Normal     142125  \n",
       "1459      6   2008        WD         Normal     147500  \n",
       "\n",
       "[4 rows x 81 columns]"
      ]
     },
     "execution_count": 488,
     "metadata": {},
     "output_type": "execute_result"
    }
   ],
   "source": [
    "df_train = pd.read_csv(\"./data/train.csv\")\n",
    "pd.concat([df_train.head(2), df_train.tail(2)])"
   ]
  },
  {
   "cell_type": "markdown",
   "id": "5885f975",
   "metadata": {},
   "source": [
    "### EDA"
   ]
  },
  {
   "cell_type": "code",
   "execution_count": 489,
   "id": "710ba6dc",
   "metadata": {},
   "outputs": [
    {
     "data": {
      "text/plain": [
       "(1460, 81)"
      ]
     },
     "execution_count": 489,
     "metadata": {},
     "output_type": "execute_result"
    }
   ],
   "source": [
    "df_train.shape"
   ]
  },
  {
   "cell_type": "code",
   "execution_count": 490,
   "id": "f177a227",
   "metadata": {},
   "outputs": [
    {
     "name": "stdout",
     "output_type": "stream",
     "text": [
      "              # missing  % missing\n",
      "PoolQC             1453      99.52\n",
      "MiscFeature        1406      96.30\n",
      "Alley              1369      93.77\n",
      "Fence              1179      80.75\n",
      "MasVnrType          872      59.73\n",
      "FireplaceQu         690      47.26\n",
      "LotFrontage         259      17.74\n",
      "GarageYrBlt          81       5.55\n",
      "GarageCond           81       5.55\n",
      "GarageType           81       5.55\n",
      "GarageFinish         81       5.55\n",
      "GarageQual           81       5.55\n",
      "BsmtFinType2         38       2.60\n",
      "BsmtExposure         38       2.60\n",
      "BsmtQual             37       2.53\n",
      "BsmtCond             37       2.53\n",
      "BsmtFinType1         37       2.53\n",
      "MasVnrArea            8       0.55\n",
      "Electrical            1       0.07\n"
     ]
    }
   ],
   "source": [
    "def show_missing_data(df):\n",
    "    \"\"\"\n",
    "    Display number and percentage of columns with any missing value\n",
    "    \"\"\"\n",
    "    total = df.isnull().sum().sort_values(ascending=False)\n",
    "    percent = (\n",
    "        ((df.isnull().sum() / df.isnull().count()) * 100)\n",
    "        .sort_values(ascending=False)\n",
    "        .round(2)\n",
    "    )\n",
    "    missing_data = pd.concat([total, percent], axis=1, keys=[\"# missing\", \"% missing\"])\n",
    "    print(missing_data[missing_data[\"# missing\"] > 0])\n",
    "\n",
    "\n",
    "show_missing_data(df_train)"
   ]
  },
  {
   "cell_type": "markdown",
   "id": "c4ac66bc",
   "metadata": {},
   "source": [
    "- `PoolQC`=NA means no pool\n",
    "- `MiscFeature`=NA means there are no extra features (e.g.: Elevator, Tennis Court..)\n",
    "- `Alley`=NA means no alley access\n",
    "- `Fence`=NA means no fence\n",
    "- `MasVnrType`=NA means None\n",
    "- `FireplaceQu`=NA means no Fireplace\n",
    "- `LotFrontage` with 18% missing records.  Relevant/can be infered?\n",
    "- There are 12 features with missing values than need handling"
   ]
  },
  {
   "cell_type": "code",
   "execution_count": 491,
   "id": "e369fd94",
   "metadata": {},
   "outputs": [
    {
     "data": {
      "text/plain": [
       "Utilities\n",
       "AllPub    1459\n",
       "NoSeWa       1\n",
       "Name: count, dtype: int64"
      ]
     },
     "execution_count": 491,
     "metadata": {},
     "output_type": "execute_result"
    }
   ],
   "source": [
    "# only 1 value different -> to be discarded!\n",
    "df_train['Utilities'].value_counts()"
   ]
  },
  {
   "cell_type": "code",
   "execution_count": 492,
   "id": "3a118b86",
   "metadata": {},
   "outputs": [
    {
     "data": {
      "text/plain": [
       "Street\n",
       "Pave    1454\n",
       "Grvl       6\n",
       "Name: count, dtype: int64"
      ]
     },
     "execution_count": 492,
     "metadata": {},
     "output_type": "execute_result"
    }
   ],
   "source": [
    "# only 6 values different -> to be discarded!\n",
    "df_train['Street'].value_counts()"
   ]
  },
  {
   "cell_type": "code",
   "execution_count": 493,
   "id": "29f1055d",
   "metadata": {},
   "outputs": [
    {
     "data": {
      "text/plain": [
       "PoolQC\n",
       "Gd    3\n",
       "Ex    2\n",
       "Fa    2\n",
       "Name: count, dtype: int64"
      ]
     },
     "execution_count": 493,
     "metadata": {},
     "output_type": "execute_result"
    }
   ],
   "source": [
    "# only 6 values different -> to be discarded!\n",
    "df_train['PoolQC'].value_counts()"
   ]
  },
  {
   "cell_type": "code",
   "execution_count": 494,
   "id": "d48a6c89",
   "metadata": {},
   "outputs": [
    {
     "data": {
      "text/plain": [
       "YearBuilt       0.825667\n",
       "YearRemodAdd    0.642277\n",
       "Name: GarageYrBlt, dtype: float64"
      ]
     },
     "execution_count": 494,
     "metadata": {},
     "output_type": "execute_result"
    }
   ],
   "source": [
    "# Correlation of GarageYrBlt with YearBuilt and YearRemodAdd\n",
    "df_train[\n",
    "    [\n",
    "        \"GarageYrBlt\",\n",
    "        \"YearBuilt\",\n",
    "        \"YearRemodAdd\",\n",
    "    ]\n",
    "].corr().loc[\"GarageYrBlt\", [\"YearBuilt\", \"YearRemodAdd\"]]"
   ]
  },
  {
   "cell_type": "code",
   "execution_count": 495,
   "id": "aac86309",
   "metadata": {},
   "outputs": [
    {
     "data": {
      "text/plain": [
       "<Figure size 1000x1000 with 0 Axes>"
      ]
     },
     "metadata": {},
     "output_type": "display_data"
    },
    {
     "data": {
      "image/png": "[encoded data removed]",
      "text/plain": [
       "<Figure size 600x300 with 1 Axes>"
      ]
     },
     "metadata": {},
     "output_type": "display_data"
    }
   ],
   "source": [
    "plt.figure(figsize=(10, 10))\n",
    "sns.displot(df_train[\"SalePrice\"] / 100000, bins=40, kde=True, height=3, aspect=2)\n",
    "plt.xticks(ticks=[i for i in range(0, 8)], labels=[f\"{i}00K\" for i in range(0, 8)])\n",
    "plt.show()"
   ]
  },
  {
   "cell_type": "markdown",
   "id": "c97787a5",
   "metadata": {},
   "source": [
    "☝🏻 Careful -> skewed distribution of price\n",
    "\n",
    "- In statistical analysis, a non-skewed distribution is typically a normal distribution, which resembles a bell curve when graphed. This means it's symmetric, with most of the observations clustering around the central peak and the probabilities for values further away from the mean tapering off equally in both directions.\n",
    "\n",
    "- If we don't apply a log transformation to SalePrice when it's skewed, your model may not perform as well, especially if it assumes that the residuals (errors) are normally distributed, as many linear models do. Applying a log transformation can help stabilize the variance across the data range and make the data conform more closely to the assumptions of parametric statistical tests, leading to more reliable statistical inference and potentially better model performance. If a log transformation is applied, the distribution should look more like a normal distribution, with fewer outliers and a more symmetric shape.\n",
    "\n",
    "- When should log **NOT** be applied to the target variable?\n",
    "  - The distribution of the target variable is already close to normal. Log transformation in such cases might lead to a worse fit.\n",
    "  - The model you're using is robust to non-normality, like tree-based models (e.g., decision trees, random forests).\n",
    "  - The range of the target variable is narrow with low variance, so the proportional differences are minimal.\n",
    "  - You have a binary or categorical target variable. In classification problems, log transformation is not applicable.\n",
    "  - The relationship between predictors and the target is linear, and there are no signs of heteroscedasticity (uneven spread of residuals)."
   ]
  },
  {
   "cell_type": "markdown",
   "id": "1a58f0ec",
   "metadata": {},
   "source": [
    "### Data cleaning & Preprocessing"
   ]
  },
  {
   "cell_type": "code",
   "execution_count": 496,
   "id": "bf8059dd",
   "metadata": {},
   "outputs": [],
   "source": [
    "# TODO: ** `LotFrontage` NEEDS TO BE HANDLED\n",
    "# TODO: apply all this transformations for train & test datasets, and then split again\n",
    "# TODO: remove outliers\n",
    "# TODO: remove prices above 4500 sq?\n",
    "# TODO: make boxcox run! (maybe just for a few ft.?)\n",
    "\n",
    "# remove features with very low variance\n",
    "df_train.drop(\n",
    "    [\"Street\", \"Utilities\", \"PoolQC\", \"LotFrontage\"],\n",
    "    axis=1,\n",
    "    inplace=True,\n",
    ")\n",
    "\n",
    "# convert numerical (but actually categorical) features to str\n",
    "df_train[[\"MSSubClass\", \"YrSold\", \"MoSold\"]] = df_train[\n",
    "    [\"MSSubClass\", \"YrSold\", \"MoSold\"]\n",
    "].astype(str)\n",
    "\n",
    "\n",
    "# fill NA with default values\n",
    "df_train[\"Fence\"] = df_train[\"Fence\"].fillna(\"NoFence\")\n",
    "df_train[\"Alley\"] = df_train[\"Alley\"].fillna(\"NoAlleyAccess\")\n",
    "df_train[\"MiscFeature\"] = df_train[\"MiscFeature\"].fillna(\"None\")\n",
    "df_train[\"MasVnrType\"] = df_train[\"MasVnrType\"].fillna(\"None\")\n",
    "df_train[\"MasVnrArea\"] = df_train[\"MasVnrArea\"].fillna(0)\n",
    "df_train[\"FireplaceQu\"] = df_train[\"FireplaceQu\"].fillna(\"NoFireplace\")\n",
    "\n",
    "# fill NA for garage\n",
    "df_train[\"GarageYrBlt\"] = df_train[\"GarageYrBlt\"].fillna(df_train[\"YearBuilt\"])\n",
    "garage_columns = [\"GarageType\", \"GarageFinish\", \"GarageQual\", \"GarageCond\"]\n",
    "df_train[garage_columns] = df_train[garage_columns].fillna(\"NoGarage\")\n",
    "\n",
    "# fill NA for basement\n",
    "for col in ('BsmtQual', 'BsmtCond', 'BsmtExposure', 'BsmtFinType1', 'BsmtFinType2'):\n",
    "    df_train[col] = df_train[col].fillna('None')\n",
    "\n",
    "# fill NA based on most frequent values\n",
    "df_train[\"Electrical\"] = df_train[\"Electrical\"].fillna(df_train[\"Electrical\"].mode()[0])"
   ]
  },
  {
   "cell_type": "code",
   "execution_count": 497,
   "id": "67cea058",
   "metadata": {},
   "outputs": [
    {
     "name": "stdout",
     "output_type": "stream",
     "text": [
      "Empty DataFrame\n",
      "Columns: [# missing, % missing]\n",
      "Index: []\n"
     ]
    }
   ],
   "source": [
    "show_missing_data(df_train)"
   ]
  },
  {
   "cell_type": "code",
   "execution_count": 498,
   "id": "9a6868de",
   "metadata": {},
   "outputs": [],
   "source": [
    "df_train.drop(\"Id\", axis=1, inplace=True)"
   ]
  },
  {
   "cell_type": "markdown",
   "id": "d291f9b2",
   "metadata": {},
   "source": [
    "### Feature Engineering"
   ]
  },
  {
   "cell_type": "code",
   "execution_count": 499,
   "id": "9b958364",
   "metadata": {},
   "outputs": [],
   "source": [
    "from scipy.stats import skew, boxcox_normmax\n",
    "from scipy.special import boxcox1p\n",
    "\n",
    "def apply_boxcox(df):\n",
    "    \"\"\"\n",
    "    Apply Box-Cox transformation to numerical features with skewness > 0.5 \n",
    "    \"\"\"\n",
    "    # Assuming 'features' is your DataFrame\n",
    "    numeric_dtypes = ['int16', 'int32', 'int64', 'float16', 'float32', 'float64']\n",
    "    numerics = [feature for feature in df.columns if df[feature].dtype in numeric_dtypes]\n",
    "\n",
    "    # Calculate skewness and select highly skewed features\n",
    "    skewness = df[numerics].apply(lambda x: skew(x.dropna()))\n",
    "    high_skewness = skewness[abs(skewness) > 0.5]\n",
    "    high_skew_features = high_skewness.index\n",
    "\n",
    "    # Apply Box-Cox transformation to highly skewed features\n",
    "    for feature in high_skew_features:\n",
    "        # Adding 1 to the feature values to ensure positivity as boxcox1p requires positive values\n",
    "        df[feature] = boxcox1p(df[feature], boxcox_normmax(df[feature] + 1))"
   ]
  },
  {
   "cell_type": "code",
   "execution_count": 500,
   "id": "fd408afb",
   "metadata": {},
   "outputs": [],
   "source": [
    "# TODO: create new features"
   ]
  },
  {
   "cell_type": "markdown",
   "id": "fe33ef1a",
   "metadata": {},
   "source": [
    "### Encoding categorical data"
   ]
  },
  {
   "cell_type": "code",
   "execution_count": 501,
   "id": "8d092586",
   "metadata": {},
   "outputs": [],
   "source": [
    "# List of columns to encode\n",
    "columns_to_encode = df_train.select_dtypes(\n",
    "    include=[\"object\", \"category\"]\n",
    ").columns.tolist()\n",
    "encoded_df_train = pd.get_dummies(df_train, columns=columns_to_encode, drop_first=True)"
   ]
  },
  {
   "cell_type": "markdown",
   "id": "644e1e3a",
   "metadata": {},
   "source": [
    "### Split dataset into Train/Test data"
   ]
  },
  {
   "cell_type": "code",
   "execution_count": 502,
   "id": "a6aeecfb",
   "metadata": {},
   "outputs": [],
   "source": [
    "from sklearn.model_selection import train_test_split\n",
    "\n",
    "X = encoded_df_train.drop(\"SalePrice\", axis=1)\n",
    "# X = apply_yeojohnson(df_train.drop(\"SalePrice\", axis=1))\n",
    "y = encoded_df_train[\"SalePrice\"]\n",
    "\n",
    "# Applying log transformation\n",
    "y_log = np.log1p(encoded_df_train[\"SalePrice\"])\n",
    "\n",
    "X_train, X_test, y_train, y_test = train_test_split(\n",
    "    X, y_log, test_size=0.2, random_state=RANDOM_STATE\n",
    ")"
   ]
  },
  {
   "cell_type": "markdown",
   "id": "5b8e9ab8",
   "metadata": {},
   "source": [
    "### Regression Models"
   ]
  },
  {
   "cell_type": "code",
   "execution_count": 503,
   "id": "350311ad",
   "metadata": {},
   "outputs": [],
   "source": [
    "from xgboost import XGBRegressor\n",
    "\n",
    "\n",
    "def fit_xgb_regressor(\n",
    "    colsample_bytree=1,\n",
    "    gamma=0,\n",
    "    learning_rate=0.3,\n",
    "    max_depth=6,\n",
    "    min_child_weight=1,\n",
    "    n_estimators=100,\n",
    "    objective=\"reg:squarederror\",\n",
    "    reg_alpha=0,\n",
    "    scale_pos_weight=1,\n",
    "    subsample=1,\n",
    "):\n",
    "    xgb = XGBRegressor(\n",
    "        learning_rate=learning_rate,\n",
    "        n_estimators=n_estimators,\n",
    "        max_depth=max_depth,\n",
    "        min_child_weight=min_child_weight,\n",
    "        gamma=gamma,\n",
    "        subsample=subsample,\n",
    "        colsample_bytree=colsample_bytree,\n",
    "        objective=objective,\n",
    "        nthread=-1,\n",
    "        scale_pos_weight=scale_pos_weight,\n",
    "        seed=RANDOM_STATE,\n",
    "        reg_alpha=reg_alpha,\n",
    "    )\n",
    "    xgb.fit(X_train, y_train)\n",
    "    return xgb"
   ]
  },
  {
   "cell_type": "markdown",
   "id": "90a6504e",
   "metadata": {},
   "source": [
    "### Fit Models"
   ]
  },
  {
   "cell_type": "code",
   "execution_count": 504,
   "id": "c81ed7a8",
   "metadata": {},
   "outputs": [],
   "source": [
    "# train regressors with default values\n",
    "xgb = fit_xgb_regressor()"
   ]
  },
  {
   "cell_type": "markdown",
   "id": "eab0bfee",
   "metadata": {},
   "source": [
    "### Evaluation Functions"
   ]
  },
  {
   "cell_type": "code",
   "execution_count": 505,
   "id": "4c0ad97a",
   "metadata": {},
   "outputs": [],
   "source": [
    "from sklearn.model_selection import KFold, cross_val_score\n",
    "from sklearn.metrics import mean_squared_error, mean_absolute_error, r2_score\n",
    "\n",
    "\n",
    "def evaluate_models(regressors, cv=10):\n",
    "    results = []\n",
    "    kfolds = KFold(n_splits=cv, shuffle=True, random_state=RANDOM_STATE)\n",
    "    for regressor in regressors:\n",
    "        y_pred = regressor.predict(X_test)\n",
    "        r2 = r2_score(y_test, y_pred)\n",
    "        mae = mean_absolute_error(y_test, y_pred)\n",
    "        mse = mean_squared_error(y_test, y_pred)\n",
    "        rmse = np.sqrt(mean_squared_error(y_test, y_pred))\n",
    "        rmse_cv = np.sqrt(\n",
    "            -cross_val_score(\n",
    "                regressor, X, y_log, scoring=\"neg_mean_squared_error\", cv=kfolds\n",
    "            )\n",
    "        )\n",
    "        results.append(\n",
    "            {\n",
    "                \"Model\": type(regressor).__name__,\n",
    "                \"MAE\": mae,\n",
    "                \"MSE\": mse,\n",
    "                \"RMSE\": rmse,\n",
    "                \"RMSEcv\": rmse_cv.mean(),\n",
    "                \"R^2\": r2,\n",
    "            }\n",
    "        )\n",
    "    sorted_results = sorted(results, key=lambda x: x[\"RMSE\"], reverse=True)\n",
    "    print(f\"{'Model':<25} {'RMSEcv':<11} {'RMSE':<11} {'MAE':<8} {'MSE':<8} {'R^2':<8}\")\n",
    "    print(\"-\" * 72)\n",
    "    for result in sorted_results:\n",
    "        metrics = f\"{result['RMSEcv']:<11.5f} {result['RMSE']:<11.5f} \"\n",
    "        metrics += f\"{result['MAE']:<8.2f} {result['MSE']:<8.2f} {result['R^2']:<8.2f}\"\n",
    "        print(f\"{result['Model']:<25} {metrics}\")"
   ]
  },
  {
   "cell_type": "code",
   "execution_count": 506,
   "id": "795c9a75",
   "metadata": {},
   "outputs": [],
   "source": [
    "from sklearn.model_selection import learning_curve\n",
    "import numpy as np\n",
    "import matplotlib.pyplot as plt\n",
    "import seaborn as sns\n",
    "\n",
    "\n",
    "def plot_learning_curve(\n",
    "    estimator,\n",
    "    X= X,\n",
    "    y = y_log,\n",
    "    cv=5,\n",
    "    n_jobs=-1,\n",
    "    train_sizes=np.linspace(0.1, 1.0, 5),\n",
    "    fig_size=(6, 4),\n",
    "):\n",
    "    plt.figure(figsize=fig_size)\n",
    "    train_sizes, train_scores, test_scores = learning_curve(\n",
    "        estimator,\n",
    "        X,\n",
    "        y,\n",
    "        cv=cv,\n",
    "        scoring=\"neg_mean_squared_error\",\n",
    "        n_jobs=n_jobs,\n",
    "        train_sizes=train_sizes,\n",
    "    )\n",
    "\n",
    "    # Take the negative of the scores because 'neg_mean_squared_error' is used\n",
    "    train_scores_mean = np.sqrt(-np.mean(train_scores, axis=1))\n",
    "    test_scores_mean = np.sqrt(-np.mean(test_scores, axis=1))\n",
    "\n",
    "    sns.lineplot(x=train_sizes, y=train_scores_mean, label=\"Training score\")\n",
    "    sns.lineplot(x=train_sizes, y=test_scores_mean, label=\"Cross-validation score\")\n",
    "\n",
    "    plt.title(f\"Learning Curve (RMSE) - {type(estimator).__name__}\")\n",
    "    plt.xlabel(\"Training examples\")\n",
    "    plt.ylabel(\"RMSE\")\n",
    "    plt.legend()\n",
    "    plt.show()"
   ]
  },
  {
   "cell_type": "code",
   "execution_count": 507,
   "id": "11c5bd7a",
   "metadata": {},
   "outputs": [],
   "source": [
    "from sklearn.model_selection import GridSearchCV\n",
    "\n",
    "\n",
    "def evaluate_model_grid_search_cv(\n",
    "    regressor,\n",
    "    X_train,\n",
    "    y_train,\n",
    "    params,\n",
    "    cv=10,\n",
    "    scoring=\"neg_mean_squared_error\",\n",
    "    n_jobs=-1,\n",
    "):\n",
    "    grid_search = GridSearchCV(\n",
    "        estimator=regressor, param_grid=params, scoring=scoring, cv=cv, n_jobs=n_jobs\n",
    "    )\n",
    "    grid_search.fit(X=X_train, y=y_train)\n",
    "    best_score = np.sqrt(-grid_search.best_score_)\n",
    "    best_params = grid_search.best_params_\n",
    "    print(f\"Model: {type(regressor).__name__}\")\n",
    "    print(f\" - Best RMSE: {best_score}\")\n",
    "    print(f\" - Best params: {best_params}\")"
   ]
  },
  {
   "cell_type": "markdown",
   "id": "801ca983",
   "metadata": {},
   "source": [
    "### Evaluate Models"
   ]
  },
  {
   "cell_type": "code",
   "execution_count": 508,
   "id": "636d5c79",
   "metadata": {},
   "outputs": [
    {
     "name": "stdout",
     "output_type": "stream",
     "text": [
      "Model                     RMSEcv      RMSE        MAE      MSE      R^2     \n",
      "------------------------------------------------------------------------\n",
      "XGBRegressor              0.14444     0.15285     0.10     0.02     0.87    \n"
     ]
    }
   ],
   "source": [
    "models = [xgb]\n",
    "evaluate_models(models, 2)"
   ]
  },
  {
   "cell_type": "code",
   "execution_count": 509,
   "id": "275eda84",
   "metadata": {},
   "outputs": [
    {
     "data": {
      "image/png": "[encoded data removed]",
      "text/plain": [
       "<Figure size 600x400 with 1 Axes>"
      ]
     },
     "metadata": {},
     "output_type": "display_data"
    }
   ],
   "source": [
    "plot_learning_curve(xgb)"
   ]
  },
  {
   "cell_type": "markdown",
   "id": "7ea84e49",
   "metadata": {},
   "source": [
    "### Tune Models"
   ]
  },
  {
   "cell_type": "code",
   "execution_count": 510,
   "id": "0d18f400",
   "metadata": {},
   "outputs": [],
   "source": [
    "# params = {\n",
    "#     \"colsample_bytree\": [0.7],\n",
    "#     \"gamma\": [0],\n",
    "#     \"learning_rate\": [0.01, 0.05],\n",
    "#     \"max_depth\": [2, 3],\n",
    "#     \"min_child_weight\": [0],\n",
    "#     \"n_estimators\": [2500, 3460],\n",
    "#     \"objective\": [\"reg:squarederror\"],\n",
    "#     \"reg_alpha\": [0.00006],\n",
    "#     \"scale_pos_weight\": [1],\n",
    "#     \"subsample\": [0.7, 0.8],\n",
    "# }\n",
    "\n",
    "# evaluate_model_grid_search_cv(xgb, X_train, y_train, params, 5)"
   ]
  },
  {
   "cell_type": "code",
   "execution_count": 511,
   "id": "fc5dba7e",
   "metadata": {},
   "outputs": [],
   "source": [
    "# xgb = fit_xgb_regressor(\n",
    "#     0.01, 3460, 3, 0, 0, 0.7, 0.7, \"reg:squarederror\", 1, 0.00006\n",
    "# )  # rmse: 0.12\n",
    "xgb = fit_xgb_regressor(\n",
    "    colsample_bytree=0.7,\n",
    "    gamma=0,\n",
    "    learning_rate=0.01,\n",
    "    max_depth=3,\n",
    "    min_child_weight=0,\n",
    "    n_estimators=3460,\n",
    "    objective=\"reg:squarederror\",\n",
    "    reg_alpha=0.00006,\n",
    "    scale_pos_weight=1,\n",
    "    subsample=0.7,\n",
    ")"
   ]
  },
  {
   "cell_type": "code",
   "execution_count": 512,
   "id": "c89fd444",
   "metadata": {},
   "outputs": [
    {
     "name": "stdout",
     "output_type": "stream",
     "text": [
      "Model                     RMSEcv      RMSE        MAE      MSE      R^2     \n",
      "------------------------------------------------------------------------\n",
      "XGBRegressor              0.12072     0.13061     0.08     0.02     0.90    \n"
     ]
    }
   ],
   "source": [
    "models = [xgb]\n",
    "evaluate_models(models, 10)"
   ]
  },
  {
   "cell_type": "code",
   "execution_count": 513,
   "id": "62592aa2",
   "metadata": {},
   "outputs": [],
   "source": [
    "# plot_learning_curve(xgb)"
   ]
  },
  {
   "cell_type": "code",
   "execution_count": null,
   "id": "4cecb4ad",
   "metadata": {},
   "outputs": [],
   "source": []
  }
 ],
 "metadata": {
  "kernelspec": {
   "display_name": "Python 3 (ipykernel)",
   "language": "python",
   "name": "python3"
  },
  "language_info": {
   "codemirror_mode": {
    "name": "ipython",
    "version": 3
   },
   "file_extension": ".py",
   "mimetype": "text/x-python",
   "name": "python",
   "nbconvert_exporter": "python",
   "pygments_lexer": "ipython3",
   "version": "3.11.5"
  }
 },
 "nbformat": 4,
 "nbformat_minor": 5
}
