{
 "cells": [
  {
   "cell_type": "markdown",
   "metadata": {},
   "source": [
    "# Neural Network\n",
    "The goal is creating, training, and evaluating a basic neural network model that classifies images of handwritten digits from the MNIST dataset"
   ]
  },
  {
   "cell_type": "code",
   "execution_count": 36,
   "id": "1b8fd1e7-2a7f-48ea-9bf0-2e4aa8d36cde",
   "metadata": {},
   "outputs": [],
   "source": [
    "import tensorflow as tf\n",
    "import matplotlib.pyplot as plt"
   ]
  },
  {
   "cell_type": "markdown",
   "metadata": {},
   "source": [
    "### Data Retrieval"
   ]
  },
  {
   "cell_type": "code",
   "execution_count": 37,
   "metadata": {},
   "outputs": [],
   "source": [
    "# Load the MNIST dataset (1):\n",
    "mnist = tf.keras.datasets.mnist\n",
    "(train_images, train_labels), (test_images, test_labels) = mnist.load_data()"
   ]
  },
  {
   "cell_type": "markdown",
   "metadata": {},
   "source": [
    "(1) Loading MNIST dataset from VSCode in MacOS requires an SSL installed in Python:\n",
    "- Open the Finder.\n",
    "- Go to the Applications folder.\n",
    "- Look for a folder named Python x.x (matching your Python version).\n",
    "- Inside this folder, you should find the Install Certificates.command file.\n",
    "- Double-click on Install Certificates.command to run it."
   ]
  },
  {
   "cell_type": "markdown",
   "metadata": {},
   "source": [
    "### Exploratory Data Analysis"
   ]
  },
  {
   "cell_type": "code",
   "execution_count": 38,
   "metadata": {},
   "outputs": [
    {
     "data": {
      "text/plain": [
       "(60000, 28, 28)"
      ]
     },
     "execution_count": 38,
     "metadata": {},
     "output_type": "execute_result"
    }
   ],
   "source": [
    "# `train_images` is a 3D-array containing 60,000 images,\n",
    "# each of which is a 28x28 pixel grayscale image\n",
    "train_images.shape"
   ]
  },
  {
   "cell_type": "code",
   "execution_count": 39,
   "metadata": {},
   "outputs": [
    {
     "data": {
      "text/plain": [
       "(28, 28)"
      ]
     },
     "execution_count": 39,
     "metadata": {},
     "output_type": "execute_result"
    }
   ],
   "source": [
    "# '28' represents the height or width of each image in pixels\n",
    "train_images.imag[0].shape"
   ]
  },
  {
   "cell_type": "code",
   "execution_count": 40,
   "metadata": {},
   "outputs": [
    {
     "data": {
      "image/png": "[encoded data removed]",
      "text/plain": [
       "<Figure size 640x480 with 1 Axes>"
      ]
     },
     "metadata": {},
     "output_type": "display_data"
    }
   ],
   "source": [
    "# Image with 0 is darker shade, 1 is lighest shade\n",
    "plt.imshow(train_images[0], cmap=\"gray\")\n",
    "plt.show()"
   ]
  },
  {
   "cell_type": "code",
   "execution_count": 41,
   "metadata": {},
   "outputs": [
    {
     "data": {
      "image/png": "[encoded data removed]",
      "text/plain": [
       "<Figure size 640x480 with 1 Axes>"
      ]
     },
     "metadata": {},
     "output_type": "display_data"
    }
   ],
   "source": [
    "# The same represented in one vector would be:\n",
    "# 28 x 28 = 784\n",
    "plt.imshow(train_images[0].reshape(784, 1), cmap=\"gray\", aspect=0.02)\n",
    "plt.show()"
   ]
  },
  {
   "cell_type": "markdown",
   "metadata": {},
   "source": [
    "### Prepare the Dataset"
   ]
  },
  {
   "cell_type": "markdown",
   "metadata": {},
   "source": [
    "Libraries:\n",
    "- `Dense` to create layers in the neural network\n",
    "- `Sequential` to define the model\n",
    "- `SGD` (Stochastic Gradient Descent) as the optimization algorithm"
   ]
  },
  {
   "cell_type": "code",
   "execution_count": 50,
   "metadata": {},
   "outputs": [],
   "source": [
    "from tensorflow.keras.layers import Dense\n",
    "from tensorflow.keras.models import Sequential\n",
    "from tensorflow.keras.optimizers import SGD"
   ]
  },
  {
   "cell_type": "markdown",
   "metadata": {},
   "source": [
    "### Normalise the Images:\n",
    "Image pixel values range from 0 to 255.\n",
    "\n",
    "Dividing by 255 normalizes these values to a range between 0 and 1, which is a standard practice in image processing as it helps the neural network learn more efficiently."
   ]
  },
  {
   "cell_type": "code",
   "execution_count": 42,
   "metadata": {},
   "outputs": [],
   "source": [
    "# Normalize the images\n",
    "train_images = train_images / 255.0\n",
    "test_images = test_images / 255.0"
   ]
  },
  {
   "cell_type": "markdown",
   "metadata": {},
   "source": [
    "### Flatten the images\n",
    "Each image is a 28x28 grid of pixels.\n",
    "\n",
    "We flatten this grid into a one-dimensional array of 784 pixels (28x28) so it can be fed into the neural network."
   ]
  },
  {
   "cell_type": "code",
   "execution_count": 43,
   "metadata": {},
   "outputs": [],
   "source": [
    "# Flatten the images for the dense layer\n",
    "train_images = train_images.reshape(-1, 28 * 28)\n",
    "test_images = test_images.reshape(-1, 28 * 28)"
   ]
  },
  {
   "cell_type": "markdown",
   "metadata": {},
   "source": [
    "### Convert Labels to One-Hot Encoded Format\n",
    "This converts the labels (which are digits from 0 to 9) into a format called one-hot encoding. \n",
    "\n",
    "For example, the digit 2 becomes [0, 0, 1, 0, 0, 0, 0, 0, 0, 0]."
   ]
  },
  {
   "cell_type": "code",
   "execution_count": 44,
   "metadata": {},
   "outputs": [],
   "source": [
    "# Convert labels to one-hot encoded format\n",
    "train_labels = tf.keras.utils.to_categorical(train_labels, 10)\n",
    "test_labels = tf.keras.utils.to_categorical(test_labels, 10)"
   ]
  },
  {
   "cell_type": "markdown",
   "metadata": {},
   "source": [
    "### Build the Neural Network Model\n",
    "We create a simple neural network model with one layer of 10 neurons (one for each digit).\n",
    "\n",
    "The `softmax` activation function is used to turn the output into probabilities for each class (digit)."
   ]
  },
  {
   "cell_type": "code",
   "execution_count": 45,
   "metadata": {},
   "outputs": [],
   "source": [
    "# Build the model\n",
    "model = Sequential([Dense(10, activation=\"softmax\", input_shape=(784,))])"
   ]
  },
  {
   "cell_type": "markdown",
   "metadata": {},
   "source": [
    "### Compile the Model\n",
    "This step prepares the model for training.\n",
    "\n",
    "We specify the optimizer (SGD), the loss function (categorical cross-entropy, used for classification tasks), and the metric (accuracy) we want to track."
   ]
  },
  {
   "cell_type": "code",
   "execution_count": 46,
   "metadata": {},
   "outputs": [
    {
     "name": "stderr",
     "output_type": "stream",
     "text": [
      "WARNING:absl:At this time, the v2.11+ optimizer `tf.keras.optimizers.SGD` runs slowly on M1/M2 Macs, please use the legacy Keras optimizer instead, located at `tf.keras.optimizers.legacy.SGD`.\n"
     ]
    }
   ],
   "source": [
    "# Compile the model\n",
    "model.compile(\n",
    "    optimizer=SGD(learning_rate=0.5),\n",
    "    loss=\"categorical_crossentropy\",\n",
    "    metrics=[\"accuracy\"],\n",
    ")"
   ]
  },
  {
   "cell_type": "markdown",
   "metadata": {},
   "source": [
    "### Train the Model\n",
    "Here, the model is trained on the training data.\n",
    "- `epochs=10` : the entire dataset is passed through the neural network 10 times\n",
    "- `batch_size=100` : we use 100 images at a time to update the model."
   ]
  },
  {
   "cell_type": "code",
   "execution_count": 47,
   "metadata": {},
   "outputs": [
    {
     "name": "stdout",
     "output_type": "stream",
     "text": [
      "Epoch 1/10\n",
      "600/600 [==============================] - 1s 523us/step - loss: 0.3922 - accuracy: 0.8890\n",
      "Epoch 2/10\n",
      "600/600 [==============================] - 0s 521us/step - loss: 0.3055 - accuracy: 0.9132\n",
      "Epoch 3/10\n",
      "600/600 [==============================] - 0s 508us/step - loss: 0.2922 - accuracy: 0.9177\n",
      "Epoch 4/10\n",
      "600/600 [==============================] - 0s 675us/step - loss: 0.2844 - accuracy: 0.9208\n",
      "Epoch 5/10\n",
      "600/600 [==============================] - 0s 550us/step - loss: 0.2790 - accuracy: 0.9220\n",
      "Epoch 6/10\n",
      "600/600 [==============================] - 0s 519us/step - loss: 0.2751 - accuracy: 0.9234\n",
      "Epoch 7/10\n",
      "600/600 [==============================] - 0s 496us/step - loss: 0.2729 - accuracy: 0.9236\n",
      "Epoch 8/10\n",
      "600/600 [==============================] - 0s 493us/step - loss: 0.2699 - accuracy: 0.9243\n",
      "Epoch 9/10\n",
      "600/600 [==============================] - 0s 494us/step - loss: 0.2678 - accuracy: 0.9253\n",
      "Epoch 10/10\n",
      "600/600 [==============================] - 0s 496us/step - loss: 0.2660 - accuracy: 0.9262\n"
     ]
    },
    {
     "data": {
      "text/plain": [
       "<keras.src.callbacks.History at 0x2fed5d050>"
      ]
     },
     "execution_count": 47,
     "metadata": {},
     "output_type": "execute_result"
    }
   ],
   "source": [
    "# Train the model\n",
    "model.fit(train_images, train_labels, epochs=10, batch_size=100)"
   ]
  },
  {
   "cell_type": "markdown",
   "metadata": {},
   "source": [
    "### Evaluate the Model\n",
    "We test the model's performance using the test data.\n",
    "\n",
    "It outputs the accuracy of the model, telling us what percentage of the test images were correctly classified."
   ]
  },
  {
   "cell_type": "code",
   "execution_count": 48,
   "metadata": {},
   "outputs": [
    {
     "name": "stdout",
     "output_type": "stream",
     "text": [
      "313/313 [==============================] - 0s 391us/step - loss: 0.2750 - accuracy: 0.9231\n",
      "Accuracy: 0.9230999946594238\n"
     ]
    }
   ],
   "source": [
    "# Evaluate the model\n",
    "loss, accuracy = model.evaluate(test_images, test_labels)\n",
    "print(\"Accuracy:\", accuracy)"
   ]
  }
 ],
 "metadata": {
  "kernelspec": {
   "display_name": "Python 3 (ipykernel)",
   "language": "python",
   "name": "python3"
  },
  "language_info": {
   "codemirror_mode": {
    "name": "ipython",
    "version": 3
   },
   "file_extension": ".py",
   "mimetype": "text/x-python",
   "name": "python",
   "nbconvert_exporter": "python",
   "pygments_lexer": "ipython3",
   "version": "3.11.5"
  }
 },
 "nbformat": 4,
 "nbformat_minor": 5
}
