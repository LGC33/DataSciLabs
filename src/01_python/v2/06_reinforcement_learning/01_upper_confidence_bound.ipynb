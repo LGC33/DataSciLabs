{
 "cells": [
  {
   "cell_type": "markdown",
   "id": "b35ae7d3",
   "metadata": {},
   "source": [
    "# Upper Confidence Bound"
   ]
  },
  {
   "cell_type": "code",
   "execution_count": 1,
   "id": "e27b7ebd",
   "metadata": {},
   "outputs": [],
   "source": [
    "import math\n",
    "import numpy as np\n",
    "import pandas as pd\n",
    "import matplotlib.pyplot as plt"
   ]
  },
  {
   "cell_type": "markdown",
   "id": "5c0f8d15",
   "metadata": {},
   "source": [
    "### Importing the dataset"
   ]
  },
  {
   "cell_type": "markdown",
   "id": "cff33293",
   "metadata": {},
   "source": [
    "Dataset:\n",
    "- There are 10 different ads (with different designs).\n",
    "- *Simulates* that each row is a user session where the user can click on the ads.\n",
    "- Each row is equivalent to one round.\n",
    "- ☝🏻 **Important**: in reality, this is an interactive process and the UCB determines which ads should be shown. Here, with a static dataset, we just see the final results after 10,000 rounds, so it's just an screenshot of the overall process.\n",
    "- In fact, a user session might not necessarily show all ads."
   ]
  },
  {
   "cell_type": "code",
   "execution_count": 2,
   "id": "ed18b01f",
   "metadata": {},
   "outputs": [
    {
     "data": {
      "text/html": [
       "<div>\n",
       "<style scoped>\n",
       "    .dataframe tbody tr th:only-of-type {\n",
       "        vertical-align: middle;\n",
       "    }\n",
       "\n",
       "    .dataframe tbody tr th {\n",
       "        vertical-align: top;\n",
       "    }\n",
       "\n",
       "    .dataframe thead th {\n",
       "        text-align: right;\n",
       "    }\n",
       "</style>\n",
       "<table border=\"1\" class=\"dataframe\">\n",
       "  <thead>\n",
       "    <tr style=\"text-align: right;\">\n",
       "      <th></th>\n",
       "      <th>Ad 1</th>\n",
       "      <th>Ad 2</th>\n",
       "      <th>Ad 3</th>\n",
       "      <th>Ad 4</th>\n",
       "      <th>Ad 5</th>\n",
       "      <th>Ad 6</th>\n",
       "      <th>Ad 7</th>\n",
       "      <th>Ad 8</th>\n",
       "      <th>Ad 9</th>\n",
       "      <th>Ad 10</th>\n",
       "    </tr>\n",
       "  </thead>\n",
       "  <tbody>\n",
       "    <tr>\n",
       "      <th>0</th>\n",
       "      <td>1</td>\n",
       "      <td>0</td>\n",
       "      <td>0</td>\n",
       "      <td>0</td>\n",
       "      <td>1</td>\n",
       "      <td>0</td>\n",
       "      <td>0</td>\n",
       "      <td>0</td>\n",
       "      <td>1</td>\n",
       "      <td>0</td>\n",
       "    </tr>\n",
       "    <tr>\n",
       "      <th>1</th>\n",
       "      <td>0</td>\n",
       "      <td>0</td>\n",
       "      <td>0</td>\n",
       "      <td>0</td>\n",
       "      <td>0</td>\n",
       "      <td>0</td>\n",
       "      <td>0</td>\n",
       "      <td>0</td>\n",
       "      <td>1</td>\n",
       "      <td>0</td>\n",
       "    </tr>\n",
       "    <tr>\n",
       "      <th>2</th>\n",
       "      <td>0</td>\n",
       "      <td>0</td>\n",
       "      <td>0</td>\n",
       "      <td>0</td>\n",
       "      <td>0</td>\n",
       "      <td>0</td>\n",
       "      <td>0</td>\n",
       "      <td>0</td>\n",
       "      <td>0</td>\n",
       "      <td>0</td>\n",
       "    </tr>\n",
       "    <tr>\n",
       "      <th>3</th>\n",
       "      <td>0</td>\n",
       "      <td>1</td>\n",
       "      <td>0</td>\n",
       "      <td>0</td>\n",
       "      <td>0</td>\n",
       "      <td>0</td>\n",
       "      <td>0</td>\n",
       "      <td>1</td>\n",
       "      <td>0</td>\n",
       "      <td>0</td>\n",
       "    </tr>\n",
       "    <tr>\n",
       "      <th>4</th>\n",
       "      <td>0</td>\n",
       "      <td>0</td>\n",
       "      <td>0</td>\n",
       "      <td>0</td>\n",
       "      <td>0</td>\n",
       "      <td>0</td>\n",
       "      <td>0</td>\n",
       "      <td>0</td>\n",
       "      <td>0</td>\n",
       "      <td>0</td>\n",
       "    </tr>\n",
       "  </tbody>\n",
       "</table>\n",
       "</div>"
      ],
      "text/plain": [
       "   Ad 1  Ad 2  Ad 3  Ad 4  Ad 5  Ad 6  Ad 7  Ad 8  Ad 9  Ad 10\n",
       "0     1     0     0     0     1     0     0     0     1      0\n",
       "1     0     0     0     0     0     0     0     0     1      0\n",
       "2     0     0     0     0     0     0     0     0     0      0\n",
       "3     0     1     0     0     0     0     0     1     0      0\n",
       "4     0     0     0     0     0     0     0     0     0      0"
      ]
     },
     "execution_count": 2,
     "metadata": {},
     "output_type": "execute_result"
    }
   ],
   "source": [
    "dataset = pd.read_csv(\"./filez/Ads_CTR_Optimisation.csv\")\n",
    "dataset.head()"
   ]
  },
  {
   "cell_type": "code",
   "execution_count": 3,
   "id": "974485c3",
   "metadata": {},
   "outputs": [
    {
     "name": "stdout",
     "output_type": "stream",
     "text": [
      "<class 'pandas.core.frame.DataFrame'>\n",
      "RangeIndex: 10000 entries, 0 to 9999\n",
      "Data columns (total 10 columns):\n",
      " #   Column  Non-Null Count  Dtype\n",
      "---  ------  --------------  -----\n",
      " 0   Ad 1    10000 non-null  int64\n",
      " 1   Ad 2    10000 non-null  int64\n",
      " 2   Ad 3    10000 non-null  int64\n",
      " 3   Ad 4    10000 non-null  int64\n",
      " 4   Ad 5    10000 non-null  int64\n",
      " 5   Ad 6    10000 non-null  int64\n",
      " 6   Ad 7    10000 non-null  int64\n",
      " 7   Ad 8    10000 non-null  int64\n",
      " 8   Ad 9    10000 non-null  int64\n",
      " 9   Ad 10   10000 non-null  int64\n",
      "dtypes: int64(10)\n",
      "memory usage: 781.4 KB\n"
     ]
    }
   ],
   "source": [
    "dataset.info()"
   ]
  },
  {
   "cell_type": "markdown",
   "id": "df600418",
   "metadata": {},
   "source": [
    "### Implementing the UCB algo"
   ]
  },
  {
   "cell_type": "code",
   "execution_count": 4,
   "id": "553530b1",
   "metadata": {},
   "outputs": [],
   "source": [
    "def ucb(rounds: int):\n",
    "    \"\"\"\n",
    "    - Use first 10 rounds as trial rounds due to lack of prior ad selection knowledge.\n",
    "    - Set if condition (numbers_of_selections[i] > 0) to ensure each ad is selected once before main algorithm.\n",
    "    - Compute average reward and upper confidence bound for each ad in the second step.\n",
    "    - Apply a trick in else condition: set upper_bound to a high number to guarantee each ad is selected in trial rounds.\n",
    "    - Proceed with standard algorithm steps after 10 trial rounds.\n",
    "    \"\"\"\n",
    "    N = rounds  # num of users (rounds)\n",
    "    d = 10  # num of ads\n",
    "    ads_selected = []  # ads selected over the rounds (10K elements in the end)\n",
    "    numbers_of_selections = [0] * d  # counts the selected ads\n",
    "    sums_of_rewards = [0] * d  # sum the rewards from selected ads\n",
    "    total_reward = 0\n",
    "\n",
    "    for n in range(0, N):\n",
    "        ad = 0\n",
    "        max_upper_bound = 0\n",
    "        for i in range(0, d):\n",
    "            if numbers_of_selections[i] > 0:\n",
    "                average_reward = sums_of_rewards[i] / numbers_of_selections[i]\n",
    "                delta_i = math.sqrt(\n",
    "                    3 / 2 * math.log(n + 1) / numbers_of_selections[i]\n",
    "                )  # n+1 to avoid infinity\n",
    "                upper_bound = average_reward + delta_i\n",
    "            else:\n",
    "                upper_bound = 1e400\n",
    "            if upper_bound > max_upper_bound:\n",
    "                max_upper_bound = upper_bound\n",
    "                ad = i\n",
    "        ads_selected.append(ad)\n",
    "        numbers_of_selections[ad] += 1\n",
    "        reward = dataset.values[n, ad]\n",
    "        sums_of_rewards[ad] += reward\n",
    "        total_reward += reward\n",
    "\n",
    "    print(numbers_of_selections)\n",
    "    return ads_selected"
   ]
  },
  {
   "cell_type": "markdown",
   "id": "830dbe7d",
   "metadata": {},
   "source": [
    "### Generic function to display histograms"
   ]
  },
  {
   "cell_type": "code",
   "execution_count": 5,
   "id": "b4fe5a1f",
   "metadata": {},
   "outputs": [],
   "source": [
    "def show_histogram(ads_selected):\n",
    "    # Define bin edges so that each integer value (x-axis) is at the center of a bin\n",
    "    bin_edges = np.arange(min(ads_selected) - 0.5, max(ads_selected) + 1.5, 1)\n",
    "\n",
    "    # Plot histogram and get values\n",
    "    counts, _, patches = plt.hist(\n",
    "        ads_selected, bins=bin_edges, align=\"mid\", rwidth=0.8, color=\"#9999ff\"\n",
    "    )\n",
    "\n",
    "    # Find the index of the highest bin\n",
    "    max_bin_index = np.argmax(counts)\n",
    "\n",
    "    # Highlight the highest bin in a different color\n",
    "    patches[max_bin_index].set_fc(\"#ff9999\")  # Soft red color\n",
    "\n",
    "    # Set x-axis ticks to integer values\n",
    "    plt.xticks(range(min(ads_selected), max(ads_selected) + 1))\n",
    "\n",
    "    # Add titles and labels\n",
    "    plt.title(\"Histogram of ads selections\")\n",
    "    plt.xlabel(\"Ads\")\n",
    "    plt.ylabel(\"Number of times each ad was selected\")\n",
    "\n",
    "    # Show plot\n",
    "    plt.show()"
   ]
  },
  {
   "cell_type": "markdown",
   "id": "a0542133",
   "metadata": {},
   "source": [
    "### Visualising the results for 10,000 rounds"
   ]
  },
  {
   "cell_type": "code",
   "execution_count": 6,
   "id": "b702ab9e",
   "metadata": {},
   "outputs": [
    {
     "name": "stdout",
     "output_type": "stream",
     "text": [
      "[705, 387, 186, 345, 6323, 150, 292, 1170, 256, 186]\n"
     ]
    },
    {
     "data": {
      "image/png": "[encoded data removed]",
      "text/plain": [
       "<Figure size 640x480 with 1 Axes>"
      ]
     },
     "metadata": {},
     "output_type": "display_data"
    }
   ],
   "source": [
    "# Ad 4 is clear winner with 10,000 rounds\n",
    "ads_selected = ucb(10000)\n",
    "show_histogram(ads_selected)"
   ]
  },
  {
   "cell_type": "markdown",
   "id": "0bd1270a",
   "metadata": {},
   "source": [
    "### Visualising the results for 500 rounds"
   ]
  },
  {
   "cell_type": "code",
   "execution_count": 7,
   "id": "934d75b2",
   "metadata": {},
   "outputs": [
    {
     "name": "stdout",
     "output_type": "stream",
     "text": [
      "[60, 51, 35, 35, 79, 31, 51, 81, 42, 35]\n"
     ]
    },
    {
     "data": {
      "image/png": "[encoded data removed]",
      "text/plain": [
       "<Figure size 640x480 with 1 Axes>"
      ]
     },
     "metadata": {},
     "output_type": "display_data"
    }
   ],
   "source": [
    "# Same result with 1,000 rounds, but... Ad 7 is winner with 500 rounds!!\n",
    "ads_selected = ucb(500)\n",
    "show_histogram(ads_selected)"
   ]
  },
  {
   "cell_type": "markdown",
   "id": "bc395cca",
   "metadata": {},
   "source": [
    "    Conclusion -> results will differ depending on the number of rounds."
   ]
  },
  {
   "cell_type": "markdown",
   "id": "8c42ab02",
   "metadata": {},
   "source": [
    "### Step-by-Step Example of an Advertising Campaign Using UCB\n",
    "\n",
    "1. **Initial Setup (Rounds 1 to 5)**:\n",
    "   - **Round 1**: Show ad 1 to a user. If it's clicked, count it as a reward.\n",
    "   - **Round 2**: Show ad 2 to the next user, and so on.\n",
    "   - In the first 5 rounds, each ad is shown once. This is important for UCB to have initial data on all ads.\n",
    "\n",
    "2. **Start Using UCB (From Round 6 Onwards)**:\n",
    "   - Now, you have some data on each ad (whether they were clicked or not in their first showing).\n",
    "   - For each ad, calculate two things:\n",
    "     - **Average Reward**: The number of clicks divided by the number of times shown.\n",
    "     - **Confidence Interval**: A value that increases the less frequently an ad has been shown. It represents the potential of an ad that hasn't been explored enough.\n",
    "\n",
    "3. **Selecting Ads to Display**:\n",
    "   - In each subsequent round, for each ad, add the average reward and the confidence interval. This sum is the \"UCB value\" for each ad.\n",
    "   - The ad with the highest UCB value is shown to the next user.\n",
    "   - Why? The high UCB value could be due to a high average reward (a frequently clicked ad) or a high confidence interval (an ad not shown enough but with potential).\n",
    "\n",
    "4. **Updating the Data**:\n",
    "   - After showing the ad, update its data. If it was clicked, increase its click count. Always update the number of times it's been shown.\n",
    "   - Recalculate the average reward and confidence interval for this ad.\n",
    "\n",
    "5. **Repeating the Process**:\n",
    "   - Continue this process for each user/session.\n",
    "   - The algorithm naturally balances between showing the best-performing ads so far (exploitation) and trying out less shown ads (exploration).\n",
    "\n",
    "### Example Scenario\n",
    "\n",
    "- **Round 1 to 5**: Show each ad once. Let’s say ads 1, 3, and 5 get clicked, but ads 2 and 4 don’t.\n",
    "- **Round 6**: Calculate UCB values for all ads. Ads 2 and 4 will have higher confidence intervals as they have been shown less. Suppose ad 2 has the highest UCB value now.\n",
    "- **Show Ad 2**: If it gets clicked, its average reward increases. If not, its confidence interval reduces slightly.\n",
    "- **Round 7**: Recalculate UCB values. Maybe now ad 4 has the highest UCB, or ad 1 has taken over because it's been clicked every time it's shown.\n",
    "\n",
    "### Conclusion\n",
    "\n",
    "The UCB method ensures that over time:\n",
    "- Ads that perform well are shown more often.\n",
    "- Ads that haven’t had much chance yet still get occasionally shown.\n",
    "- The campaign adapts and evolves based on real user interactions, finding a balance between trying out different ads and focusing on the ones that work best."
   ]
  }
 ],
 "metadata": {
  "kernelspec": {
   "display_name": "Python 3 (ipykernel)",
   "language": "python",
   "name": "python3"
  },
  "language_info": {
   "codemirror_mode": {
    "name": "ipython",
    "version": 3
   },
   "file_extension": ".py",
   "mimetype": "text/x-python",
   "name": "python",
   "nbconvert_exporter": "python",
   "pygments_lexer": "ipython3",
   "version": "3.11.5"
  }
 },
 "nbformat": 4,
 "nbformat_minor": 5
}
