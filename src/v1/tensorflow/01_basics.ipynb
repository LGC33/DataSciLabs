{
 "cells": [
  {
   "cell_type": "markdown",
   "metadata": {},
   "source": [
    "# Tensor Flow - Basics"
   ]
  },
  {
   "cell_type": "code",
   "execution_count": 37,
   "id": "1b8fd1e7-2a7f-48ea-9bf0-2e4aa8d36cde",
   "metadata": {},
   "outputs": [],
   "source": [
    "import tensorflow as tf"
   ]
  },
  {
   "cell_type": "markdown",
   "metadata": {},
   "source": [
    "While TensorFlow constants (tf.constant) and variables (tf.Variable) are not stored directly as NumPy arrays, TensorFlow's eager execution allows these tensors to be easily converted to and from NumPy arrays. In TensorFlow 2.x, tensors are the primary data structure for computation, similar to NumPy arrays, but there are some key differences:\n",
    "\n",
    "- **TensorFlow Tensors**:\n",
    "  - Tensors are multi-dimensional arrays (similar to NumPy arrays) that are optimized for high-performance machine learning computations.\n",
    "  - They are backed by accelerated computing libraries like CUDA (for NVIDIA GPUs) and can reside in GPU memory.\n",
    "  - Tensors support a variety of operations and are deeply integrated with TensorFlow's machine learning capabilities.\n",
    "- **Eager Execution and Numpy Compatibility**:\n",
    "  - TensorFlow 2.x's eager execution mode allows tensors to behave more like standard Python objects. You can perform operations on them immediately without needing to run a session.\n",
    "  - Tensors can be converted to and from NumPy arrays using the .numpy() method and tf.convert_to_tensor() function, respectively.\n",
    "  - This interoperability allows for easier integration with other Python libraries that use NumPy arrays, but it's worth noting that when you convert a TensorFlow tensor to a NumPy array with .numpy(), it becomes a regular NumPy array and is no longer a part of TensorFlow's computational graph.\n",
    "- **Underlying Representation**:\n",
    "  - When we create a tensor, its data is stored in a format optimized for TensorFlow's computation engine, not as a NumPy array.\n",
    "  - The conversion to a NumPy array is an explicit operation, either for output formatting, compatibility with other Python code, or for certain types of computation."
   ]
  },
  {
   "cell_type": "markdown",
   "metadata": {},
   "source": [
    "### Constants"
   ]
  },
  {
   "cell_type": "code",
   "execution_count": 38,
   "metadata": {},
   "outputs": [],
   "source": [
    "hello = tf.constant('Hello world!')"
   ]
  },
  {
   "cell_type": "code",
   "execution_count": 39,
   "metadata": {},
   "outputs": [
    {
     "data": {
      "text/plain": [
       "<tf.Tensor: shape=(), dtype=string, numpy=b'Hello world!'>"
      ]
     },
     "execution_count": 39,
     "metadata": {},
     "output_type": "execute_result"
    }
   ],
   "source": [
    "hello"
   ]
  },
  {
   "cell_type": "code",
   "execution_count": 40,
   "metadata": {},
   "outputs": [
    {
     "name": "stdout",
     "output_type": "stream",
     "text": [
      "tf.Tensor(b'Hello world!', shape=(), dtype=string)\n"
     ]
    }
   ],
   "source": [
    "print(hello)"
   ]
  },
  {
   "cell_type": "code",
   "execution_count": 41,
   "metadata": {},
   "outputs": [
    {
     "name": "stdout",
     "output_type": "stream",
     "text": [
      "Hello world!\n"
     ]
    }
   ],
   "source": [
    "print(hello.numpy().decode())"
   ]
  },
  {
   "cell_type": "code",
   "execution_count": 42,
   "metadata": {},
   "outputs": [
    {
     "data": {
      "text/plain": [
       "<tf.Tensor: shape=(), dtype=int32, numpy=100>"
      ]
     },
     "execution_count": 42,
     "metadata": {},
     "output_type": "execute_result"
    }
   ],
   "source": [
    "x = tf.constant(100)\n",
    "x"
   ]
  },
  {
   "cell_type": "markdown",
   "metadata": {},
   "source": [
    "### Operations:"
   ]
  },
  {
   "cell_type": "markdown",
   "metadata": {},
   "source": [
    "- In TensorFlow 2.x, eager execution is enabled by default. This means operations in TensorFlow execute immediately as they are called from Python, and you generally do not need to create a session to run operations.\n",
    "\n",
    "- `numpy()` can be used to show the value"
   ]
  },
  {
   "cell_type": "code",
   "execution_count": 43,
   "metadata": {},
   "outputs": [
    {
     "name": "stdout",
     "output_type": "stream",
     "text": [
      "addition: 5\n",
      "subtraction: -1\n",
      "multiplication: 6\n",
      "division: 0.67\n"
     ]
    }
   ],
   "source": [
    "x = tf.constant(2)\n",
    "y = tf.constant(3)\n",
    "\n",
    "print(\"addition:\", (x + y).numpy())\n",
    "print(\"subtraction:\", (x - y).numpy())\n",
    "print(\"multiplication:\", (x * y).numpy())\n",
    "print(\"division:\", format((x / y).numpy(), \".2f\"))"
   ]
  },
  {
   "cell_type": "code",
   "execution_count": 44,
   "metadata": {},
   "outputs": [
    {
     "data": {
      "text/plain": [
       "<tf.Tensor: shape=(), dtype=float64, numpy=0.6666666666666666>"
      ]
     },
     "execution_count": 44,
     "metadata": {},
     "output_type": "execute_result"
    }
   ],
   "source": [
    "# above operations using built-in functions\n",
    "tf.add(x,y)\n",
    "tf.subtract(x,y)\n",
    "tf.multiply(x,y)\n",
    "tf.divide(x,y)"
   ]
  },
  {
   "cell_type": "code",
   "execution_count": 45,
   "metadata": {},
   "outputs": [
    {
     "name": "stdout",
     "output_type": "stream",
     "text": [
      "shapes -> a: (1, 2), b: (2, 1)\n",
      "a: [[5. 5.]]\n",
      "b [[5.]\n",
      " [5.]]\n"
     ]
    }
   ],
   "source": [
    "import numpy as np\n",
    "\n",
    "a = np.array([[5.0, 5.0]])\n",
    "b = np.array([[5.0], [5.0]])\n",
    "print(f\"shapes -> a: {a.shape}, b: {b.shape}\")\n",
    "print(\"a:\", a)\n",
    "print(\"b\", b)"
   ]
  },
  {
   "cell_type": "code",
   "execution_count": 46,
   "metadata": {},
   "outputs": [
    {
     "data": {
      "text/plain": [
       "<tf.Tensor: shape=(1, 1), dtype=float64, numpy=array([[50.]])>"
      ]
     },
     "execution_count": 46,
     "metadata": {},
     "output_type": "execute_result"
    }
   ],
   "source": [
    "# multiply two matrices\n",
    "mat1 = tf.constant(a)\n",
    "mat2 = tf.constant(b)\n",
    "matrix_mul = tf.matmul(mat1, mat2)\n",
    "matrix_mul"
   ]
  }
 ],
 "metadata": {
  "kernelspec": {
   "display_name": "Python 3 (ipykernel)",
   "language": "python",
   "name": "python3"
  },
  "language_info": {
   "codemirror_mode": {
    "name": "ipython",
    "version": 3
   },
   "file_extension": ".py",
   "mimetype": "text/x-python",
   "name": "python",
   "nbconvert_exporter": "python",
   "pygments_lexer": "ipython3",
   "version": "3.11.5"
  }
 },
 "nbformat": 4,
 "nbformat_minor": 5
}
