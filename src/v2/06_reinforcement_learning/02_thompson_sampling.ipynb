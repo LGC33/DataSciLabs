{
 "cells": [
  {
   "cell_type": "markdown",
   "id": "b35ae7d3",
   "metadata": {},
   "source": [
    "# Thompson Sampling"
   ]
  },
  {
   "cell_type": "code",
   "execution_count": 51,
   "id": "e27b7ebd",
   "metadata": {},
   "outputs": [],
   "source": [
    "import random\n",
    "import numpy as np\n",
    "import pandas as pd\n",
    "import matplotlib.pyplot as plt"
   ]
  },
  {
   "cell_type": "markdown",
   "id": "5c0f8d15",
   "metadata": {},
   "source": [
    "### Importing the dataset"
   ]
  },
  {
   "cell_type": "markdown",
   "id": "cff33293",
   "metadata": {},
   "source": [
    "Dataset:\n",
    "- There are 10 different ads (with different designs).\n",
    "- *Simulates* that each row is a user session where the user can click on the ads.\n",
    "- Each row is equivalent to one round."
   ]
  },
  {
   "cell_type": "code",
   "execution_count": 52,
   "id": "ed18b01f",
   "metadata": {},
   "outputs": [
    {
     "data": {
      "text/html": [
       "<div>\n",
       "<style scoped>\n",
       "    .dataframe tbody tr th:only-of-type {\n",
       "        vertical-align: middle;\n",
       "    }\n",
       "\n",
       "    .dataframe tbody tr th {\n",
       "        vertical-align: top;\n",
       "    }\n",
       "\n",
       "    .dataframe thead th {\n",
       "        text-align: right;\n",
       "    }\n",
       "</style>\n",
       "<table border=\"1\" class=\"dataframe\">\n",
       "  <thead>\n",
       "    <tr style=\"text-align: right;\">\n",
       "      <th></th>\n",
       "      <th>Ad 1</th>\n",
       "      <th>Ad 2</th>\n",
       "      <th>Ad 3</th>\n",
       "      <th>Ad 4</th>\n",
       "      <th>Ad 5</th>\n",
       "      <th>Ad 6</th>\n",
       "      <th>Ad 7</th>\n",
       "      <th>Ad 8</th>\n",
       "      <th>Ad 9</th>\n",
       "      <th>Ad 10</th>\n",
       "    </tr>\n",
       "  </thead>\n",
       "  <tbody>\n",
       "    <tr>\n",
       "      <th>0</th>\n",
       "      <td>1</td>\n",
       "      <td>0</td>\n",
       "      <td>0</td>\n",
       "      <td>0</td>\n",
       "      <td>1</td>\n",
       "      <td>0</td>\n",
       "      <td>0</td>\n",
       "      <td>0</td>\n",
       "      <td>1</td>\n",
       "      <td>0</td>\n",
       "    </tr>\n",
       "    <tr>\n",
       "      <th>1</th>\n",
       "      <td>0</td>\n",
       "      <td>0</td>\n",
       "      <td>0</td>\n",
       "      <td>0</td>\n",
       "      <td>0</td>\n",
       "      <td>0</td>\n",
       "      <td>0</td>\n",
       "      <td>0</td>\n",
       "      <td>1</td>\n",
       "      <td>0</td>\n",
       "    </tr>\n",
       "    <tr>\n",
       "      <th>2</th>\n",
       "      <td>0</td>\n",
       "      <td>0</td>\n",
       "      <td>0</td>\n",
       "      <td>0</td>\n",
       "      <td>0</td>\n",
       "      <td>0</td>\n",
       "      <td>0</td>\n",
       "      <td>0</td>\n",
       "      <td>0</td>\n",
       "      <td>0</td>\n",
       "    </tr>\n",
       "    <tr>\n",
       "      <th>3</th>\n",
       "      <td>0</td>\n",
       "      <td>1</td>\n",
       "      <td>0</td>\n",
       "      <td>0</td>\n",
       "      <td>0</td>\n",
       "      <td>0</td>\n",
       "      <td>0</td>\n",
       "      <td>1</td>\n",
       "      <td>0</td>\n",
       "      <td>0</td>\n",
       "    </tr>\n",
       "    <tr>\n",
       "      <th>4</th>\n",
       "      <td>0</td>\n",
       "      <td>0</td>\n",
       "      <td>0</td>\n",
       "      <td>0</td>\n",
       "      <td>0</td>\n",
       "      <td>0</td>\n",
       "      <td>0</td>\n",
       "      <td>0</td>\n",
       "      <td>0</td>\n",
       "      <td>0</td>\n",
       "    </tr>\n",
       "  </tbody>\n",
       "</table>\n",
       "</div>"
      ],
      "text/plain": [
       "   Ad 1  Ad 2  Ad 3  Ad 4  Ad 5  Ad 6  Ad 7  Ad 8  Ad 9  Ad 10\n",
       "0     1     0     0     0     1     0     0     0     1      0\n",
       "1     0     0     0     0     0     0     0     0     1      0\n",
       "2     0     0     0     0     0     0     0     0     0      0\n",
       "3     0     1     0     0     0     0     0     1     0      0\n",
       "4     0     0     0     0     0     0     0     0     0      0"
      ]
     },
     "execution_count": 52,
     "metadata": {},
     "output_type": "execute_result"
    }
   ],
   "source": [
    "dataset = pd.read_csv(\"./filez/Ads_CTR_Optimisation.csv\")\n",
    "dataset.head()"
   ]
  },
  {
   "cell_type": "markdown",
   "id": "df600418",
   "metadata": {},
   "source": [
    "### Implementing the Thompson Sampling algo"
   ]
  },
  {
   "cell_type": "code",
   "execution_count": 53,
   "id": "553530b1",
   "metadata": {},
   "outputs": [],
   "source": [
    "def thompson_sampling(rounds: int):\n",
    "    N = rounds  # num of users (rounds)\n",
    "    d = 10  # num of ads\n",
    "    ads_selected = []  # ads selected over the rounds (10K elements in the end)\n",
    "    numbers_of_rewards_1 = [0] * d\n",
    "    numbers_of_rewards_0 = [0] * d\n",
    "    total_reward = 0\n",
    "\n",
    "    for n in range(0, N):\n",
    "        ad = 0\n",
    "        max_random = 0\n",
    "        for i in range(0, d):\n",
    "            random_beta = random.betavariate(\n",
    "                numbers_of_rewards_1[i] + 1, numbers_of_rewards_0[i] + 1\n",
    "            )\n",
    "            if random_beta > max_random:\n",
    "                max_random = random_beta\n",
    "                ad = i\n",
    "        ads_selected.append(ad)\n",
    "        reward = dataset.values[n, ad]\n",
    "        if reward == 1:\n",
    "            numbers_of_rewards_1[ad] += 1\n",
    "        else:\n",
    "            numbers_of_rewards_0[ad] += 1\n",
    "        total_reward += reward\n",
    "\n",
    "    return ads_selected"
   ]
  },
  {
   "cell_type": "markdown",
   "id": "830dbe7d",
   "metadata": {},
   "source": [
    "### Generic function to display histograms"
   ]
  },
  {
   "cell_type": "code",
   "execution_count": 54,
   "id": "b4fe5a1f",
   "metadata": {},
   "outputs": [],
   "source": [
    "def show_histogram(ads_selected):\n",
    "    # Define bin edges so that each integer value (x-axis) is at the center of a bin\n",
    "    bin_edges = np.arange(min(ads_selected) - 0.5, max(ads_selected) + 1.5, 1)\n",
    "\n",
    "    # Plot histogram and get values\n",
    "    counts, _, patches = plt.hist(\n",
    "        ads_selected, bins=bin_edges, align=\"mid\", rwidth=0.8, color=\"#9999ff\"\n",
    "    )\n",
    "\n",
    "    # Find the index of the highest bin\n",
    "    max_bin_index = np.argmax(counts)\n",
    "\n",
    "    # Highlight the highest bin in a different color\n",
    "    patches[max_bin_index].set_fc(\"#ff9999\")  # Soft red color\n",
    "\n",
    "    # Set x-axis ticks to integer values\n",
    "    plt.xticks(range(min(ads_selected), max(ads_selected) + 1))\n",
    "\n",
    "    # Add titles and labels\n",
    "    plt.title(\"Histogram of ads selections\")\n",
    "    plt.xlabel(\"Ads\")\n",
    "    plt.ylabel(\"Number of times each ad was selected\")\n",
    "\n",
    "    # Show plot\n",
    "    plt.show()"
   ]
  },
  {
   "cell_type": "markdown",
   "id": "a0542133",
   "metadata": {},
   "source": [
    "### Visualising the results for 10,000 rounds"
   ]
  },
  {
   "cell_type": "code",
   "execution_count": 55,
   "id": "b702ab9e",
   "metadata": {},
   "outputs": [
    {
     "data": {
      "image/png": "[encoded data removed]",
      "text/plain": [
       "<Figure size 640x480 with 1 Axes>"
      ]
     },
     "metadata": {},
     "output_type": "display_data"
    }
   ],
   "source": [
    "# Ad 4 is clear winner with 10,000 rounds\n",
    "ads_selected = thompson_sampling(10000)\n",
    "show_histogram(ads_selected)"
   ]
  },
  {
   "cell_type": "markdown",
   "id": "0bd1270a",
   "metadata": {},
   "source": [
    "### Visualising the results for 500 rounds"
   ]
  },
  {
   "cell_type": "code",
   "execution_count": 56,
   "id": "934d75b2",
   "metadata": {},
   "outputs": [
    {
     "data": {
      "image/png": "[encoded data removed]",
      "text/plain": [
       "<Figure size 640x480 with 1 Axes>"
      ]
     },
     "metadata": {},
     "output_type": "display_data"
    }
   ],
   "source": [
    "# Same result with 500 rounds instead of 10,000 rounds!!\n",
    "ads_selected = thompson_sampling(500)\n",
    "show_histogram(ads_selected)"
   ]
  },
  {
   "cell_type": "markdown",
   "id": "cdd77cd6",
   "metadata": {},
   "source": [
    "    -> Thompson Sampling is able to find results with significantly lower number of rounds."
   ]
  }
 ],
 "metadata": {
  "kernelspec": {
   "display_name": "Python 3 (ipykernel)",
   "language": "python",
   "name": "python3"
  },
  "language_info": {
   "codemirror_mode": {
    "name": "ipython",
    "version": 3
   },
   "file_extension": ".py",
   "mimetype": "text/x-python",
   "name": "python",
   "nbconvert_exporter": "python",
   "pygments_lexer": "ipython3",
   "version": "3.11.5"
  }
 },
 "nbformat": 4,
 "nbformat_minor": 5
}
