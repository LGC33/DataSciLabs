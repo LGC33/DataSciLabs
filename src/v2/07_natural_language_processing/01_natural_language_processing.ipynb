{
 "cells": [
  {
   "cell_type": "markdown",
   "id": "7d921d99",
   "metadata": {},
   "source": [
    "# Natural Language Processing"
   ]
  },
  {
   "cell_type": "markdown",
   "id": "cd0fa278",
   "metadata": {},
   "source": [
    "### Importing the dataset"
   ]
  },
  {
   "cell_type": "code",
   "execution_count": 31,
   "id": "a541248d",
   "metadata": {},
   "outputs": [
    {
     "data": {
      "text/html": [
       "<div>\n",
       "<style scoped>\n",
       "    .dataframe tbody tr th:only-of-type {\n",
       "        vertical-align: middle;\n",
       "    }\n",
       "\n",
       "    .dataframe tbody tr th {\n",
       "        vertical-align: top;\n",
       "    }\n",
       "\n",
       "    .dataframe thead th {\n",
       "        text-align: right;\n",
       "    }\n",
       "</style>\n",
       "<table border=\"1\" class=\"dataframe\">\n",
       "  <thead>\n",
       "    <tr style=\"text-align: right;\">\n",
       "      <th></th>\n",
       "      <th>Review</th>\n",
       "      <th>Liked</th>\n",
       "    </tr>\n",
       "  </thead>\n",
       "  <tbody>\n",
       "    <tr>\n",
       "      <th>0</th>\n",
       "      <td>Wow... Loved this place.</td>\n",
       "      <td>1</td>\n",
       "    </tr>\n",
       "    <tr>\n",
       "      <th>1</th>\n",
       "      <td>Crust is not good.</td>\n",
       "      <td>0</td>\n",
       "    </tr>\n",
       "    <tr>\n",
       "      <th>2</th>\n",
       "      <td>Not tasty and the texture was just nasty.</td>\n",
       "      <td>0</td>\n",
       "    </tr>\n",
       "    <tr>\n",
       "      <th>3</th>\n",
       "      <td>Stopped by during the late May bank holiday of...</td>\n",
       "      <td>1</td>\n",
       "    </tr>\n",
       "    <tr>\n",
       "      <th>4</th>\n",
       "      <td>The selection on the menu was great and so wer...</td>\n",
       "      <td>1</td>\n",
       "    </tr>\n",
       "  </tbody>\n",
       "</table>\n",
       "</div>"
      ],
      "text/plain": [
       "                                              Review  Liked\n",
       "0                           Wow... Loved this place.      1\n",
       "1                                 Crust is not good.      0\n",
       "2          Not tasty and the texture was just nasty.      0\n",
       "3  Stopped by during the late May bank holiday of...      1\n",
       "4  The selection on the menu was great and so wer...      1"
      ]
     },
     "execution_count": 31,
     "metadata": {},
     "output_type": "execute_result"
    }
   ],
   "source": [
    "import pandas as pd\n",
    "\n",
    "# remove all quotes\n",
    "dataset = pd.read_csv(\"./filez/Restaurant_Reviews.tsv\", sep='\\t', quoting=3)\n",
    "dataset.head()"
   ]
  },
  {
   "cell_type": "markdown",
   "id": "cd1d2a16",
   "metadata": {},
   "source": [
    "### Cleaning the texts"
   ]
  },
  {
   "cell_type": "code",
   "execution_count": 32,
   "id": "5c5d89c8",
   "metadata": {},
   "outputs": [],
   "source": [
    "import re\n",
    "import nltk\n",
    "\n",
    "# download stopwords (just once)\n",
    "# nltk.download('stopwords')\n",
    "\n",
    "from nltk.corpus import stopwords\n",
    "\n",
    "# Stemming: removing suffixes from words to reduce them to their base or root form\n",
    "from nltk.stem.porter import PorterStemmer"
   ]
  },
  {
   "cell_type": "code",
   "execution_count": 33,
   "id": "1e62c5ef",
   "metadata": {},
   "outputs": [
    {
     "name": "stdout",
     "output_type": "stream",
     "text": [
      "['wow love place', 'crust not good', 'not tasti textur nasti']\n"
     ]
    }
   ],
   "source": [
    "corpus = []\n",
    "ps = PorterStemmer()\n",
    "\n",
    "# careful!! some stop words are important, such as 'not'\n",
    "all_stop_words = stopwords.words(\"english\")\n",
    "all_stop_words.remove(\"not\")\n",
    "\n",
    "for i in range(0, len(dataset)):\n",
    "    # 1) remove punctuations (anything which is not a letter) by space\n",
    "    # -> not all letters from a to z and A to Z\n",
    "    # output: Wow    Loved this place\n",
    "    review = re.sub(\"[^a-zA-Z]\", \" \", dataset[\"Review\"][i])\n",
    "\n",
    "    # 2) only lower-case letters\n",
    "    # output: wow    loved this place\n",
    "    review = review.lower()\n",
    "\n",
    "    # 3) Split elements in words (to apply stemming afterwords)\n",
    "    # output: ['wow', 'loved', 'this', 'place']\n",
    "    review = review.split()\n",
    "\n",
    "    # 4) Steeming on each word of a review\n",
    "    # output: ['wow', 'love', 'place']\n",
    "    review = [ps.stem(word) for word in review if not word in all_stop_words]\n",
    "\n",
    "    # 5) join words to have a string sentence\n",
    "    review = \" \".join(review)\n",
    "    # output: wow love place\n",
    "\n",
    "    corpus.append(review)\n",
    "\n",
    "print(corpus[:3])"
   ]
  },
  {
   "cell_type": "markdown",
   "id": "1f60c5eb",
   "metadata": {},
   "source": [
    "### Creating the Bag of Words model\n",
    "tokenisation to create the sparse matrix"
   ]
  },
  {
   "cell_type": "code",
   "execution_count": 34,
   "id": "e85d0da2",
   "metadata": {},
   "outputs": [
    {
     "data": {
      "text/plain": [
       "'\\nThe result, X, is a numerical representation of the text corpus, where each review is now\\nrepresented by a vector indicating the presence and frequency of words from the corpus.\\nThis numerical representation can then be used as input for various machine learning models,\\nespecially for natural language processing tasks.\\n'"
      ]
     },
     "execution_count": 34,
     "metadata": {},
     "output_type": "execute_result"
    }
   ],
   "source": [
    "from sklearn.feature_extraction.text import CountVectorizer\n",
    "\n",
    "cv = CountVectorizer()\n",
    "\n",
    "X = cv.fit_transform(corpus).toarray()\n",
    "y = dataset[\"Liked\"]\n",
    "\n",
    "\"\"\"\n",
    "The result, X, is a numerical representation of the text corpus, where each review is now\n",
    "represented by a vector indicating the presence and frequency of words from the corpus.\n",
    "This numerical representation can then be used as input for various machine learning models,\n",
    "especially for natural language processing tasks.\n",
    "\"\"\""
   ]
  },
  {
   "cell_type": "code",
   "execution_count": 35,
   "id": "69e450d7",
   "metadata": {},
   "outputs": [
    {
     "name": "stdout",
     "output_type": "stream",
     "text": [
      "1566\n"
     ]
    },
    {
     "data": {
      "text/plain": [
       "'\\nThe reason to limit the number of features (words) is often to improve computational\\nefficiency and possibly the performance of subsequent machine learning models. By focusing\\non the most frequent words, you might capture the most relevant aspects of the text while\\ndiscarding rare words which might be less informative or just noise. \\n'"
      ]
     },
     "execution_count": 35,
     "metadata": {},
     "output_type": "execute_result"
    }
   ],
   "source": [
    "print(len(X[0]))  # 1,566 possible distinct words\n",
    "\n",
    "cv = CountVectorizer(max_features=1500)\n",
    "X = cv.fit_transform(corpus).toarray()\n",
    "\n",
    "\"\"\"\n",
    "The reason to limit the number of features (words) is often to improve computational\n",
    "efficiency and possibly the performance of subsequent machine learning models. By focusing\n",
    "on the most frequent words, you might capture the most relevant aspects of the text while\n",
    "discarding rare words which might be less informative or just noise. \n",
    "\"\"\""
   ]
  },
  {
   "cell_type": "markdown",
   "id": "06958695",
   "metadata": {},
   "source": [
    "### Splitting the dataset into the Train/Test sets"
   ]
  },
  {
   "cell_type": "code",
   "execution_count": 36,
   "id": "50bc6bf7",
   "metadata": {},
   "outputs": [],
   "source": [
    "from sklearn.model_selection import train_test_split\n",
    "\n",
    "X_train, X_test, y_train, y_test = train_test_split(X, y, test_size=0.2, random_state=0)"
   ]
  },
  {
   "cell_type": "markdown",
   "id": "a3e275f2",
   "metadata": {},
   "source": [
    "### Training the Naive Bayes model on the Training test"
   ]
  },
  {
   "cell_type": "code",
   "execution_count": 37,
   "id": "bb3f88f9",
   "metadata": {},
   "outputs": [
    {
     "data": {
      "text/plain": [
       "{'bootstrap': True,\n",
       " 'ccp_alpha': 0.0,\n",
       " 'class_weight': None,\n",
       " 'criterion': 'gini',\n",
       " 'max_depth': None,\n",
       " 'max_features': 'sqrt',\n",
       " 'max_leaf_nodes': None,\n",
       " 'max_samples': None,\n",
       " 'min_impurity_decrease': 0.0,\n",
       " 'min_samples_leaf': 1,\n",
       " 'min_samples_split': 2,\n",
       " 'min_weight_fraction_leaf': 0.0,\n",
       " 'n_estimators': 100,\n",
       " 'n_jobs': None,\n",
       " 'oob_score': False,\n",
       " 'random_state': None,\n",
       " 'verbose': 0,\n",
       " 'warm_start': False}"
      ]
     },
     "execution_count": 37,
     "metadata": {},
     "output_type": "execute_result"
    }
   ],
   "source": [
    "# from sklearn.naive_bayes import GaussianNB\n",
    "# classifier = GaussianNB()\n",
    "\n",
    "# Random Forest gives better results than GaussianNB, which assumes normal dist.\n",
    "from sklearn.ensemble import RandomForestClassifier\n",
    "\n",
    "classifier = RandomForestClassifier()\n",
    "\n",
    "classifier.fit(X_train, y_train)\n",
    "classifier.get_params()"
   ]
  },
  {
   "cell_type": "markdown",
   "id": "1ae93c34",
   "metadata": {},
   "source": [
    "### Predicting the Test set results"
   ]
  },
  {
   "cell_type": "code",
   "execution_count": 38,
   "id": "b2a3bb4c",
   "metadata": {},
   "outputs": [
    {
     "name": "stdout",
     "output_type": "stream",
     "text": [
      "Review for 'very bad service' -> 0\n",
      "Review for 'awesome meal' -> 0\n",
      "Review for 'A great touch' -> 1\n",
      "Review for 'horrible service' -> 0\n"
     ]
    }
   ],
   "source": [
    "def make_prediction(review: str):\n",
    "    prediction = classifier.predict(cv.transform([review]).toarray())\n",
    "    print(f\"Review for '{review}' -> {prediction[0]}\")\n",
    "\n",
    "make_prediction(\"very bad service\")\n",
    "make_prediction(\"awesome meal\")\n",
    "make_prediction(\"A great touch\")\n",
    "make_prediction(\"horrible service\") "
   ]
  },
  {
   "cell_type": "markdown",
   "id": "541eb293",
   "metadata": {},
   "source": [
    "### Making the Confusion Matrix"
   ]
  },
  {
   "cell_type": "code",
   "execution_count": 39,
   "id": "acced6a3",
   "metadata": {},
   "outputs": [
    {
     "name": "stdout",
     "output_type": "stream",
     "text": [
      "1) classification_report:\n",
      "\n",
      "               precision    recall  f1-score   support\n",
      "\n",
      "           0       0.70      0.92      0.79        97\n",
      "           1       0.89      0.62      0.73       103\n",
      "\n",
      "    accuracy                           0.77       200\n",
      "   macro avg       0.79      0.77      0.76       200\n",
      "weighted avg       0.80      0.77      0.76       200\n",
      "\n",
      "2) confusion_matrix:\n",
      "\n",
      " [[89  8]\n",
      " [39 64]] \n",
      "\n",
      "3) accuracy_score:\n",
      "\n",
      " 0.765\n"
     ]
    }
   ],
   "source": [
    "from sklearn.metrics import classification_report, confusion_matrix, accuracy_score\n",
    "\n",
    "y_pred = classifier.predict(X_test)\n",
    "\n",
    "print(f\"1) classification_report:\\n\\n\", classification_report(y_test, y_pred))\n",
    "print(f\"2) confusion_matrix:\\n\\n\", confusion_matrix(y_test, y_pred), \"\\n\")\n",
    "print(f\"3) accuracy_score:\\n\\n\", accuracy_score(y_test, y_pred))"
   ]
  },
  {
   "cell_type": "markdown",
   "id": "da652b46",
   "metadata": {},
   "source": [
    "    ☝🏻 quite some improvement can still be done.. "
   ]
  },
  {
   "cell_type": "markdown",
   "id": "1825d940",
   "metadata": {},
   "source": []
  }
 ],
 "metadata": {
  "kernelspec": {
   "display_name": "Python 3 (ipykernel)",
   "language": "python",
   "name": "python3"
  },
  "language_info": {
   "codemirror_mode": {
    "name": "ipython",
    "version": 3
   },
   "file_extension": ".py",
   "mimetype": "text/x-python",
   "name": "python",
   "nbconvert_exporter": "python",
   "pygments_lexer": "ipython3",
   "version": "3.11.5"
  }
 },
 "nbformat": 4,
 "nbformat_minor": 5
}
