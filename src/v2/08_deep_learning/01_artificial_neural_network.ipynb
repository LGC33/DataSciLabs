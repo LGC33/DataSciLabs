{
 "cells": [
  {
   "cell_type": "markdown",
   "id": "b982041f",
   "metadata": {},
   "source": [
    "# Artificial Neural Network (ANN)"
   ]
  },
  {
   "cell_type": "markdown",
   "id": "75a341e6",
   "metadata": {},
   "source": [
    "**Dataset**:\n",
    "- Bank that collected customers info over the last 6 months and whether they left (`Exited=1`) or not (`Exited=0`)\n",
    "- The Bank wants to understand the reasons for customers leaving and predict customers in high risk of leaving (to do preventive actions)"
   ]
  },
  {
   "cell_type": "markdown",
   "id": "20aa4a1b",
   "metadata": {},
   "source": [
    "### Importing the libraries"
   ]
  },
  {
   "cell_type": "code",
   "execution_count": 131,
   "id": "e7af0cbe",
   "metadata": {},
   "outputs": [
    {
     "data": {
      "text/plain": [
       "'2.15.0'"
      ]
     },
     "execution_count": 131,
     "metadata": {},
     "output_type": "execute_result"
    }
   ],
   "source": [
    "import numpy as np\n",
    "import pandas as pd\n",
    "import tensorflow as tf\n",
    "\n",
    "tf.__version__"
   ]
  },
  {
   "cell_type": "markdown",
   "id": "7bbd39a2",
   "metadata": {},
   "source": [
    "## Part 1 - Data Preprocessing"
   ]
  },
  {
   "cell_type": "markdown",
   "id": "24127d68",
   "metadata": {},
   "source": [
    "### Importing the dataset"
   ]
  },
  {
   "cell_type": "code",
   "execution_count": 132,
   "id": "0dc1d1e8",
   "metadata": {},
   "outputs": [
    {
     "data": {
      "text/html": [
       "<div>\n",
       "<style scoped>\n",
       "    .dataframe tbody tr th:only-of-type {\n",
       "        vertical-align: middle;\n",
       "    }\n",
       "\n",
       "    .dataframe tbody tr th {\n",
       "        vertical-align: top;\n",
       "    }\n",
       "\n",
       "    .dataframe thead th {\n",
       "        text-align: right;\n",
       "    }\n",
       "</style>\n",
       "<table border=\"1\" class=\"dataframe\">\n",
       "  <thead>\n",
       "    <tr style=\"text-align: right;\">\n",
       "      <th></th>\n",
       "      <th>RowNumber</th>\n",
       "      <th>CustomerId</th>\n",
       "      <th>Surname</th>\n",
       "      <th>CreditScore</th>\n",
       "      <th>Geography</th>\n",
       "      <th>Gender</th>\n",
       "      <th>Age</th>\n",
       "      <th>Tenure</th>\n",
       "      <th>Balance</th>\n",
       "      <th>NumOfProducts</th>\n",
       "      <th>HasCrCard</th>\n",
       "      <th>IsActiveMember</th>\n",
       "      <th>EstimatedSalary</th>\n",
       "      <th>Exited</th>\n",
       "    </tr>\n",
       "  </thead>\n",
       "  <tbody>\n",
       "    <tr>\n",
       "      <th>0</th>\n",
       "      <td>1</td>\n",
       "      <td>15634602</td>\n",
       "      <td>Hargrave</td>\n",
       "      <td>619</td>\n",
       "      <td>France</td>\n",
       "      <td>Female</td>\n",
       "      <td>42</td>\n",
       "      <td>2</td>\n",
       "      <td>0.00</td>\n",
       "      <td>1</td>\n",
       "      <td>1</td>\n",
       "      <td>1</td>\n",
       "      <td>101348.88</td>\n",
       "      <td>1</td>\n",
       "    </tr>\n",
       "    <tr>\n",
       "      <th>1</th>\n",
       "      <td>2</td>\n",
       "      <td>15647311</td>\n",
       "      <td>Hill</td>\n",
       "      <td>608</td>\n",
       "      <td>Spain</td>\n",
       "      <td>Female</td>\n",
       "      <td>41</td>\n",
       "      <td>1</td>\n",
       "      <td>83807.86</td>\n",
       "      <td>1</td>\n",
       "      <td>0</td>\n",
       "      <td>1</td>\n",
       "      <td>112542.58</td>\n",
       "      <td>0</td>\n",
       "    </tr>\n",
       "    <tr>\n",
       "      <th>2</th>\n",
       "      <td>3</td>\n",
       "      <td>15619304</td>\n",
       "      <td>Onio</td>\n",
       "      <td>502</td>\n",
       "      <td>France</td>\n",
       "      <td>Female</td>\n",
       "      <td>42</td>\n",
       "      <td>8</td>\n",
       "      <td>159660.80</td>\n",
       "      <td>3</td>\n",
       "      <td>1</td>\n",
       "      <td>0</td>\n",
       "      <td>113931.57</td>\n",
       "      <td>1</td>\n",
       "    </tr>\n",
       "    <tr>\n",
       "      <th>3</th>\n",
       "      <td>4</td>\n",
       "      <td>15701354</td>\n",
       "      <td>Boni</td>\n",
       "      <td>699</td>\n",
       "      <td>France</td>\n",
       "      <td>Female</td>\n",
       "      <td>39</td>\n",
       "      <td>1</td>\n",
       "      <td>0.00</td>\n",
       "      <td>2</td>\n",
       "      <td>0</td>\n",
       "      <td>0</td>\n",
       "      <td>93826.63</td>\n",
       "      <td>0</td>\n",
       "    </tr>\n",
       "    <tr>\n",
       "      <th>4</th>\n",
       "      <td>5</td>\n",
       "      <td>15737888</td>\n",
       "      <td>Mitchell</td>\n",
       "      <td>850</td>\n",
       "      <td>Spain</td>\n",
       "      <td>Female</td>\n",
       "      <td>43</td>\n",
       "      <td>2</td>\n",
       "      <td>125510.82</td>\n",
       "      <td>1</td>\n",
       "      <td>1</td>\n",
       "      <td>1</td>\n",
       "      <td>79084.10</td>\n",
       "      <td>0</td>\n",
       "    </tr>\n",
       "  </tbody>\n",
       "</table>\n",
       "</div>"
      ],
      "text/plain": [
       "   RowNumber  CustomerId   Surname  CreditScore Geography  Gender  Age  \\\n",
       "0          1    15634602  Hargrave          619    France  Female   42   \n",
       "1          2    15647311      Hill          608     Spain  Female   41   \n",
       "2          3    15619304      Onio          502    France  Female   42   \n",
       "3          4    15701354      Boni          699    France  Female   39   \n",
       "4          5    15737888  Mitchell          850     Spain  Female   43   \n",
       "\n",
       "   Tenure    Balance  NumOfProducts  HasCrCard  IsActiveMember  \\\n",
       "0       2       0.00              1          1               1   \n",
       "1       1   83807.86              1          0               1   \n",
       "2       8  159660.80              3          1               0   \n",
       "3       1       0.00              2          0               0   \n",
       "4       2  125510.82              1          1               1   \n",
       "\n",
       "   EstimatedSalary  Exited  \n",
       "0        101348.88       1  \n",
       "1        112542.58       0  \n",
       "2        113931.57       1  \n",
       "3         93826.63       0  \n",
       "4         79084.10       0  "
      ]
     },
     "execution_count": 132,
     "metadata": {},
     "output_type": "execute_result"
    }
   ],
   "source": [
    "dataset = pd.read_csv('./filez/Churn_Modelling.csv')\n",
    "dataset.head()"
   ]
  },
  {
   "cell_type": "code",
   "execution_count": 133,
   "id": "db6db517",
   "metadata": {},
   "outputs": [
    {
     "name": "stdout",
     "output_type": "stream",
     "text": [
      "<class 'pandas.core.frame.DataFrame'>\n",
      "RangeIndex: 10000 entries, 0 to 9999\n",
      "Data columns (total 14 columns):\n",
      " #   Column           Non-Null Count  Dtype  \n",
      "---  ------           --------------  -----  \n",
      " 0   RowNumber        10000 non-null  int64  \n",
      " 1   CustomerId       10000 non-null  int64  \n",
      " 2   Surname          10000 non-null  object \n",
      " 3   CreditScore      10000 non-null  int64  \n",
      " 4   Geography        10000 non-null  object \n",
      " 5   Gender           10000 non-null  object \n",
      " 6   Age              10000 non-null  int64  \n",
      " 7   Tenure           10000 non-null  int64  \n",
      " 8   Balance          10000 non-null  float64\n",
      " 9   NumOfProducts    10000 non-null  int64  \n",
      " 10  HasCrCard        10000 non-null  int64  \n",
      " 11  IsActiveMember   10000 non-null  int64  \n",
      " 12  EstimatedSalary  10000 non-null  float64\n",
      " 13  Exited           10000 non-null  int64  \n",
      "dtypes: float64(2), int64(9), object(3)\n",
      "memory usage: 1.1+ MB\n"
     ]
    }
   ],
   "source": [
    "dataset.info()"
   ]
  },
  {
   "cell_type": "code",
   "execution_count": 134,
   "id": "bf2dac8d",
   "metadata": {},
   "outputs": [
    {
     "name": "stdout",
     "output_type": "stream",
     "text": [
      "X:\n",
      "[[619 'France' 'Female' 42 2 0.0 1 1 1 101348.88]\n",
      " [608 'Spain' 'Female' 41 1 83807.86 1 0 1 112542.58]\n",
      " [502 'France' 'Female' 42 8 159660.8 3 1 0 113931.57]]\n",
      "y:\n",
      "[1 0 1]\n"
     ]
    }
   ],
   "source": [
    "# exclude rownum, customer id and name\n",
    "X = dataset.iloc[:, 3:-1].values\n",
    "y = dataset.iloc[:, -1].values\n",
    "\n",
    "print(f'X:\\n{X[:3]}')\n",
    "print(f'y:\\n{y[:3]}')"
   ]
  },
  {
   "cell_type": "markdown",
   "id": "c4b183f0",
   "metadata": {},
   "source": [
    "### Encoding categorical data"
   ]
  },
  {
   "cell_type": "code",
   "execution_count": 135,
   "id": "714dc0e9",
   "metadata": {},
   "outputs": [
    {
     "name": "stdout",
     "output_type": "stream",
     "text": [
      "[[619 'France' 0 42 2 0.0 1 1 1 101348.88]\n",
      " [608 'Spain' 0 41 1 83807.86 1 0 1 112542.58]\n",
      " [502 'France' 0 42 8 159660.8 3 1 0 113931.57]]\n"
     ]
    }
   ],
   "source": [
    "from sklearn.preprocessing import LabelEncoder\n",
    "le = LabelEncoder()\n",
    "\n",
    "# encode genre\n",
    "X[:, 2] = le.fit_transform(X[:, 2])\n",
    "print(X[:3])"
   ]
  },
  {
   "cell_type": "code",
   "execution_count": 136,
   "id": "9072c155",
   "metadata": {},
   "outputs": [
    {
     "name": "stdout",
     "output_type": "stream",
     "text": [
      "[[1.0 0.0 0.0 619 0 42 2 0.0 1 1 1 101348.88]\n",
      " [0.0 0.0 1.0 608 0 41 1 83807.86 1 0 1 112542.58]\n",
      " [1.0 0.0 0.0 502 0 42 8 159660.8 3 1 0 113931.57]]\n"
     ]
    }
   ],
   "source": [
    "from sklearn.compose import ColumnTransformer\n",
    "from sklearn.preprocessing import OneHotEncoder\n",
    "\n",
    "ct = ColumnTransformer(\n",
    "    transformers=[(\"encoder\", OneHotEncoder(), [1])], remainder=\"passthrough\"\n",
    ")\n",
    "X = np.array(ct.fit_transform(X))\n",
    "\n",
    "print(X[:3])"
   ]
  },
  {
   "cell_type": "markdown",
   "id": "9cf5b24a",
   "metadata": {},
   "source": [
    "### Splitting the dataset into the Train/Test set"
   ]
  },
  {
   "cell_type": "code",
   "execution_count": 137,
   "id": "ca1e2e1d",
   "metadata": {},
   "outputs": [],
   "source": [
    "from sklearn.model_selection import train_test_split\n",
    "\n",
    "X_train, X_test, y_train, y_test = train_test_split(X, y, test_size=0.2, random_state=0)"
   ]
  },
  {
   "cell_type": "markdown",
   "id": "233e13cd",
   "metadata": {},
   "source": [
    "### Feature Scaling\n",
    "Mandatory in deep learning!"
   ]
  },
  {
   "cell_type": "code",
   "execution_count": 138,
   "id": "29e762b8",
   "metadata": {},
   "outputs": [],
   "source": [
    "from sklearn.preprocessing import StandardScaler\n",
    "\n",
    "sc = StandardScaler()\n",
    "X_train = sc.fit_transform(X_train)\n",
    "X_test = sc.transform(X_test)"
   ]
  },
  {
   "cell_type": "markdown",
   "id": "904d2bd0",
   "metadata": {},
   "source": [
    "## Part 2 - Building the ANN"
   ]
  },
  {
   "cell_type": "markdown",
   "id": "54172890",
   "metadata": {},
   "source": [
    "### Initializing the ANN"
   ]
  },
  {
   "cell_type": "code",
   "execution_count": 139,
   "id": "73f5e66a",
   "metadata": {},
   "outputs": [],
   "source": [
    "ann = tf.keras.models.Sequential()"
   ]
  },
  {
   "cell_type": "markdown",
   "id": "3384751c",
   "metadata": {},
   "source": [
    "### Adding the input layer and the 1st hidden layer\n",
    "How many neurons? no rule of thumb. Start with one and then iterate."
   ]
  },
  {
   "cell_type": "code",
   "execution_count": 140,
   "id": "61582700",
   "metadata": {},
   "outputs": [],
   "source": [
    "# relu -> rectified activation function\n",
    "ann.add(tf.keras.layers.Dense(units=6, activation='relu'))\n"
   ]
  },
  {
   "cell_type": "markdown",
   "id": "85e65a3f",
   "metadata": {},
   "source": [
    "### Adding the 2nd layer hidden layer"
   ]
  },
  {
   "cell_type": "code",
   "execution_count": 141,
   "id": "ce0b1e4f",
   "metadata": {},
   "outputs": [],
   "source": [
    "ann.add(tf.keras.layers.Dense(units=6, activation='relu'))"
   ]
  },
  {
   "cell_type": "markdown",
   "id": "cc7bc0d2",
   "metadata": {},
   "source": [
    "### Adding the output layer"
   ]
  },
  {
   "cell_type": "code",
   "execution_count": 142,
   "id": "691aac59",
   "metadata": {},
   "outputs": [],
   "source": [
    "# - output is one binary value, so 1 output neuron.\n",
    "# - for categorical output (eg: 'A', 'B', 'C'), we'd need\n",
    "#   3 neurons and activation = `softmax` instead of `sigmoid`\n",
    "ann.add(tf.keras.layers.Dense(units=1, activation=\"sigmoid\"))"
   ]
  },
  {
   "cell_type": "markdown",
   "id": "e5185b2c",
   "metadata": {},
   "source": [
    "## Part 3 - Training the ANN"
   ]
  },
  {
   "cell_type": "markdown",
   "id": "c47e0722",
   "metadata": {},
   "source": [
    "### Compiling the ANN"
   ]
  },
  {
   "cell_type": "code",
   "execution_count": 143,
   "id": "edd3f9f1",
   "metadata": {},
   "outputs": [],
   "source": [
    "# optimizer: `adam` is based on Stochastic Gradient Descent\n",
    "# loss: `binary_crossentropy` for binary classification\n",
    "#       `categorical_crossentropy`for categorical classification\n",
    "ann.compile(optimizer=\"adam\", loss=\"binary_crossentropy\", metrics=[\"accuracy\"])"
   ]
  },
  {
   "cell_type": "markdown",
   "id": "2746e24e",
   "metadata": {},
   "source": [
    "### Training the ANN on the Training set"
   ]
  },
  {
   "cell_type": "code",
   "execution_count": 144,
   "id": "1286871f",
   "metadata": {},
   "outputs": [
    {
     "name": "stdout",
     "output_type": "stream",
     "text": [
      "Epoch 1/100\n",
      "  1/250 [..............................] - ETA: 51s - loss: 0.5765 - accuracy: 0.8125"
     ]
    },
    {
     "name": "stdout",
     "output_type": "stream",
     "text": [
      "250/250 [==============================] - 0s 575us/step - loss: 0.4989 - accuracy: 0.7960\n",
      "Epoch 2/100\n",
      "250/250 [==============================] - 0s 413us/step - loss: 0.4517 - accuracy: 0.7960\n",
      "Epoch 3/100\n",
      "250/250 [==============================] - 0s 414us/step - loss: 0.4340 - accuracy: 0.7960\n",
      "Epoch 4/100\n",
      "250/250 [==============================] - 0s 463us/step - loss: 0.4251 - accuracy: 0.7971\n",
      "Epoch 5/100\n",
      "250/250 [==============================] - 0s 446us/step - loss: 0.4193 - accuracy: 0.8144\n",
      "Epoch 6/100\n",
      "250/250 [==============================] - 0s 436us/step - loss: 0.4149 - accuracy: 0.8201\n",
      "Epoch 7/100\n",
      "250/250 [==============================] - 0s 420us/step - loss: 0.4109 - accuracy: 0.8219\n",
      "Epoch 8/100\n",
      "250/250 [==============================] - 0s 406us/step - loss: 0.4068 - accuracy: 0.8244\n",
      "Epoch 9/100\n",
      "250/250 [==============================] - 0s 420us/step - loss: 0.4023 - accuracy: 0.8305\n",
      "Epoch 10/100\n",
      "250/250 [==============================] - 0s 431us/step - loss: 0.3976 - accuracy: 0.8350\n",
      "Epoch 11/100\n",
      "250/250 [==============================] - 0s 428us/step - loss: 0.3932 - accuracy: 0.8360\n",
      "Epoch 12/100\n",
      "250/250 [==============================] - 0s 403us/step - loss: 0.3890 - accuracy: 0.8388\n",
      "Epoch 13/100\n",
      "250/250 [==============================] - 0s 401us/step - loss: 0.3853 - accuracy: 0.8399\n",
      "Epoch 14/100\n",
      "250/250 [==============================] - 0s 410us/step - loss: 0.3819 - accuracy: 0.8431\n",
      "Epoch 15/100\n",
      "250/250 [==============================] - 0s 407us/step - loss: 0.3781 - accuracy: 0.8440\n",
      "Epoch 16/100\n",
      "250/250 [==============================] - 0s 407us/step - loss: 0.3753 - accuracy: 0.8459\n",
      "Epoch 17/100\n",
      "250/250 [==============================] - 0s 409us/step - loss: 0.3724 - accuracy: 0.8480\n",
      "Epoch 18/100\n",
      "250/250 [==============================] - 0s 408us/step - loss: 0.3703 - accuracy: 0.8487\n",
      "Epoch 19/100\n",
      "250/250 [==============================] - 0s 400us/step - loss: 0.3673 - accuracy: 0.8486\n",
      "Epoch 20/100\n",
      "250/250 [==============================] - 0s 402us/step - loss: 0.3652 - accuracy: 0.8506\n",
      "Epoch 21/100\n",
      "250/250 [==============================] - 0s 401us/step - loss: 0.3640 - accuracy: 0.8497\n",
      "Epoch 22/100\n",
      "250/250 [==============================] - 0s 407us/step - loss: 0.3619 - accuracy: 0.8531\n",
      "Epoch 23/100\n",
      "250/250 [==============================] - 0s 398us/step - loss: 0.3604 - accuracy: 0.8537\n",
      "Epoch 24/100\n",
      "250/250 [==============================] - 0s 400us/step - loss: 0.3589 - accuracy: 0.8529\n",
      "Epoch 25/100\n",
      "250/250 [==============================] - 0s 396us/step - loss: 0.3574 - accuracy: 0.8539\n",
      "Epoch 26/100\n",
      "250/250 [==============================] - 0s 401us/step - loss: 0.3567 - accuracy: 0.8537\n",
      "Epoch 27/100\n",
      "250/250 [==============================] - 0s 402us/step - loss: 0.3556 - accuracy: 0.8536\n",
      "Epoch 28/100\n",
      "250/250 [==============================] - 0s 397us/step - loss: 0.3548 - accuracy: 0.8565\n",
      "Epoch 29/100\n",
      "250/250 [==============================] - 0s 398us/step - loss: 0.3537 - accuracy: 0.8560\n",
      "Epoch 30/100\n",
      "250/250 [==============================] - 0s 402us/step - loss: 0.3530 - accuracy: 0.8580\n",
      "Epoch 31/100\n",
      "250/250 [==============================] - 0s 408us/step - loss: 0.3522 - accuracy: 0.8579\n",
      "Epoch 32/100\n",
      "250/250 [==============================] - 0s 401us/step - loss: 0.3515 - accuracy: 0.8581\n",
      "Epoch 33/100\n",
      "250/250 [==============================] - 0s 402us/step - loss: 0.3508 - accuracy: 0.8577\n",
      "Epoch 34/100\n",
      "250/250 [==============================] - 0s 408us/step - loss: 0.3503 - accuracy: 0.8577\n",
      "Epoch 35/100\n",
      "250/250 [==============================] - 0s 398us/step - loss: 0.3503 - accuracy: 0.8576\n",
      "Epoch 36/100\n",
      "250/250 [==============================] - 0s 401us/step - loss: 0.3492 - accuracy: 0.8586\n",
      "Epoch 37/100\n",
      "250/250 [==============================] - 0s 401us/step - loss: 0.3490 - accuracy: 0.8599\n",
      "Epoch 38/100\n",
      "250/250 [==============================] - 0s 396us/step - loss: 0.3484 - accuracy: 0.8590\n",
      "Epoch 39/100\n",
      "250/250 [==============================] - 0s 402us/step - loss: 0.3479 - accuracy: 0.8600\n",
      "Epoch 40/100\n",
      "250/250 [==============================] - 0s 408us/step - loss: 0.3482 - accuracy: 0.8572\n",
      "Epoch 41/100\n",
      "250/250 [==============================] - 0s 410us/step - loss: 0.3476 - accuracy: 0.8596\n",
      "Epoch 42/100\n",
      "250/250 [==============================] - 0s 402us/step - loss: 0.3472 - accuracy: 0.8599\n",
      "Epoch 43/100\n",
      "250/250 [==============================] - 0s 397us/step - loss: 0.3474 - accuracy: 0.8618\n",
      "Epoch 44/100\n",
      "250/250 [==============================] - 0s 404us/step - loss: 0.3467 - accuracy: 0.8599\n",
      "Epoch 45/100\n",
      "250/250 [==============================] - 0s 396us/step - loss: 0.3465 - accuracy: 0.8616\n",
      "Epoch 46/100\n",
      "250/250 [==============================] - 0s 400us/step - loss: 0.3451 - accuracy: 0.8614\n",
      "Epoch 47/100\n",
      "250/250 [==============================] - 0s 392us/step - loss: 0.3459 - accuracy: 0.8619\n",
      "Epoch 48/100\n",
      "250/250 [==============================] - 0s 520us/step - loss: 0.3459 - accuracy: 0.8593\n",
      "Epoch 49/100\n",
      "250/250 [==============================] - 0s 408us/step - loss: 0.3449 - accuracy: 0.8614\n",
      "Epoch 50/100\n",
      "250/250 [==============================] - 0s 416us/step - loss: 0.3451 - accuracy: 0.8593\n",
      "Epoch 51/100\n",
      "250/250 [==============================] - 0s 460us/step - loss: 0.3444 - accuracy: 0.8614\n",
      "Epoch 52/100\n",
      "250/250 [==============================] - 0s 520us/step - loss: 0.3445 - accuracy: 0.8604\n",
      "Epoch 53/100\n",
      "250/250 [==============================] - 0s 523us/step - loss: 0.3441 - accuracy: 0.8630\n",
      "Epoch 54/100\n",
      "250/250 [==============================] - 0s 420us/step - loss: 0.3441 - accuracy: 0.8602\n",
      "Epoch 55/100\n",
      "250/250 [==============================] - 0s 419us/step - loss: 0.3437 - accuracy: 0.8612\n",
      "Epoch 56/100\n",
      "250/250 [==============================] - 0s 411us/step - loss: 0.3440 - accuracy: 0.8604\n",
      "Epoch 57/100\n",
      "250/250 [==============================] - 0s 403us/step - loss: 0.3432 - accuracy: 0.8615\n",
      "Epoch 58/100\n",
      "250/250 [==============================] - 0s 399us/step - loss: 0.3441 - accuracy: 0.8597\n",
      "Epoch 59/100\n",
      "250/250 [==============================] - 0s 421us/step - loss: 0.3433 - accuracy: 0.8622\n",
      "Epoch 60/100\n",
      "250/250 [==============================] - 0s 696us/step - loss: 0.3435 - accuracy: 0.8595\n",
      "Epoch 61/100\n",
      "250/250 [==============================] - 0s 471us/step - loss: 0.3428 - accuracy: 0.8608\n",
      "Epoch 62/100\n",
      "250/250 [==============================] - 0s 437us/step - loss: 0.3428 - accuracy: 0.8621\n",
      "Epoch 63/100\n",
      "250/250 [==============================] - 0s 422us/step - loss: 0.3432 - accuracy: 0.8619\n",
      "Epoch 64/100\n",
      "250/250 [==============================] - 0s 430us/step - loss: 0.3426 - accuracy: 0.8621\n",
      "Epoch 65/100\n",
      "250/250 [==============================] - 0s 419us/step - loss: 0.3425 - accuracy: 0.8614\n",
      "Epoch 66/100\n",
      "250/250 [==============================] - 0s 413us/step - loss: 0.3430 - accuracy: 0.8624\n",
      "Epoch 67/100\n",
      "250/250 [==============================] - 0s 419us/step - loss: 0.3422 - accuracy: 0.8625\n",
      "Epoch 68/100\n",
      "250/250 [==============================] - 0s 428us/step - loss: 0.3423 - accuracy: 0.8619\n",
      "Epoch 69/100\n",
      "250/250 [==============================] - 0s 417us/step - loss: 0.3421 - accuracy: 0.8622\n",
      "Epoch 70/100\n",
      "250/250 [==============================] - 0s 418us/step - loss: 0.3413 - accuracy: 0.8629\n",
      "Epoch 71/100\n",
      "250/250 [==============================] - 0s 420us/step - loss: 0.3418 - accuracy: 0.8639\n",
      "Epoch 72/100\n",
      "250/250 [==============================] - 0s 531us/step - loss: 0.3420 - accuracy: 0.8609\n",
      "Epoch 73/100\n",
      "250/250 [==============================] - 0s 411us/step - loss: 0.3416 - accuracy: 0.8622\n",
      "Epoch 74/100\n",
      "250/250 [==============================] - 0s 425us/step - loss: 0.3414 - accuracy: 0.8618\n",
      "Epoch 75/100\n",
      "250/250 [==============================] - 0s 420us/step - loss: 0.3411 - accuracy: 0.8624\n",
      "Epoch 76/100\n",
      "250/250 [==============================] - 0s 412us/step - loss: 0.3421 - accuracy: 0.8601\n",
      "Epoch 77/100\n",
      "250/250 [==============================] - 0s 414us/step - loss: 0.3414 - accuracy: 0.8631\n",
      "Epoch 78/100\n",
      "250/250 [==============================] - 0s 419us/step - loss: 0.3415 - accuracy: 0.8618\n",
      "Epoch 79/100\n",
      "250/250 [==============================] - 0s 431us/step - loss: 0.3415 - accuracy: 0.8600\n",
      "Epoch 80/100\n",
      "250/250 [==============================] - 0s 418us/step - loss: 0.3409 - accuracy: 0.8629\n",
      "Epoch 81/100\n",
      "250/250 [==============================] - 0s 407us/step - loss: 0.3415 - accuracy: 0.8618\n",
      "Epoch 82/100\n",
      "250/250 [==============================] - 0s 413us/step - loss: 0.3409 - accuracy: 0.8615\n",
      "Epoch 83/100\n",
      "250/250 [==============================] - 0s 399us/step - loss: 0.3412 - accuracy: 0.8644\n",
      "Epoch 84/100\n",
      "250/250 [==============================] - 0s 422us/step - loss: 0.3402 - accuracy: 0.8619\n",
      "Epoch 85/100\n",
      "250/250 [==============================] - 0s 412us/step - loss: 0.3405 - accuracy: 0.8640\n",
      "Epoch 86/100\n",
      "250/250 [==============================] - 0s 415us/step - loss: 0.3396 - accuracy: 0.8619\n",
      "Epoch 87/100\n",
      "250/250 [==============================] - 0s 525us/step - loss: 0.3401 - accuracy: 0.8634\n",
      "Epoch 88/100\n",
      "250/250 [==============================] - 0s 413us/step - loss: 0.3409 - accuracy: 0.8625\n",
      "Epoch 89/100\n",
      "250/250 [==============================] - 0s 415us/step - loss: 0.3403 - accuracy: 0.8604\n",
      "Epoch 90/100\n",
      "250/250 [==============================] - 0s 415us/step - loss: 0.3402 - accuracy: 0.8622\n",
      "Epoch 91/100\n",
      "250/250 [==============================] - 0s 412us/step - loss: 0.3399 - accuracy: 0.8611\n",
      "Epoch 92/100\n",
      "250/250 [==============================] - 0s 417us/step - loss: 0.3402 - accuracy: 0.8606\n",
      "Epoch 93/100\n",
      "250/250 [==============================] - 0s 409us/step - loss: 0.3400 - accuracy: 0.8621\n",
      "Epoch 94/100\n",
      "250/250 [==============================] - 0s 411us/step - loss: 0.3396 - accuracy: 0.8634\n",
      "Epoch 95/100\n",
      "250/250 [==============================] - 0s 413us/step - loss: 0.3395 - accuracy: 0.8633\n",
      "Epoch 96/100\n",
      "250/250 [==============================] - 0s 410us/step - loss: 0.3393 - accuracy: 0.8626\n",
      "Epoch 97/100\n",
      "250/250 [==============================] - 0s 409us/step - loss: 0.3394 - accuracy: 0.8629\n",
      "Epoch 98/100\n",
      "250/250 [==============================] - 0s 416us/step - loss: 0.3392 - accuracy: 0.8615\n",
      "Epoch 99/100\n",
      "250/250 [==============================] - 0s 413us/step - loss: 0.3388 - accuracy: 0.8625\n",
      "Epoch 100/100\n",
      "250/250 [==============================] - 0s 525us/step - loss: 0.3391 - accuracy: 0.8614\n"
     ]
    },
    {
     "data": {
      "text/plain": [
       "<keras.src.callbacks.History at 0x2c6101350>"
      ]
     },
     "execution_count": 144,
     "metadata": {},
     "output_type": "execute_result"
    }
   ],
   "source": [
    "# `batch_size` is commonly set to 32\n",
    "ann.fit(x=X_train, y=y_train, batch_size=32, epochs=100)"
   ]
  },
  {
   "cell_type": "markdown",
   "id": "f396b4c2",
   "metadata": {},
   "source": [
    "## Part 4 - Making the predictions and evaluating the model"
   ]
  },
  {
   "cell_type": "markdown",
   "id": "a3597fb2",
   "metadata": {},
   "source": [
    "### Predicting the result of a single observation"
   ]
  },
  {
   "cell_type": "code",
   "execution_count": 145,
   "id": "75d62b1e",
   "metadata": {},
   "outputs": [
    {
     "name": "stdout",
     "output_type": "stream",
     "text": [
      "1/1 [==============================] - 0s 30ms/step\n",
      "probability: 3.96%\n",
      "will leave?: False\n"
     ]
    }
   ],
   "source": [
    "y_pred_raw = [600, \"France\", 1, 40, 3, 60000.0, 2, 1, 1, 50000.0]\n",
    "\n",
    "# 1) Transformation\n",
    "# @dev: CAREFUL!, this doesn't work because there's only 1 category value\n",
    "# y_pred_transformed = np.array(ct.fit_transform([y_pred_raw]))\n",
    "# so doing it manually:\n",
    "y_pred_transformed = [1, 0, 0, 600, 1, 40, 3, 60000.0, 2, 1, 1, 50000.0]\n",
    "\n",
    "# 2) Scaling\n",
    "y_pred_scaled = sc.transform([y_pred_transformed])\n",
    "\n",
    "# 3) Predicting the probability that this customers leaves the bank\n",
    "y_pred_customer = ann.predict([[y_pred_scaled]])\n",
    "\n",
    "print(f'probability: {y_pred_customer[0][0]:.2%}')\n",
    "print(f'will leave?: {y_pred_customer[0][0] > 0.5}')\n"
   ]
  },
  {
   "cell_type": "markdown",
   "id": "69599a0c",
   "metadata": {},
   "source": [
    "### Predicting the Test set results"
   ]
  },
  {
   "cell_type": "code",
   "execution_count": 146,
   "id": "c420627b",
   "metadata": {},
   "outputs": [
    {
     "name": "stdout",
     "output_type": "stream",
     "text": [
      "63/63 [==============================] - 0s 382us/step\n",
      "[[0 0]\n",
      " [0 1]\n",
      " [0 0]\n",
      " ...\n",
      " [0 0]\n",
      " [0 0]\n",
      " [0 0]]\n"
     ]
    }
   ],
   "source": [
    "y_pred = ann.predict(X_test)\n",
    "y_pred = (y_pred > 0.5)\n",
    "print(np.concatenate((y_pred.reshape(len(y_pred),1), y_test.reshape(len(y_test), 1)), 1))"
   ]
  },
  {
   "cell_type": "markdown",
   "id": "7e27e788",
   "metadata": {},
   "source": [
    "### Making the Confusion Matrix"
   ]
  },
  {
   "cell_type": "code",
   "execution_count": 147,
   "id": "3098327b",
   "metadata": {},
   "outputs": [
    {
     "name": "stdout",
     "output_type": "stream",
     "text": [
      "[[1522   73]\n",
      " [ 207  198]]\n"
     ]
    },
    {
     "data": {
      "text/plain": [
       "0.86"
      ]
     },
     "execution_count": 147,
     "metadata": {},
     "output_type": "execute_result"
    }
   ],
   "source": [
    "from sklearn.metrics import confusion_matrix, accuracy_score\n",
    "cm = confusion_matrix(y_test, y_pred)\n",
    "print(cm)\n",
    "accuracy_score(y_test, y_pred)"
   ]
  },
  {
   "cell_type": "markdown",
   "id": "a1d25993",
   "metadata": {},
   "source": [
    "    Looks like there's room for improvement.."
   ]
  }
 ],
 "metadata": {
  "kernelspec": {
   "display_name": "Python 3 (ipykernel)",
   "language": "python",
   "name": "python3"
  },
  "language_info": {
   "codemirror_mode": {
    "name": "ipython",
    "version": 3
   },
   "file_extension": ".py",
   "mimetype": "text/x-python",
   "name": "python",
   "nbconvert_exporter": "python",
   "pygments_lexer": "ipython3",
   "version": "3.11.5"
  }
 },
 "nbformat": 4,
 "nbformat_minor": 5
}
