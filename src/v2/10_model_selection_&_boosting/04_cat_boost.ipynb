{
  "cells": [
    {
      "cell_type": "markdown",
      "metadata": {
        "colab_type": "text",
        "id": "8FLud1n-3pVm"
      },
      "source": [
        "# CatBoost"
      ]
    },
    {
      "cell_type": "markdown",
      "metadata": {
        "colab_type": "text",
        "id": "sO8VPU6n3vES"
      },
      "source": [
        "## Importing the libraries"
      ]
    },
    {
      "cell_type": "code",
      "execution_count": 70,
      "metadata": {
        "colab": {},
        "colab_type": "code",
        "id": "clDSsF7P33NU"
      },
      "outputs": [],
      "source": [
        "import pandas as pd"
      ]
    },
    {
      "cell_type": "markdown",
      "metadata": {
        "colab_type": "text",
        "id": "zGpwK5XD386E"
      },
      "source": [
        "## Importing the dataset"
      ]
    },
    {
      "cell_type": "code",
      "execution_count": 71,
      "metadata": {
        "colab": {},
        "colab_type": "code",
        "id": "Zcksk88u4Ae8"
      },
      "outputs": [],
      "source": [
        "dataset = pd.read_csv(\"./filez/Data.csv\")\n",
        "X = dataset.iloc[:, :-1].values\n",
        "y = dataset.iloc[:, -1].values"
      ]
    },
    {
      "cell_type": "markdown",
      "metadata": {
        "colab_type": "text",
        "id": "XNn2RnST6_Q-"
      },
      "source": [
        "## Splitting the dataset into the Training set and Test set"
      ]
    },
    {
      "cell_type": "code",
      "execution_count": 72,
      "metadata": {
        "colab": {},
        "colab_type": "code",
        "id": "ajhBL-er7Gry"
      },
      "outputs": [],
      "source": [
        "from sklearn.model_selection import train_test_split\n",
        "\n",
        "X_train, X_test, y_train, y_test = train_test_split(X, y, test_size=0.2, random_state=0)"
      ]
    },
    {
      "cell_type": "markdown",
      "metadata": {
        "colab_type": "text",
        "id": "1Y89ctGZ7Mcx"
      },
      "source": [
        "## Training CatBoost on the Training set"
      ]
    },
    {
      "cell_type": "code",
      "execution_count": 73,
      "metadata": {
        "colab": {},
        "colab_type": "code",
        "id": "ude1J0E47SKN"
      },
      "outputs": [
        {
          "name": "stdout",
          "output_type": "stream",
          "text": [
            "Learning rate set to 0.007956\n",
            "0:\tlearn: 0.6778278\ttotal: 1.25ms\tremaining: 1.25s\n",
            "500:\tlearn: 0.0262174\ttotal: 262ms\tremaining: 261ms\n",
            "999:\tlearn: 0.0102309\ttotal: 506ms\tremaining: 0us\n"
          ]
        },
        {
          "data": {
            "text/plain": [
              "<catboost.core.CatBoostClassifier at 0x177f84810>"
            ]
          },
          "execution_count": 73,
          "metadata": {},
          "output_type": "execute_result"
        }
      ],
      "source": [
        "from catboost import CatBoostClassifier\n",
        "\n",
        "classifier = CatBoostClassifier(verbose=500)\n",
        "classifier.fit(X_train, y_train)"
      ]
    },
    {
      "cell_type": "markdown",
      "metadata": {
        "colab_type": "text",
        "id": "ivqmubzW7dFJ"
      },
      "source": [
        "## Making the Confusion Matrix"
      ]
    },
    {
      "cell_type": "code",
      "execution_count": 74,
      "metadata": {
        "colab": {},
        "colab_type": "code",
        "id": "SUSZ3zm_7gRD"
      },
      "outputs": [
        {
          "name": "stdout",
          "output_type": "stream",
          "text": [
            "[[84  3]\n",
            " [ 0 50]]\n"
          ]
        },
        {
          "data": {
            "text/plain": [
              "0.9781021897810219"
            ]
          },
          "execution_count": 74,
          "metadata": {},
          "output_type": "execute_result"
        }
      ],
      "source": [
        "from sklearn.metrics import confusion_matrix, accuracy_score\n",
        "\n",
        "y_pred = classifier.predict(X_test)\n",
        "cm = confusion_matrix(y_test, y_pred)\n",
        "print(cm)\n",
        "accuracy_score(y_test, y_pred)"
      ]
    },
    {
      "cell_type": "markdown",
      "metadata": {
        "colab_type": "text",
        "id": "EnbCjHgQ8XPn"
      },
      "source": [
        "## Applying k-Fold Cross Validation"
      ]
    },
    {
      "cell_type": "code",
      "execution_count": 75,
      "metadata": {
        "colab": {},
        "colab_type": "code",
        "id": "yYbfiITD8ZAz"
      },
      "outputs": [
        {
          "name": "stdout",
          "output_type": "stream",
          "text": [
            "Learning rate set to 0.007604\n",
            "0:\tlearn: 0.6772057\ttotal: 585us\tremaining: 585ms\n",
            "500:\tlearn: 0.0249588\ttotal: 250ms\tremaining: 249ms\n",
            "999:\tlearn: 0.0096766\ttotal: 488ms\tremaining: 0us\n",
            "Learning rate set to 0.007604\n",
            "0:\tlearn: 0.6785134\ttotal: 484us\tremaining: 484ms\n",
            "500:\tlearn: 0.0230186\ttotal: 236ms\tremaining: 235ms\n",
            "999:\tlearn: 0.0089231\ttotal: 474ms\tremaining: 0us\n",
            "Learning rate set to 0.007604\n",
            "0:\tlearn: 0.6785388\ttotal: 518us\tremaining: 518ms\n",
            "500:\tlearn: 0.0273021\ttotal: 240ms\tremaining: 239ms\n",
            "999:\tlearn: 0.0107037\ttotal: 479ms\tremaining: 0us\n",
            "Learning rate set to 0.007604\n",
            "0:\tlearn: 0.6785040\ttotal: 538us\tremaining: 538ms\n",
            "500:\tlearn: 0.0277426\ttotal: 237ms\tremaining: 236ms\n",
            "999:\tlearn: 0.0107135\ttotal: 479ms\tremaining: 0us\n",
            "Learning rate set to 0.007604\n",
            "0:\tlearn: 0.6794292\ttotal: 482us\tremaining: 482ms\n",
            "500:\tlearn: 0.0245868\ttotal: 241ms\tremaining: 240ms\n",
            "999:\tlearn: 0.0096145\ttotal: 489ms\tremaining: 0us\n",
            "Learning rate set to 0.007604\n",
            "0:\tlearn: 0.6786989\ttotal: 498us\tremaining: 498ms\n",
            "500:\tlearn: 0.0293034\ttotal: 240ms\tremaining: 239ms\n",
            "999:\tlearn: 0.0114727\ttotal: 513ms\tremaining: 0us\n",
            "Learning rate set to 0.00761\n",
            "0:\tlearn: 0.6776913\ttotal: 566us\tremaining: 566ms\n",
            "500:\tlearn: 0.0226769\ttotal: 252ms\tremaining: 251ms\n",
            "999:\tlearn: 0.0081512\ttotal: 496ms\tremaining: 0us\n",
            "Learning rate set to 0.00761\n",
            "0:\tlearn: 0.6786085\ttotal: 555us\tremaining: 555ms\n",
            "500:\tlearn: 0.0267674\ttotal: 242ms\tremaining: 241ms\n",
            "999:\tlearn: 0.0105845\ttotal: 487ms\tremaining: 0us\n",
            "Learning rate set to 0.00761\n",
            "0:\tlearn: 0.6789056\ttotal: 1.07ms\tremaining: 1.07s\n",
            "500:\tlearn: 0.0291241\ttotal: 245ms\tremaining: 244ms\n",
            "999:\tlearn: 0.0112555\ttotal: 494ms\tremaining: 0us\n",
            "Learning rate set to 0.00761\n",
            "0:\tlearn: 0.6787798\ttotal: 615us\tremaining: 615ms\n",
            "500:\tlearn: 0.0277363\ttotal: 237ms\tremaining: 237ms\n",
            "999:\tlearn: 0.0107802\ttotal: 480ms\tremaining: 0us\n",
            "\n",
            "Accuracy: 97.26 %\n",
            "Standard Deviation: 2.03 %\n"
          ]
        }
      ],
      "source": [
        "from sklearn.model_selection import cross_val_score\n",
        "\n",
        "accuracies = cross_val_score(estimator=classifier, X=X_train, y=y_train, cv=10)\n",
        "print(\"\\nAccuracy: {:.2f} %\".format(accuracies.mean() * 100))\n",
        "print(\"Standard Deviation: {:.2f} %\".format(accuracies.std() * 100))"
      ]
    },
    {
      "cell_type": "markdown",
      "metadata": {},
      "source": [
        "**$R^2$ score** results (ordered by better performance):\n",
        "\n",
        "| Method    | $R^2$ score |\n",
        "|--------------------------|--------------------------------------------------|\n",
        "| CatBoost | 97.26 %|\n",
        "| XGBoost    | 96.71 % |\n",
        "| Random Forest Regression    | 96.15 % |\n",
        "| Support Vector Regression    | 94.80 % |\n",
        "| Polynomial Regression (n=4)   | 94.58 % |\n",
        "| Multiple Linear Regression    | 93.25 % |\n",
        "| Decision Tree Regression    | 92.29 % |\n",
        "\n",
        "*The non XG-Boost & CatBoost methods are not k-fold validated, but just over one sample, so probably should be lower.*"
      ]
    }
  ],
  "metadata": {
    "colab": {
      "collapsed_sections": [],
      "name": "catboost.ipynb",
      "provenance": [],
      "toc_visible": true
    },
    "kernelspec": {
      "display_name": "Python 3",
      "name": "python3"
    },
    "language_info": {
      "codemirror_mode": {
        "name": "ipython",
        "version": 3
      },
      "file_extension": ".py",
      "mimetype": "text/x-python",
      "name": "python",
      "nbconvert_exporter": "python",
      "pygments_lexer": "ipython3",
      "version": "3.11.5"
    }
  },
  "nbformat": 4,
  "nbformat_minor": 0
}
