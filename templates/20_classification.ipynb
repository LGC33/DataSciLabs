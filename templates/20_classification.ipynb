{
 "cells": [
  {
   "cell_type": "markdown",
   "id": "b15b9bae",
   "metadata": {},
   "source": [
    "# Classification Template\n",
    "v1.0"
   ]
  },
  {
   "cell_type": "markdown",
   "id": "46cf900c",
   "metadata": {},
   "source": [
    "### Imports"
   ]
  },
  {
   "cell_type": "code",
   "execution_count": 2422,
   "id": "75a53813",
   "metadata": {},
   "outputs": [],
   "source": [
    "import numpy as np\n",
    "import pandas as pd\n",
    "import seaborn as sns\n",
    "import matplotlib.pyplot as plt\n",
    "\n",
    "sns.set_style(\"whitegrid\")\n",
    "\n",
    "RANDOM_STATE = 101"
   ]
  },
  {
   "cell_type": "markdown",
   "id": "b26b7192",
   "metadata": {},
   "source": [
    "### Read Functions"
   ]
  },
  {
   "cell_type": "code",
   "execution_count": 2423,
   "id": "7aa0892d",
   "metadata": {},
   "outputs": [],
   "source": [
    "def show_data(df):\n",
    "    \"\"\"\n",
    "    Display the first two and the last two records of a DataFrame\n",
    "    \"\"\"\n",
    "    return pd.concat([df.head(2), df.tail(2)])\n",
    "\n",
    "\n",
    "def show_missing_data(df):\n",
    "    \"\"\"\n",
    "    Display number and percentage of missing values in all columns\n",
    "    \"\"\"\n",
    "    total = df.isnull().sum().sort_values(ascending=False)\n",
    "    percent = (\n",
    "        ((df.isnull().sum() / df.isnull().count()) * 100)\n",
    "        .sort_values(ascending=False)\n",
    "        .round(2)\n",
    "    )\n",
    "    missing_data = pd.concat([total, percent], axis=1, keys=[\"# missing\", \"% missing\"])\n",
    "    print(missing_data)\n",
    "\n",
    "\n",
    "def show_unique_values(df, fields):\n",
    "    \"\"\"\n",
    "    Show unique values in DataFrame given a list of fields\n",
    "    \"\"\"\n",
    "    for field in fields:\n",
    "        try:\n",
    "            print(f\"{field}: {df[field].unique()}\")\n",
    "        except KeyError:\n",
    "            print(f\"`{field}` not found in DataFrame\")"
   ]
  },
  {
   "cell_type": "markdown",
   "id": "372aceaf",
   "metadata": {},
   "source": [
    "### Evaluation Functions"
   ]
  },
  {
   "cell_type": "code",
   "execution_count": 2424,
   "id": "a09e1be6",
   "metadata": {},
   "outputs": [],
   "source": [
    "from sklearn.metrics import classification_report, confusion_matrix, accuracy_score\n",
    "\n",
    "def evaluate_model(classifier, X_test, y_test):\n",
    "    y_pred = classifier.predict(X_test)\n",
    "\n",
    "    print(f\"1) classification_report:\\n\\n\", classification_report(y_test, y_pred))\n",
    "    print(f\"2) confusion_matrix:\\n\\n\", confusion_matrix(y_test, y_pred), \"\\n\")\n",
    "    print(f\"3) accuracy_score:\\n\\n\", accuracy_score(y_test, y_pred))"
   ]
  },
  {
   "cell_type": "code",
   "execution_count": 2425,
   "id": "6abbeba0",
   "metadata": {},
   "outputs": [],
   "source": [
    "from sklearn.model_selection import cross_val_score\n",
    "\n",
    "\n",
    "def evaluate_model_kfold(\n",
    "    classifiers, _X_train, _X_train_scaled, y_train, models_to_scale, cv=10\n",
    "):\n",
    "    \"\"\"\n",
    "    TBD\n",
    "    \"\"\"\n",
    "    results = []\n",
    "\n",
    "    for classifier in classifiers:\n",
    "        if type(classifier).__name__ in models_to_scale:\n",
    "            X_train = _X_train_scaled\n",
    "        else:\n",
    "            X_train = _X_train\n",
    "\n",
    "        accuracies = cross_val_score(estimator=classifier, X=X_train, y=y_train, cv=cv)\n",
    "        results.append(\n",
    "            {\n",
    "                \"Model\": type(classifier).__name__,\n",
    "                \"Accuracy\": accuracies.mean() * 100,\n",
    "                \"SD\": accuracies.std() * 100,\n",
    "            }\n",
    "        )\n",
    "\n",
    "    # Sort the results by accuracy in descending order\n",
    "    sorted_results = sorted(results, key=lambda x: x[\"Accuracy\"], reverse=True)\n",
    "\n",
    "    # Print the results in a table format\n",
    "    print(f\"{'Model':<25} {'Accuracy %':<12} {'SD %':<10}\")\n",
    "    print(\"-\" * 43)\n",
    "    for result in sorted_results:\n",
    "        print(\n",
    "            f\"{result['Model']:<25} {result['Accuracy']:<12.2f} {result['SD']:<10.2f}\"\n",
    "        )"
   ]
  },
  {
   "cell_type": "code",
   "execution_count": 2426,
   "id": "67faed75",
   "metadata": {},
   "outputs": [],
   "source": [
    "from sklearn.model_selection import GridSearchCV\n",
    "\n",
    "\n",
    "def evaluate_model_grid_search_cv(\n",
    "    classifier, X_train, y_train, params, scoring=\"accuracy\", cv=10, n_jobs=-1\n",
    "):\n",
    "    grid_search = GridSearchCV(\n",
    "        estimator=classifier, param_grid=params, scoring=scoring, cv=cv, n_jobs=n_jobs\n",
    "    )\n",
    "\n",
    "    grid_search.fit(X=X_train, y=y_train)\n",
    "\n",
    "    best_accuracy = grid_search.best_score_\n",
    "    best_params = grid_search.best_params_\n",
    "\n",
    "    print(f\"Model: {type(classifier).__name__}\")\n",
    "    print(f\" - Best accuracy: {best_accuracy * 100:,.2f}%\")\n",
    "    print(f\" - Best params: {best_params}\")"
   ]
  },
  {
   "cell_type": "code",
   "execution_count": 2427,
   "id": "73cfe601",
   "metadata": {},
   "outputs": [],
   "source": [
    "from sklearn.model_selection import learning_curve\n",
    "\n",
    "\n",
    "def plot_learning_curve(\n",
    "    estimator, X, y, cv=5, n_jobs=-1, train_sizes=np.linspace(0.1, 1.0, 5)\n",
    "):\n",
    "    \"\"\"\n",
    "    TBD\n",
    "    \"\"\"\n",
    "    plt.figure()\n",
    "    plt.title(f\"Learning Curve - {type(estimator).__name__}\")\n",
    "    plt.xlabel(\"Training examples\")\n",
    "    plt.ylabel(\"Score\")\n",
    "\n",
    "    train_sizes, train_scores, test_scores = learning_curve(\n",
    "        estimator, X, y, cv=cv, n_jobs=n_jobs, train_sizes=train_sizes\n",
    "    )\n",
    "\n",
    "    train_scores_mean = np.mean(train_scores, axis=1)\n",
    "    test_scores_mean = np.mean(test_scores, axis=1)\n",
    "\n",
    "    plt.plot(train_sizes, train_scores_mean, label=\"Training score\")\n",
    "    plt.plot(train_sizes, test_scores_mean, label=\"Cross-validation score\")\n",
    "\n",
    "    plt.legend()\n",
    "    plt.show()"
   ]
  },
  {
   "cell_type": "markdown",
   "id": "0b1be081",
   "metadata": {},
   "source": [
    "### Write Functions"
   ]
  },
  {
   "cell_type": "code",
   "execution_count": 2428,
   "id": "3b90320c",
   "metadata": {},
   "outputs": [],
   "source": [
    "from sklearn.impute import SimpleImputer\n",
    "\n",
    "\n",
    "def update_null_values(df, fields, strategy, fill_value=np.nan):\n",
    "    \"\"\"\n",
    "    Update values with a given strategy.\n",
    "    `fill_value` is only used when `strategy` = \"constant\"\n",
    "    `strategy`:  {'constant', 'most_frequent', 'mean', 'median'}\n",
    "    \"\"\"\n",
    "    try:\n",
    "        imputer = SimpleImputer(\n",
    "            missing_values=np.nan, strategy=strategy, fill_value=fill_value\n",
    "        )\n",
    "        imputer.fit(df[fields])\n",
    "        df_transformed = df.copy()\n",
    "        df_transformed[fields] = imputer.transform(df[fields])\n",
    "        return df_transformed\n",
    "    except ValueError as e:\n",
    "        print(f\"❌ Error: {e}\")\n",
    "        return df"
   ]
  },
  {
   "cell_type": "code",
   "execution_count": 2429,
   "id": "5ed6387e",
   "metadata": {},
   "outputs": [],
   "source": [
    "from sklearn.compose import ColumnTransformer\n",
    "from sklearn.preprocessing import OneHotEncoder\n",
    "from sklearn.preprocessing import LabelEncoder\n",
    "\n",
    "\n",
    "def encode_categorical_data(df, fields, encoder):\n",
    "    \"\"\"\n",
    "    Function to encode categorical data in a DataFrame:\n",
    "    - OneHot: tbd\n",
    "    - Dummy: tbd\n",
    "    - Label: tbd\n",
    "    @TODO: explain when applying each one\n",
    "    \"\"\"\n",
    "    try:\n",
    "        if encoder == \"OneHot\":\n",
    "            # Create a ColumnTransformer, applying OneHotEncoder to specified fields\n",
    "            ct = ColumnTransformer(\n",
    "                transformers=[(\"encoder\", OneHotEncoder(), fields)],\n",
    "                remainder=\"passthrough\",\n",
    "            )\n",
    "            # Apply ColumnTransformer, resulting in an array\n",
    "            transformed_data = ct.fit_transform(df)\n",
    "            # Create new column names for the one-hot encoded columns\n",
    "            encoded_columns = ct.named_transformers_[\"encoder\"].get_feature_names_out(\n",
    "                fields\n",
    "            )\n",
    "            # Combine the new column names with the non-transformed columns\n",
    "            non_transformed_columns = [col for col in df.columns if col not in fields]\n",
    "            new_column_names = list(encoded_columns) + non_transformed_columns\n",
    "            # Create a DataFrame from the transformed data\n",
    "            df_transformed = pd.DataFrame(\n",
    "                transformed_data, columns=new_column_names, index=df.index\n",
    "            )\n",
    "\n",
    "        elif encoder == \"Dummy\":\n",
    "            # Create dummy variables\n",
    "            dummies = pd.get_dummies(df[fields], drop_first=True)\n",
    "            # Drop the original fields and concatenate the dummy variables\n",
    "            df_transformed = pd.concat([df.drop(fields, axis=1), dummies], axis=1)\n",
    "\n",
    "        elif encoder == \"Label\":\n",
    "            df_transformed = df.copy()\n",
    "            # update original target fields with 0-N categorical values\n",
    "            for field in fields:\n",
    "                le = LabelEncoder()\n",
    "                df_transformed[field] = le.fit_transform(df_transformed[field])\n",
    "        else:\n",
    "            print(f\"encoder `{encoder}` not found\")\n",
    "            return df\n",
    "\n",
    "        return df_transformed\n",
    "    except KeyError as e:\n",
    "        print(f\"❌ Error: {e}\")\n",
    "        return df\n"
   ]
  },
  {
   "cell_type": "code",
   "execution_count": 2430,
   "id": "250d0ee7",
   "metadata": {},
   "outputs": [],
   "source": [
    "from sklearn.preprocessing import StandardScaler\n",
    "\n",
    "sc = StandardScaler()\n",
    "\n",
    "\n",
    "def scale_features(X_train, X_test, fields):\n",
    "    \"\"\"\n",
    "    - Only for non-dummy numerical features\n",
    "    - For KNN, SVM or Logistic Reg/Linear Reg/NN with Gradient descent optimisation\n",
    "    - For classification, no need to scale dependent variable\n",
    "    \"\"\"\n",
    "    try:\n",
    "        # Create copies of the original DataFrames\n",
    "        X_train_scaled, X_test_scaled = X_train.copy(), X_test.copy()\n",
    "\n",
    "        # Scale only the specified fields\n",
    "        X_train_scaled[fields] = sc.fit_transform(X_train[fields])\n",
    "        X_test_scaled[fields] = sc.transform(X_test[fields])\n",
    "\n",
    "        return X_train_scaled, X_test_scaled\n",
    "    except Exception as e:\n",
    "        print(f\"❌ Error: {e}\")\n",
    "        return X_train, X_test"
   ]
  },
  {
   "cell_type": "markdown",
   "id": "60ef55dc",
   "metadata": {},
   "source": [
    "### Regression Model Functions"
   ]
  },
  {
   "cell_type": "markdown",
   "id": "5aca1040",
   "metadata": {},
   "source": [
    "@TODO: include random_state in all models"
   ]
  },
  {
   "cell_type": "code",
   "execution_count": 2431,
   "id": "543ca9b6",
   "metadata": {},
   "outputs": [],
   "source": [
    "from sklearn.linear_model import LogisticRegression\n",
    "\n",
    "\n",
    "def fit_logistic_regression(\n",
    "    X_train,\n",
    "    y_train,\n",
    "    c=1.0,\n",
    "    max_iter=1000,\n",
    "    penalty=\"l2\",\n",
    "    solver=\"lbfgs\",\n",
    "):\n",
    "    lr = LogisticRegression(\n",
    "        random_state=RANDOM_STATE,\n",
    "        C=c,\n",
    "        max_iter=max_iter,\n",
    "        penalty=penalty,\n",
    "        solver=solver,\n",
    "    )\n",
    "    lr.fit(X_train, y_train)\n",
    "    return lr"
   ]
  },
  {
   "cell_type": "code",
   "execution_count": 2432,
   "id": "eb1dfb70",
   "metadata": {},
   "outputs": [],
   "source": [
    "from sklearn.neighbors import KNeighborsClassifier\n",
    "\n",
    "\n",
    "def fit_knn(\n",
    "    X_train,\n",
    "    y_train,\n",
    "    algorithm=\"auto\",\n",
    "    leaf_size=30,\n",
    "    n_neighbors=5,\n",
    "    p=2,\n",
    "    weights=\"uniform\",\n",
    "):\n",
    "    knn = KNeighborsClassifier(\n",
    "        algorithm=algorithm,\n",
    "        leaf_size=leaf_size,\n",
    "        n_neighbors=n_neighbors,\n",
    "        p=p,\n",
    "        weights=weights,\n",
    "    )\n",
    "    knn.fit(X_train, y_train)\n",
    "    return knn"
   ]
  },
  {
   "cell_type": "code",
   "execution_count": 2433,
   "id": "9e3f9591",
   "metadata": {},
   "outputs": [],
   "source": [
    "from sklearn.svm import SVC\n",
    "\n",
    "\n",
    "def fit_svc(\n",
    "    X_train,\n",
    "    y_train,\n",
    "    c=1.0,\n",
    "    degree=3,\n",
    "    gamma=\"scale\",\n",
    "    kernel=\"rbf\",\n",
    "):\n",
    "    svc = SVC(\n",
    "        random_state=RANDOM_STATE,\n",
    "        C=c,\n",
    "        degree=degree,\n",
    "        gamma=gamma,\n",
    "        kernel=kernel,\n",
    "    )\n",
    "    svc.fit(X_train, y_train)\n",
    "    return svc"
   ]
  },
  {
   "cell_type": "code",
   "execution_count": 2434,
   "id": "ffae0217",
   "metadata": {},
   "outputs": [],
   "source": [
    "from sklearn.naive_bayes import GaussianNB\n",
    "\n",
    "\n",
    "def fit_nb(\n",
    "    X_train,\n",
    "    y_train,\n",
    "    var_smoothing=1e-9,\n",
    "):\n",
    "    nb = GaussianNB(var_smoothing=var_smoothing)\n",
    "    nb.fit(X_train, y_train)\n",
    "    return nb"
   ]
  },
  {
   "cell_type": "code",
   "execution_count": 2435,
   "id": "2432b0bc",
   "metadata": {},
   "outputs": [],
   "source": [
    "from sklearn.tree import DecisionTreeClassifier\n",
    "\n",
    "\n",
    "# TODO: default criterion: gini vs. entropy\n",
    "def fit_decision_tree(\n",
    "    X_train,\n",
    "    y_train,\n",
    "    criterion=\"entropy\",\n",
    "    max_depth=None,\n",
    "    max_features=None,\n",
    "    max_leaf_nodes=None,\n",
    "    min_samples_leaf=1,\n",
    "    min_samples_split=2,\n",
    "    splitter=\"best\",\n",
    "):\n",
    "    dt = DecisionTreeClassifier(\n",
    "        random_state=RANDOM_STATE,\n",
    "        criterion=criterion,\n",
    "        max_depth=max_depth,\n",
    "        max_features=max_features,\n",
    "        max_leaf_nodes=max_leaf_nodes,\n",
    "        min_samples_leaf=min_samples_leaf,\n",
    "        min_samples_split=min_samples_split,\n",
    "        splitter=splitter,\n",
    "    )\n",
    "    dt.fit(X_train, y_train)\n",
    "    return dt"
   ]
  },
  {
   "cell_type": "code",
   "execution_count": 2436,
   "id": "0f6f660d",
   "metadata": {},
   "outputs": [],
   "source": [
    "from sklearn.ensemble import AdaBoostClassifier\n",
    "\n",
    "\n",
    "def fit_ada_boost(\n",
    "    X_train,\n",
    "    y_train,\n",
    "    estimator=DecisionTreeClassifier(max_depth=1),\n",
    "    algorithm=\"SAMME.R\",\n",
    "    learning_rate=1.0,\n",
    "    n_estimators=50,\n",
    "):\n",
    "    ada = AdaBoostClassifier(\n",
    "        random_state=RANDOM_STATE,\n",
    "        algorithm=algorithm,\n",
    "        estimator=estimator,\n",
    "        learning_rate=learning_rate,\n",
    "        n_estimators=n_estimators,\n",
    "    )\n",
    "    ada.fit(X_train, y_train)\n",
    "    return ada"
   ]
  },
  {
   "cell_type": "code",
   "execution_count": 2437,
   "id": "0e96b5ba",
   "metadata": {},
   "outputs": [],
   "source": [
    "from sklearn.ensemble import RandomForestClassifier\n",
    "\n",
    "\n",
    "# TODO: default criterion: gini vs. entropy\n",
    "def fit_random_forest(\n",
    "    X_train,\n",
    "    y_train,\n",
    "    bootstrap=True,\n",
    "    class_weight=None,\n",
    "    criterion=\"entropy\",\n",
    "    max_depth=None,\n",
    "    max_features=\"sqrt\",\n",
    "    min_samples_leaf=1,\n",
    "    min_samples_split=2,\n",
    "    n_estimators=100,\n",
    "):\n",
    "    rf = RandomForestClassifier(\n",
    "        random_state=RANDOM_STATE,\n",
    "        bootstrap=bootstrap,\n",
    "        class_weight=class_weight,\n",
    "        criterion=criterion,\n",
    "        max_depth=max_depth,\n",
    "        max_features=max_features,\n",
    "        min_samples_leaf=min_samples_leaf,\n",
    "        min_samples_split=min_samples_split,\n",
    "        n_estimators=n_estimators,\n",
    "    )\n",
    "    rf.fit(X_train, y_train)\n",
    "    return rf"
   ]
  },
  {
   "cell_type": "code",
   "execution_count": 2438,
   "id": "a2ce24ef",
   "metadata": {},
   "outputs": [],
   "source": [
    "from xgboost import XGBClassifier\n",
    "\n",
    "\n",
    "def fit_xgboost(\n",
    "    X_train,\n",
    "    y_train,\n",
    "    colsample_bytree=1,\n",
    "    gamma=0,\n",
    "    learning_rate=0.3,\n",
    "    max_depth=6,\n",
    "    min_child_weight=1,\n",
    "    n_estimators=100,\n",
    "    subsample=1,\n",
    "):\n",
    "    xgb = XGBClassifier(\n",
    "        random_state=RANDOM_STATE,\n",
    "        colsample_bytree=colsample_bytree,\n",
    "        gamma=gamma,\n",
    "        learning_rate=learning_rate,\n",
    "        max_depth=max_depth,\n",
    "        min_child_weight=min_child_weight,\n",
    "        n_estimators=n_estimators,\n",
    "        subsample=subsample,\n",
    "        use_label_encoder=False,\n",
    "        # eval_metric=\"logloss\",\n",
    "    )\n",
    "    xgb.fit(X_train, y_train)\n",
    "    return xgb"
   ]
  },
  {
   "cell_type": "code",
   "execution_count": 2439,
   "id": "f25dc385",
   "metadata": {},
   "outputs": [],
   "source": [
    "from catboost import CatBoostClassifier\n",
    "\n",
    "\n",
    "def fit_catboost(\n",
    "    X_train,\n",
    "    y_train,\n",
    "    bootstrap_type=\"MVS\",\n",
    "    border_count=254,\n",
    "    depth=6,\n",
    "    eval_metric=\"Logloss\",\n",
    "    iterations=1000,\n",
    "    l2_leaf_reg=3,\n",
    "    learning_rate=0.009,\n",
    "    subsample=0.8,\n",
    "):\n",
    "    cat = CatBoostClassifier(\n",
    "        random_state=RANDOM_STATE,\n",
    "        verbose=0,\n",
    "        bootstrap_type=bootstrap_type,\n",
    "        border_count=border_count,\n",
    "        depth=depth,\n",
    "        eval_metric=eval_metric,\n",
    "        iterations=iterations,\n",
    "        l2_leaf_reg=l2_leaf_reg,\n",
    "        learning_rate=learning_rate,\n",
    "        subsample=subsample,\n",
    "    )\n",
    "    cat.fit(X_train, y_train)\n",
    "    return cat"
   ]
  },
  {
   "cell_type": "markdown",
   "id": "ccb160f5",
   "metadata": {},
   "source": [
    "### Data Collection"
   ]
  },
  {
   "cell_type": "code",
   "execution_count": 2440,
   "id": "96f16ffd",
   "metadata": {},
   "outputs": [
    {
     "data": {
      "text/html": [
       "<div>\n",
       "<style scoped>\n",
       "    .dataframe tbody tr th:only-of-type {\n",
       "        vertical-align: middle;\n",
       "    }\n",
       "\n",
       "    .dataframe tbody tr th {\n",
       "        vertical-align: top;\n",
       "    }\n",
       "\n",
       "    .dataframe thead th {\n",
       "        text-align: right;\n",
       "    }\n",
       "</style>\n",
       "<table border=\"1\" class=\"dataframe\">\n",
       "  <thead>\n",
       "    <tr style=\"text-align: right;\">\n",
       "      <th></th>\n",
       "      <th>PassengerId</th>\n",
       "      <th>Survived</th>\n",
       "      <th>Pclass</th>\n",
       "      <th>Name</th>\n",
       "      <th>Sex</th>\n",
       "      <th>Age</th>\n",
       "      <th>SibSp</th>\n",
       "      <th>Parch</th>\n",
       "      <th>Ticket</th>\n",
       "      <th>Fare</th>\n",
       "      <th>Cabin</th>\n",
       "      <th>Embarked</th>\n",
       "    </tr>\n",
       "  </thead>\n",
       "  <tbody>\n",
       "    <tr>\n",
       "      <th>0</th>\n",
       "      <td>1</td>\n",
       "      <td>0</td>\n",
       "      <td>3</td>\n",
       "      <td>Braund, Mr. Owen Harris</td>\n",
       "      <td>male</td>\n",
       "      <td>22.0</td>\n",
       "      <td>1</td>\n",
       "      <td>0</td>\n",
       "      <td>A/5 21171</td>\n",
       "      <td>7.2500</td>\n",
       "      <td>NaN</td>\n",
       "      <td>S</td>\n",
       "    </tr>\n",
       "    <tr>\n",
       "      <th>1</th>\n",
       "      <td>2</td>\n",
       "      <td>1</td>\n",
       "      <td>1</td>\n",
       "      <td>Cumings, Mrs. John Bradley (Florence Briggs Th...</td>\n",
       "      <td>female</td>\n",
       "      <td>38.0</td>\n",
       "      <td>1</td>\n",
       "      <td>0</td>\n",
       "      <td>PC 17599</td>\n",
       "      <td>71.2833</td>\n",
       "      <td>C85</td>\n",
       "      <td>C</td>\n",
       "    </tr>\n",
       "    <tr>\n",
       "      <th>889</th>\n",
       "      <td>890</td>\n",
       "      <td>1</td>\n",
       "      <td>1</td>\n",
       "      <td>Behr, Mr. Karl Howell</td>\n",
       "      <td>male</td>\n",
       "      <td>26.0</td>\n",
       "      <td>0</td>\n",
       "      <td>0</td>\n",
       "      <td>111369</td>\n",
       "      <td>30.0000</td>\n",
       "      <td>C148</td>\n",
       "      <td>C</td>\n",
       "    </tr>\n",
       "    <tr>\n",
       "      <th>890</th>\n",
       "      <td>891</td>\n",
       "      <td>0</td>\n",
       "      <td>3</td>\n",
       "      <td>Dooley, Mr. Patrick</td>\n",
       "      <td>male</td>\n",
       "      <td>32.0</td>\n",
       "      <td>0</td>\n",
       "      <td>0</td>\n",
       "      <td>370376</td>\n",
       "      <td>7.7500</td>\n",
       "      <td>NaN</td>\n",
       "      <td>Q</td>\n",
       "    </tr>\n",
       "  </tbody>\n",
       "</table>\n",
       "</div>"
      ],
      "text/plain": [
       "     PassengerId  Survived  Pclass  \\\n",
       "0              1         0       3   \n",
       "1              2         1       1   \n",
       "889          890         1       1   \n",
       "890          891         0       3   \n",
       "\n",
       "                                                  Name     Sex   Age  SibSp  \\\n",
       "0                              Braund, Mr. Owen Harris    male  22.0      1   \n",
       "1    Cumings, Mrs. John Bradley (Florence Briggs Th...  female  38.0      1   \n",
       "889                              Behr, Mr. Karl Howell    male  26.0      0   \n",
       "890                                Dooley, Mr. Patrick    male  32.0      0   \n",
       "\n",
       "     Parch     Ticket     Fare Cabin Embarked  \n",
       "0        0  A/5 21171   7.2500   NaN        S  \n",
       "1        0   PC 17599  71.2833   C85        C  \n",
       "889      0     111369  30.0000  C148        C  \n",
       "890      0     370376   7.7500   NaN        Q  "
      ]
     },
     "execution_count": 2440,
     "metadata": {},
     "output_type": "execute_result"
    }
   ],
   "source": [
    "df_train = pd.read_csv('../src/v1/07_scikit-learn/filez/titanic_train.csv')\n",
    "show_data(df_train)\n",
    "\n"
   ]
  },
  {
   "cell_type": "markdown",
   "id": "9480465d",
   "metadata": {},
   "source": [
    "- `PassengerId`: Unique identification of the passenger.\n",
    "- `Survived`: Survival (0 = No, 1 = Yes). **Target variable**.\n",
    "- `Pclass`: Ticket class (1 = 1st, 2 = 2nd, 3 = 3rd).\n",
    "- `Name`: Name of the passenger.\n",
    "- `Sex`: Sex.\n",
    "- `Age`: Age in years.\n",
    "- `SibSp`: # of siblings / spouses aboard the Titanic.\n",
    "- `Parch`: # of parents / children aboard the Titanic.\n",
    "- `Ticket`: Ticket number.\n",
    "- `Fare`: Passenger fare.\n",
    "- `Cabin`: Cabin number.\n",
    "- `Embarked`: Port of Embarkation (C = Cherbourg, Q = Queenstown, S = Southampton)."
   ]
  },
  {
   "cell_type": "markdown",
   "id": "5e37dc16",
   "metadata": {},
   "source": [
    "### Exploratory Data Analysis"
   ]
  },
  {
   "cell_type": "code",
   "execution_count": 2441,
   "id": "ee3b3f1d",
   "metadata": {},
   "outputs": [
    {
     "name": "stdout",
     "output_type": "stream",
     "text": [
      "<class 'pandas.core.frame.DataFrame'>\n",
      "RangeIndex: 891 entries, 0 to 890\n",
      "Data columns (total 12 columns):\n",
      " #   Column       Non-Null Count  Dtype  \n",
      "---  ------       --------------  -----  \n",
      " 0   PassengerId  891 non-null    int64  \n",
      " 1   Survived     891 non-null    int64  \n",
      " 2   Pclass       891 non-null    int64  \n",
      " 3   Name         891 non-null    object \n",
      " 4   Sex          891 non-null    object \n",
      " 5   Age          714 non-null    float64\n",
      " 6   SibSp        891 non-null    int64  \n",
      " 7   Parch        891 non-null    int64  \n",
      " 8   Ticket       891 non-null    object \n",
      " 9   Fare         891 non-null    float64\n",
      " 10  Cabin        204 non-null    object \n",
      " 11  Embarked     889 non-null    object \n",
      "dtypes: float64(2), int64(5), object(5)\n",
      "memory usage: 83.7+ KB\n"
     ]
    }
   ],
   "source": [
    "# Display DataFrame info\n",
    "df_train.info()"
   ]
  },
  {
   "cell_type": "code",
   "execution_count": 2442,
   "id": "64500f95",
   "metadata": {},
   "outputs": [
    {
     "name": "stdout",
     "output_type": "stream",
     "text": [
      "             # missing  % missing\n",
      "Cabin              687      77.10\n",
      "Age                177      19.87\n",
      "Embarked             2       0.22\n",
      "PassengerId          0       0.00\n",
      "Survived             0       0.00\n",
      "Pclass               0       0.00\n",
      "Name                 0       0.00\n",
      "Sex                  0       0.00\n",
      "SibSp                0       0.00\n",
      "Parch                0       0.00\n",
      "Ticket               0       0.00\n",
      "Fare                 0       0.00\n"
     ]
    }
   ],
   "source": [
    "# Display number and percentage of missing values\n",
    "show_missing_data(df_train)"
   ]
  },
  {
   "cell_type": "code",
   "execution_count": 2443,
   "id": "37bd9c1c",
   "metadata": {},
   "outputs": [
    {
     "data": {
      "text/html": [
       "<div>\n",
       "<style scoped>\n",
       "    .dataframe tbody tr th:only-of-type {\n",
       "        vertical-align: middle;\n",
       "    }\n",
       "\n",
       "    .dataframe tbody tr th {\n",
       "        vertical-align: top;\n",
       "    }\n",
       "\n",
       "    .dataframe thead th {\n",
       "        text-align: right;\n",
       "    }\n",
       "</style>\n",
       "<table border=\"1\" class=\"dataframe\">\n",
       "  <thead>\n",
       "    <tr style=\"text-align: right;\">\n",
       "      <th></th>\n",
       "      <th>PassengerId</th>\n",
       "      <th>Survived</th>\n",
       "      <th>Pclass</th>\n",
       "      <th>Age</th>\n",
       "      <th>SibSp</th>\n",
       "      <th>Parch</th>\n",
       "      <th>Fare</th>\n",
       "    </tr>\n",
       "  </thead>\n",
       "  <tbody>\n",
       "    <tr>\n",
       "      <th>count</th>\n",
       "      <td>891.000000</td>\n",
       "      <td>891.000000</td>\n",
       "      <td>891.000000</td>\n",
       "      <td>714.000000</td>\n",
       "      <td>891.000000</td>\n",
       "      <td>891.000000</td>\n",
       "      <td>891.000000</td>\n",
       "    </tr>\n",
       "    <tr>\n",
       "      <th>mean</th>\n",
       "      <td>446.000000</td>\n",
       "      <td>0.383838</td>\n",
       "      <td>2.308642</td>\n",
       "      <td>29.699118</td>\n",
       "      <td>0.523008</td>\n",
       "      <td>0.381594</td>\n",
       "      <td>32.204208</td>\n",
       "    </tr>\n",
       "    <tr>\n",
       "      <th>std</th>\n",
       "      <td>257.353842</td>\n",
       "      <td>0.486592</td>\n",
       "      <td>0.836071</td>\n",
       "      <td>14.526497</td>\n",
       "      <td>1.102743</td>\n",
       "      <td>0.806057</td>\n",
       "      <td>49.693429</td>\n",
       "    </tr>\n",
       "    <tr>\n",
       "      <th>min</th>\n",
       "      <td>1.000000</td>\n",
       "      <td>0.000000</td>\n",
       "      <td>1.000000</td>\n",
       "      <td>0.420000</td>\n",
       "      <td>0.000000</td>\n",
       "      <td>0.000000</td>\n",
       "      <td>0.000000</td>\n",
       "    </tr>\n",
       "    <tr>\n",
       "      <th>25%</th>\n",
       "      <td>223.500000</td>\n",
       "      <td>0.000000</td>\n",
       "      <td>2.000000</td>\n",
       "      <td>20.125000</td>\n",
       "      <td>0.000000</td>\n",
       "      <td>0.000000</td>\n",
       "      <td>7.910400</td>\n",
       "    </tr>\n",
       "    <tr>\n",
       "      <th>50%</th>\n",
       "      <td>446.000000</td>\n",
       "      <td>0.000000</td>\n",
       "      <td>3.000000</td>\n",
       "      <td>28.000000</td>\n",
       "      <td>0.000000</td>\n",
       "      <td>0.000000</td>\n",
       "      <td>14.454200</td>\n",
       "    </tr>\n",
       "    <tr>\n",
       "      <th>75%</th>\n",
       "      <td>668.500000</td>\n",
       "      <td>1.000000</td>\n",
       "      <td>3.000000</td>\n",
       "      <td>38.000000</td>\n",
       "      <td>1.000000</td>\n",
       "      <td>0.000000</td>\n",
       "      <td>31.000000</td>\n",
       "    </tr>\n",
       "    <tr>\n",
       "      <th>max</th>\n",
       "      <td>891.000000</td>\n",
       "      <td>1.000000</td>\n",
       "      <td>3.000000</td>\n",
       "      <td>80.000000</td>\n",
       "      <td>8.000000</td>\n",
       "      <td>6.000000</td>\n",
       "      <td>512.329200</td>\n",
       "    </tr>\n",
       "  </tbody>\n",
       "</table>\n",
       "</div>"
      ],
      "text/plain": [
       "       PassengerId    Survived      Pclass         Age       SibSp  \\\n",
       "count   891.000000  891.000000  891.000000  714.000000  891.000000   \n",
       "mean    446.000000    0.383838    2.308642   29.699118    0.523008   \n",
       "std     257.353842    0.486592    0.836071   14.526497    1.102743   \n",
       "min       1.000000    0.000000    1.000000    0.420000    0.000000   \n",
       "25%     223.500000    0.000000    2.000000   20.125000    0.000000   \n",
       "50%     446.000000    0.000000    3.000000   28.000000    0.000000   \n",
       "75%     668.500000    1.000000    3.000000   38.000000    1.000000   \n",
       "max     891.000000    1.000000    3.000000   80.000000    8.000000   \n",
       "\n",
       "            Parch        Fare  \n",
       "count  891.000000  891.000000  \n",
       "mean     0.381594   32.204208  \n",
       "std      0.806057   49.693429  \n",
       "min      0.000000    0.000000  \n",
       "25%      0.000000    7.910400  \n",
       "50%      0.000000   14.454200  \n",
       "75%      0.000000   31.000000  \n",
       "max      6.000000  512.329200  "
      ]
     },
     "execution_count": 2443,
     "metadata": {},
     "output_type": "execute_result"
    }
   ],
   "source": [
    "# Describe statistics on numerical fields\n",
    "df_train.describe()"
   ]
  },
  {
   "cell_type": "code",
   "execution_count": 2444,
   "id": "ccd14e4b",
   "metadata": {},
   "outputs": [
    {
     "name": "stdout",
     "output_type": "stream",
     "text": [
      "Sex: ['male' 'female']\n",
      "Embarked: ['S' 'C' 'Q' nan]\n"
     ]
    }
   ],
   "source": [
    "# show unique values given a list of df fields\n",
    "show_unique_values(df_train, ['Sex', 'Embarked'])"
   ]
  },
  {
   "cell_type": "code",
   "execution_count": 2445,
   "id": "75a00c13",
   "metadata": {},
   "outputs": [
    {
     "data": {
      "text/plain": [
       "Embarked\n",
       "S    644\n",
       "C    168\n",
       "Q     77\n",
       "Name: count, dtype: int64"
      ]
     },
     "execution_count": 2445,
     "metadata": {},
     "output_type": "execute_result"
    }
   ],
   "source": [
    "# show count for each value of field 'Embarked'\n",
    "df_train['Embarked'].value_counts()"
   ]
  },
  {
   "cell_type": "code",
   "execution_count": 2446,
   "id": "1a2cf521",
   "metadata": {},
   "outputs": [
    {
     "name": "stdout",
     "output_type": "stream",
     "text": [
      "Pclass\n",
      "1    38.233441\n",
      "2    29.877630\n",
      "3    25.140620\n",
      "Name: Age, dtype: float64\n"
     ]
    }
   ],
   "source": [
    "# We'll get the average age per class\n",
    "print(df_train.groupby('Pclass')['Age'].mean())"
   ]
  },
  {
   "cell_type": "code",
   "execution_count": 2447,
   "id": "8ce26a2b",
   "metadata": {},
   "outputs": [],
   "source": [
    "#@TODO: seaborn charts"
   ]
  },
  {
   "cell_type": "markdown",
   "id": "3da2900e",
   "metadata": {},
   "source": [
    "### Data cleaning & Preprocessing"
   ]
  },
  {
   "cell_type": "markdown",
   "id": "27631d2c",
   "metadata": {},
   "source": [
    "    TO-BE-REMOVED\n",
    "- remove or update null values\n",
    "- manage outliers\n",
    "- drop irrelevant fields (i.e.: ids, names, ..)\n",
    "- correct data entry errors"
   ]
  },
  {
   "cell_type": "code",
   "execution_count": 2448,
   "id": "01bd099d",
   "metadata": {},
   "outputs": [],
   "source": [
    "# Update null values\n",
    "# 1) Age\n",
    "mean_age_per_class = df_train.groupby('Pclass')['Age'].transform('mean')\n",
    "df_train['Age'] = df_train['Age'].fillna(mean_age_per_class)\n",
    "# 2) Embarked\n",
    "df_train = update_null_values(df=df_train, strategy=\"constant\", fields=[\"Embarked\"], fill_value=\"S\")\n",
    "\n",
    "# Remove unnecessary fields\n",
    "df_train = df_train.drop([\"PassengerId\", \"Name\", \"Ticket\", \"Cabin\"], axis=1)"
   ]
  },
  {
   "cell_type": "markdown",
   "id": "8f6c0e8f",
   "metadata": {},
   "source": [
    "### Encoding categorical data"
   ]
  },
  {
   "cell_type": "code",
   "execution_count": 2449,
   "id": "644e123d",
   "metadata": {},
   "outputs": [
    {
     "data": {
      "text/html": [
       "<div>\n",
       "<style scoped>\n",
       "    .dataframe tbody tr th:only-of-type {\n",
       "        vertical-align: middle;\n",
       "    }\n",
       "\n",
       "    .dataframe tbody tr th {\n",
       "        vertical-align: top;\n",
       "    }\n",
       "\n",
       "    .dataframe thead th {\n",
       "        text-align: right;\n",
       "    }\n",
       "</style>\n",
       "<table border=\"1\" class=\"dataframe\">\n",
       "  <thead>\n",
       "    <tr style=\"text-align: right;\">\n",
       "      <th></th>\n",
       "      <th>Survived</th>\n",
       "      <th>Pclass</th>\n",
       "      <th>Age</th>\n",
       "      <th>SibSp</th>\n",
       "      <th>Parch</th>\n",
       "      <th>Fare</th>\n",
       "      <th>Embarked_Q</th>\n",
       "      <th>Embarked_S</th>\n",
       "      <th>Sex_male</th>\n",
       "    </tr>\n",
       "  </thead>\n",
       "  <tbody>\n",
       "    <tr>\n",
       "      <th>0</th>\n",
       "      <td>0</td>\n",
       "      <td>3</td>\n",
       "      <td>22.0</td>\n",
       "      <td>1</td>\n",
       "      <td>0</td>\n",
       "      <td>7.2500</td>\n",
       "      <td>False</td>\n",
       "      <td>True</td>\n",
       "      <td>True</td>\n",
       "    </tr>\n",
       "    <tr>\n",
       "      <th>1</th>\n",
       "      <td>1</td>\n",
       "      <td>1</td>\n",
       "      <td>38.0</td>\n",
       "      <td>1</td>\n",
       "      <td>0</td>\n",
       "      <td>71.2833</td>\n",
       "      <td>False</td>\n",
       "      <td>False</td>\n",
       "      <td>False</td>\n",
       "    </tr>\n",
       "  </tbody>\n",
       "</table>\n",
       "</div>"
      ],
      "text/plain": [
       "   Survived  Pclass   Age  SibSp  Parch     Fare  Embarked_Q  Embarked_S  \\\n",
       "0         0       3  22.0      1      0   7.2500       False        True   \n",
       "1         1       1  38.0      1      0  71.2833       False       False   \n",
       "\n",
       "   Sex_male  \n",
       "0      True  \n",
       "1     False  "
      ]
     },
     "execution_count": 2449,
     "metadata": {},
     "output_type": "execute_result"
    }
   ],
   "source": [
    "# OneHot encoder - binary values / keep all values\n",
    "# df_train = encode_categorical_data(df=df_train, fields=['Embarked', 'Sex'], encoder='OneHot')\n",
    "# Dummy encoder - binary values / remove first value\n",
    "df_train = encode_categorical_data(df=df_train, fields=['Embarked', 'Sex'], encoder='Dummy')\n",
    "# Label encoder - integer values 0-N / keep all values\n",
    "# df = encode_categorical_data(df=df_train, fields=['Embarked', 'Sex'], encoder='Label')\n",
    "df_train.head(2)"
   ]
  },
  {
   "cell_type": "code",
   "execution_count": 2450,
   "id": "964d51ce",
   "metadata": {},
   "outputs": [
    {
     "name": "stdout",
     "output_type": "stream",
     "text": [
      "Age           1.000000\n",
      "Pclass        0.403858\n",
      "SibSp         0.243452\n",
      "Parch         0.175799\n",
      "Fare          0.120886\n",
      "Sex_male      0.080464\n",
      "Embarked_Q    0.070315\n",
      "Survived      0.050504\n",
      "Embarked_S    0.007400\n",
      "Name: Age, dtype: float64 \n",
      "\n"
     ]
    }
   ],
   "source": [
    "# Reason for using Pclass to fufill missing Age (it has the strongest correlation)\n",
    "print(df_train.corr(method='pearson')['Age'].abs().sort_values(ascending=False), '\\n')"
   ]
  },
  {
   "cell_type": "markdown",
   "id": "4759ec0a",
   "metadata": {},
   "source": [
    "### Splitting dataset into Train/Test set"
   ]
  },
  {
   "cell_type": "code",
   "execution_count": 2451,
   "id": "1ffab653",
   "metadata": {},
   "outputs": [],
   "source": [
    "from sklearn.model_selection import train_test_split\n",
    "\n",
    "X = df_train.drop(\"Survived\", axis=1)\n",
    "y = df_train[\"Survived\"]\n",
    "\n",
    "X_train, X_test, y_train, y_test = train_test_split(\n",
    "    X, y, test_size=0.2, random_state=RANDOM_STATE\n",
    ")"
   ]
  },
  {
   "cell_type": "markdown",
   "id": "1f21f0dd",
   "metadata": {},
   "source": [
    "### Feature scaling"
   ]
  },
  {
   "cell_type": "code",
   "execution_count": 2452,
   "id": "3baca652",
   "metadata": {},
   "outputs": [],
   "source": [
    "fields_to_scale = [\"Pclass\", \"Age\", \"SibSp\", \"Parch\", \"Fare\"]\n",
    "\n",
    "X_train_scaled, X_test_scaled = scale_features(\n",
    "    X_train=X_train, X_test=X_test, fields=fields_to_scale\n",
    ")"
   ]
  },
  {
   "cell_type": "markdown",
   "id": "bea988e0",
   "metadata": {},
   "source": [
    "### Fit Models"
   ]
  },
  {
   "cell_type": "code",
   "execution_count": 2453,
   "id": "a4f80ec6",
   "metadata": {},
   "outputs": [],
   "source": [
    "# LogReg requires scaling to avoid ConvergenceWarning issue with kfold\n",
    "# KNN & SVC require scaling\n",
    "lr = fit_logistic_regression(X_train_scaled, y_train)\n",
    "knn = fit_knn(X_train_scaled, y_train)\n",
    "svc = fit_svc(X_train_scaled, y_train)\n",
    "nb = fit_nb(X_train, y_train)\n",
    "dt = fit_decision_tree(X_train, y_train)\n",
    "ada = fit_ada_boost(X_train, y_train)\n",
    "rf = fit_random_forest(X_train, y_train)\n",
    "xgb = fit_xgboost(X_train, y_train)\n",
    "cat = fit_catboost(X_train, y_train)"
   ]
  },
  {
   "cell_type": "markdown",
   "id": "93ab8eb6",
   "metadata": {},
   "source": [
    "### Evaluate Models"
   ]
  },
  {
   "cell_type": "code",
   "execution_count": 2454,
   "id": "acf9e3e2",
   "metadata": {},
   "outputs": [
    {
     "name": "stdout",
     "output_type": "stream",
     "text": [
      "Model                     Accuracy %   SD %      \n",
      "-------------------------------------------\n",
      "CatBoostClassifier        81.75        5.41      \n",
      "SVC                       81.60        4.82      \n",
      "AdaBoostClassifier        80.49        6.65      \n",
      "RandomForestClassifier    80.33        4.79      \n",
      "LogisticRegression        80.21        4.86      \n",
      "XGBClassifier             80.20        3.80      \n",
      "KNeighborsClassifier      78.37        3.76      \n",
      "GaussianNB                78.10        5.46      \n",
      "DecisionTreeClassifier    76.41        4.84      \n"
     ]
    }
   ],
   "source": [
    "models = [lr, knn, svc, nb, dt, ada, rf, xgb, cat]\n",
    "models_to_scale = [\"KNeighborsClassifier\", \"SVC\", \"LogisticRegression\"]\n",
    "evaluate_model_kfold(models, X_train, X_train_scaled, y_train, models_to_scale)"
   ]
  },
  {
   "cell_type": "markdown",
   "id": "c726ef9d",
   "metadata": {},
   "source": [
    "### Tune Models / Detect Overfitting & Underfitting\n",
    "- Hyperparameters tunning\n",
    "- Learning curve to check:\n",
    "  - **Overfitting** (High Variance): tThe training score is high, but the validation score is significantly lower, indicating that the model fits the training data well but does not generalize to new data.\n",
    "  - **Underfitting** (High Bias): Both training and validation scores are low, and they converge at a similar low score. This indicates that the model is too simple and does not capture the underlying patterns in the data."
   ]
  },
  {
   "cell_type": "code",
   "execution_count": 2455,
   "id": "947f66c5",
   "metadata": {},
   "outputs": [
    {
     "name": "stdout",
     "output_type": "stream",
     "text": [
      "Model: LogisticRegression\n",
      " - Best accuracy: 80.35%\n",
      " - Best params: {'C': 0.1, 'max_iter': 1000, 'penalty': 'l2', 'solver': 'lbfgs'}\n"
     ]
    }
   ],
   "source": [
    "# Logistic Regression\n",
    "\n",
    "params = {\n",
    "    \"C\": [0.01, 0.1, 1, 10, 100],\n",
    "    \"max_iter\": [1000],\n",
    "    \"penalty\": [\"l2\"],\n",
    "    \"solver\": [\"lbfgs\", \"newton-cg\", \"sag\"],\n",
    "}\n",
    "\n",
    "# Feature scaling to avoid ConvergenceWarning issue\n",
    "evaluate_model_grid_search_cv(lr, X_train_scaled, y_train, params)"
   ]
  },
  {
   "cell_type": "code",
   "execution_count": 2456,
   "id": "a352ffc6",
   "metadata": {},
   "outputs": [
    {
     "name": "stdout",
     "output_type": "stream",
     "text": [
      "Model: KNeighborsClassifier\n",
      " - Best accuracy: 80.90%\n",
      " - Best params: {'algorithm': 'auto', 'leaf_size': 20, 'n_neighbors': 10, 'p': 2, 'weights': 'uniform'}\n"
     ]
    }
   ],
   "source": [
    "# KNN\n",
    "\n",
    "params = {\n",
    "    \"algorithm\": [\"auto\", \"ball_tree\", \"kd_tree\", \"brute\"],\n",
    "    \"leaf_size\": [20, 30, 35, 40, 45],\n",
    "    \"n_neighbors\": [3, 5, 7, 10],\n",
    "    \"p\": [1, 2],\n",
    "    \"weights\": [\"uniform\", \"distance\"],\n",
    "}\n",
    "\n",
    "evaluate_model_grid_search_cv(knn, X_train_scaled, y_train, params)"
   ]
  },
  {
   "cell_type": "code",
   "execution_count": 2457,
   "id": "43558b0d",
   "metadata": {},
   "outputs": [
    {
     "name": "stdout",
     "output_type": "stream",
     "text": [
      "Model: SVC\n",
      " - Best accuracy: 81.88%\n",
      " - Best params: {'C': 10, 'degree': 2, 'gamma': 'scale', 'kernel': 'poly'}\n"
     ]
    }
   ],
   "source": [
    "# SVC\n",
    "\n",
    "\"\"\"\n",
    "Further options:\n",
    "- with 'poly' and 'sigmoid' kernels, try 'coef0' ranges -> [0, 1] or [0, 10])\n",
    "- with 'poly' kernel, try more granular 'degree' ranges\n",
    "- when dataset is imbalanced (i.e., unequal number of instances in each class),\n",
    "  try 'class_weight' param\n",
    "\"\"\"\n",
    "\n",
    "params = {\n",
    "    \"C\": [5, 10, 15], # 0.1, 1, 100\n",
    "    \"degree\": [1, 2, 3], #4\n",
    "    \"gamma\": [\"scale\", \"auto\", 1], #  0.1\n",
    "    \"kernel\": [\"rbf\", \"poly\"], # linear\n",
    "}\n",
    "\n",
    "evaluate_model_grid_search_cv(svc, X_train_scaled, y_train, params)\n",
    "\n"
   ]
  },
  {
   "cell_type": "code",
   "execution_count": 2458,
   "id": "5452cf6d",
   "metadata": {},
   "outputs": [
    {
     "name": "stdout",
     "output_type": "stream",
     "text": [
      "Model: GaussianNB\n",
      " - Best accuracy: 78.24%\n",
      " - Best params: {'var_smoothing': 1e-05}\n"
     ]
    }
   ],
   "source": [
    "# Gaussian Naive Bayes\n",
    "\n",
    "params = {\"var_smoothing\": [1e-9, 1e-8, 1e-7, 1e-6, 1e-5, 1e-4]}\n",
    "\n",
    "evaluate_model_grid_search_cv(nb, X_train, y_train, params)"
   ]
  },
  {
   "cell_type": "code",
   "execution_count": 2459,
   "id": "89816140",
   "metadata": {},
   "outputs": [
    {
     "name": "stdout",
     "output_type": "stream",
     "text": [
      "Model: DecisionTreeClassifier\n",
      " - Best accuracy: 82.73%\n",
      " - Best params: {'criterion': 'entropy', 'max_depth': 10, 'max_features': 'log2', 'max_leaf_nodes': 30, 'min_samples_leaf': 1, 'min_samples_split': 2, 'splitter': 'best'}\n"
     ]
    }
   ],
   "source": [
    "# Decision Tree\n",
    "\n",
    "params = {\n",
    "    \"criterion\": [\"gini\", \"entropy\"],\n",
    "    \"max_depth\": [10, 20, 30, None],\n",
    "    \"max_features\": [\"sqrt\", \"log2\", None],\n",
    "    \"max_leaf_nodes\": [10, 20, 30, None],\n",
    "    \"min_samples_leaf\": [1, 2, 4],\n",
    "    \"min_samples_split\": [2, 5, 10],\n",
    "    \"splitter\": [\"best\", \"random\"],\n",
    "}\n",
    "\n",
    "evaluate_model_grid_search_cv(dt, X_train, y_train, params)"
   ]
  },
  {
   "cell_type": "code",
   "execution_count": 2460,
   "id": "fbabba79",
   "metadata": {},
   "outputs": [
    {
     "name": "stdout",
     "output_type": "stream",
     "text": [
      "Model: AdaBoostClassifier\n",
      " - Best accuracy: 82.87%\n",
      " - Best params: {'algorithm': 'SAMME', 'estimator': DecisionTreeClassifier(max_depth=3), 'learning_rate': 0.8, 'n_estimators': 250}\n"
     ]
    }
   ],
   "source": [
    "# Ada Boost\n",
    "\n",
    "params = {\n",
    "    \"algorithm\": [\"SAMME\", \"SAMME.R\"],\n",
    "    \"estimator\": [DecisionTreeClassifier(max_depth=depth) for depth in [2, 3, 4]],\n",
    "    \"learning_rate\": [0.7, 0.8, 0.9], # 1.0\n",
    "    \"n_estimators\": [240, 250, 260],\n",
    "}\n",
    "\n",
    "evaluate_model_grid_search_cv(ada, X_train, y_train, params)"
   ]
  },
  {
   "cell_type": "code",
   "execution_count": 2461,
   "id": "2fcaf80e",
   "metadata": {},
   "outputs": [
    {
     "name": "stdout",
     "output_type": "stream",
     "text": [
      "Model: RandomForestClassifier\n",
      " - Best accuracy: 83.29%\n",
      " - Best params: {'bootstrap': True, 'class_weight': None, 'criterion': 'entropy', 'max_depth': 10, 'max_features': 'log2', 'min_samples_leaf': 1, 'min_samples_split': 10, 'n_estimators': 30}\n"
     ]
    }
   ],
   "source": [
    "# Random Forest\n",
    "\n",
    "params = {\n",
    "    \"bootstrap\": [True, False],\n",
    "    \"class_weight\": [None], # \"balanced\"\n",
    "    \"criterion\": [\"gini\", \"entropy\"],\n",
    "    \"max_depth\": [5, 10, 20], # 30, None\n",
    "    \"max_features\": [\"sqrt\", \"log2\", None],\n",
    "    \"min_samples_leaf\": [1, 4], # 2\n",
    "    \"min_samples_split\": [5, 10, 15], # 2\n",
    "    \"n_estimators\": [20, 30, 40], # 50, 100, 200\n",
    "}\n",
    "\n",
    "evaluate_model_grid_search_cv(rf, X_train, y_train, params)"
   ]
  },
  {
   "cell_type": "code",
   "execution_count": 2462,
   "id": "003fb0f0",
   "metadata": {},
   "outputs": [
    {
     "name": "stdout",
     "output_type": "stream",
     "text": [
      "Model: XGBClassifier\n",
      " - Best accuracy: 84.69%\n",
      " - Best params: {'colsample_bytree': 0.9, 'gamma': 0.1, 'learning_rate': 0.1, 'max_depth': 6, 'min_child_weight': 5, 'n_estimators': 125, 'subsample': 0.8}\n"
     ]
    }
   ],
   "source": [
    "# XGBoost\n",
    "\n",
    "params = {\n",
    "    \"colsample_bytree\": [0.8, 0.9, 1.0], # 0.7, 1.0\n",
    "    \"gamma\": [0.1, 0.2], # 0, 0.2\n",
    "    \"learning_rate\": [0.01, 0.1, 0.2],\n",
    "    \"max_depth\": [5, 6, 7], # 3\n",
    "    \"min_child_weight\": [3, 5, 6], # 1\n",
    "    \"n_estimators\": [100, 125, 150], # 50, 200\n",
    "    \"subsample\": [0.7, 0.8, 0.9], # 1.0\n",
    "}\n",
    "\n",
    "evaluate_model_grid_search_cv(xgb, X_train, y_train, params)"
   ]
  },
  {
   "cell_type": "code",
   "execution_count": 2463,
   "id": "531f82f5",
   "metadata": {},
   "outputs": [
    {
     "name": "stdout",
     "output_type": "stream",
     "text": [
      "Model: CatBoostClassifier\n",
      " - Best accuracy: 83.58%\n",
      " - Best params: {'bootstrap_type': 'Bernoulli', 'border_count': 32, 'depth': 4, 'eval_metric': 'Logloss', 'iterations': 225, 'l2_leaf_reg': 9, 'learning_rate': 0.15, 'subsample': 0.8}\n"
     ]
    }
   ],
   "source": [
    "# CatBoost\n",
    "\n",
    "params = {\n",
    "    \"bootstrap_type\": [\"Bernoulli\"],\n",
    "    \"border_count\": [32, 64], # 16, 128\n",
    "    \"depth\": [3, 4, 5], #  6, 7, 8, 10\n",
    "    \"eval_metric\": [\"Logloss\"],\n",
    "    \"iterations\": [200, 225], # 150, 175, 250\n",
    "    \"l2_leaf_reg\": [8, 9, 10], # 1, 3, 5, 7\n",
    "    \"learning_rate\": [0.1, 0.15, 0.2], # 0.01, 0.05, 0.2\n",
    "    \"subsample\": [0.7, 0.8, 0.9], # 0.6\n",
    "}\n",
    "\n",
    "evaluate_model_grid_search_cv(cat, X_train, y_train, params)"
   ]
  },
  {
   "cell_type": "markdown",
   "id": "ff3f9d55",
   "metadata": {},
   "source": [
    "### Re-evaluate Models with tunned parameters\n",
    "\n",
    "When detecting overfitting, \"simplifying the model\" or \"reduce complexity\" refers to reducing its capacity to memorize the training data, which is often achieved by lowering the number of parameters or the model's flexibility."
   ]
  },
  {
   "cell_type": "code",
   "execution_count": 2489,
   "id": "43b5c9e9",
   "metadata": {},
   "outputs": [
    {
     "data": {
      "image/png": "[encoded data removed]",
      "text/plain": [
       "<Figure size 640x480 with 1 Axes>"
      ]
     },
     "metadata": {},
     "output_type": "display_data"
    },
    {
     "name": "stdout",
     "output_type": "stream",
     "text": [
      "Model                     Accuracy %   SD %      \n",
      "-------------------------------------------\n",
      "LogisticRegression        80.35        4.07      \n"
     ]
    }
   ],
   "source": [
    "lr = fit_logistic_regression(X_train_scaled, y_train, 0.1, 1000, \"l2\", \"lbfgs\")\n",
    "plot_learning_curve(lr, X_train_scaled, y_train)\n",
    "evaluate_model_kfold([lr], X_train, X_train_scaled, y_train, models_to_scale)\n",
    "# lgtm"
   ]
  },
  {
   "cell_type": "code",
   "execution_count": 2490,
   "id": "3cd81386",
   "metadata": {},
   "outputs": [
    {
     "data": {
      "image/png": "[encoded data removed]",
      "text/plain": [
       "<Figure size 640x480 with 1 Axes>"
      ]
     },
     "metadata": {},
     "output_type": "display_data"
    },
    {
     "name": "stdout",
     "output_type": "stream",
     "text": [
      "Model                     Accuracy %   SD %      \n",
      "-------------------------------------------\n",
      "KNeighborsClassifier      80.90        4.56      \n"
     ]
    }
   ],
   "source": [
    "knn = fit_knn(X_train_scaled, y_train, \"auto\", 20, 10, 2, \"uniform\")\n",
    "plot_learning_curve(knn, X_train_scaled, y_train)\n",
    "evaluate_model_kfold([knn], X_train, X_train_scaled, y_train, models_to_scale)\n",
    "# overfitting"
   ]
  },
  {
   "cell_type": "code",
   "execution_count": 2492,
   "id": "00742de2",
   "metadata": {},
   "outputs": [
    {
     "data": {
      "image/png": "[encoded data removed]",
      "text/plain": [
       "<Figure size 640x480 with 1 Axes>"
      ]
     },
     "metadata": {},
     "output_type": "display_data"
    },
    {
     "name": "stdout",
     "output_type": "stream",
     "text": [
      "Model                     Accuracy %   SD %      \n",
      "-------------------------------------------\n",
      "SVC                       81.88        4.65      \n"
     ]
    }
   ],
   "source": [
    "svc = fit_svc(X_train_scaled, y_train, 10, 2, \"scale\", \"poly\")\n",
    "plot_learning_curve(svc, X_train_scaled, y_train)\n",
    "evaluate_model_kfold([svc], X_train, X_train_scaled, y_train, models_to_scale)\n",
    "# some overfitting"
   ]
  },
  {
   "cell_type": "code",
   "execution_count": 2493,
   "id": "3d60e163",
   "metadata": {},
   "outputs": [
    {
     "data": {
      "image/png": "[encoded data removed]",
      "text/plain": [
       "<Figure size 640x480 with 1 Axes>"
      ]
     },
     "metadata": {},
     "output_type": "display_data"
    },
    {
     "name": "stdout",
     "output_type": "stream",
     "text": [
      "Model                     Accuracy %   SD %      \n",
      "-------------------------------------------\n",
      "GaussianNB                78.24        4.78      \n"
     ]
    }
   ],
   "source": [
    "nb = fit_nb(X_train, y_train, 1e-05)\n",
    "plot_learning_curve(nb, X_train, y_train)\n",
    "evaluate_model_kfold([nb], X_train, X_train_scaled, y_train, models_to_scale)\n",
    "# clear plateau below 200 records, so model seems too limited for this dataset."
   ]
  },
  {
   "cell_type": "code",
   "execution_count": 2494,
   "id": "812722b2",
   "metadata": {},
   "outputs": [
    {
     "data": {
      "image/png": "[encoded data removed]",
      "text/plain": [
       "<Figure size 640x480 with 1 Axes>"
      ]
     },
     "metadata": {},
     "output_type": "display_data"
    },
    {
     "name": "stdout",
     "output_type": "stream",
     "text": [
      "Model                     Accuracy %   SD %      \n",
      "-------------------------------------------\n",
      "DecisionTreeClassifier    82.73        3.10      \n"
     ]
    }
   ],
   "source": [
    "dt = fit_decision_tree(X_train, y_train, \"entropy\", 10, \"log2\", 30, 1, 2, \"best\")\n",
    "plot_learning_curve(dt, X_train, y_train)\n",
    "evaluate_model_kfold([dt], X_train, X_train_scaled, y_train, models_to_scale)\n",
    "# overfitting"
   ]
  },
  {
   "cell_type": "code",
   "execution_count": 2495,
   "id": "f585cb80",
   "metadata": {},
   "outputs": [
    {
     "data": {
      "image/png": "[encoded data removed]",
      "text/plain": [
       "<Figure size 640x480 with 1 Axes>"
      ]
     },
     "metadata": {},
     "output_type": "display_data"
    },
    {
     "name": "stdout",
     "output_type": "stream",
     "text": [
      "Model                     Accuracy %   SD %      \n",
      "-------------------------------------------\n",
      "AdaBoostClassifier        82.87        4.68      \n"
     ]
    }
   ],
   "source": [
    "ada = fit_ada_boost(X_train, y_train, DecisionTreeClassifier(max_depth=3), \"SAMME\", 0.8, 250)\n",
    "plot_learning_curve(ada, X_train, y_train)\n",
    "evaluate_model_kfold([ada], X_train, X_train_scaled, y_train, models_to_scale)\n",
    "# moderate overfitting\n",
    "# since the validation score is increasing, adding more data could improve the model"
   ]
  },
  {
   "cell_type": "code",
   "execution_count": 2496,
   "id": "7f0f83c4",
   "metadata": {},
   "outputs": [
    {
     "data": {
      "image/png": "[encoded data removed]",
      "text/plain": [
       "<Figure size 640x480 with 1 Axes>"
      ]
     },
     "metadata": {},
     "output_type": "display_data"
    },
    {
     "name": "stdout",
     "output_type": "stream",
     "text": [
      "Model                     Accuracy %   SD %      \n",
      "-------------------------------------------\n",
      "RandomForestClassifier    83.29        5.05      \n"
     ]
    }
   ],
   "source": [
    "rf = fit_random_forest(X_train, y_train, True, None, \"entropy\", 10, \"log2\", 1, 10, 30)\n",
    "plot_learning_curve(rf, X_train, y_train)\n",
    "evaluate_model_kfold([rf], X_train, X_train_scaled, y_train, models_to_scale)\n",
    "# - some overfitting\n",
    "# - cross-validation score is lower and flattens out as more training examples are added, \n",
    "#   which does not close the gap with the training score -> the model may not generalize\n",
    "#   as effectively to unseen data"
   ]
  },
  {
   "cell_type": "code",
   "execution_count": 2497,
   "id": "6682df83",
   "metadata": {},
   "outputs": [
    {
     "data": {
      "image/png": "[encoded data removed]",
      "text/plain": [
       "<Figure size 640x480 with 1 Axes>"
      ]
     },
     "metadata": {},
     "output_type": "display_data"
    },
    {
     "name": "stdout",
     "output_type": "stream",
     "text": [
      "Model                     Accuracy %   SD %      \n",
      "-------------------------------------------\n",
      "XGBClassifier             84.69        5.19      \n"
     ]
    }
   ],
   "source": [
    "xgb = fit_xgboost(X_train, y_train, 0.9, 0.1, 0.1, 6, 5, 125, 0.8)\n",
    "plot_learning_curve(xgb, X_train, y_train)\n",
    "evaluate_model_kfold([xgb], X_train, X_train_scaled, y_train, models_to_scale)\n",
    "# plateau and some overfitting, though validation increases and more data could improve model"
   ]
  },
  {
   "cell_type": "code",
   "execution_count": 2506,
   "id": "ee115c0f",
   "metadata": {},
   "outputs": [
    {
     "data": {
      "image/png": "[encoded data removed]",
      "text/plain": [
       "<Figure size 640x480 with 1 Axes>"
      ]
     },
     "metadata": {},
     "output_type": "display_data"
    },
    {
     "name": "stdout",
     "output_type": "stream",
     "text": [
      "Model                     Accuracy %   SD %      \n",
      "-------------------------------------------\n",
      "CatBoostClassifier        83.58        4.48      \n"
     ]
    }
   ],
   "source": [
    "\"\"\"\n",
    "- overfitting: training score super high, through validation score keeps improving.\n",
    "- solution: either tuning hyperparameters or simplifying the model. \n",
    "To improve learning curve:\n",
    "1) Adjust the depth parameter. A shallower tree might reduce overfitting.\n",
    "2) Lower the learning_rate to slow down learning and potentially improve generalization.\n",
    "3) Modify l2_leaf_reg to increase regularization strength.\n",
    "4) Alter the iterations parameter to find a sweet spot where the model neither\n",
    "   underfits nor overfits.\n",
    "5) Experiment with subsample to change the fraction of samples used for fitting each tree.\n",
    "\n",
    "\"\"\"\n",
    "cat = fit_catboost(X_train, y_train, \"Bernoulli\", 32, 4, \"Logloss\", 225, 9, 0.15, 0.8)\n",
    "plot_learning_curve(cat, X_train, y_train)\n",
    "evaluate_model_kfold([cat], X_train, X_train_scaled, y_train, models_to_scale)\n"
   ]
  },
  {
   "cell_type": "code",
   "execution_count": 2507,
   "id": "12d2507a",
   "metadata": {},
   "outputs": [
    {
     "name": "stdout",
     "output_type": "stream",
     "text": [
      "Model                     Accuracy %   SD %      \n",
      "-------------------------------------------\n",
      "XGBClassifier             84.69        5.19      \n",
      "CatBoostClassifier        83.58        4.48      \n",
      "RandomForestClassifier    83.29        5.05      \n",
      "AdaBoostClassifier        82.87        4.68      \n",
      "DecisionTreeClassifier    82.73        3.10      \n",
      "SVC                       81.88        4.65      \n",
      "KNeighborsClassifier      80.90        4.56      \n",
      "LogisticRegression        80.35        4.07      \n",
      "GaussianNB                78.24        4.78      \n"
     ]
    }
   ],
   "source": [
    "# Summary\n",
    "models = [lr, knn, svc, nb, dt, ada, rf, xgb, cat]\n",
    "evaluate_model_kfold(models, X_train, X_train_scaled, y_train, models_to_scale)"
   ]
  },
  {
   "cell_type": "code",
   "execution_count": 2483,
   "id": "a635997b",
   "metadata": {},
   "outputs": [
    {
     "data": {
      "text/plain": [
       "92.13483146067416"
      ]
     },
     "execution_count": 2483,
     "metadata": {},
     "output_type": "execute_result"
    }
   ],
   "source": [
    "cat.score(X_train, y_train) * 100"
   ]
  },
  {
   "cell_type": "markdown",
   "id": "d5a2e920",
   "metadata": {},
   "source": [
    "### Predictions"
   ]
  },
  {
   "cell_type": "code",
   "execution_count": 2484,
   "id": "911de7c0",
   "metadata": {},
   "outputs": [],
   "source": [
    "# Values to predict\n",
    "new_data = pd.DataFrame(\n",
    "    [\n",
    "        [2, 23, 0, 0, 13, False, True, True],\n",
    "        [1, 51, 0, 0, 26.5, False, True, True],\n",
    "        [3, 29, 0, 0, 9.5, False, True, True],\n",
    "        [1, 40, 1, 1, 134.5, False, False, True],\n",
    "        [2, 6, 0, 1, 33, False, True, False],\n",
    "        [3, 19, 0, 0, 14.5, False, True, True],\n",
    "        [3, 32, 0, 0, 56.4958, False, True, True],\n",
    "        [1, 41, 0, 0, 134.5, False, False, False],\n",
    "        [1, 44, 0, 1, 57.9792, False, False, False],\n",
    "        [3, 29.699118, 8, 2, 69.5500, False, True, False],\n",
    "    ],\n",
    "    columns=[\n",
    "        \"Pclass\",\n",
    "        \"Age\",\n",
    "        \"SibSp\",\n",
    "        \"Parch\",\n",
    "        \"Fare\",\n",
    "        \"Embarked_Q\",\n",
    "        \"Embarked_S\",\n",
    "        \"Sex_male\",\n",
    "    ],\n",
    ")"
   ]
  },
  {
   "cell_type": "code",
   "execution_count": 2485,
   "id": "d88377c5",
   "metadata": {},
   "outputs": [
    {
     "name": "stdout",
     "output_type": "stream",
     "text": [
      "[0 1 1 1 1 0 1 1 1 0] y_train\n",
      "[0 0 0 0 1 0 1 1 1 0] XGBClassifier\n",
      "[0 1 0 0 1 0 0 1 1 0] RandomForestClassifier\n",
      "[0 1 0 0 1 0 1 1 1 0] CatBoostClassifier\n",
      "[0 0 0 0 1 0 0 1 1 0] SVC\n"
     ]
    }
   ],
   "source": [
    "def make_prediction(\n",
    "    new_data: pd.DataFrame, model: any, scaled: bool, fields_to_scale: list\n",
    "):\n",
    "    \"\"\"\n",
    "    TBD\n",
    "    \"\"\"\n",
    "    if scaled and fields_to_scale:\n",
    "        # Separate the data into features that need scaling and those that don't\n",
    "        features_to_scale = new_data[fields_to_scale]\n",
    "        features_not_to_scale = new_data.drop(columns=fields_to_scale)\n",
    "\n",
    "        # Apply scaling only to the required features\n",
    "        scaled_features = sc.transform(features_to_scale)\n",
    "\n",
    "        # Recombine the scaled and unscaled features\n",
    "        new_data_prepared = pd.concat(\n",
    "            [\n",
    "                pd.DataFrame(\n",
    "                    scaled_features, columns=fields_to_scale, index=new_data.index\n",
    "                ),\n",
    "                features_not_to_scale,\n",
    "            ],\n",
    "            axis=1,\n",
    "        )\n",
    "        new_prediction = model.predict(new_data_prepared)\n",
    "    else:\n",
    "        new_prediction = model.predict(new_data)\n",
    "\n",
    "    print(f\"{new_prediction} {type(model).__name__}\")\n",
    "\n",
    "print(f\"[{' '.join(map(str, y_train.head(5).tolist() + y_train.tail(5).tolist()))}] y_train\")\n",
    "make_prediction(new_data, xgb, False, fields_to_scale)\n",
    "make_prediction(new_data, rf, False, fields_to_scale)\n",
    "make_prediction(new_data, cat, False, fields_to_scale)\n",
    "make_prediction(new_data, svc, True, fields_to_scale)"
   ]
  },
  {
   "cell_type": "markdown",
   "id": "de5603e5",
   "metadata": {},
   "source": [
    "### Prepare Test Data"
   ]
  },
  {
   "cell_type": "code",
   "execution_count": 2486,
   "id": "24416219",
   "metadata": {},
   "outputs": [
    {
     "data": {
      "text/html": [
       "<div>\n",
       "<style scoped>\n",
       "    .dataframe tbody tr th:only-of-type {\n",
       "        vertical-align: middle;\n",
       "    }\n",
       "\n",
       "    .dataframe tbody tr th {\n",
       "        vertical-align: top;\n",
       "    }\n",
       "\n",
       "    .dataframe thead th {\n",
       "        text-align: right;\n",
       "    }\n",
       "</style>\n",
       "<table border=\"1\" class=\"dataframe\">\n",
       "  <thead>\n",
       "    <tr style=\"text-align: right;\">\n",
       "      <th></th>\n",
       "      <th>PassengerId</th>\n",
       "      <th>Pclass</th>\n",
       "      <th>Name</th>\n",
       "      <th>Sex</th>\n",
       "      <th>Age</th>\n",
       "      <th>SibSp</th>\n",
       "      <th>Parch</th>\n",
       "      <th>Ticket</th>\n",
       "      <th>Fare</th>\n",
       "      <th>Cabin</th>\n",
       "      <th>Embarked</th>\n",
       "    </tr>\n",
       "  </thead>\n",
       "  <tbody>\n",
       "    <tr>\n",
       "      <th>0</th>\n",
       "      <td>892</td>\n",
       "      <td>3</td>\n",
       "      <td>Kelly, Mr. James</td>\n",
       "      <td>male</td>\n",
       "      <td>34.5</td>\n",
       "      <td>0</td>\n",
       "      <td>0</td>\n",
       "      <td>330911</td>\n",
       "      <td>7.8292</td>\n",
       "      <td>NaN</td>\n",
       "      <td>Q</td>\n",
       "    </tr>\n",
       "    <tr>\n",
       "      <th>1</th>\n",
       "      <td>893</td>\n",
       "      <td>3</td>\n",
       "      <td>Wilkes, Mrs. James (Ellen Needs)</td>\n",
       "      <td>female</td>\n",
       "      <td>47.0</td>\n",
       "      <td>1</td>\n",
       "      <td>0</td>\n",
       "      <td>363272</td>\n",
       "      <td>7.0000</td>\n",
       "      <td>NaN</td>\n",
       "      <td>S</td>\n",
       "    </tr>\n",
       "    <tr>\n",
       "      <th>416</th>\n",
       "      <td>1308</td>\n",
       "      <td>3</td>\n",
       "      <td>Ware, Mr. Frederick</td>\n",
       "      <td>male</td>\n",
       "      <td>NaN</td>\n",
       "      <td>0</td>\n",
       "      <td>0</td>\n",
       "      <td>359309</td>\n",
       "      <td>8.0500</td>\n",
       "      <td>NaN</td>\n",
       "      <td>S</td>\n",
       "    </tr>\n",
       "    <tr>\n",
       "      <th>417</th>\n",
       "      <td>1309</td>\n",
       "      <td>3</td>\n",
       "      <td>Peter, Master. Michael J</td>\n",
       "      <td>male</td>\n",
       "      <td>NaN</td>\n",
       "      <td>1</td>\n",
       "      <td>1</td>\n",
       "      <td>2668</td>\n",
       "      <td>22.3583</td>\n",
       "      <td>NaN</td>\n",
       "      <td>C</td>\n",
       "    </tr>\n",
       "  </tbody>\n",
       "</table>\n",
       "</div>"
      ],
      "text/plain": [
       "     PassengerId  Pclass                              Name     Sex   Age  \\\n",
       "0            892       3                  Kelly, Mr. James    male  34.5   \n",
       "1            893       3  Wilkes, Mrs. James (Ellen Needs)  female  47.0   \n",
       "416         1308       3               Ware, Mr. Frederick    male   NaN   \n",
       "417         1309       3          Peter, Master. Michael J    male   NaN   \n",
       "\n",
       "     SibSp  Parch  Ticket     Fare Cabin Embarked  \n",
       "0        0      0  330911   7.8292   NaN        Q  \n",
       "1        1      0  363272   7.0000   NaN        S  \n",
       "416      0      0  359309   8.0500   NaN        S  \n",
       "417      1      1    2668  22.3583   NaN        C  "
      ]
     },
     "execution_count": 2486,
     "metadata": {},
     "output_type": "execute_result"
    }
   ],
   "source": [
    "df_test = pd.read_csv('../src/v1/07_scikit-learn/filez/titanic_test.csv')\n",
    "show_data(df_test)"
   ]
  },
  {
   "cell_type": "code",
   "execution_count": 2487,
   "id": "da9aa429",
   "metadata": {},
   "outputs": [
    {
     "name": "stdout",
     "output_type": "stream",
     "text": [
      "             # missing  % missing\n",
      "Cabin              327      78.23\n",
      "Age                 86      20.57\n",
      "Fare                 1       0.24\n",
      "PassengerId          0       0.00\n",
      "Pclass               0       0.00\n",
      "Name                 0       0.00\n",
      "Sex                  0       0.00\n",
      "SibSp                0       0.00\n",
      "Parch                0       0.00\n",
      "Ticket               0       0.00\n",
      "Embarked             0       0.00\n"
     ]
    }
   ],
   "source": [
    "show_missing_data(df_test)"
   ]
  },
  {
   "cell_type": "markdown",
   "id": "7a7b9292",
   "metadata": {},
   "source": [
    "@TODO: compare accuracy of train vs. test data to check overfitting\n"
   ]
  }
 ],
 "metadata": {
  "kernelspec": {
   "display_name": "Python 3 (ipykernel)",
   "language": "python",
   "name": "python3"
  },
  "language_info": {
   "codemirror_mode": {
    "name": "ipython",
    "version": 3
   },
   "file_extension": ".py",
   "mimetype": "text/x-python",
   "name": "python",
   "nbconvert_exporter": "python",
   "pygments_lexer": "ipython3",
   "version": "3.11.5"
  }
 },
 "nbformat": 4,
 "nbformat_minor": 5
}
